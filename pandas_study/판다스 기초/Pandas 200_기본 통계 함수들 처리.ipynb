{
 "cells": [
  {
   "cell_type": "code",
   "execution_count": 1,
   "metadata": {
    "collapsed": true
   },
   "outputs": [],
   "source": [
    "import pandas as pd\n",
    "import numpy as np\n",
    "import types"
   ]
  },
  {
   "cell_type": "markdown",
   "metadata": {},
   "source": [
    "# 주요 함수 "
   ]
  },
  {
   "cell_type": "code",
   "execution_count": 6,
   "metadata": {},
   "outputs": [
    {
     "name": "stdout",
     "output_type": "stream",
     "text": [
      "bdate_range concat crosstab cut date_range eval ewma ewmcorr ewmcov ewmstd ewmvar ewmvol expanding_apply expanding_corr expanding_count expanding_cov expanding_kurt expanding_max expanding_mean expanding_median expanding_min expanding_quantile expanding_skew expanding_std expanding_sum expanding_var factorize fama_macbeth get_dummies get_store groupby infer_freq isnull lreshape match melt merge notnull ols ordered_merge period_range pivot pivot_table pnow qcut read_clipboard read_csv read_excel read_fwf read_gbq read_hdf read_html read_json read_msgpack read_pickle read_sas read_sql read_sql_query read_sql_table read_stata read_table rolling_apply rolling_corr rolling_count rolling_cov rolling_kurt rolling_max rolling_mean rolling_median rolling_min rolling_quantile rolling_skew rolling_std rolling_sum rolling_var rolling_window scatter_matrix set_eng_float_format show_versions timedelta_range to_datetime to_msgpack to_numeric to_pickle to_timedelta unique value_counts wide_to_long "
     ]
    }
   ],
   "source": [
    "import pandas as pd\n",
    "import numpy as np\n",
    "import types\n",
    "\n",
    "for i in dir(pd) :\n",
    "    if i.startswith(\"_\") :\n",
    "        continue\n",
    "    if type(pd.__dict__[i]) == types.FunctionType :\n",
    "        \n",
    "        print(i,end= ' ')\n",
    "        "
   ]
  },
  {
   "cell_type": "markdown",
   "metadata": {},
   "source": [
    "# 주요 메소드 처리\n",
    "\n"
   ]
  },
  {
   "cell_type": "code",
   "execution_count": 150,
   "metadata": {},
   "outputs": [
    {
     "name": "stdout",
     "output_type": "stream",
     "text": [
      "index compound rdiv unstack from_csv abs duplicated to_period iterkv take transpose reset_index ffill tz_convert mean kurt loc to_clipboard cummin nlargest describe min size last_valid_index axes update memory_usage squeeze values sum corr combine truncate astype first_valid_index reindex append idxmax items drop_duplicates hist tz_localize first to_hdf iteritems reindex_axis rolling add rtruediv pop rmul groupby swapaxes lt select shift shape reindex_like clip combine_first sortlevel kurtosis xs product skew sort sort_values set_axis radd bool get_ftype_counts as_blocks std rpow clip_upper sort_index iat is_copy sub add_prefix isin rename_axis sem align nsmallest replace mode diff to_xarray reorder_levels between_time get_values rsub bfill to_dense pow copy notnull dot round count cumprod dropna cummax floordiv empty to_timestamp head at cumsum ne ndim to_pickle rank expanding iloc mod irow le resample multiply get_value to_msgpack divide to_json to_string median clip_lower plot tail add_suffix keys pipe ewm rfloordiv filter prod pct_change rmod mul T any rename last as_matrix truediv iget_value dtypes var apply to_csv to_sparse drop set_value all equals to_dict consolidate quantile asfreq where mask at_time to_sql eq gt ix ftypes ge fillna cov blocks sample mad swaplevel tshift get_dtype_counts isnull subtract max div convert_objects slice_shift idxmin get interpolate "
     ]
    }
   ],
   "source": [
    "import types\n",
    "s = set(dir(pd.Series))\n",
    "d = set(dir(pd.DataFrame)) \n",
    "sd = s & d \n",
    "\n",
    "for i in sd :\n",
    "    if not i.startswith(\"_\") :\n",
    "        print(i, end = \" \")"
   ]
  },
  {
   "cell_type": "markdown",
   "metadata": {},
   "source": [
    "### 최대값과 최소값 구하기\n"
   ]
  },
  {
   "cell_type": "code",
   "execution_count": 2,
   "metadata": {},
   "outputs": [
    {
     "name": "stdout",
     "output_type": "stream",
     "text": [
      "A    2.070029\n",
      "B    1.715545\n",
      "C    1.037229\n",
      "dtype: float64\n"
     ]
    }
   ],
   "source": [
    "df1 = pd.DataFrame(np.random.randn(10, 3), columns=['A', 'B', 'C'],\n",
    "     index=pd.date_range('1/1/2000', periods=10))\n",
    "\n",
    "print(df1.max())\n"
   ]
  },
  {
   "cell_type": "code",
   "execution_count": 3,
   "metadata": {},
   "outputs": [
    {
     "name": "stdout",
     "output_type": "stream",
     "text": [
      "A   -1.037730\n",
      "B   -1.239132\n",
      "C   -1.241674\n",
      "dtype: float64\n"
     ]
    }
   ],
   "source": [
    "print(df1.min())"
   ]
  },
  {
   "cell_type": "markdown",
   "metadata": {},
   "source": [
    "### 인덱스 최소 최대 알아보기"
   ]
  },
  {
   "cell_type": "code",
   "execution_count": 4,
   "metadata": {},
   "outputs": [
    {
     "name": "stdout",
     "output_type": "stream",
     "text": [
      "A   2000-01-09\n",
      "B   2000-01-04\n",
      "C   2000-01-01\n",
      "dtype: datetime64[ns]\n"
     ]
    }
   ],
   "source": [
    "print(df1.idxmax())"
   ]
  },
  {
   "cell_type": "code",
   "execution_count": 5,
   "metadata": {},
   "outputs": [
    {
     "name": "stdout",
     "output_type": "stream",
     "text": [
      "A   2000-01-08\n",
      "B   2000-01-03\n",
      "C   2000-01-08\n",
      "dtype: datetime64[ns]\n"
     ]
    }
   ],
   "source": [
    "print(df1.idxmin())"
   ]
  },
  {
   "cell_type": "markdown",
   "metadata": {},
   "source": [
    "### 누적 최소 최대"
   ]
  },
  {
   "cell_type": "code",
   "execution_count": 6,
   "metadata": {},
   "outputs": [
    {
     "name": "stdout",
     "output_type": "stream",
     "text": [
      "                   A         B         C\n",
      "2000-01-01  0.300307  0.878418 -0.318621\n",
      "2000-01-02  0.030752 -2.221689 -0.145932\n",
      "2000-01-03  0.401463 -0.126208 -0.646206\n",
      "2000-01-04 -2.081721 -0.103006  2.034921\n",
      "2000-01-05  0.850983  1.513983 -0.990050\n",
      "2000-01-06  0.730429  1.089484  0.439087\n",
      "2000-01-07  2.412519  0.336155 -0.180796\n",
      "2000-01-08  0.545075  1.122411  1.062983\n",
      "2000-01-09  0.554044  1.954205 -0.774166\n",
      "2000-01-10 -0.094355 -0.063572  0.576434\n",
      "                   A         B         C\n",
      "2000-01-01  0.300307  0.878418 -0.318621\n",
      "2000-01-02  0.300307  0.878418 -0.145932\n",
      "2000-01-03  0.401463  0.878418 -0.145932\n",
      "2000-01-04  0.401463  0.878418  2.034921\n",
      "2000-01-05  0.850983  1.513983  2.034921\n",
      "2000-01-06  0.850983  1.513983  2.034921\n",
      "2000-01-07  2.412519  1.513983  2.034921\n",
      "2000-01-08  2.412519  1.513983  2.034921\n",
      "2000-01-09  2.412519  1.954205  2.034921\n",
      "2000-01-10  2.412519  1.954205  2.034921\n"
     ]
    }
   ],
   "source": [
    "df1 = pd.DataFrame(np.random.randn(10, 3), columns=['A', 'B', 'C'],\n",
    "     index=pd.date_range('1/1/2000', periods=10))\n",
    "print(df1)\n",
    "print(df1.cummax())"
   ]
  },
  {
   "cell_type": "code",
   "execution_count": 138,
   "metadata": {},
   "outputs": [
    {
     "name": "stdout",
     "output_type": "stream",
     "text": [
      "                   A         B         C\n",
      "2000-01-01  0.445001  0.729450 -0.218367\n",
      "2000-01-02  0.071596 -3.198077 -0.200682\n",
      "2000-01-03 -0.039830  1.559799 -0.530600\n",
      "2000-01-04  0.662832 -1.802425  0.954724\n",
      "2000-01-05  0.918204 -0.244426 -2.409715\n",
      "2000-01-06 -0.267013 -0.427436 -0.799769\n",
      "2000-01-07  0.440625  1.025092 -0.390997\n",
      "2000-01-08  1.317619  1.563203 -0.155002\n",
      "2000-01-09 -0.277984  0.664255  1.543079\n",
      "2000-01-10  0.034500  0.295781  1.924157\n",
      "                   A         B         C\n",
      "2000-01-01  0.445001  0.729450 -0.218367\n",
      "2000-01-02  0.071596 -3.198077 -0.218367\n",
      "2000-01-03 -0.039830 -3.198077 -0.530600\n",
      "2000-01-04 -0.039830 -3.198077 -0.530600\n",
      "2000-01-05 -0.039830 -3.198077 -2.409715\n",
      "2000-01-06 -0.267013 -3.198077 -2.409715\n",
      "2000-01-07 -0.267013 -3.198077 -2.409715\n",
      "2000-01-08 -0.267013 -3.198077 -2.409715\n",
      "2000-01-09 -0.277984 -3.198077 -2.409715\n",
      "2000-01-10 -0.277984 -3.198077 -2.409715\n"
     ]
    }
   ],
   "source": [
    "print(df1)\n",
    "print(df1.cummin())"
   ]
  },
  {
   "cell_type": "markdown",
   "metadata": {},
   "source": [
    "## 누적값 구하기 \n"
   ]
  },
  {
   "cell_type": "code",
   "execution_count": 139,
   "metadata": {},
   "outputs": [
    {
     "data": {
      "text/html": [
       "<div>\n",
       "<table border=\"1\" class=\"dataframe\">\n",
       "  <thead>\n",
       "    <tr style=\"text-align: right;\">\n",
       "      <th></th>\n",
       "      <th>A</th>\n",
       "      <th>B</th>\n",
       "      <th>C</th>\n",
       "    </tr>\n",
       "  </thead>\n",
       "  <tbody>\n",
       "    <tr>\n",
       "      <th>2000-01-01</th>\n",
       "      <td>0.445001</td>\n",
       "      <td>0.729450</td>\n",
       "      <td>-0.218367</td>\n",
       "    </tr>\n",
       "    <tr>\n",
       "      <th>2000-01-02</th>\n",
       "      <td>0.516597</td>\n",
       "      <td>-2.468627</td>\n",
       "      <td>-0.419049</td>\n",
       "    </tr>\n",
       "    <tr>\n",
       "      <th>2000-01-03</th>\n",
       "      <td>0.476767</td>\n",
       "      <td>-0.908828</td>\n",
       "      <td>-0.949649</td>\n",
       "    </tr>\n",
       "    <tr>\n",
       "      <th>2000-01-04</th>\n",
       "      <td>1.139600</td>\n",
       "      <td>-2.711253</td>\n",
       "      <td>0.005076</td>\n",
       "    </tr>\n",
       "    <tr>\n",
       "      <th>2000-01-05</th>\n",
       "      <td>2.057803</td>\n",
       "      <td>-2.955679</td>\n",
       "      <td>-2.404639</td>\n",
       "    </tr>\n",
       "    <tr>\n",
       "      <th>2000-01-06</th>\n",
       "      <td>1.790790</td>\n",
       "      <td>-3.383115</td>\n",
       "      <td>-3.204408</td>\n",
       "    </tr>\n",
       "    <tr>\n",
       "      <th>2000-01-07</th>\n",
       "      <td>2.231415</td>\n",
       "      <td>-2.358023</td>\n",
       "      <td>-3.595405</td>\n",
       "    </tr>\n",
       "    <tr>\n",
       "      <th>2000-01-08</th>\n",
       "      <td>3.549034</td>\n",
       "      <td>-0.794820</td>\n",
       "      <td>-3.750407</td>\n",
       "    </tr>\n",
       "    <tr>\n",
       "      <th>2000-01-09</th>\n",
       "      <td>3.271050</td>\n",
       "      <td>-0.130565</td>\n",
       "      <td>-2.207328</td>\n",
       "    </tr>\n",
       "    <tr>\n",
       "      <th>2000-01-10</th>\n",
       "      <td>3.305551</td>\n",
       "      <td>0.165216</td>\n",
       "      <td>-0.283171</td>\n",
       "    </tr>\n",
       "  </tbody>\n",
       "</table>\n",
       "</div>"
      ],
      "text/plain": [
       "                   A         B         C\n",
       "2000-01-01  0.445001  0.729450 -0.218367\n",
       "2000-01-02  0.516597 -2.468627 -0.419049\n",
       "2000-01-03  0.476767 -0.908828 -0.949649\n",
       "2000-01-04  1.139600 -2.711253  0.005076\n",
       "2000-01-05  2.057803 -2.955679 -2.404639\n",
       "2000-01-06  1.790790 -3.383115 -3.204408\n",
       "2000-01-07  2.231415 -2.358023 -3.595405\n",
       "2000-01-08  3.549034 -0.794820 -3.750407\n",
       "2000-01-09  3.271050 -0.130565 -2.207328\n",
       "2000-01-10  3.305551  0.165216 -0.283171"
      ]
     },
     "execution_count": 139,
     "metadata": {},
     "output_type": "execute_result"
    }
   ],
   "source": [
    "df1.cumsum()"
   ]
  },
  {
   "cell_type": "code",
   "execution_count": 140,
   "metadata": {},
   "outputs": [
    {
     "data": {
      "text/html": [
       "<div>\n",
       "<table border=\"1\" class=\"dataframe\">\n",
       "  <thead>\n",
       "    <tr style=\"text-align: right;\">\n",
       "      <th></th>\n",
       "      <th>A</th>\n",
       "      <th>B</th>\n",
       "      <th>C</th>\n",
       "    </tr>\n",
       "  </thead>\n",
       "  <tbody>\n",
       "    <tr>\n",
       "      <th>2000-01-01</th>\n",
       "      <td>0.445001</td>\n",
       "      <td>0.729450</td>\n",
       "      <td>-0.218367</td>\n",
       "    </tr>\n",
       "    <tr>\n",
       "      <th>2000-01-02</th>\n",
       "      <td>0.031860</td>\n",
       "      <td>-2.332837</td>\n",
       "      <td>0.043822</td>\n",
       "    </tr>\n",
       "    <tr>\n",
       "      <th>2000-01-03</th>\n",
       "      <td>-0.001269</td>\n",
       "      <td>-3.638756</td>\n",
       "      <td>-0.023252</td>\n",
       "    </tr>\n",
       "    <tr>\n",
       "      <th>2000-01-04</th>\n",
       "      <td>-0.000841</td>\n",
       "      <td>6.558587</td>\n",
       "      <td>-0.022199</td>\n",
       "    </tr>\n",
       "    <tr>\n",
       "      <th>2000-01-05</th>\n",
       "      <td>-0.000772</td>\n",
       "      <td>-1.603087</td>\n",
       "      <td>0.053494</td>\n",
       "    </tr>\n",
       "    <tr>\n",
       "      <th>2000-01-06</th>\n",
       "      <td>0.000206</td>\n",
       "      <td>0.685217</td>\n",
       "      <td>-0.042783</td>\n",
       "    </tr>\n",
       "    <tr>\n",
       "      <th>2000-01-07</th>\n",
       "      <td>0.000091</td>\n",
       "      <td>0.702411</td>\n",
       "      <td>0.016728</td>\n",
       "    </tr>\n",
       "    <tr>\n",
       "      <th>2000-01-08</th>\n",
       "      <td>0.000120</td>\n",
       "      <td>1.098011</td>\n",
       "      <td>-0.002593</td>\n",
       "    </tr>\n",
       "    <tr>\n",
       "      <th>2000-01-09</th>\n",
       "      <td>-0.000033</td>\n",
       "      <td>0.729359</td>\n",
       "      <td>-0.004001</td>\n",
       "    </tr>\n",
       "    <tr>\n",
       "      <th>2000-01-10</th>\n",
       "      <td>-0.000001</td>\n",
       "      <td>0.215731</td>\n",
       "      <td>-0.007699</td>\n",
       "    </tr>\n",
       "  </tbody>\n",
       "</table>\n",
       "</div>"
      ],
      "text/plain": [
       "                   A         B         C\n",
       "2000-01-01  0.445001  0.729450 -0.218367\n",
       "2000-01-02  0.031860 -2.332837  0.043822\n",
       "2000-01-03 -0.001269 -3.638756 -0.023252\n",
       "2000-01-04 -0.000841  6.558587 -0.022199\n",
       "2000-01-05 -0.000772 -1.603087  0.053494\n",
       "2000-01-06  0.000206  0.685217 -0.042783\n",
       "2000-01-07  0.000091  0.702411  0.016728\n",
       "2000-01-08  0.000120  1.098011 -0.002593\n",
       "2000-01-09 -0.000033  0.729359 -0.004001\n",
       "2000-01-10 -0.000001  0.215731 -0.007699"
      ]
     },
     "execution_count": 140,
     "metadata": {},
     "output_type": "execute_result"
    }
   ],
   "source": [
    "df1.cumprod()"
   ]
  },
  {
   "cell_type": "markdown",
   "metadata": {},
   "source": [
    "### 사칙연산 \n"
   ]
  },
  {
   "cell_type": "code",
   "execution_count": 154,
   "metadata": {},
   "outputs": [
    {
     "name": "stdout",
     "output_type": "stream",
     "text": [
      "   A  B  C\n",
      "0  0  1  2\n",
      "1  3  4  5\n",
      "2  6  7  8\n",
      "    A   B   C\n",
      "0   3   6   9\n",
      "1  12  15  18\n",
      "2  21  24  27\n"
     ]
    }
   ],
   "source": [
    "df1 = pd.DataFrame(np.arange(9).reshape(3,3), columns=['A', 'B', 'C'])\n",
    "df2 = pd.DataFrame(np.arange(1,10).reshape(3,3) *3, columns=['A', 'B', 'C'])\n",
    "print(df1)\n",
    "print(df2)"
   ]
  },
  {
   "cell_type": "code",
   "execution_count": 166,
   "metadata": {},
   "outputs": [
    {
     "name": "stdout",
     "output_type": "stream",
     "text": [
      "    A   B   C\n",
      "0   3   7  11\n",
      "1  15  19  23\n",
      "2  27  31  35\n",
      "    A   B   C\n",
      "0  -3  -5  -7\n",
      "1  -9 -11 -13\n",
      "2 -15 -17 -19\n",
      "    A   B   C\n",
      "0   3   7  11\n",
      "1  15  19  23\n",
      "2  27  31  35\n",
      "    A   B   C\n",
      "0   3   5   7\n",
      "1   9  11  13\n",
      "2  15  17  19\n",
      "    A   B   C\n",
      "0  -3  -5  -7\n",
      "1  -9 -11 -13\n",
      "2 -15 -17 -19\n"
     ]
    }
   ],
   "source": [
    "print(df1.add(df2))\n",
    "print(df1.sub(df2))\n",
    "print(df1.radd(df2))\n",
    "print(df1.rsub(df2))\n",
    "print(df1.subtract(df2))"
   ]
  },
  {
   "cell_type": "code",
   "execution_count": 156,
   "metadata": {},
   "outputs": [
    {
     "name": "stdout",
     "output_type": "stream",
     "text": [
      "          A         B         C\n",
      "0  0.000000  0.166667  0.222222\n",
      "1  0.250000  0.266667  0.277778\n",
      "2  0.285714  0.291667  0.296296\n",
      "          A         B         C\n",
      "0  0.000000  0.166667  0.222222\n",
      "1  0.250000  0.266667  0.277778\n",
      "2  0.285714  0.291667  0.296296\n",
      "   A  B  C\n",
      "0  0  0  0\n",
      "1  0  0  0\n",
      "2  0  0  0\n",
      "          A         B         C\n",
      "0  0.000000  0.166667  0.222222\n",
      "1  0.250000  0.266667  0.277778\n",
      "2  0.285714  0.291667  0.296296\n"
     ]
    }
   ],
   "source": [
    "print(df1.divide(df2))\n",
    "print(df1.truediv(df2))\n",
    "print(df1.floordiv(df2))\n",
    "print(df1.div(df2))"
   ]
  },
  {
   "cell_type": "code",
   "execution_count": 159,
   "metadata": {},
   "outputs": [
    {
     "name": "stdout",
     "output_type": "stream",
     "text": [
      "     A    B    C\n",
      "0    0    6   18\n",
      "1   36   60   90\n",
      "2  126  168  216\n",
      "     A    B    C\n",
      "0    0    6   18\n",
      "1   36   60   90\n",
      "2  126  168  216\n",
      "     A    B    C\n",
      "0    0    6   18\n",
      "1   36   60   90\n",
      "2  126  168  216\n",
      "   A  B  C\n",
      "0  0  1  2\n",
      "1  3  4  5\n",
      "2  6  7  8\n"
     ]
    }
   ],
   "source": [
    "print(df1.mul(df2))\n",
    "print(df1.rmul(df2))\n",
    "print(df1.multiply(df2))\n",
    "print(df1.mod(df2))"
   ]
  },
  {
   "cell_type": "code",
   "execution_count": 171,
   "metadata": {},
   "outputs": [
    {
     "name": "stdout",
     "output_type": "stream",
     "text": [
      "            A           B          C\n",
      "0           0           1        512\n",
      "1      531441  1073741824  766306777\n",
      "2  1449132032  1452577857          0\n",
      "          A          B           C\n",
      "0         1          6          81\n",
      "1      1728      50625     1889568\n",
      "2  85766121  291504128 -1038305055\n"
     ]
    }
   ],
   "source": [
    "print(df1.pow(df2))\n",
    "print(df1.rpow(df2))"
   ]
  },
  {
   "cell_type": "markdown",
   "metadata": {},
   "source": [
    "### 비교연산 \n"
   ]
  },
  {
   "cell_type": "code",
   "execution_count": 169,
   "metadata": {},
   "outputs": [
    {
     "name": "stdout",
     "output_type": "stream",
     "text": [
      "      A     B     C\n",
      "0  True  True  True\n",
      "1  True  True  True\n",
      "2  True  True  True\n",
      "      A     B     C\n",
      "0  True  True  True\n",
      "1  True  True  True\n",
      "2  True  True  True\n"
     ]
    }
   ],
   "source": [
    "print(df1.le(df2))\n",
    "print(df1.ne(df2))"
   ]
  },
  {
   "cell_type": "code",
   "execution_count": 168,
   "metadata": {},
   "outputs": [
    {
     "name": "stdout",
     "output_type": "stream",
     "text": [
      "       A      B      C\n",
      "0  False  False  False\n",
      "1  False  False  False\n",
      "2  False  False  False\n",
      "False\n"
     ]
    }
   ],
   "source": [
    "print(df1.eq(df2))\n",
    "print(df1.equals(df2))"
   ]
  },
  {
   "cell_type": "code",
   "execution_count": 163,
   "metadata": {},
   "outputs": [
    {
     "name": "stdout",
     "output_type": "stream",
     "text": [
      "       A      B      C\n",
      "0  False  False  False\n",
      "1  False  False  False\n",
      "2  False  False  False\n"
     ]
    }
   ],
   "source": [
    "print(df1.ge(df2))"
   ]
  },
  {
   "cell_type": "code",
   "execution_count": 164,
   "metadata": {},
   "outputs": [
    {
     "name": "stdout",
     "output_type": "stream",
     "text": [
      "      A     B     C\n",
      "0  True  True  True\n",
      "1  True  True  True\n",
      "2  True  True  True\n"
     ]
    }
   ],
   "source": [
    "print(df1.lt(df2))"
   ]
  },
  {
   "cell_type": "code",
   "execution_count": 165,
   "metadata": {},
   "outputs": [
    {
     "name": "stdout",
     "output_type": "stream",
     "text": [
      "       A      B      C\n",
      "0  False  False  False\n",
      "1  False  False  False\n",
      "2  False  False  False\n"
     ]
    }
   ],
   "source": [
    "print(df1.gt(df2))"
   ]
  },
  {
   "cell_type": "markdown",
   "metadata": {},
   "source": [
    "### 절대값 처리"
   ]
  },
  {
   "cell_type": "code",
   "execution_count": 197,
   "metadata": {},
   "outputs": [
    {
     "name": "stdout",
     "output_type": "stream",
     "text": [
      "   A  B  C\n",
      "0  0 -1 -2\n",
      "1 -3 -4 -5\n",
      "2 -6 -7 -8\n",
      "   A  B  C\n",
      "0  0  1  2\n",
      "1  3  4  5\n",
      "2  6  7  8\n"
     ]
    }
   ],
   "source": [
    "df11 = -1* df1\n",
    "print(df11)\n",
    "\n",
    "print(abs(df11))"
   ]
  },
  {
   "cell_type": "markdown",
   "metadata": {},
   "source": [
    "### 통계 관련  메소드 "
   ]
  },
  {
   "cell_type": "code",
   "execution_count": 224,
   "metadata": {},
   "outputs": [
    {
     "data": {
      "text/html": [
       "<div>\n",
       "<table border=\"1\" class=\"dataframe\">\n",
       "  <thead>\n",
       "    <tr style=\"text-align: right;\">\n",
       "      <th></th>\n",
       "      <th>A</th>\n",
       "      <th>B</th>\n",
       "      <th>C</th>\n",
       "    </tr>\n",
       "  </thead>\n",
       "  <tbody>\n",
       "    <tr>\n",
       "      <th>0</th>\n",
       "      <td>0</td>\n",
       "      <td>1</td>\n",
       "      <td>2</td>\n",
       "    </tr>\n",
       "    <tr>\n",
       "      <th>1</th>\n",
       "      <td>3</td>\n",
       "      <td>4</td>\n",
       "      <td>5</td>\n",
       "    </tr>\n",
       "    <tr>\n",
       "      <th>2</th>\n",
       "      <td>6</td>\n",
       "      <td>7</td>\n",
       "      <td>8</td>\n",
       "    </tr>\n",
       "  </tbody>\n",
       "</table>\n",
       "</div>"
      ],
      "text/plain": [
       "   A  B  C\n",
       "0  0  1  2\n",
       "1  3  4  5\n",
       "2  6  7  8"
      ]
     },
     "execution_count": 224,
     "metadata": {},
     "output_type": "execute_result"
    }
   ],
   "source": [
    "df1"
   ]
  },
  {
   "cell_type": "code",
   "execution_count": 284,
   "metadata": {},
   "outputs": [
    {
     "data": {
      "text/html": [
       "<div>\n",
       "<table border=\"1\" class=\"dataframe\">\n",
       "  <thead>\n",
       "    <tr style=\"text-align: right;\">\n",
       "      <th></th>\n",
       "      <th>A</th>\n",
       "      <th>B</th>\n",
       "      <th>C</th>\n",
       "    </tr>\n",
       "  </thead>\n",
       "  <tbody>\n",
       "    <tr>\n",
       "      <th>0</th>\n",
       "      <td>3</td>\n",
       "      <td>6</td>\n",
       "      <td>9</td>\n",
       "    </tr>\n",
       "    <tr>\n",
       "      <th>1</th>\n",
       "      <td>12</td>\n",
       "      <td>15</td>\n",
       "      <td>18</td>\n",
       "    </tr>\n",
       "    <tr>\n",
       "      <th>2</th>\n",
       "      <td>21</td>\n",
       "      <td>24</td>\n",
       "      <td>27</td>\n",
       "    </tr>\n",
       "  </tbody>\n",
       "</table>\n",
       "</div>"
      ],
      "text/plain": [
       "    A   B   C\n",
       "0   3   6   9\n",
       "1  12  15  18\n",
       "2  21  24  27"
      ]
     },
     "execution_count": 284,
     "metadata": {},
     "output_type": "execute_result"
    }
   ],
   "source": [
    "df2"
   ]
  },
  {
   "cell_type": "markdown",
   "metadata": {},
   "source": [
    "#### 공분산 "
   ]
  },
  {
   "cell_type": "code",
   "execution_count": 289,
   "metadata": {},
   "outputs": [
    {
     "name": "stdout",
     "output_type": "stream",
     "text": [
      "Help on method cov in module pandas.core.frame:\n",
      "\n",
      "cov(min_periods=None) method of pandas.core.frame.DataFrame instance\n",
      "    Compute pairwise covariance of columns, excluding NA/null values\n",
      "    \n",
      "    Parameters\n",
      "    ----------\n",
      "    min_periods : int, optional\n",
      "        Minimum number of observations required per pair of columns\n",
      "        to have a valid result.\n",
      "    \n",
      "    Returns\n",
      "    -------\n",
      "    y : DataFrame\n",
      "    \n",
      "    Notes\n",
      "    -----\n",
      "    `y` contains the covariance matrix of the DataFrame's time series.\n",
      "    The covariance is normalized by N-1 (unbiased estimator).\n",
      "\n"
     ]
    }
   ],
   "source": [
    "help(df2.cov)"
   ]
  },
  {
   "cell_type": "code",
   "execution_count": 287,
   "metadata": {},
   "outputs": [
    {
     "data": {
      "text/html": [
       "<div>\n",
       "<table border=\"1\" class=\"dataframe\">\n",
       "  <thead>\n",
       "    <tr style=\"text-align: right;\">\n",
       "      <th></th>\n",
       "      <th>A</th>\n",
       "      <th>B</th>\n",
       "      <th>C</th>\n",
       "    </tr>\n",
       "  </thead>\n",
       "  <tbody>\n",
       "    <tr>\n",
       "      <th>A</th>\n",
       "      <td>81.0</td>\n",
       "      <td>81.0</td>\n",
       "      <td>81.0</td>\n",
       "    </tr>\n",
       "    <tr>\n",
       "      <th>B</th>\n",
       "      <td>81.0</td>\n",
       "      <td>81.0</td>\n",
       "      <td>81.0</td>\n",
       "    </tr>\n",
       "    <tr>\n",
       "      <th>C</th>\n",
       "      <td>81.0</td>\n",
       "      <td>81.0</td>\n",
       "      <td>81.0</td>\n",
       "    </tr>\n",
       "  </tbody>\n",
       "</table>\n",
       "</div>"
      ],
      "text/plain": [
       "      A     B     C\n",
       "A  81.0  81.0  81.0\n",
       "B  81.0  81.0  81.0\n",
       "C  81.0  81.0  81.0"
      ]
     },
     "execution_count": 287,
     "metadata": {},
     "output_type": "execute_result"
    }
   ],
   "source": [
    "df2.cov()"
   ]
  },
  {
   "cell_type": "markdown",
   "metadata": {},
   "source": [
    "#### 상관계수 "
   ]
  },
  {
   "cell_type": "code",
   "execution_count": 290,
   "metadata": {},
   "outputs": [
    {
     "name": "stdout",
     "output_type": "stream",
     "text": [
      "Help on method corr in module pandas.core.frame:\n",
      "\n",
      "corr(method='pearson', min_periods=1) method of pandas.core.frame.DataFrame instance\n",
      "    Compute pairwise correlation of columns, excluding NA/null values\n",
      "    \n",
      "    Parameters\n",
      "    ----------\n",
      "    method : {'pearson', 'kendall', 'spearman'}\n",
      "        * pearson : standard correlation coefficient\n",
      "        * kendall : Kendall Tau correlation coefficient\n",
      "        * spearman : Spearman rank correlation\n",
      "    min_periods : int, optional\n",
      "        Minimum number of observations required per pair of columns\n",
      "        to have a valid result. Currently only available for pearson\n",
      "        and spearman correlation\n",
      "    \n",
      "    Returns\n",
      "    -------\n",
      "    y : DataFrame\n",
      "\n"
     ]
    }
   ],
   "source": [
    "help(df2.corr)"
   ]
  },
  {
   "cell_type": "code",
   "execution_count": 288,
   "metadata": {},
   "outputs": [
    {
     "data": {
      "text/html": [
       "<div>\n",
       "<table border=\"1\" class=\"dataframe\">\n",
       "  <thead>\n",
       "    <tr style=\"text-align: right;\">\n",
       "      <th></th>\n",
       "      <th>A</th>\n",
       "      <th>B</th>\n",
       "      <th>C</th>\n",
       "    </tr>\n",
       "  </thead>\n",
       "  <tbody>\n",
       "    <tr>\n",
       "      <th>A</th>\n",
       "      <td>1.0</td>\n",
       "      <td>1.0</td>\n",
       "      <td>1.0</td>\n",
       "    </tr>\n",
       "    <tr>\n",
       "      <th>B</th>\n",
       "      <td>1.0</td>\n",
       "      <td>1.0</td>\n",
       "      <td>1.0</td>\n",
       "    </tr>\n",
       "    <tr>\n",
       "      <th>C</th>\n",
       "      <td>1.0</td>\n",
       "      <td>1.0</td>\n",
       "      <td>1.0</td>\n",
       "    </tr>\n",
       "  </tbody>\n",
       "</table>\n",
       "</div>"
      ],
      "text/plain": [
       "     A    B    C\n",
       "A  1.0  1.0  1.0\n",
       "B  1.0  1.0  1.0\n",
       "C  1.0  1.0  1.0"
      ]
     },
     "execution_count": 288,
     "metadata": {},
     "output_type": "execute_result"
    }
   ],
   "source": [
    "df2.corr()"
   ]
  },
  {
   "cell_type": "code",
   "execution_count": 283,
   "metadata": {},
   "outputs": [
    {
     "data": {
      "text/html": [
       "<div>\n",
       "<table border=\"1\" class=\"dataframe\">\n",
       "  <thead>\n",
       "    <tr style=\"text-align: right;\">\n",
       "      <th></th>\n",
       "      <th>A</th>\n",
       "      <th>B</th>\n",
       "      <th>C</th>\n",
       "    </tr>\n",
       "  </thead>\n",
       "  <tbody>\n",
       "    <tr>\n",
       "      <th>count</th>\n",
       "      <td>3.0</td>\n",
       "      <td>3.0</td>\n",
       "      <td>3.0</td>\n",
       "    </tr>\n",
       "    <tr>\n",
       "      <th>mean</th>\n",
       "      <td>3.0</td>\n",
       "      <td>4.0</td>\n",
       "      <td>5.0</td>\n",
       "    </tr>\n",
       "    <tr>\n",
       "      <th>std</th>\n",
       "      <td>3.0</td>\n",
       "      <td>3.0</td>\n",
       "      <td>3.0</td>\n",
       "    </tr>\n",
       "    <tr>\n",
       "      <th>min</th>\n",
       "      <td>0.0</td>\n",
       "      <td>1.0</td>\n",
       "      <td>2.0</td>\n",
       "    </tr>\n",
       "    <tr>\n",
       "      <th>25%</th>\n",
       "      <td>1.5</td>\n",
       "      <td>2.5</td>\n",
       "      <td>3.5</td>\n",
       "    </tr>\n",
       "    <tr>\n",
       "      <th>50%</th>\n",
       "      <td>3.0</td>\n",
       "      <td>4.0</td>\n",
       "      <td>5.0</td>\n",
       "    </tr>\n",
       "    <tr>\n",
       "      <th>75%</th>\n",
       "      <td>4.5</td>\n",
       "      <td>5.5</td>\n",
       "      <td>6.5</td>\n",
       "    </tr>\n",
       "    <tr>\n",
       "      <th>max</th>\n",
       "      <td>6.0</td>\n",
       "      <td>7.0</td>\n",
       "      <td>8.0</td>\n",
       "    </tr>\n",
       "  </tbody>\n",
       "</table>\n",
       "</div>"
      ],
      "text/plain": [
       "         A    B    C\n",
       "count  3.0  3.0  3.0\n",
       "mean   3.0  4.0  5.0\n",
       "std    3.0  3.0  3.0\n",
       "min    0.0  1.0  2.0\n",
       "25%    1.5  2.5  3.5\n",
       "50%    3.0  4.0  5.0\n",
       "75%    4.5  5.5  6.5\n",
       "max    6.0  7.0  8.0"
      ]
     },
     "execution_count": 283,
     "metadata": {},
     "output_type": "execute_result"
    }
   ],
   "source": [
    "df1.describe()\n"
   ]
  },
  {
   "cell_type": "code",
   "execution_count": 291,
   "metadata": {},
   "outputs": [
    {
     "data": {
      "text/plain": [
       "A    9.0\n",
       "B    9.0\n",
       "C    9.0\n",
       "dtype: float64"
      ]
     },
     "execution_count": 291,
     "metadata": {},
     "output_type": "execute_result"
    }
   ],
   "source": [
    "df1.var()"
   ]
  },
  {
   "cell_type": "markdown",
   "metadata": {},
   "source": [
    "## nan 값 처리 \n"
   ]
  },
  {
   "cell_type": "code",
   "execution_count": 257,
   "metadata": {},
   "outputs": [
    {
     "name": "stdout",
     "output_type": "stream",
     "text": [
      "Help on method fillna in module pandas.core.frame:\n",
      "\n",
      "fillna(value=None, method=None, axis=None, inplace=False, limit=None, downcast=None, **kwargs) method of pandas.core.frame.DataFrame instance\n",
      "    Fill NA/NaN values using the specified method\n",
      "    \n",
      "    Parameters\n",
      "    ----------\n",
      "    value : scalar, dict, Series, or DataFrame\n",
      "        Value to use to fill holes (e.g. 0), alternately a\n",
      "        dict/Series/DataFrame of values specifying which value to use for\n",
      "        each index (for a Series) or column (for a DataFrame). (values not\n",
      "        in the dict/Series/DataFrame will not be filled). This value cannot\n",
      "        be a list.\n",
      "    method : {'backfill', 'bfill', 'pad', 'ffill', None}, default None\n",
      "        Method to use for filling holes in reindexed Series\n",
      "        pad / ffill: propagate last valid observation forward to next valid\n",
      "        backfill / bfill: use NEXT valid observation to fill gap\n",
      "    axis : {0, 1, 'index', 'columns'}\n",
      "    inplace : boolean, default False\n",
      "        If True, fill in place. Note: this will modify any\n",
      "        other views on this object, (e.g. a no-copy slice for a column in a\n",
      "        DataFrame).\n",
      "    limit : int, default None\n",
      "        If method is specified, this is the maximum number of consecutive\n",
      "        NaN values to forward/backward fill. In other words, if there is\n",
      "        a gap with more than this number of consecutive NaNs, it will only\n",
      "        be partially filled. If method is not specified, this is the\n",
      "        maximum number of entries along the entire axis where NaNs will be\n",
      "        filled.\n",
      "    downcast : dict, default is None\n",
      "        a dict of item->dtype of what to downcast if possible,\n",
      "        or the string 'infer' which will try to downcast to an appropriate\n",
      "        equal type (e.g. float64 to int64 if possible)\n",
      "    \n",
      "    See Also\n",
      "    --------\n",
      "    reindex, asfreq\n",
      "    \n",
      "    Returns\n",
      "    -------\n",
      "    filled : DataFrame\n",
      "\n"
     ]
    }
   ],
   "source": [
    "help(dfna.fillna)"
   ]
  },
  {
   "cell_type": "code",
   "execution_count": 265,
   "metadata": {},
   "outputs": [
    {
     "name": "stdout",
     "output_type": "stream",
     "text": [
      "    0  1  2\n",
      "0 NaN  1  2\n",
      "1 NaN  4  5\n",
      "2 NaN  7  8\n",
      "      0      1      2\n",
      "0  True  False  False\n",
      "1  True  False  False\n",
      "2  True  False  False\n",
      "   1  2\n",
      "0  1  2\n",
      "1  4  5\n",
      "2  7  8\n",
      "      1     2\n",
      "0  True  True\n",
      "1  True  True\n",
      "2  True  True\n"
     ]
    }
   ],
   "source": [
    "dfna = pd.DataFrame(np.arange(9).reshape(3,3))\n",
    "dfna[[0,0]] = np.NaN\n",
    "print(dfna)\n",
    "\n",
    "print(dfna.isnull())\n",
    "\n",
    "b = dfna.dropna(axis=1)\n",
    "print(b)\n",
    "print(b.notnull())"
   ]
  },
  {
   "cell_type": "code",
   "execution_count": null,
   "metadata": {
    "collapsed": true
   },
   "outputs": [],
   "source": []
  },
  {
   "cell_type": "code",
   "execution_count": null,
   "metadata": {
    "collapsed": true
   },
   "outputs": [],
   "source": []
  },
  {
   "cell_type": "code",
   "execution_count": null,
   "metadata": {
    "collapsed": true
   },
   "outputs": [],
   "source": []
  }
 ],
 "metadata": {
  "kernelspec": {
   "display_name": "Python 3",
   "language": "python",
   "name": "python3"
  },
  "language_info": {
   "codemirror_mode": {
    "name": "ipython",
    "version": 3
   },
   "file_extension": ".py",
   "mimetype": "text/x-python",
   "name": "python",
   "nbconvert_exporter": "python",
   "pygments_lexer": "ipython3",
   "version": "3.6.1"
  }
 },
 "nbformat": 4,
 "nbformat_minor": 1
}
