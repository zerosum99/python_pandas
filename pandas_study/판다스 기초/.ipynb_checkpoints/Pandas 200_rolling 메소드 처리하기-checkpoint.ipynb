{
 "cells": [
  {
   "cell_type": "markdown",
   "metadata": {},
   "source": [
    "## 판다스의 데이터 추가"
   ]
  },
  {
   "cell_type": "code",
   "execution_count": 2,
   "metadata": {},
   "outputs": [
    {
     "name": "stdout",
     "output_type": "stream",
     "text": [
      "Collecting pandas_datareader\n",
      "  Downloading pandas_datareader-0.5.0-py2.py3-none-any.whl (74kB)\n",
      "\u001b[K    100% |████████████████████████████████| 81kB 77kB/s ta 0:00:01\n",
      "\u001b[?25hRequirement already satisfied: pandas>=0.17.0 in /Users/dahlmoon/anaconda/lib/python3.6/site-packages (from pandas_datareader)\n",
      "Collecting requests-ftp (from pandas_datareader)\n",
      "  Downloading requests-ftp-0.3.1.tar.gz\n",
      "Collecting requests-file (from pandas_datareader)\n",
      "  Downloading requests-file-1.4.2.tar.gz\n",
      "Requirement already satisfied: requests>=2.3.0 in /Users/dahlmoon/anaconda/lib/python3.6/site-packages (from pandas_datareader)\n",
      "Requirement already satisfied: python-dateutil>=2 in /Users/dahlmoon/anaconda/lib/python3.6/site-packages (from pandas>=0.17.0->pandas_datareader)\n",
      "Requirement already satisfied: pytz>=2011k in /Users/dahlmoon/anaconda/lib/python3.6/site-packages (from pandas>=0.17.0->pandas_datareader)\n",
      "Requirement already satisfied: numpy>=1.7.0 in /Users/dahlmoon/anaconda/lib/python3.6/site-packages (from pandas>=0.17.0->pandas_datareader)\n",
      "Requirement already satisfied: six in /Users/dahlmoon/anaconda/lib/python3.6/site-packages (from requests-file->pandas_datareader)\n",
      "Requirement already satisfied: idna<2.7,>=2.5 in /Users/dahlmoon/anaconda/lib/python3.6/site-packages (from requests>=2.3.0->pandas_datareader)\n",
      "Requirement already satisfied: urllib3<1.23,>=1.21.1 in /Users/dahlmoon/anaconda/lib/python3.6/site-packages (from requests>=2.3.0->pandas_datareader)\n",
      "Requirement already satisfied: chardet<3.1.0,>=3.0.2 in /Users/dahlmoon/anaconda/lib/python3.6/site-packages (from requests>=2.3.0->pandas_datareader)\n",
      "Requirement already satisfied: certifi>=2017.4.17 in /Users/dahlmoon/anaconda/lib/python3.6/site-packages (from requests>=2.3.0->pandas_datareader)\n",
      "Building wheels for collected packages: requests-ftp, requests-file\n",
      "  Running setup.py bdist_wheel for requests-ftp ... \u001b[?25ldone\n",
      "\u001b[?25h  Stored in directory: /Users/dahlmoon/Library/Caches/pip/wheels/76/fb/0d/1026eb562c34a4982dc9d39c9c582a734eefe7f0455f711deb\n",
      "  Running setup.py bdist_wheel for requests-file ... \u001b[?25ldone\n",
      "\u001b[?25h  Stored in directory: /Users/dahlmoon/Library/Caches/pip/wheels/3e/34/3a/c2e634ca7b545510c1b3b7d94dea084e5fdb5f33558f3c3a81\n",
      "Successfully built requests-ftp requests-file\n",
      "Installing collected packages: requests-ftp, requests-file, pandas-datareader\n",
      "Successfully installed pandas-datareader-0.5.0 requests-file-1.4.2 requests-ftp-0.3.1\n"
     ]
    }
   ],
   "source": [
    "!pip install pandas_datareader"
   ]
  },
  {
   "cell_type": "code",
   "execution_count": 3,
   "metadata": {},
   "outputs": [],
   "source": [
    "import pandas as pd\n",
    "import pandas_datareader.data as web\n"
   ]
  },
  {
   "cell_type": "code",
   "execution_count": 10,
   "metadata": {},
   "outputs": [
    {
     "data": {
      "text/plain": [
       "['DataReader',\n",
       " 'EdgarIndexReader',\n",
       " 'EnigmaReader',\n",
       " 'EurostatReader',\n",
       " 'FamaFrenchReader',\n",
       " 'FredReader',\n",
       " 'GoogleDailyReader',\n",
       " 'GoogleOptions',\n",
       " 'GoogleQuotesReader',\n",
       " 'OECDReader',\n",
       " 'Options',\n",
       " 'QuandlReader',\n",
       " 'YahooActionReader',\n",
       " 'YahooDailyReader',\n",
       " 'YahooDivReader',\n",
       " 'YahooOptions',\n",
       " 'YahooQuotesReader',\n",
       " '__builtins__',\n",
       " '__cached__',\n",
       " '__doc__',\n",
       " '__file__',\n",
       " '__loader__',\n",
       " '__name__',\n",
       " '__package__',\n",
       " '__spec__',\n",
       " 'get_components_yahoo',\n",
       " 'get_data_enigma',\n",
       " 'get_data_famafrench',\n",
       " 'get_data_fred',\n",
       " 'get_data_google',\n",
       " 'get_data_quandl',\n",
       " 'get_data_yahoo',\n",
       " 'get_data_yahoo_actions',\n",
       " 'get_nasdaq_symbols',\n",
       " 'get_quote_google',\n",
       " 'get_quote_yahoo',\n",
       " 'warnings']"
      ]
     },
     "execution_count": 10,
     "metadata": {},
     "output_type": "execute_result"
    }
   ],
   "source": [
    "dir(web)"
   ]
  },
  {
   "cell_type": "code",
   "execution_count": 9,
   "metadata": {},
   "outputs": [
    {
     "name": "stdout",
     "output_type": "stream",
     "text": [
      "Help on function DataReader in module pandas_datareader.data:\n",
      "\n",
      "DataReader(name, data_source=None, start=None, end=None, retry_count=3, pause=0.001, session=None, access_key=None)\n",
      "    Imports data from a number of online sources.\n",
      "    \n",
      "    Currently supports Yahoo! Finance, Google Finance, St. Louis FED (FRED),\n",
      "    Kenneth French's data library, and the SEC's EDGAR Index.\n",
      "    \n",
      "    Parameters\n",
      "    ----------\n",
      "    name : str or list of strs\n",
      "        the name of the dataset. Some data sources (yahoo, google, fred) will\n",
      "        accept a list of names.\n",
      "    data_source: {str, None}\n",
      "        the data source (\"yahoo\", \"yahoo-actions\", \"yahoo-dividends\",\n",
      "        \"google\", \"fred\", \"ff\", or \"edgar-index\")\n",
      "    start : {datetime, None}\n",
      "        left boundary for range (defaults to 1/1/2010)\n",
      "    end : {datetime, None}\n",
      "        right boundary for range (defaults to today)\n",
      "    retry_count : {int, 3}\n",
      "        Number of times to retry query request.\n",
      "    pause : {numeric, 0.001}\n",
      "        Time, in seconds, to pause between consecutive queries of chunks. If\n",
      "        single value given for symbol, represents the pause between retries.\n",
      "    session : Session, default None\n",
      "            requests.sessions.Session instance to be used\n",
      "    \n",
      "    Examples\n",
      "    ----------\n",
      "    \n",
      "    # Data from Yahoo! Finance\n",
      "    gs = DataReader(\"GS\", \"yahoo\")\n",
      "    \n",
      "    # Corporate Actions (Dividend and Split Data)\n",
      "    # with ex-dates from Yahoo! Finance\n",
      "    gs = DataReader(\"GS\", \"yahoo-actions\")\n",
      "    \n",
      "    # Data from Google Finance\n",
      "    aapl = DataReader(\"AAPL\", \"google\")\n",
      "    \n",
      "    # Data from FRED\n",
      "    vix = DataReader(\"VIXCLS\", \"fred\")\n",
      "    \n",
      "    # Data from Fama/French\n",
      "    ff = DataReader(\"F-F_Research_Data_Factors\", \"famafrench\")\n",
      "    ff = DataReader(\"F-F_Research_Data_Factors_weekly\", \"famafrench\")\n",
      "    ff = DataReader(\"6_Portfolios_2x3\", \"famafrench\")\n",
      "    ff = DataReader(\"F-F_ST_Reversal_Factor\", \"famafrench\")\n",
      "    \n",
      "    # Data from EDGAR index\n",
      "    ed = DataReader(\"full\", \"edgar-index\")\n",
      "    ed2 = DataReader(\"daily\", \"edgar-index\")\n",
      "\n"
     ]
    }
   ],
   "source": [
    "help(web.DataReader)"
   ]
  },
  {
   "cell_type": "code",
   "execution_count": 6,
   "metadata": {
    "collapsed": true
   },
   "outputs": [],
   "source": [
    "gs = web.DataReader(\"078930.KS\", \"yahoo\", \"2014-01-01\", \"2017-10-06\")"
   ]
  },
  {
   "cell_type": "code",
   "execution_count": 7,
   "metadata": {},
   "outputs": [
    {
     "data": {
      "text/html": [
       "<div>\n",
       "<style>\n",
       "    .dataframe thead tr:only-child th {\n",
       "        text-align: right;\n",
       "    }\n",
       "\n",
       "    .dataframe thead th {\n",
       "        text-align: left;\n",
       "    }\n",
       "\n",
       "    .dataframe tbody tr th {\n",
       "        vertical-align: top;\n",
       "    }\n",
       "</style>\n",
       "<table border=\"1\" class=\"dataframe\">\n",
       "  <thead>\n",
       "    <tr style=\"text-align: right;\">\n",
       "      <th></th>\n",
       "      <th>Open</th>\n",
       "      <th>High</th>\n",
       "      <th>Low</th>\n",
       "      <th>Close</th>\n",
       "      <th>Adj Close</th>\n",
       "      <th>Volume</th>\n",
       "    </tr>\n",
       "    <tr>\n",
       "      <th>Date</th>\n",
       "      <th></th>\n",
       "      <th></th>\n",
       "      <th></th>\n",
       "      <th></th>\n",
       "      <th></th>\n",
       "      <th></th>\n",
       "    </tr>\n",
       "  </thead>\n",
       "  <tbody>\n",
       "    <tr>\n",
       "      <th>2014-01-02</th>\n",
       "      <td>58200.0</td>\n",
       "      <td>58300.0</td>\n",
       "      <td>56000.0</td>\n",
       "      <td>56400.0</td>\n",
       "      <td>51602.105469</td>\n",
       "      <td>247497.0</td>\n",
       "    </tr>\n",
       "    <tr>\n",
       "      <th>2014-01-03</th>\n",
       "      <td>56500.0</td>\n",
       "      <td>56700.0</td>\n",
       "      <td>55100.0</td>\n",
       "      <td>55700.0</td>\n",
       "      <td>50961.656250</td>\n",
       "      <td>220482.0</td>\n",
       "    </tr>\n",
       "    <tr>\n",
       "      <th>2014-01-06</th>\n",
       "      <td>55400.0</td>\n",
       "      <td>55800.0</td>\n",
       "      <td>54600.0</td>\n",
       "      <td>55500.0</td>\n",
       "      <td>50778.664063</td>\n",
       "      <td>190935.0</td>\n",
       "    </tr>\n",
       "    <tr>\n",
       "      <th>2014-01-07</th>\n",
       "      <td>55000.0</td>\n",
       "      <td>55600.0</td>\n",
       "      <td>54900.0</td>\n",
       "      <td>55100.0</td>\n",
       "      <td>50412.695313</td>\n",
       "      <td>179610.0</td>\n",
       "    </tr>\n",
       "    <tr>\n",
       "      <th>2014-01-08</th>\n",
       "      <td>55300.0</td>\n",
       "      <td>55400.0</td>\n",
       "      <td>53700.0</td>\n",
       "      <td>54300.0</td>\n",
       "      <td>49680.750000</td>\n",
       "      <td>374566.0</td>\n",
       "    </tr>\n",
       "  </tbody>\n",
       "</table>\n",
       "</div>"
      ],
      "text/plain": [
       "               Open     High      Low    Close     Adj Close    Volume\n",
       "Date                                                                  \n",
       "2014-01-02  58200.0  58300.0  56000.0  56400.0  51602.105469  247497.0\n",
       "2014-01-03  56500.0  56700.0  55100.0  55700.0  50961.656250  220482.0\n",
       "2014-01-06  55400.0  55800.0  54600.0  55500.0  50778.664063  190935.0\n",
       "2014-01-07  55000.0  55600.0  54900.0  55100.0  50412.695313  179610.0\n",
       "2014-01-08  55300.0  55400.0  53700.0  54300.0  49680.750000  374566.0"
      ]
     },
     "execution_count": 7,
     "metadata": {},
     "output_type": "execute_result"
    }
   ],
   "source": [
    "gs.head()"
   ]
  },
  {
   "cell_type": "code",
   "execution_count": 8,
   "metadata": {},
   "outputs": [
    {
     "data": {
      "text/html": [
       "<div>\n",
       "<style>\n",
       "    .dataframe thead tr:only-child th {\n",
       "        text-align: right;\n",
       "    }\n",
       "\n",
       "    .dataframe thead th {\n",
       "        text-align: left;\n",
       "    }\n",
       "\n",
       "    .dataframe tbody tr th {\n",
       "        vertical-align: top;\n",
       "    }\n",
       "</style>\n",
       "<table border=\"1\" class=\"dataframe\">\n",
       "  <thead>\n",
       "    <tr style=\"text-align: right;\">\n",
       "      <th></th>\n",
       "      <th>Open</th>\n",
       "      <th>High</th>\n",
       "      <th>Low</th>\n",
       "      <th>Close</th>\n",
       "      <th>Adj Close</th>\n",
       "      <th>Volume</th>\n",
       "    </tr>\n",
       "    <tr>\n",
       "      <th>Date</th>\n",
       "      <th></th>\n",
       "      <th></th>\n",
       "      <th></th>\n",
       "      <th></th>\n",
       "      <th></th>\n",
       "      <th></th>\n",
       "    </tr>\n",
       "  </thead>\n",
       "  <tbody>\n",
       "    <tr>\n",
       "      <th>2017-09-27</th>\n",
       "      <td>64700.0</td>\n",
       "      <td>65800.0</td>\n",
       "      <td>64700.0</td>\n",
       "      <td>65800.0</td>\n",
       "      <td>65800.0</td>\n",
       "      <td>118293.0</td>\n",
       "    </tr>\n",
       "    <tr>\n",
       "      <th>2017-09-28</th>\n",
       "      <td>65000.0</td>\n",
       "      <td>65000.0</td>\n",
       "      <td>64100.0</td>\n",
       "      <td>64600.0</td>\n",
       "      <td>64600.0</td>\n",
       "      <td>169122.0</td>\n",
       "    </tr>\n",
       "    <tr>\n",
       "      <th>2017-09-29</th>\n",
       "      <td>64800.0</td>\n",
       "      <td>65600.0</td>\n",
       "      <td>64400.0</td>\n",
       "      <td>65600.0</td>\n",
       "      <td>65600.0</td>\n",
       "      <td>147107.0</td>\n",
       "    </tr>\n",
       "    <tr>\n",
       "      <th>2017-10-02</th>\n",
       "      <td>65600.0</td>\n",
       "      <td>65600.0</td>\n",
       "      <td>65600.0</td>\n",
       "      <td>65600.0</td>\n",
       "      <td>65600.0</td>\n",
       "      <td>0.0</td>\n",
       "    </tr>\n",
       "    <tr>\n",
       "      <th>2017-10-10</th>\n",
       "      <td>65600.0</td>\n",
       "      <td>65600.0</td>\n",
       "      <td>65600.0</td>\n",
       "      <td>65600.0</td>\n",
       "      <td>65600.0</td>\n",
       "      <td>0.0</td>\n",
       "    </tr>\n",
       "  </tbody>\n",
       "</table>\n",
       "</div>"
      ],
      "text/plain": [
       "               Open     High      Low    Close  Adj Close    Volume\n",
       "Date                                                               \n",
       "2017-09-27  64700.0  65800.0  64700.0  65800.0    65800.0  118293.0\n",
       "2017-09-28  65000.0  65000.0  64100.0  64600.0    64600.0  169122.0\n",
       "2017-09-29  64800.0  65600.0  64400.0  65600.0    65600.0  147107.0\n",
       "2017-10-02  65600.0  65600.0  65600.0  65600.0    65600.0       0.0\n",
       "2017-10-10  65600.0  65600.0  65600.0  65600.0    65600.0       0.0"
      ]
     },
     "execution_count": 8,
     "metadata": {},
     "output_type": "execute_result"
    }
   ],
   "source": [
    "gs.tail()"
   ]
  },
  {
   "cell_type": "code",
   "execution_count": 22,
   "metadata": {},
   "outputs": [
    {
     "data": {
      "text/plain": [
       "(927, 6)"
      ]
     },
     "execution_count": 22,
     "metadata": {},
     "output_type": "execute_result"
    }
   ],
   "source": [
    "gs.shape"
   ]
  },
  {
   "cell_type": "markdown",
   "metadata": {},
   "source": [
    "## 널값을 존재 확인"
   ]
  },
  {
   "cell_type": "code",
   "execution_count": 24,
   "metadata": {},
   "outputs": [
    {
     "data": {
      "text/plain": [
       "Date\n",
       "2014-01-02    False\n",
       "2014-01-03    False\n",
       "2014-01-06    False\n",
       "2014-01-07    False\n",
       "2014-01-08    False\n",
       "2014-01-09     True\n",
       "2014-01-10    False\n",
       "2014-01-13    False\n",
       "2014-01-14     True\n",
       "2014-01-15     True\n",
       "2014-01-16     True\n",
       "2014-01-17    False\n",
       "2014-01-20    False\n",
       "2014-01-21    False\n",
       "2014-01-22    False\n",
       "2014-01-23    False\n",
       "2014-01-24    False\n",
       "2014-01-27    False\n",
       "2014-01-28    False\n",
       "2014-01-29    False\n",
       "2014-02-03    False\n",
       "2014-02-04    False\n",
       "2014-02-05    False\n",
       "2014-02-06    False\n",
       "2014-02-07    False\n",
       "2014-02-10    False\n",
       "2014-02-11    False\n",
       "2014-02-12    False\n",
       "2014-02-13    False\n",
       "2014-02-14    False\n",
       "              ...  \n",
       "2017-08-22    False\n",
       "2017-08-23    False\n",
       "2017-08-24    False\n",
       "2017-08-25    False\n",
       "2017-08-28    False\n",
       "2017-08-29    False\n",
       "2017-08-30    False\n",
       "2017-08-31    False\n",
       "2017-09-01    False\n",
       "2017-09-04    False\n",
       "2017-09-05    False\n",
       "2017-09-06    False\n",
       "2017-09-07    False\n",
       "2017-09-08    False\n",
       "2017-09-11    False\n",
       "2017-09-12    False\n",
       "2017-09-13    False\n",
       "2017-09-14    False\n",
       "2017-09-15    False\n",
       "2017-09-18    False\n",
       "2017-09-19    False\n",
       "2017-09-20    False\n",
       "2017-09-21    False\n",
       "2017-09-25    False\n",
       "2017-09-26    False\n",
       "2017-09-27    False\n",
       "2017-09-28    False\n",
       "2017-09-29    False\n",
       "2017-10-02    False\n",
       "2017-10-10    False\n",
       "Name: Adj Close, Length: 927, dtype: bool"
      ]
     },
     "execution_count": 24,
     "metadata": {},
     "output_type": "execute_result"
    }
   ],
   "source": [
    "gs['Adj Close'].isnull()"
   ]
  },
  {
   "cell_type": "markdown",
   "metadata": {},
   "source": [
    "## 널값을 제거"
   ]
  },
  {
   "cell_type": "code",
   "execution_count": 28,
   "metadata": {},
   "outputs": [],
   "source": [
    "gs['Adj Close'] = gs['Adj Close'].fillna(method='bfill')"
   ]
  },
  {
   "cell_type": "markdown",
   "metadata": {},
   "source": [
    "### 전체가 펄스인지 확인"
   ]
  },
  {
   "cell_type": "code",
   "execution_count": 31,
   "metadata": {},
   "outputs": [
    {
     "data": {
      "text/plain": [
       "False"
      ]
     },
     "execution_count": 31,
     "metadata": {},
     "output_type": "execute_result"
    }
   ],
   "source": [
    "gs['Adj Close'].isnull().all()"
   ]
  },
  {
   "cell_type": "markdown",
   "metadata": {},
   "source": [
    "### 하나라도 참이 있는 지를 확인"
   ]
  },
  {
   "cell_type": "code",
   "execution_count": 32,
   "metadata": {},
   "outputs": [
    {
     "data": {
      "text/plain": [
       "False"
      ]
     },
     "execution_count": 32,
     "metadata": {},
     "output_type": "execute_result"
    }
   ],
   "source": [
    "gs['Adj Close'].isnull().any()"
   ]
  },
  {
   "cell_type": "markdown",
   "metadata": {},
   "source": [
    "## 5일 기준의 이동평균을 계산하기"
   ]
  },
  {
   "cell_type": "code",
   "execution_count": 33,
   "metadata": {
    "collapsed": true
   },
   "outputs": [],
   "source": [
    "ma5 = gs['Adj Close'].rolling(window=5).mean()"
   ]
  },
  {
   "cell_type": "code",
   "execution_count": 34,
   "metadata": {},
   "outputs": [
    {
     "data": {
      "text/plain": [
       "Date\n",
       "2014-01-02             NaN\n",
       "2014-01-03             NaN\n",
       "2014-01-06             NaN\n",
       "2014-01-07             NaN\n",
       "2014-01-08    50687.174219\n",
       "Name: Adj Close, dtype: float64"
      ]
     },
     "execution_count": 34,
     "metadata": {},
     "output_type": "execute_result"
    }
   ],
   "source": [
    "ma5.head()"
   ]
  },
  {
   "cell_type": "code",
   "execution_count": 35,
   "metadata": {},
   "outputs": [
    {
     "data": {
      "text/plain": [
       "Date\n",
       "2017-09-27    65260.0\n",
       "2017-09-28    64960.0\n",
       "2017-09-29    64800.0\n",
       "2017-10-02    65120.0\n",
       "2017-10-10    65440.0\n",
       "Name: Adj Close, dtype: float64"
      ]
     },
     "execution_count": 35,
     "metadata": {},
     "output_type": "execute_result"
    }
   ],
   "source": [
    "ma5.tail()"
   ]
  },
  {
   "cell_type": "markdown",
   "metadata": {},
   "source": [
    "## 20 일 이상 이동평균 구하기"
   ]
  },
  {
   "cell_type": "code",
   "execution_count": 36,
   "metadata": {},
   "outputs": [],
   "source": [
    "ma20 = gs['Adj Close'].rolling(window=20).mean()\n"
   ]
  },
  {
   "cell_type": "code",
   "execution_count": 37,
   "metadata": {},
   "outputs": [
    {
     "data": {
      "text/plain": [
       "Date\n",
       "2017-09-27    66765.0\n",
       "2017-09-28    66500.0\n",
       "2017-09-29    66250.0\n",
       "2017-10-02    66090.0\n",
       "2017-10-10    65985.0\n",
       "Name: Adj Close, dtype: float64"
      ]
     },
     "execution_count": 37,
     "metadata": {},
     "output_type": "execute_result"
    }
   ],
   "source": [
    "ma20.tail()"
   ]
  },
  {
   "cell_type": "code",
   "execution_count": 38,
   "metadata": {},
   "outputs": [],
   "source": [
    "ma60 = gs['Adj Close'].rolling(window=60).mean()\n",
    "\n"
   ]
  },
  {
   "cell_type": "code",
   "execution_count": 39,
   "metadata": {},
   "outputs": [
    {
     "data": {
      "text/plain": [
       "Date\n",
       "2017-09-27    70063.333333\n",
       "2017-09-28    69993.333333\n",
       "2017-09-29    69946.666667\n",
       "2017-10-02    69906.666667\n",
       "2017-10-10    69846.666667\n",
       "Name: Adj Close, dtype: float64"
      ]
     },
     "execution_count": 39,
     "metadata": {},
     "output_type": "execute_result"
    }
   ],
   "source": [
    "ma60.tail()"
   ]
  },
  {
   "cell_type": "code",
   "execution_count": 40,
   "metadata": {
    "collapsed": true
   },
   "outputs": [],
   "source": [
    "ma120 = gs['Adj Close'].rolling(window=120).mean()"
   ]
  },
  {
   "cell_type": "code",
   "execution_count": 41,
   "metadata": {},
   "outputs": [
    {
     "data": {
      "text/plain": [
       "Date\n",
       "2017-09-27    67300.000000\n",
       "2017-09-28    67360.833333\n",
       "2017-09-29    67434.166667\n",
       "2017-10-02    67502.500000\n",
       "2017-10-10    67570.833333\n",
       "Name: Adj Close, dtype: float64"
      ]
     },
     "execution_count": 41,
     "metadata": {},
     "output_type": "execute_result"
    }
   ],
   "source": [
    "ma120.tail()"
   ]
  },
  {
   "cell_type": "code",
   "execution_count": 49,
   "metadata": {},
   "outputs": [],
   "source": [
    "new_gs = pd.DataFrame(gs['Adj Close'], columns=['Adj Close'])"
   ]
  },
  {
   "cell_type": "code",
   "execution_count": 50,
   "metadata": {
    "collapsed": true
   },
   "outputs": [],
   "source": [
    "new_gs['ma5'] = ma5"
   ]
  },
  {
   "cell_type": "code",
   "execution_count": 51,
   "metadata": {},
   "outputs": [
    {
     "data": {
      "text/plain": [
       "Index([2014-01-02 00:00:00, 2014-01-03 00:00:00, 2014-01-06 00:00:00,\n",
       "       2014-01-07 00:00:00, 2014-01-08 00:00:00, 2014-01-09 00:00:00,\n",
       "       2014-01-10 00:00:00, 2014-01-13 00:00:00, 2014-01-14 00:00:00,\n",
       "       2014-01-15 00:00:00,\n",
       "       ...\n",
       "       2017-09-20 00:00:00, 2017-09-21 00:00:00, 2017-09-25 00:00:00,\n",
       "       2017-09-26 00:00:00, 2017-09-27 00:00:00, 2017-09-28 00:00:00,\n",
       "       2017-09-29 00:00:00, 2017-10-02 00:00:00, 2017-10-10 00:00:00,\n",
       "                     'ma5'],\n",
       "      dtype='object', name='Date', length=928)"
      ]
     },
     "execution_count": 51,
     "metadata": {},
     "output_type": "execute_result"
    }
   ],
   "source": [
    "new_gs.index"
   ]
  },
  {
   "cell_type": "code",
   "execution_count": 52,
   "metadata": {},
   "outputs": [
    {
     "data": {
      "text/plain": [
       "Index(['Adj Close', 'ma5'], dtype='object')"
      ]
     },
     "execution_count": 52,
     "metadata": {},
     "output_type": "execute_result"
    }
   ],
   "source": [
    "new_gs.columns"
   ]
  },
  {
   "cell_type": "code",
   "execution_count": 53,
   "metadata": {},
   "outputs": [
    {
     "data": {
      "text/html": [
       "<div>\n",
       "<style>\n",
       "    .dataframe thead tr:only-child th {\n",
       "        text-align: right;\n",
       "    }\n",
       "\n",
       "    .dataframe thead th {\n",
       "        text-align: left;\n",
       "    }\n",
       "\n",
       "    .dataframe tbody tr th {\n",
       "        vertical-align: top;\n",
       "    }\n",
       "</style>\n",
       "<table border=\"1\" class=\"dataframe\">\n",
       "  <thead>\n",
       "    <tr style=\"text-align: right;\">\n",
       "      <th></th>\n",
       "      <th>Adj Close</th>\n",
       "      <th>ma5</th>\n",
       "    </tr>\n",
       "    <tr>\n",
       "      <th>Date</th>\n",
       "      <th></th>\n",
       "      <th></th>\n",
       "    </tr>\n",
       "  </thead>\n",
       "  <tbody>\n",
       "    <tr>\n",
       "      <th>2014-01-02 00:00:00</th>\n",
       "      <td>51602.1</td>\n",
       "      <td>NaN</td>\n",
       "    </tr>\n",
       "    <tr>\n",
       "      <th>2014-01-03 00:00:00</th>\n",
       "      <td>50961.7</td>\n",
       "      <td>NaN</td>\n",
       "    </tr>\n",
       "    <tr>\n",
       "      <th>2014-01-06 00:00:00</th>\n",
       "      <td>50778.7</td>\n",
       "      <td>NaN</td>\n",
       "    </tr>\n",
       "    <tr>\n",
       "      <th>2014-01-07 00:00:00</th>\n",
       "      <td>50412.7</td>\n",
       "      <td>NaN</td>\n",
       "    </tr>\n",
       "    <tr>\n",
       "      <th>2014-01-08 00:00:00</th>\n",
       "      <td>49680.8</td>\n",
       "      <td>50687.174219</td>\n",
       "    </tr>\n",
       "  </tbody>\n",
       "</table>\n",
       "</div>"
      ],
      "text/plain": [
       "                    Adj Close           ma5\n",
       "Date                                       \n",
       "2014-01-02 00:00:00   51602.1           NaN\n",
       "2014-01-03 00:00:00   50961.7           NaN\n",
       "2014-01-06 00:00:00   50778.7           NaN\n",
       "2014-01-07 00:00:00   50412.7           NaN\n",
       "2014-01-08 00:00:00   49680.8  50687.174219"
      ]
     },
     "execution_count": 53,
     "metadata": {},
     "output_type": "execute_result"
    }
   ],
   "source": [
    "new_gs.head()"
   ]
  },
  {
   "cell_type": "code",
   "execution_count": 61,
   "metadata": {},
   "outputs": [
    {
     "data": {
      "text/plain": [
       "50687.174219"
      ]
     },
     "execution_count": 61,
     "metadata": {},
     "output_type": "execute_result"
    }
   ],
   "source": [
    "new_gs['Adj Close'][:5].mean()"
   ]
  },
  {
   "cell_type": "code",
   "execution_count": 54,
   "metadata": {
    "collapsed": true
   },
   "outputs": [],
   "source": [
    "new_gs['ma20'] = ma20"
   ]
  },
  {
   "cell_type": "code",
   "execution_count": 56,
   "metadata": {},
   "outputs": [
    {
     "data": {
      "text/html": [
       "<div>\n",
       "<style>\n",
       "    .dataframe thead tr:only-child th {\n",
       "        text-align: right;\n",
       "    }\n",
       "\n",
       "    .dataframe thead th {\n",
       "        text-align: left;\n",
       "    }\n",
       "\n",
       "    .dataframe tbody tr th {\n",
       "        vertical-align: top;\n",
       "    }\n",
       "</style>\n",
       "<table border=\"1\" class=\"dataframe\">\n",
       "  <thead>\n",
       "    <tr style=\"text-align: right;\">\n",
       "      <th></th>\n",
       "      <th>Adj Close</th>\n",
       "      <th>ma5</th>\n",
       "      <th>ma20</th>\n",
       "    </tr>\n",
       "    <tr>\n",
       "      <th>Date</th>\n",
       "      <th></th>\n",
       "      <th></th>\n",
       "      <th></th>\n",
       "    </tr>\n",
       "  </thead>\n",
       "  <tbody>\n",
       "    <tr>\n",
       "      <th>2014-01-02 00:00:00</th>\n",
       "      <td>51602.1</td>\n",
       "      <td>NaN</td>\n",
       "      <td>NaN</td>\n",
       "    </tr>\n",
       "    <tr>\n",
       "      <th>2014-01-03 00:00:00</th>\n",
       "      <td>50961.7</td>\n",
       "      <td>NaN</td>\n",
       "      <td>NaN</td>\n",
       "    </tr>\n",
       "    <tr>\n",
       "      <th>2014-01-06 00:00:00</th>\n",
       "      <td>50778.7</td>\n",
       "      <td>NaN</td>\n",
       "      <td>NaN</td>\n",
       "    </tr>\n",
       "    <tr>\n",
       "      <th>2014-01-07 00:00:00</th>\n",
       "      <td>50412.7</td>\n",
       "      <td>NaN</td>\n",
       "      <td>NaN</td>\n",
       "    </tr>\n",
       "    <tr>\n",
       "      <th>2014-01-08 00:00:00</th>\n",
       "      <td>49680.8</td>\n",
       "      <td>50687.174219</td>\n",
       "      <td>NaN</td>\n",
       "    </tr>\n",
       "    <tr>\n",
       "      <th>2014-01-09 00:00:00</th>\n",
       "      <td>48765.8</td>\n",
       "      <td>50119.917188</td>\n",
       "      <td>NaN</td>\n",
       "    </tr>\n",
       "    <tr>\n",
       "      <th>2014-01-10 00:00:00</th>\n",
       "      <td>48765.8</td>\n",
       "      <td>49680.750000</td>\n",
       "      <td>NaN</td>\n",
       "    </tr>\n",
       "    <tr>\n",
       "      <th>2014-01-13 00:00:00</th>\n",
       "      <td>48857.3</td>\n",
       "      <td>49296.479688</td>\n",
       "      <td>NaN</td>\n",
       "    </tr>\n",
       "    <tr>\n",
       "      <th>2014-01-14 00:00:00</th>\n",
       "      <td>48491.3</td>\n",
       "      <td>48912.208594</td>\n",
       "      <td>NaN</td>\n",
       "    </tr>\n",
       "    <tr>\n",
       "      <th>2014-01-15 00:00:00</th>\n",
       "      <td>48491.3</td>\n",
       "      <td>48674.326563</td>\n",
       "      <td>NaN</td>\n",
       "    </tr>\n",
       "    <tr>\n",
       "      <th>2014-01-16 00:00:00</th>\n",
       "      <td>48491.3</td>\n",
       "      <td>48619.430469</td>\n",
       "      <td>NaN</td>\n",
       "    </tr>\n",
       "    <tr>\n",
       "      <th>2014-01-17 00:00:00</th>\n",
       "      <td>48491.3</td>\n",
       "      <td>48564.534375</td>\n",
       "      <td>NaN</td>\n",
       "    </tr>\n",
       "    <tr>\n",
       "      <th>2014-01-20 00:00:00</th>\n",
       "      <td>48491.3</td>\n",
       "      <td>48491.339844</td>\n",
       "      <td>NaN</td>\n",
       "    </tr>\n",
       "    <tr>\n",
       "      <th>2014-01-21 00:00:00</th>\n",
       "      <td>48857.3</td>\n",
       "      <td>48564.534375</td>\n",
       "      <td>NaN</td>\n",
       "    </tr>\n",
       "    <tr>\n",
       "      <th>2014-01-22 00:00:00</th>\n",
       "      <td>48857.3</td>\n",
       "      <td>48637.728906</td>\n",
       "      <td>NaN</td>\n",
       "    </tr>\n",
       "    <tr>\n",
       "      <th>2014-01-23 00:00:00</th>\n",
       "      <td>48491.3</td>\n",
       "      <td>48637.728906</td>\n",
       "      <td>NaN</td>\n",
       "    </tr>\n",
       "    <tr>\n",
       "      <th>2014-01-24 00:00:00</th>\n",
       "      <td>48582.8</td>\n",
       "      <td>48656.028125</td>\n",
       "      <td>NaN</td>\n",
       "    </tr>\n",
       "    <tr>\n",
       "      <th>2014-01-27 00:00:00</th>\n",
       "      <td>47759.4</td>\n",
       "      <td>48509.639063</td>\n",
       "      <td>NaN</td>\n",
       "    </tr>\n",
       "    <tr>\n",
       "      <th>2014-01-28 00:00:00</th>\n",
       "      <td>47484.9</td>\n",
       "      <td>48235.160156</td>\n",
       "      <td>NaN</td>\n",
       "    </tr>\n",
       "    <tr>\n",
       "      <th>2014-01-29 00:00:00</th>\n",
       "      <td>46936</td>\n",
       "      <td>47850.889063</td>\n",
       "      <td>48962.529688</td>\n",
       "    </tr>\n",
       "  </tbody>\n",
       "</table>\n",
       "</div>"
      ],
      "text/plain": [
       "                    Adj Close           ma5          ma20\n",
       "Date                                                     \n",
       "2014-01-02 00:00:00   51602.1           NaN           NaN\n",
       "2014-01-03 00:00:00   50961.7           NaN           NaN\n",
       "2014-01-06 00:00:00   50778.7           NaN           NaN\n",
       "2014-01-07 00:00:00   50412.7           NaN           NaN\n",
       "2014-01-08 00:00:00   49680.8  50687.174219           NaN\n",
       "2014-01-09 00:00:00   48765.8  50119.917188           NaN\n",
       "2014-01-10 00:00:00   48765.8  49680.750000           NaN\n",
       "2014-01-13 00:00:00   48857.3  49296.479688           NaN\n",
       "2014-01-14 00:00:00   48491.3  48912.208594           NaN\n",
       "2014-01-15 00:00:00   48491.3  48674.326563           NaN\n",
       "2014-01-16 00:00:00   48491.3  48619.430469           NaN\n",
       "2014-01-17 00:00:00   48491.3  48564.534375           NaN\n",
       "2014-01-20 00:00:00   48491.3  48491.339844           NaN\n",
       "2014-01-21 00:00:00   48857.3  48564.534375           NaN\n",
       "2014-01-22 00:00:00   48857.3  48637.728906           NaN\n",
       "2014-01-23 00:00:00   48491.3  48637.728906           NaN\n",
       "2014-01-24 00:00:00   48582.8  48656.028125           NaN\n",
       "2014-01-27 00:00:00   47759.4  48509.639063           NaN\n",
       "2014-01-28 00:00:00   47484.9  48235.160156           NaN\n",
       "2014-01-29 00:00:00     46936  47850.889063  48962.529688"
      ]
     },
     "execution_count": 56,
     "metadata": {},
     "output_type": "execute_result"
    }
   ],
   "source": [
    "new_gs.head(20)"
   ]
  },
  {
   "cell_type": "code",
   "execution_count": 62,
   "metadata": {},
   "outputs": [
    {
     "data": {
      "text/plain": [
       "48962.529687700015"
      ]
     },
     "execution_count": 62,
     "metadata": {},
     "output_type": "execute_result"
    }
   ],
   "source": [
    "new_gs['Adj Close'][:20].mean()"
   ]
  },
  {
   "cell_type": "code",
   "execution_count": 57,
   "metadata": {
    "collapsed": true
   },
   "outputs": [],
   "source": [
    "new_gs['ma60'] = ma60"
   ]
  },
  {
   "cell_type": "code",
   "execution_count": 58,
   "metadata": {},
   "outputs": [
    {
     "data": {
      "text/html": [
       "<div>\n",
       "<style>\n",
       "    .dataframe thead tr:only-child th {\n",
       "        text-align: right;\n",
       "    }\n",
       "\n",
       "    .dataframe thead th {\n",
       "        text-align: left;\n",
       "    }\n",
       "\n",
       "    .dataframe tbody tr th {\n",
       "        vertical-align: top;\n",
       "    }\n",
       "</style>\n",
       "<table border=\"1\" class=\"dataframe\">\n",
       "  <thead>\n",
       "    <tr style=\"text-align: right;\">\n",
       "      <th></th>\n",
       "      <th>Adj Close</th>\n",
       "      <th>ma5</th>\n",
       "      <th>ma20</th>\n",
       "      <th>ma60</th>\n",
       "    </tr>\n",
       "    <tr>\n",
       "      <th>Date</th>\n",
       "      <th></th>\n",
       "      <th></th>\n",
       "      <th></th>\n",
       "      <th></th>\n",
       "    </tr>\n",
       "  </thead>\n",
       "  <tbody>\n",
       "    <tr>\n",
       "      <th>2014-01-02 00:00:00</th>\n",
       "      <td>51602.1</td>\n",
       "      <td>NaN</td>\n",
       "      <td>NaN</td>\n",
       "      <td>NaN</td>\n",
       "    </tr>\n",
       "    <tr>\n",
       "      <th>2014-01-03 00:00:00</th>\n",
       "      <td>50961.7</td>\n",
       "      <td>NaN</td>\n",
       "      <td>NaN</td>\n",
       "      <td>NaN</td>\n",
       "    </tr>\n",
       "    <tr>\n",
       "      <th>2014-01-06 00:00:00</th>\n",
       "      <td>50778.7</td>\n",
       "      <td>NaN</td>\n",
       "      <td>NaN</td>\n",
       "      <td>NaN</td>\n",
       "    </tr>\n",
       "    <tr>\n",
       "      <th>2014-01-07 00:00:00</th>\n",
       "      <td>50412.7</td>\n",
       "      <td>NaN</td>\n",
       "      <td>NaN</td>\n",
       "      <td>NaN</td>\n",
       "    </tr>\n",
       "    <tr>\n",
       "      <th>2014-01-08 00:00:00</th>\n",
       "      <td>49680.8</td>\n",
       "      <td>50687.174219</td>\n",
       "      <td>NaN</td>\n",
       "      <td>NaN</td>\n",
       "    </tr>\n",
       "    <tr>\n",
       "      <th>2014-01-09 00:00:00</th>\n",
       "      <td>48765.8</td>\n",
       "      <td>50119.917188</td>\n",
       "      <td>NaN</td>\n",
       "      <td>NaN</td>\n",
       "    </tr>\n",
       "    <tr>\n",
       "      <th>2014-01-10 00:00:00</th>\n",
       "      <td>48765.8</td>\n",
       "      <td>49680.750000</td>\n",
       "      <td>NaN</td>\n",
       "      <td>NaN</td>\n",
       "    </tr>\n",
       "    <tr>\n",
       "      <th>2014-01-13 00:00:00</th>\n",
       "      <td>48857.3</td>\n",
       "      <td>49296.479688</td>\n",
       "      <td>NaN</td>\n",
       "      <td>NaN</td>\n",
       "    </tr>\n",
       "    <tr>\n",
       "      <th>2014-01-14 00:00:00</th>\n",
       "      <td>48491.3</td>\n",
       "      <td>48912.208594</td>\n",
       "      <td>NaN</td>\n",
       "      <td>NaN</td>\n",
       "    </tr>\n",
       "    <tr>\n",
       "      <th>2014-01-15 00:00:00</th>\n",
       "      <td>48491.3</td>\n",
       "      <td>48674.326563</td>\n",
       "      <td>NaN</td>\n",
       "      <td>NaN</td>\n",
       "    </tr>\n",
       "    <tr>\n",
       "      <th>2014-01-16 00:00:00</th>\n",
       "      <td>48491.3</td>\n",
       "      <td>48619.430469</td>\n",
       "      <td>NaN</td>\n",
       "      <td>NaN</td>\n",
       "    </tr>\n",
       "    <tr>\n",
       "      <th>2014-01-17 00:00:00</th>\n",
       "      <td>48491.3</td>\n",
       "      <td>48564.534375</td>\n",
       "      <td>NaN</td>\n",
       "      <td>NaN</td>\n",
       "    </tr>\n",
       "    <tr>\n",
       "      <th>2014-01-20 00:00:00</th>\n",
       "      <td>48491.3</td>\n",
       "      <td>48491.339844</td>\n",
       "      <td>NaN</td>\n",
       "      <td>NaN</td>\n",
       "    </tr>\n",
       "    <tr>\n",
       "      <th>2014-01-21 00:00:00</th>\n",
       "      <td>48857.3</td>\n",
       "      <td>48564.534375</td>\n",
       "      <td>NaN</td>\n",
       "      <td>NaN</td>\n",
       "    </tr>\n",
       "    <tr>\n",
       "      <th>2014-01-22 00:00:00</th>\n",
       "      <td>48857.3</td>\n",
       "      <td>48637.728906</td>\n",
       "      <td>NaN</td>\n",
       "      <td>NaN</td>\n",
       "    </tr>\n",
       "    <tr>\n",
       "      <th>2014-01-23 00:00:00</th>\n",
       "      <td>48491.3</td>\n",
       "      <td>48637.728906</td>\n",
       "      <td>NaN</td>\n",
       "      <td>NaN</td>\n",
       "    </tr>\n",
       "    <tr>\n",
       "      <th>2014-01-24 00:00:00</th>\n",
       "      <td>48582.8</td>\n",
       "      <td>48656.028125</td>\n",
       "      <td>NaN</td>\n",
       "      <td>NaN</td>\n",
       "    </tr>\n",
       "    <tr>\n",
       "      <th>2014-01-27 00:00:00</th>\n",
       "      <td>47759.4</td>\n",
       "      <td>48509.639063</td>\n",
       "      <td>NaN</td>\n",
       "      <td>NaN</td>\n",
       "    </tr>\n",
       "    <tr>\n",
       "      <th>2014-01-28 00:00:00</th>\n",
       "      <td>47484.9</td>\n",
       "      <td>48235.160156</td>\n",
       "      <td>NaN</td>\n",
       "      <td>NaN</td>\n",
       "    </tr>\n",
       "    <tr>\n",
       "      <th>2014-01-29 00:00:00</th>\n",
       "      <td>46936</td>\n",
       "      <td>47850.889063</td>\n",
       "      <td>48962.529688</td>\n",
       "      <td>NaN</td>\n",
       "    </tr>\n",
       "    <tr>\n",
       "      <th>2014-02-03 00:00:00</th>\n",
       "      <td>46478.5</td>\n",
       "      <td>47448.319531</td>\n",
       "      <td>48706.349024</td>\n",
       "      <td>NaN</td>\n",
       "    </tr>\n",
       "    <tr>\n",
       "      <th>2014-02-04 00:00:00</th>\n",
       "      <td>45746.5</td>\n",
       "      <td>46881.061719</td>\n",
       "      <td>48445.593555</td>\n",
       "      <td>NaN</td>\n",
       "    </tr>\n",
       "    <tr>\n",
       "      <th>2014-02-05 00:00:00</th>\n",
       "      <td>45563.6</td>\n",
       "      <td>46441.895313</td>\n",
       "      <td>48184.838477</td>\n",
       "      <td>NaN</td>\n",
       "    </tr>\n",
       "    <tr>\n",
       "      <th>2014-02-06 00:00:00</th>\n",
       "      <td>45655.1</td>\n",
       "      <td>46075.922656</td>\n",
       "      <td>47946.956446</td>\n",
       "      <td>NaN</td>\n",
       "    </tr>\n",
       "    <tr>\n",
       "      <th>2014-02-07 00:00:00</th>\n",
       "      <td>43825.2</td>\n",
       "      <td>45453.769531</td>\n",
       "      <td>47654.178516</td>\n",
       "      <td>NaN</td>\n",
       "    </tr>\n",
       "    <tr>\n",
       "      <th>2014-02-10 00:00:00</th>\n",
       "      <td>44236.9</td>\n",
       "      <td>45005.453125</td>\n",
       "      <td>47427.733008</td>\n",
       "      <td>NaN</td>\n",
       "    </tr>\n",
       "    <tr>\n",
       "      <th>2014-02-11 00:00:00</th>\n",
       "      <td>44831.6</td>\n",
       "      <td>44822.467188</td>\n",
       "      <td>47231.022852</td>\n",
       "      <td>NaN</td>\n",
       "    </tr>\n",
       "    <tr>\n",
       "      <th>2014-02-12 00:00:00</th>\n",
       "      <td>44877.4</td>\n",
       "      <td>44685.226563</td>\n",
       "      <td>47032.025195</td>\n",
       "      <td>NaN</td>\n",
       "    </tr>\n",
       "    <tr>\n",
       "      <th>2014-02-13 00:00:00</th>\n",
       "      <td>45197.6</td>\n",
       "      <td>44593.732813</td>\n",
       "      <td>46867.337500</td>\n",
       "      <td>NaN</td>\n",
       "    </tr>\n",
       "    <tr>\n",
       "      <th>2014-02-14 00:00:00</th>\n",
       "      <td>45380.6</td>\n",
       "      <td>44904.809375</td>\n",
       "      <td>46711.799219</td>\n",
       "      <td>NaN</td>\n",
       "    </tr>\n",
       "    <tr>\n",
       "      <th>2014-02-17 00:00:00</th>\n",
       "      <td>45609.3</td>\n",
       "      <td>45179.289063</td>\n",
       "      <td>46567.697656</td>\n",
       "      <td>NaN</td>\n",
       "    </tr>\n",
       "    <tr>\n",
       "      <th>2014-02-18 00:00:00</th>\n",
       "      <td>45655.1</td>\n",
       "      <td>45343.976563</td>\n",
       "      <td>46425.883399</td>\n",
       "      <td>NaN</td>\n",
       "    </tr>\n",
       "    <tr>\n",
       "      <th>2014-02-19 00:00:00</th>\n",
       "      <td>45563.6</td>\n",
       "      <td>45481.217188</td>\n",
       "      <td>46279.494531</td>\n",
       "      <td>NaN</td>\n",
       "    </tr>\n",
       "    <tr>\n",
       "      <th>2014-02-20 00:00:00</th>\n",
       "      <td>45700.8</td>\n",
       "      <td>45581.860156</td>\n",
       "      <td>46121.668945</td>\n",
       "      <td>NaN</td>\n",
       "    </tr>\n",
       "    <tr>\n",
       "      <th>2014-02-21 00:00:00</th>\n",
       "      <td>45929.5</td>\n",
       "      <td>45691.651563</td>\n",
       "      <td>45975.279883</td>\n",
       "      <td>NaN</td>\n",
       "    </tr>\n",
       "    <tr>\n",
       "      <th>2014-02-24 00:00:00</th>\n",
       "      <td>45838</td>\n",
       "      <td>45737.398438</td>\n",
       "      <td>45842.615039</td>\n",
       "      <td>NaN</td>\n",
       "    </tr>\n",
       "    <tr>\n",
       "      <th>2014-02-25 00:00:00</th>\n",
       "      <td>45838</td>\n",
       "      <td>45773.996094</td>\n",
       "      <td>45705.375391</td>\n",
       "      <td>NaN</td>\n",
       "    </tr>\n",
       "    <tr>\n",
       "      <th>2014-02-26 00:00:00</th>\n",
       "      <td>45838</td>\n",
       "      <td>45828.892188</td>\n",
       "      <td>45609.307813</td>\n",
       "      <td>NaN</td>\n",
       "    </tr>\n",
       "    <tr>\n",
       "      <th>2014-02-27 00:00:00</th>\n",
       "      <td>45334.8</td>\n",
       "      <td>45755.697656</td>\n",
       "      <td>45501.803320</td>\n",
       "      <td>NaN</td>\n",
       "    </tr>\n",
       "    <tr>\n",
       "      <th>2014-02-28 00:00:00</th>\n",
       "      <td>45334.8</td>\n",
       "      <td>45636.757031</td>\n",
       "      <td>45421.746875</td>\n",
       "      <td>NaN</td>\n",
       "    </tr>\n",
       "    <tr>\n",
       "      <th>2014-03-03 00:00:00</th>\n",
       "      <td>44968.9</td>\n",
       "      <td>45462.919531</td>\n",
       "      <td>45346.265039</td>\n",
       "      <td>NaN</td>\n",
       "    </tr>\n",
       "    <tr>\n",
       "      <th>2014-03-04 00:00:00</th>\n",
       "      <td>44694.4</td>\n",
       "      <td>45234.186719</td>\n",
       "      <td>45293.656641</td>\n",
       "      <td>NaN</td>\n",
       "    </tr>\n",
       "    <tr>\n",
       "      <th>2014-03-05 00:00:00</th>\n",
       "      <td>45060.4</td>\n",
       "      <td>45078.648438</td>\n",
       "      <td>45268.496094</td>\n",
       "      <td>NaN</td>\n",
       "    </tr>\n",
       "    <tr>\n",
       "      <th>2014-03-06 00:00:00</th>\n",
       "      <td>45334.8</td>\n",
       "      <td>45078.648438</td>\n",
       "      <td>45252.484766</td>\n",
       "      <td>NaN</td>\n",
       "    </tr>\n",
       "    <tr>\n",
       "      <th>2014-03-07 00:00:00</th>\n",
       "      <td>45929.5</td>\n",
       "      <td>45197.589063</td>\n",
       "      <td>45357.701758</td>\n",
       "      <td>NaN</td>\n",
       "    </tr>\n",
       "    <tr>\n",
       "      <th>2014-03-10 00:00:00</th>\n",
       "      <td>45197.6</td>\n",
       "      <td>45243.335156</td>\n",
       "      <td>45405.735547</td>\n",
       "      <td>NaN</td>\n",
       "    </tr>\n",
       "    <tr>\n",
       "      <th>2014-03-11 00:00:00</th>\n",
       "      <td>45197.6</td>\n",
       "      <td>45343.976563</td>\n",
       "      <td>45424.033985</td>\n",
       "      <td>NaN</td>\n",
       "    </tr>\n",
       "    <tr>\n",
       "      <th>2014-03-12 00:00:00</th>\n",
       "      <td>45197.6</td>\n",
       "      <td>45371.423438</td>\n",
       "      <td>45440.045313</td>\n",
       "      <td>NaN</td>\n",
       "    </tr>\n",
       "    <tr>\n",
       "      <th>2014-03-13 00:00:00</th>\n",
       "      <td>45197.6</td>\n",
       "      <td>45343.975000</td>\n",
       "      <td>45440.045313</td>\n",
       "      <td>NaN</td>\n",
       "    </tr>\n",
       "    <tr>\n",
       "      <th>2014-03-14 00:00:00</th>\n",
       "      <td>45517.8</td>\n",
       "      <td>45261.632032</td>\n",
       "      <td>45446.907422</td>\n",
       "      <td>NaN</td>\n",
       "    </tr>\n",
       "    <tr>\n",
       "      <th>2014-03-17 00:00:00</th>\n",
       "      <td>45517.8</td>\n",
       "      <td>45325.678125</td>\n",
       "      <td>45442.332813</td>\n",
       "      <td>NaN</td>\n",
       "    </tr>\n",
       "    <tr>\n",
       "      <th>2014-03-18 00:00:00</th>\n",
       "      <td>45472.1</td>\n",
       "      <td>45380.575000</td>\n",
       "      <td>45433.183594</td>\n",
       "      <td>NaN</td>\n",
       "    </tr>\n",
       "    <tr>\n",
       "      <th>2014-03-19 00:00:00</th>\n",
       "      <td>44968.9</td>\n",
       "      <td>45334.828906</td>\n",
       "      <td>45403.448242</td>\n",
       "      <td>NaN</td>\n",
       "    </tr>\n",
       "    <tr>\n",
       "      <th>2014-03-20 00:00:00</th>\n",
       "      <td>43184.7</td>\n",
       "      <td>44932.260156</td>\n",
       "      <td>45277.645313</td>\n",
       "      <td>NaN</td>\n",
       "    </tr>\n",
       "    <tr>\n",
       "      <th>2014-03-21 00:00:00</th>\n",
       "      <td>43093.2</td>\n",
       "      <td>44447.346875</td>\n",
       "      <td>45135.831250</td>\n",
       "      <td>NaN</td>\n",
       "    </tr>\n",
       "    <tr>\n",
       "      <th>2014-03-24 00:00:00</th>\n",
       "      <td>43230.5</td>\n",
       "      <td>43989.881250</td>\n",
       "      <td>45005.453516</td>\n",
       "      <td>NaN</td>\n",
       "    </tr>\n",
       "    <tr>\n",
       "      <th>2014-03-25 00:00:00</th>\n",
       "      <td>44053.9</td>\n",
       "      <td>43706.252344</td>\n",
       "      <td>44916.247656</td>\n",
       "      <td>NaN</td>\n",
       "    </tr>\n",
       "    <tr>\n",
       "      <th>2014-03-26 00:00:00</th>\n",
       "      <td>43916.7</td>\n",
       "      <td>43495.818750</td>\n",
       "      <td>44820.179883</td>\n",
       "      <td>NaN</td>\n",
       "    </tr>\n",
       "    <tr>\n",
       "      <th>2014-03-27 00:00:00</th>\n",
       "      <td>43367.7</td>\n",
       "      <td>43532.415625</td>\n",
       "      <td>44721.824805</td>\n",
       "      <td>NaN</td>\n",
       "    </tr>\n",
       "    <tr>\n",
       "      <th>2014-03-28 00:00:00</th>\n",
       "      <td>43916.7</td>\n",
       "      <td>43697.103125</td>\n",
       "      <td>44650.917774</td>\n",
       "      <td>46345.064779</td>\n",
       "    </tr>\n",
       "  </tbody>\n",
       "</table>\n",
       "</div>"
      ],
      "text/plain": [
       "                    Adj Close           ma5          ma20          ma60\n",
       "Date                                                                   \n",
       "2014-01-02 00:00:00   51602.1           NaN           NaN           NaN\n",
       "2014-01-03 00:00:00   50961.7           NaN           NaN           NaN\n",
       "2014-01-06 00:00:00   50778.7           NaN           NaN           NaN\n",
       "2014-01-07 00:00:00   50412.7           NaN           NaN           NaN\n",
       "2014-01-08 00:00:00   49680.8  50687.174219           NaN           NaN\n",
       "2014-01-09 00:00:00   48765.8  50119.917188           NaN           NaN\n",
       "2014-01-10 00:00:00   48765.8  49680.750000           NaN           NaN\n",
       "2014-01-13 00:00:00   48857.3  49296.479688           NaN           NaN\n",
       "2014-01-14 00:00:00   48491.3  48912.208594           NaN           NaN\n",
       "2014-01-15 00:00:00   48491.3  48674.326563           NaN           NaN\n",
       "2014-01-16 00:00:00   48491.3  48619.430469           NaN           NaN\n",
       "2014-01-17 00:00:00   48491.3  48564.534375           NaN           NaN\n",
       "2014-01-20 00:00:00   48491.3  48491.339844           NaN           NaN\n",
       "2014-01-21 00:00:00   48857.3  48564.534375           NaN           NaN\n",
       "2014-01-22 00:00:00   48857.3  48637.728906           NaN           NaN\n",
       "2014-01-23 00:00:00   48491.3  48637.728906           NaN           NaN\n",
       "2014-01-24 00:00:00   48582.8  48656.028125           NaN           NaN\n",
       "2014-01-27 00:00:00   47759.4  48509.639063           NaN           NaN\n",
       "2014-01-28 00:00:00   47484.9  48235.160156           NaN           NaN\n",
       "2014-01-29 00:00:00     46936  47850.889063  48962.529688           NaN\n",
       "2014-02-03 00:00:00   46478.5  47448.319531  48706.349024           NaN\n",
       "2014-02-04 00:00:00   45746.5  46881.061719  48445.593555           NaN\n",
       "2014-02-05 00:00:00   45563.6  46441.895313  48184.838477           NaN\n",
       "2014-02-06 00:00:00   45655.1  46075.922656  47946.956446           NaN\n",
       "2014-02-07 00:00:00   43825.2  45453.769531  47654.178516           NaN\n",
       "2014-02-10 00:00:00   44236.9  45005.453125  47427.733008           NaN\n",
       "2014-02-11 00:00:00   44831.6  44822.467188  47231.022852           NaN\n",
       "2014-02-12 00:00:00   44877.4  44685.226563  47032.025195           NaN\n",
       "2014-02-13 00:00:00   45197.6  44593.732813  46867.337500           NaN\n",
       "2014-02-14 00:00:00   45380.6  44904.809375  46711.799219           NaN\n",
       "2014-02-17 00:00:00   45609.3  45179.289063  46567.697656           NaN\n",
       "2014-02-18 00:00:00   45655.1  45343.976563  46425.883399           NaN\n",
       "2014-02-19 00:00:00   45563.6  45481.217188  46279.494531           NaN\n",
       "2014-02-20 00:00:00   45700.8  45581.860156  46121.668945           NaN\n",
       "2014-02-21 00:00:00   45929.5  45691.651563  45975.279883           NaN\n",
       "2014-02-24 00:00:00     45838  45737.398438  45842.615039           NaN\n",
       "2014-02-25 00:00:00     45838  45773.996094  45705.375391           NaN\n",
       "2014-02-26 00:00:00     45838  45828.892188  45609.307813           NaN\n",
       "2014-02-27 00:00:00   45334.8  45755.697656  45501.803320           NaN\n",
       "2014-02-28 00:00:00   45334.8  45636.757031  45421.746875           NaN\n",
       "2014-03-03 00:00:00   44968.9  45462.919531  45346.265039           NaN\n",
       "2014-03-04 00:00:00   44694.4  45234.186719  45293.656641           NaN\n",
       "2014-03-05 00:00:00   45060.4  45078.648438  45268.496094           NaN\n",
       "2014-03-06 00:00:00   45334.8  45078.648438  45252.484766           NaN\n",
       "2014-03-07 00:00:00   45929.5  45197.589063  45357.701758           NaN\n",
       "2014-03-10 00:00:00   45197.6  45243.335156  45405.735547           NaN\n",
       "2014-03-11 00:00:00   45197.6  45343.976563  45424.033985           NaN\n",
       "2014-03-12 00:00:00   45197.6  45371.423438  45440.045313           NaN\n",
       "2014-03-13 00:00:00   45197.6  45343.975000  45440.045313           NaN\n",
       "2014-03-14 00:00:00   45517.8  45261.632032  45446.907422           NaN\n",
       "2014-03-17 00:00:00   45517.8  45325.678125  45442.332813           NaN\n",
       "2014-03-18 00:00:00   45472.1  45380.575000  45433.183594           NaN\n",
       "2014-03-19 00:00:00   44968.9  45334.828906  45403.448242           NaN\n",
       "2014-03-20 00:00:00   43184.7  44932.260156  45277.645313           NaN\n",
       "2014-03-21 00:00:00   43093.2  44447.346875  45135.831250           NaN\n",
       "2014-03-24 00:00:00   43230.5  43989.881250  45005.453516           NaN\n",
       "2014-03-25 00:00:00   44053.9  43706.252344  44916.247656           NaN\n",
       "2014-03-26 00:00:00   43916.7  43495.818750  44820.179883           NaN\n",
       "2014-03-27 00:00:00   43367.7  43532.415625  44721.824805           NaN\n",
       "2014-03-28 00:00:00   43916.7  43697.103125  44650.917774  46345.064779"
      ]
     },
     "execution_count": 58,
     "metadata": {},
     "output_type": "execute_result"
    }
   ],
   "source": [
    "new_gs.head(60)"
   ]
  },
  {
   "cell_type": "code",
   "execution_count": 63,
   "metadata": {},
   "outputs": [
    {
     "data": {
      "text/plain": [
       "46345.064778816675"
      ]
     },
     "execution_count": 63,
     "metadata": {},
     "output_type": "execute_result"
    }
   ],
   "source": [
    "new_gs['Adj Close'][:60].mean()"
   ]
  },
  {
   "cell_type": "markdown",
   "metadata": {},
   "source": [
    "## 판다스 io는 사용하지 않는다."
   ]
  },
  {
   "cell_type": "code",
   "execution_count": 64,
   "metadata": {},
   "outputs": [
    {
     "ename": "ImportError",
     "evalue": "The pandas.io.data module is moved to a separate package (pandas-datareader). After installing the pandas-datareader package (https://github.com/pydata/pandas-datareader), you can change the import ``from pandas.io import data, wb`` to ``from pandas_datareader import data, wb``.",
     "output_type": "error",
     "traceback": [
      "\u001b[0;31m---------------------------------------------------------------------------\u001b[0m",
      "\u001b[0;31mImportError\u001b[0m                               Traceback (most recent call last)",
      "\u001b[0;32m<ipython-input-64-dde064640cba>\u001b[0m in \u001b[0;36m<module>\u001b[0;34m()\u001b[0m\n\u001b[0;32m----> 1\u001b[0;31m \u001b[0;32mfrom\u001b[0m \u001b[0mpandas\u001b[0m\u001b[0;34m.\u001b[0m\u001b[0mio\u001b[0m \u001b[0;32mimport\u001b[0m \u001b[0mdata\u001b[0m\u001b[0;34m,\u001b[0m \u001b[0mwb\u001b[0m \u001b[0;31m# becomes\u001b[0m\u001b[0;34m\u001b[0m\u001b[0m\n\u001b[0m\u001b[1;32m      2\u001b[0m \u001b[0;32mfrom\u001b[0m \u001b[0mpandas_datareader\u001b[0m \u001b[0;32mimport\u001b[0m \u001b[0mdata\u001b[0m\u001b[0;34m,\u001b[0m \u001b[0mwb\u001b[0m\u001b[0;34m\u001b[0m\u001b[0m\n",
      "\u001b[0;32m~/anaconda/lib/python3.6/site-packages/pandas/io/data.py\u001b[0m in \u001b[0;36m<module>\u001b[0;34m()\u001b[0m\n\u001b[1;32m      1\u001b[0m raise ImportError(\n\u001b[0;32m----> 2\u001b[0;31m     \u001b[0;34m\"The pandas.io.data module is moved to a separate package \"\u001b[0m\u001b[0;34m\u001b[0m\u001b[0m\n\u001b[0m\u001b[1;32m      3\u001b[0m     \u001b[0;34m\"(pandas-datareader). After installing the pandas-datareader package \"\u001b[0m\u001b[0;34m\u001b[0m\u001b[0m\n\u001b[1;32m      4\u001b[0m     \u001b[0;34m\"(https://github.com/pydata/pandas-datareader), you can change \"\u001b[0m\u001b[0;34m\u001b[0m\u001b[0m\n\u001b[1;32m      5\u001b[0m     \u001b[0;34m\"the import ``from pandas.io import data, wb`` to \"\u001b[0m\u001b[0;34m\u001b[0m\u001b[0m\n",
      "\u001b[0;31mImportError\u001b[0m: The pandas.io.data module is moved to a separate package (pandas-datareader). After installing the pandas-datareader package (https://github.com/pydata/pandas-datareader), you can change the import ``from pandas.io import data, wb`` to ``from pandas_datareader import data, wb``."
     ]
    }
   ],
   "source": [
    "from pandas.io import data, wb # becomes \n",
    "from pandas_datareader import data, wb"
   ]
  },
  {
   "cell_type": "code",
   "execution_count": 65,
   "metadata": {
    "collapsed": true
   },
   "outputs": [],
   "source": [
    "from pandas_datareader import data, wb"
   ]
  },
  {
   "cell_type": "code",
   "execution_count": 67,
   "metadata": {},
   "outputs": [
    {
     "data": {
      "text/plain": [
       "['DataReader',\n",
       " 'EdgarIndexReader',\n",
       " 'EnigmaReader',\n",
       " 'EurostatReader',\n",
       " 'FamaFrenchReader',\n",
       " 'FredReader',\n",
       " 'GoogleDailyReader',\n",
       " 'GoogleOptions',\n",
       " 'GoogleQuotesReader',\n",
       " 'OECDReader',\n",
       " 'Options',\n",
       " 'QuandlReader',\n",
       " 'YahooActionReader',\n",
       " 'YahooDailyReader',\n",
       " 'YahooDivReader',\n",
       " 'YahooOptions',\n",
       " 'YahooQuotesReader',\n",
       " '__builtins__',\n",
       " '__cached__',\n",
       " '__doc__',\n",
       " '__file__',\n",
       " '__loader__',\n",
       " '__name__',\n",
       " '__package__',\n",
       " '__spec__',\n",
       " 'get_components_yahoo',\n",
       " 'get_data_enigma',\n",
       " 'get_data_famafrench',\n",
       " 'get_data_fred',\n",
       " 'get_data_google',\n",
       " 'get_data_quandl',\n",
       " 'get_data_yahoo',\n",
       " 'get_data_yahoo_actions',\n",
       " 'get_nasdaq_symbols',\n",
       " 'get_quote_google',\n",
       " 'get_quote_yahoo',\n",
       " 'warnings']"
      ]
     },
     "execution_count": 67,
     "metadata": {},
     "output_type": "execute_result"
    }
   ],
   "source": [
    "dir(data)"
   ]
  },
  {
   "cell_type": "code",
   "execution_count": 68,
   "metadata": {},
   "outputs": [
    {
     "data": {
      "text/plain": [
       "['WorldBankReader',\n",
       " '_BaseReader',\n",
       " '__builtins__',\n",
       " '__cached__',\n",
       " '__doc__',\n",
       " '__file__',\n",
       " '__loader__',\n",
       " '__name__',\n",
       " '__package__',\n",
       " '__spec__',\n",
       " '_cached_series',\n",
       " 'country_codes',\n",
       " 'download',\n",
       " 'get_countries',\n",
       " 'get_indicators',\n",
       " 'lrange',\n",
       " 'np',\n",
       " 'pd',\n",
       " 'reduce',\n",
       " 'search',\n",
       " 'string_types',\n",
       " 'warnings']"
      ]
     },
     "execution_count": 68,
     "metadata": {},
     "output_type": "execute_result"
    }
   ],
   "source": [
    "dir(wb)"
   ]
  },
  {
   "cell_type": "code",
   "execution_count": 69,
   "metadata": {
    "collapsed": true
   },
   "outputs": [],
   "source": [
    "df = data.DataReader(\"KRX:KOSPI\", \"google\") "
   ]
  },
  {
   "cell_type": "code",
   "execution_count": null,
   "metadata": {
    "collapsed": true
   },
   "outputs": [],
   "source": []
  }
 ],
 "metadata": {
  "kernelspec": {
   "display_name": "Python 3",
   "language": "python",
   "name": "python3"
  },
  "language_info": {
   "codemirror_mode": {
    "name": "ipython",
    "version": 3
   },
   "file_extension": ".py",
   "mimetype": "text/x-python",
   "name": "python",
   "nbconvert_exporter": "python",
   "pygments_lexer": "ipython3",
   "version": "3.6.1"
  }
 },
 "nbformat": 4,
 "nbformat_minor": 2
}
