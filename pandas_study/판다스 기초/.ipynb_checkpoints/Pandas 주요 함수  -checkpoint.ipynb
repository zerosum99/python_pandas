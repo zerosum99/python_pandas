{
 "cells": [
  {
   "cell_type": "markdown",
   "metadata": {},
   "source": [
    "# 주요 함수 "
   ]
  },
  {
   "cell_type": "code",
   "execution_count": 2,
   "metadata": {},
   "outputs": [
    {
     "name": "stdout",
     "output_type": "stream",
     "text": [
      "Expr Term bdate_range concat crosstab cut date_range eval ewma ewmcorr ewmcov ewmstd ewmvar ewmvol expanding_apply expanding_corr expanding_count expanding_cov expanding_kurt expanding_max expanding_mean expanding_median expanding_min expanding_quantile expanding_skew expanding_std expanding_sum expanding_var factorize get_dummies get_store groupby infer_freq interval_range isnull lreshape match melt merge merge_asof merge_ordered notnull ordered_merge period_range pivot pivot_table pnow qcut read_clipboard read_csv read_excel read_feather read_fwf read_gbq read_hdf read_html read_json read_msgpack read_pickle read_sas read_sql read_sql_query read_sql_table read_stata read_table rolling_apply rolling_corr rolling_count rolling_cov rolling_kurt rolling_max rolling_mean rolling_median rolling_min rolling_quantile rolling_skew rolling_std rolling_sum rolling_var rolling_window scatter_matrix set_eng_float_format show_versions test timedelta_range to_datetime to_msgpack to_numeric to_pickle to_timedelta unique value_counts wide_to_long "
     ]
    }
   ],
   "source": [
    "import pandas as pd\n",
    "import numpy as np\n",
    "import types\n",
    "\n",
    "for i in dir(pd) :\n",
    "    if i.startswith(\"_\") :\n",
    "        continue\n",
    "    if type(pd.__dict__[i]) == types.FunctionType :\n",
    "        \n",
    "        print(i,end= ' ')\n",
    "        "
   ]
  },
  {
   "cell_type": "markdown",
   "metadata": {},
   "source": [
    "# 주요 메소드 처리\n",
    "\n"
   ]
  },
  {
   "cell_type": "code",
   "execution_count": 150,
   "metadata": {},
   "outputs": [
    {
     "name": "stdout",
     "output_type": "stream",
     "text": [
      "index compound rdiv unstack from_csv abs duplicated to_period iterkv take transpose reset_index ffill tz_convert mean kurt loc to_clipboard cummin nlargest describe min size last_valid_index axes update memory_usage squeeze values sum corr combine truncate astype first_valid_index reindex append idxmax items drop_duplicates hist tz_localize first to_hdf iteritems reindex_axis rolling add rtruediv pop rmul groupby swapaxes lt select shift shape reindex_like clip combine_first sortlevel kurtosis xs product skew sort sort_values set_axis radd bool get_ftype_counts as_blocks std rpow clip_upper sort_index iat is_copy sub add_prefix isin rename_axis sem align nsmallest replace mode diff to_xarray reorder_levels between_time get_values rsub bfill to_dense pow copy notnull dot round count cumprod dropna cummax floordiv empty to_timestamp head at cumsum ne ndim to_pickle rank expanding iloc mod irow le resample multiply get_value to_msgpack divide to_json to_string median clip_lower plot tail add_suffix keys pipe ewm rfloordiv filter prod pct_change rmod mul T any rename last as_matrix truediv iget_value dtypes var apply to_csv to_sparse drop set_value all equals to_dict consolidate quantile asfreq where mask at_time to_sql eq gt ix ftypes ge fillna cov blocks sample mad swaplevel tshift get_dtype_counts isnull subtract max div convert_objects slice_shift idxmin get interpolate "
     ]
    }
   ],
   "source": [
    "import types\n",
    "s = set(dir(pd.Series))\n",
    "d = set(dir(pd.DataFrame)) \n",
    "sd = s & d \n",
    "\n",
    "for i in sd :\n",
    "    if not i.startswith(\"_\") :\n",
    "        print(i, end = \" \")"
   ]
  },
  {
   "cell_type": "markdown",
   "metadata": {},
   "source": [
    "### copy 해서 변경하기\n",
    "\n"
   ]
  },
  {
   "cell_type": "code",
   "execution_count": 274,
   "metadata": {},
   "outputs": [
    {
     "name": "stdout",
     "output_type": "stream",
     "text": [
      "    f   g   h   i\n",
      "a   0   1   2   3\n",
      "b   4   5   6   7\n",
      "c   8   9  10  11\n",
      "d  12  13  14  15\n",
      "    f   g   h   i\n",
      "a  99   1   2   3\n",
      "b  99   5   6   7\n",
      "c  99   9  10  11\n",
      "d  99  13  14  15\n"
     ]
    }
   ],
   "source": [
    "df11 = pd.DataFrame(np.arange(16).reshape(4,4), index=['a','b','c','d'],columns=['f','g','h','i'])\n",
    "print(df11)\n",
    "\n",
    "df_co = df11.copy()\n",
    "\n",
    "\n",
    "df_co['f'] = 99\n",
    "print(df_co)\n"
   ]
  },
  {
   "cell_type": "markdown",
   "metadata": {},
   "source": [
    "### rank 처리 \n",
    "\n",
    "    원소들에 대한 값에 대한 랭킹을 처리하는 메소드 "
   ]
  },
  {
   "cell_type": "code",
   "execution_count": 103,
   "metadata": {},
   "outputs": [
    {
     "name": "stdout",
     "output_type": "stream",
     "text": [
      "               A     B     C\n",
      "2000-01-01   3.0   3.0   7.0\n",
      "2000-01-02  10.0   8.0   6.0\n",
      "2000-01-03   5.0   7.0  10.0\n",
      "2000-01-04   4.0   9.0   2.0\n",
      "2000-01-05   6.0   5.0   4.0\n",
      "2000-01-06   2.0  10.0   3.0\n",
      "2000-01-07   9.0   2.0   5.0\n",
      "2000-01-08   1.0   6.0   1.0\n",
      "2000-01-09   8.0   4.0   8.0\n",
      "2000-01-10   7.0   1.0   9.0\n"
     ]
    }
   ],
   "source": [
    "df = pd.DataFrame(np.random.randn(10, 3), columns=['A', 'B', 'C'],\n",
    "     index=pd.date_range('1/1/2000', periods=10))\n",
    "\n",
    "print(df.rank())"
   ]
  },
  {
   "cell_type": "code",
   "execution_count": 106,
   "metadata": {},
   "outputs": [
    {
     "name": "stdout",
     "output_type": "stream",
     "text": [
      "0   -0.812202\n",
      "1   -0.969141\n",
      "2    1.167040\n",
      "3    1.699708\n",
      "4   -0.274448\n",
      "5   -1.145297\n",
      "6    0.051291\n",
      "7    2.391520\n",
      "8    2.155629\n",
      "9   -0.879643\n",
      "dtype: float64\n",
      "0     4.0\n",
      "1     2.0\n",
      "2     7.0\n",
      "3     8.0\n",
      "4     5.0\n",
      "5     1.0\n",
      "6     6.0\n",
      "7    10.0\n",
      "8     9.0\n",
      "9     3.0\n",
      "dtype: float64\n"
     ]
    }
   ],
   "source": [
    "ser = pd.Series(np.random.randn(10))\n",
    "print(ser)\n",
    "print(ser.rank())"
   ]
  },
  {
   "cell_type": "markdown",
   "metadata": {},
   "source": [
    "### 정렬 처리 \n",
    "\n"
   ]
  },
  {
   "cell_type": "code",
   "execution_count": 125,
   "metadata": {},
   "outputs": [
    {
     "name": "stdout",
     "output_type": "stream",
     "text": [
      "0    0.060567\n",
      "1    0.762475\n",
      "2   -0.486921\n",
      "3    1.212198\n",
      "4    0.820771\n",
      "5    0.608726\n",
      "6   -0.002529\n",
      "7    1.918500\n",
      "8    1.929536\n",
      "9    0.298806\n",
      "dtype: float64\n",
      "None\n",
      "2   -0.486921\n",
      "6   -0.002529\n",
      "0    0.060567\n",
      "9    0.298806\n",
      "5    0.608726\n",
      "1    0.762475\n",
      "4    0.820771\n",
      "3    1.212198\n",
      "7    1.918500\n",
      "8    1.929536\n",
      "dtype: float64\n"
     ]
    }
   ],
   "source": [
    "ser = pd.Series(np.random.randn(10))\n",
    "print(ser)\n",
    "print(ser.sort_values(inplace=True))\n",
    "print(ser)"
   ]
  },
  {
   "cell_type": "code",
   "execution_count": 126,
   "metadata": {},
   "outputs": [
    {
     "name": "stdout",
     "output_type": "stream",
     "text": [
      "2   -0.486921\n",
      "6   -0.002529\n",
      "0    0.060567\n",
      "9    0.298806\n",
      "5    0.608726\n",
      "1    0.762475\n",
      "4    0.820771\n",
      "3    1.212198\n",
      "7    1.918500\n",
      "8    1.929536\n",
      "dtype: float64\n",
      "0    0.060567\n",
      "1    0.762475\n",
      "2   -0.486921\n",
      "3    1.212198\n",
      "4    0.820771\n",
      "5    0.608726\n",
      "6   -0.002529\n",
      "7    1.918500\n",
      "8    1.929536\n",
      "9    0.298806\n",
      "dtype: float64\n"
     ]
    }
   ],
   "source": [
    "print(ser.sort_values())\n",
    "print(ser.sort_values().sort_index())"
   ]
  },
  {
   "cell_type": "code",
   "execution_count": 122,
   "metadata": {},
   "outputs": [
    {
     "name": "stdout",
     "output_type": "stream",
     "text": [
      "None\n"
     ]
    }
   ],
   "source": [
    "df1 = pd.DataFrame(np.random.randn(10, 3), columns=['A', 'B', 'C'],\n",
    "     index=pd.date_range('1/1/2000', periods=10))\n",
    "\n",
    "print(df1.sort_values(by=\"A\",ascending=False,inplace=True))"
   ]
  },
  {
   "cell_type": "code",
   "execution_count": 123,
   "metadata": {},
   "outputs": [
    {
     "name": "stdout",
     "output_type": "stream",
     "text": [
      "                   A         B         C\n",
      "2000-01-01  2.721728  1.924218  0.117119\n",
      "2000-01-06  1.688482 -0.134109 -2.244782\n",
      "2000-01-04  1.042141  0.666614 -1.612180\n",
      "2000-01-05  0.903802  0.136032 -2.389722\n",
      "2000-01-09  0.519410  0.258359 -0.349569\n",
      "2000-01-03  0.259110  1.271215 -1.343754\n",
      "2000-01-07 -0.381164  1.003865 -0.441253\n",
      "2000-01-10 -0.459808 -0.332008  0.792390\n",
      "2000-01-08 -1.333233 -2.473316 -0.717524\n",
      "2000-01-02 -1.795803 -0.705365 -0.302948\n"
     ]
    }
   ],
   "source": [
    "print(df1)"
   ]
  },
  {
   "cell_type": "markdown",
   "metadata": {},
   "source": [
    "## 누적값 구하기 \n"
   ]
  },
  {
   "cell_type": "markdown",
   "metadata": {},
   "source": [
    "### 사칙연산 \n"
   ]
  },
  {
   "cell_type": "code",
   "execution_count": 154,
   "metadata": {},
   "outputs": [
    {
     "name": "stdout",
     "output_type": "stream",
     "text": [
      "   A  B  C\n",
      "0  0  1  2\n",
      "1  3  4  5\n",
      "2  6  7  8\n",
      "    A   B   C\n",
      "0   3   6   9\n",
      "1  12  15  18\n",
      "2  21  24  27\n"
     ]
    }
   ],
   "source": [
    "df1 = pd.DataFrame(np.arange(9).reshape(3,3), columns=['A', 'B', 'C'])\n",
    "df2 = pd.DataFrame(np.arange(1,10).reshape(3,3) *3, columns=['A', 'B', 'C'])\n",
    "print(df1)\n",
    "print(df2)"
   ]
  },
  {
   "cell_type": "code",
   "execution_count": 166,
   "metadata": {},
   "outputs": [
    {
     "name": "stdout",
     "output_type": "stream",
     "text": [
      "    A   B   C\n",
      "0   3   7  11\n",
      "1  15  19  23\n",
      "2  27  31  35\n",
      "    A   B   C\n",
      "0  -3  -5  -7\n",
      "1  -9 -11 -13\n",
      "2 -15 -17 -19\n",
      "    A   B   C\n",
      "0   3   7  11\n",
      "1  15  19  23\n",
      "2  27  31  35\n",
      "    A   B   C\n",
      "0   3   5   7\n",
      "1   9  11  13\n",
      "2  15  17  19\n",
      "    A   B   C\n",
      "0  -3  -5  -7\n",
      "1  -9 -11 -13\n",
      "2 -15 -17 -19\n"
     ]
    }
   ],
   "source": [
    "print(df1.add(df2))\n",
    "print(df1.sub(df2))\n",
    "print(df1.radd(df2))\n",
    "print(df1.rsub(df2))\n",
    "print(df1.subtract(df2))"
   ]
  },
  {
   "cell_type": "code",
   "execution_count": 156,
   "metadata": {},
   "outputs": [
    {
     "name": "stdout",
     "output_type": "stream",
     "text": [
      "          A         B         C\n",
      "0  0.000000  0.166667  0.222222\n",
      "1  0.250000  0.266667  0.277778\n",
      "2  0.285714  0.291667  0.296296\n",
      "          A         B         C\n",
      "0  0.000000  0.166667  0.222222\n",
      "1  0.250000  0.266667  0.277778\n",
      "2  0.285714  0.291667  0.296296\n",
      "   A  B  C\n",
      "0  0  0  0\n",
      "1  0  0  0\n",
      "2  0  0  0\n",
      "          A         B         C\n",
      "0  0.000000  0.166667  0.222222\n",
      "1  0.250000  0.266667  0.277778\n",
      "2  0.285714  0.291667  0.296296\n"
     ]
    }
   ],
   "source": [
    "print(df1.divide(df2))\n",
    "print(df1.truediv(df2))\n",
    "print(df1.floordiv(df2))\n",
    "print(df1.div(df2))"
   ]
  },
  {
   "cell_type": "code",
   "execution_count": 159,
   "metadata": {},
   "outputs": [
    {
     "name": "stdout",
     "output_type": "stream",
     "text": [
      "     A    B    C\n",
      "0    0    6   18\n",
      "1   36   60   90\n",
      "2  126  168  216\n",
      "     A    B    C\n",
      "0    0    6   18\n",
      "1   36   60   90\n",
      "2  126  168  216\n",
      "     A    B    C\n",
      "0    0    6   18\n",
      "1   36   60   90\n",
      "2  126  168  216\n",
      "   A  B  C\n",
      "0  0  1  2\n",
      "1  3  4  5\n",
      "2  6  7  8\n"
     ]
    }
   ],
   "source": [
    "print(df1.mul(df2))\n",
    "print(df1.rmul(df2))\n",
    "print(df1.multiply(df2))\n",
    "print(df1.mod(df2))"
   ]
  },
  {
   "cell_type": "code",
   "execution_count": 171,
   "metadata": {},
   "outputs": [
    {
     "name": "stdout",
     "output_type": "stream",
     "text": [
      "            A           B          C\n",
      "0           0           1        512\n",
      "1      531441  1073741824  766306777\n",
      "2  1449132032  1452577857          0\n",
      "          A          B           C\n",
      "0         1          6          81\n",
      "1      1728      50625     1889568\n",
      "2  85766121  291504128 -1038305055\n"
     ]
    }
   ],
   "source": [
    "print(df1.pow(df2))\n",
    "print(df1.rpow(df2))"
   ]
  },
  {
   "cell_type": "markdown",
   "metadata": {},
   "source": [
    "### 비교연산 \n"
   ]
  },
  {
   "cell_type": "code",
   "execution_count": 169,
   "metadata": {},
   "outputs": [
    {
     "name": "stdout",
     "output_type": "stream",
     "text": [
      "      A     B     C\n",
      "0  True  True  True\n",
      "1  True  True  True\n",
      "2  True  True  True\n",
      "      A     B     C\n",
      "0  True  True  True\n",
      "1  True  True  True\n",
      "2  True  True  True\n"
     ]
    }
   ],
   "source": [
    "print(df1.le(df2))\n",
    "print(df1.ne(df2))"
   ]
  },
  {
   "cell_type": "code",
   "execution_count": 168,
   "metadata": {},
   "outputs": [
    {
     "name": "stdout",
     "output_type": "stream",
     "text": [
      "       A      B      C\n",
      "0  False  False  False\n",
      "1  False  False  False\n",
      "2  False  False  False\n",
      "False\n"
     ]
    }
   ],
   "source": [
    "print(df1.eq(df2))\n",
    "print(df1.equals(df2))"
   ]
  },
  {
   "cell_type": "code",
   "execution_count": 163,
   "metadata": {},
   "outputs": [
    {
     "name": "stdout",
     "output_type": "stream",
     "text": [
      "       A      B      C\n",
      "0  False  False  False\n",
      "1  False  False  False\n",
      "2  False  False  False\n"
     ]
    }
   ],
   "source": [
    "print(df1.ge(df2))"
   ]
  },
  {
   "cell_type": "code",
   "execution_count": 164,
   "metadata": {},
   "outputs": [
    {
     "name": "stdout",
     "output_type": "stream",
     "text": [
      "      A     B     C\n",
      "0  True  True  True\n",
      "1  True  True  True\n",
      "2  True  True  True\n"
     ]
    }
   ],
   "source": [
    "print(df1.lt(df2))"
   ]
  },
  {
   "cell_type": "code",
   "execution_count": 165,
   "metadata": {},
   "outputs": [
    {
     "name": "stdout",
     "output_type": "stream",
     "text": [
      "       A      B      C\n",
      "0  False  False  False\n",
      "1  False  False  False\n",
      "2  False  False  False\n"
     ]
    }
   ],
   "source": [
    "print(df1.gt(df2))"
   ]
  },
  {
   "cell_type": "markdown",
   "metadata": {},
   "source": [
    "### 조건별로 처리하기 "
   ]
  },
  {
   "cell_type": "code",
   "execution_count": 189,
   "metadata": {},
   "outputs": [
    {
     "data": {
      "text/html": [
       "<div>\n",
       "<table border=\"1\" class=\"dataframe\">\n",
       "  <thead>\n",
       "    <tr style=\"text-align: right;\">\n",
       "      <th></th>\n",
       "      <th>A</th>\n",
       "      <th>B</th>\n",
       "      <th>C</th>\n",
       "    </tr>\n",
       "  </thead>\n",
       "  <tbody>\n",
       "    <tr>\n",
       "      <th>0</th>\n",
       "      <td>0</td>\n",
       "      <td>1</td>\n",
       "      <td>2</td>\n",
       "    </tr>\n",
       "  </tbody>\n",
       "</table>\n",
       "</div>"
      ],
      "text/plain": [
       "   A  B  C\n",
       "0  0  1  2"
      ]
     },
     "execution_count": 189,
     "metadata": {},
     "output_type": "execute_result"
    }
   ],
   "source": [
    "df1.take([0],axis=0)"
   ]
  },
  {
   "cell_type": "code",
   "execution_count": 191,
   "metadata": {},
   "outputs": [
    {
     "name": "stdout",
     "output_type": "stream",
     "text": [
      "Help on method select in module pandas.core.generic:\n",
      "\n",
      "select(crit, axis=0) method of pandas.core.frame.DataFrame instance\n",
      "    Return data corresponding to axis labels matching criteria\n",
      "    \n",
      "    Parameters\n",
      "    ----------\n",
      "    crit : function\n",
      "        To be called on each index (label). Should return True or False\n",
      "    axis : int\n",
      "    \n",
      "    Returns\n",
      "    -------\n",
      "    selection : type of caller\n",
      "\n"
     ]
    }
   ],
   "source": [
    "help(df1.select)"
   ]
  },
  {
   "cell_type": "code",
   "execution_count": 193,
   "metadata": {},
   "outputs": [
    {
     "data": {
      "text/html": [
       "<div>\n",
       "<table border=\"1\" class=\"dataframe\">\n",
       "  <thead>\n",
       "    <tr style=\"text-align: right;\">\n",
       "      <th></th>\n",
       "      <th>A</th>\n",
       "      <th>B</th>\n",
       "      <th>C</th>\n",
       "    </tr>\n",
       "  </thead>\n",
       "  <tbody>\n",
       "    <tr>\n",
       "      <th>0</th>\n",
       "      <td>0</td>\n",
       "      <td>1</td>\n",
       "      <td>2</td>\n",
       "    </tr>\n",
       "  </tbody>\n",
       "</table>\n",
       "</div>"
      ],
      "text/plain": [
       "   A  B  C\n",
       "0  0  1  2"
      ]
     },
     "execution_count": 193,
     "metadata": {},
     "output_type": "execute_result"
    }
   ],
   "source": [
    "df1.select(lambda x: x <1,axis=0)"
   ]
  },
  {
   "cell_type": "code",
   "execution_count": 195,
   "metadata": {},
   "outputs": [
    {
     "name": "stdout",
     "output_type": "stream",
     "text": [
      "Help on method where in module pandas.core.generic:\n",
      "\n",
      "where(cond, other=nan, inplace=False, axis=None, level=None, try_cast=False, raise_on_error=True) method of pandas.core.frame.DataFrame instance\n",
      "    Return an object of same shape as self and whose corresponding\n",
      "    entries are from self where cond is True and otherwise are from\n",
      "    other.\n",
      "    \n",
      "    Parameters\n",
      "    ----------\n",
      "    cond : boolean NDFrame, array or callable\n",
      "        If cond is callable, it is computed on the NDFrame and\n",
      "        should return boolean NDFrame or array.\n",
      "        The callable must not change input NDFrame\n",
      "        (though pandas doesn't check it).\n",
      "    \n",
      "        .. versionadded:: 0.18.1\n",
      "    \n",
      "        A callable can be used as cond.\n",
      "    \n",
      "    other : scalar, NDFrame, or callable\n",
      "        If other is callable, it is computed on the NDFrame and\n",
      "        should return scalar or NDFrame.\n",
      "        The callable must not change input NDFrame\n",
      "        (though pandas doesn't check it).\n",
      "    \n",
      "        .. versionadded:: 0.18.1\n",
      "    \n",
      "        A callable can be used as other.\n",
      "    \n",
      "    inplace : boolean, default False\n",
      "        Whether to perform the operation in place on the data\n",
      "    axis : alignment axis if needed, default None\n",
      "    level : alignment level if needed, default None\n",
      "    try_cast : boolean, default False\n",
      "        try to cast the result back to the input type (if possible),\n",
      "    raise_on_error : boolean, default True\n",
      "        Whether to raise on invalid data types (e.g. trying to where on\n",
      "        strings)\n",
      "    \n",
      "    Returns\n",
      "    -------\n",
      "    wh : same type as caller\n",
      "\n"
     ]
    }
   ],
   "source": [
    "help(df1.where)"
   ]
  },
  {
   "cell_type": "code",
   "execution_count": 194,
   "metadata": {},
   "outputs": [
    {
     "data": {
      "text/html": [
       "<div>\n",
       "<table border=\"1\" class=\"dataframe\">\n",
       "  <thead>\n",
       "    <tr style=\"text-align: right;\">\n",
       "      <th></th>\n",
       "      <th>A</th>\n",
       "      <th>B</th>\n",
       "      <th>C</th>\n",
       "    </tr>\n",
       "  </thead>\n",
       "  <tbody>\n",
       "    <tr>\n",
       "      <th>0</th>\n",
       "      <td>0.0</td>\n",
       "      <td>NaN</td>\n",
       "      <td>NaN</td>\n",
       "    </tr>\n",
       "    <tr>\n",
       "      <th>1</th>\n",
       "      <td>NaN</td>\n",
       "      <td>NaN</td>\n",
       "      <td>NaN</td>\n",
       "    </tr>\n",
       "    <tr>\n",
       "      <th>2</th>\n",
       "      <td>NaN</td>\n",
       "      <td>NaN</td>\n",
       "      <td>NaN</td>\n",
       "    </tr>\n",
       "  </tbody>\n",
       "</table>\n",
       "</div>"
      ],
      "text/plain": [
       "     A   B   C\n",
       "0  0.0 NaN NaN\n",
       "1  NaN NaN NaN\n",
       "2  NaN NaN NaN"
      ]
     },
     "execution_count": 194,
     "metadata": {},
     "output_type": "execute_result"
    }
   ],
   "source": [
    "df1.where(lambda x: x <1,axis=0)"
   ]
  },
  {
   "cell_type": "markdown",
   "metadata": {},
   "source": [
    "### 다른 형태로 변환하기\n"
   ]
  },
  {
   "cell_type": "code",
   "execution_count": 173,
   "metadata": {},
   "outputs": [
    {
     "data": {
      "text/plain": [
       "'{\"A\":{\"0\":0,\"1\":3,\"2\":6},\"B\":{\"0\":1,\"1\":4,\"2\":7},\"C\":{\"0\":2,\"1\":5,\"2\":8}}'"
      ]
     },
     "execution_count": 173,
     "metadata": {},
     "output_type": "execute_result"
    }
   ],
   "source": [
    "df1.to_json()"
   ]
  },
  {
   "cell_type": "code",
   "execution_count": 241,
   "metadata": {},
   "outputs": [
    {
     "data": {
      "text/plain": [
       "array([[0, 1, 2],\n",
       "       [3, 4, 5],\n",
       "       [6, 7, 8]])"
      ]
     },
     "execution_count": 241,
     "metadata": {},
     "output_type": "execute_result"
    }
   ],
   "source": [
    "df1.as_matrix()"
   ]
  },
  {
   "cell_type": "code",
   "execution_count": 275,
   "metadata": {},
   "outputs": [
    {
     "data": {
      "text/plain": [
       "{'int32':    A  B  C\n",
       " 0  0  1  2\n",
       " 1  3  4  5\n",
       " 2  6  7  8}"
      ]
     },
     "execution_count": 275,
     "metadata": {},
     "output_type": "execute_result"
    }
   ],
   "source": [
    "df1.as_blocks()"
   ]
  },
  {
   "cell_type": "code",
   "execution_count": 184,
   "metadata": {},
   "outputs": [
    {
     "name": "stdout",
     "output_type": "stream",
     "text": [
      "{'A': {0: 0, 1: 3, 2: 6}, 'C': {0: 2, 1: 5, 2: 8}, 'B': {0: 1, 1: 4, 2: 7}}\n",
      "   A  B  C\n",
      "0  0  1  2\n",
      "1  3  4  5\n",
      "2  6  7  8\n"
     ]
    }
   ],
   "source": [
    "d = df1.to_dict()\n",
    "print(d)\n",
    "print(df1.from_dict(d))\n"
   ]
  },
  {
   "cell_type": "code",
   "execution_count": 182,
   "metadata": {},
   "outputs": [
    {
     "name": "stdout",
     "output_type": "stream",
     "text": [
      "   A  B  C\n",
      "0  0  1  2\n",
      "1  3  4  5\n",
      "2  6  7  8\n"
     ]
    }
   ],
   "source": [
    "df1.to_csv(\"data.csv\")\n",
    "print(df1.from_csv(\"data.csv\"))"
   ]
  },
  {
   "cell_type": "code",
   "execution_count": 177,
   "metadata": {},
   "outputs": [
    {
     "data": {
      "text/plain": [
       "'   A  B  C\\n0  0  1  2\\n1  3  4  5\\n2  6  7  8'"
      ]
     },
     "execution_count": 177,
     "metadata": {},
     "output_type": "execute_result"
    }
   ],
   "source": [
    "df1.to_string()"
   ]
  },
  {
   "cell_type": "code",
   "execution_count": 178,
   "metadata": {},
   "outputs": [
    {
     "data": {
      "text/plain": [
       "'<table border=\"1\" class=\"dataframe\">\\n  <thead>\\n    <tr style=\"text-align: right;\">\\n      <th></th>\\n      <th>A</th>\\n      <th>B</th>\\n      <th>C</th>\\n    </tr>\\n  </thead>\\n  <tbody>\\n    <tr>\\n      <th>0</th>\\n      <td>0</td>\\n      <td>1</td>\\n      <td>2</td>\\n    </tr>\\n    <tr>\\n      <th>1</th>\\n      <td>3</td>\\n      <td>4</td>\\n      <td>5</td>\\n    </tr>\\n    <tr>\\n      <th>2</th>\\n      <td>6</td>\\n      <td>7</td>\\n      <td>8</td>\\n    </tr>\\n  </tbody>\\n</table>'"
      ]
     },
     "execution_count": 178,
     "metadata": {},
     "output_type": "execute_result"
    }
   ],
   "source": [
    "df1.to_html()"
   ]
  },
  {
   "cell_type": "code",
   "execution_count": 180,
   "metadata": {
    "collapsed": true
   },
   "outputs": [],
   "source": [
    "df1.to_pickle(\"data.pkl\")"
   ]
  },
  {
   "cell_type": "markdown",
   "metadata": {},
   "source": [
    "### 특정 날짜 인덱스의 일부를 조회하기\n"
   ]
  },
  {
   "cell_type": "code",
   "execution_count": 238,
   "metadata": {},
   "outputs": [
    {
     "name": "stdout",
     "output_type": "stream",
     "text": [
      "Help on method first in module pandas.core.generic:\n",
      "\n",
      "first(offset) method of pandas.core.frame.DataFrame instance\n",
      "    Convenience method for subsetting initial periods of time series data\n",
      "    based on a date offset.\n",
      "    \n",
      "    Parameters\n",
      "    ----------\n",
      "    offset : string, DateOffset, dateutil.relativedelta\n",
      "    \n",
      "    Examples\n",
      "    --------\n",
      "    ts.first('10D') -> First 10 days\n",
      "    \n",
      "    Returns\n",
      "    -------\n",
      "    subset : type of caller\n",
      "\n"
     ]
    }
   ],
   "source": [
    "help(dfa1.first)"
   ]
  },
  {
   "cell_type": "code",
   "execution_count": 239,
   "metadata": {},
   "outputs": [
    {
     "data": {
      "text/html": [
       "<div>\n",
       "<table border=\"1\" class=\"dataframe\">\n",
       "  <thead>\n",
       "    <tr style=\"text-align: right;\">\n",
       "      <th></th>\n",
       "      <th>A</th>\n",
       "      <th>B</th>\n",
       "      <th>C</th>\n",
       "    </tr>\n",
       "  </thead>\n",
       "  <tbody>\n",
       "    <tr>\n",
       "      <th>2000-01-01</th>\n",
       "      <td>0.193022</td>\n",
       "      <td>2.150309</td>\n",
       "      <td>0.326392</td>\n",
       "    </tr>\n",
       "    <tr>\n",
       "      <th>2000-01-02</th>\n",
       "      <td>0.557821</td>\n",
       "      <td>0.289315</td>\n",
       "      <td>0.645696</td>\n",
       "    </tr>\n",
       "    <tr>\n",
       "      <th>2000-01-03</th>\n",
       "      <td>-0.362893</td>\n",
       "      <td>-0.414961</td>\n",
       "      <td>0.605459</td>\n",
       "    </tr>\n",
       "  </tbody>\n",
       "</table>\n",
       "</div>"
      ],
      "text/plain": [
       "                   A         B         C\n",
       "2000-01-01  0.193022  2.150309  0.326392\n",
       "2000-01-02  0.557821  0.289315  0.645696\n",
       "2000-01-03 -0.362893 -0.414961  0.605459"
      ]
     },
     "execution_count": 239,
     "metadata": {},
     "output_type": "execute_result"
    }
   ],
   "source": [
    "dfa1 = pd.DataFrame(np.random.randn(10, 3), columns=['A', 'B', 'C'],\n",
    "     index=pd.date_range('1/1/2000',periods=10))\n",
    "dfa1.first('3D')"
   ]
  },
  {
   "cell_type": "code",
   "execution_count": 240,
   "metadata": {},
   "outputs": [
    {
     "data": {
      "text/html": [
       "<div>\n",
       "<table border=\"1\" class=\"dataframe\">\n",
       "  <thead>\n",
       "    <tr style=\"text-align: right;\">\n",
       "      <th></th>\n",
       "      <th>A</th>\n",
       "      <th>B</th>\n",
       "      <th>C</th>\n",
       "    </tr>\n",
       "  </thead>\n",
       "  <tbody>\n",
       "    <tr>\n",
       "      <th>2000-01-08</th>\n",
       "      <td>0.091322</td>\n",
       "      <td>1.873662</td>\n",
       "      <td>-0.233480</td>\n",
       "    </tr>\n",
       "    <tr>\n",
       "      <th>2000-01-09</th>\n",
       "      <td>0.100331</td>\n",
       "      <td>1.518379</td>\n",
       "      <td>-1.452594</td>\n",
       "    </tr>\n",
       "    <tr>\n",
       "      <th>2000-01-10</th>\n",
       "      <td>-1.155062</td>\n",
       "      <td>0.691866</td>\n",
       "      <td>-1.448892</td>\n",
       "    </tr>\n",
       "  </tbody>\n",
       "</table>\n",
       "</div>"
      ],
      "text/plain": [
       "                   A         B         C\n",
       "2000-01-08  0.091322  1.873662 -0.233480\n",
       "2000-01-09  0.100331  1.518379 -1.452594\n",
       "2000-01-10 -1.155062  0.691866 -1.448892"
      ]
     },
     "execution_count": 240,
     "metadata": {},
     "output_type": "execute_result"
    }
   ],
   "source": [
    "dfa1.last('3D')"
   ]
  },
  {
   "cell_type": "markdown",
   "metadata": {},
   "source": [
    "### 특정 컬럼에 큰 값이나 작은 값을 조회\n",
    "\n"
   ]
  },
  {
   "cell_type": "code",
   "execution_count": 248,
   "metadata": {},
   "outputs": [
    {
     "data": {
      "text/html": [
       "<div>\n",
       "<table border=\"1\" class=\"dataframe\">\n",
       "  <thead>\n",
       "    <tr style=\"text-align: right;\">\n",
       "      <th></th>\n",
       "      <th>A</th>\n",
       "      <th>B</th>\n",
       "      <th>C</th>\n",
       "    </tr>\n",
       "  </thead>\n",
       "  <tbody>\n",
       "    <tr>\n",
       "      <th>2000-01-05</th>\n",
       "      <td>1.111170</td>\n",
       "      <td>0.938332</td>\n",
       "      <td>-0.104852</td>\n",
       "    </tr>\n",
       "    <tr>\n",
       "      <th>2000-01-02</th>\n",
       "      <td>0.557821</td>\n",
       "      <td>0.289315</td>\n",
       "      <td>0.645696</td>\n",
       "    </tr>\n",
       "    <tr>\n",
       "      <th>2000-01-06</th>\n",
       "      <td>0.484249</td>\n",
       "      <td>0.556453</td>\n",
       "      <td>0.006105</td>\n",
       "    </tr>\n",
       "  </tbody>\n",
       "</table>\n",
       "</div>"
      ],
      "text/plain": [
       "                   A         B         C\n",
       "2000-01-05  1.111170  0.938332 -0.104852\n",
       "2000-01-02  0.557821  0.289315  0.645696\n",
       "2000-01-06  0.484249  0.556453  0.006105"
      ]
     },
     "execution_count": 248,
     "metadata": {},
     "output_type": "execute_result"
    }
   ],
   "source": [
    "dfa1.nlargest(3,columns='A')"
   ]
  },
  {
   "cell_type": "code",
   "execution_count": 249,
   "metadata": {},
   "outputs": [
    {
     "data": {
      "text/html": [
       "<div>\n",
       "<table border=\"1\" class=\"dataframe\">\n",
       "  <thead>\n",
       "    <tr style=\"text-align: right;\">\n",
       "      <th></th>\n",
       "      <th>A</th>\n",
       "      <th>B</th>\n",
       "      <th>C</th>\n",
       "    </tr>\n",
       "  </thead>\n",
       "  <tbody>\n",
       "    <tr>\n",
       "      <th>2000-01-10</th>\n",
       "      <td>-1.155062</td>\n",
       "      <td>0.691866</td>\n",
       "      <td>-1.448892</td>\n",
       "    </tr>\n",
       "    <tr>\n",
       "      <th>2000-01-04</th>\n",
       "      <td>-0.462389</td>\n",
       "      <td>0.288112</td>\n",
       "      <td>0.023539</td>\n",
       "    </tr>\n",
       "    <tr>\n",
       "      <th>2000-01-07</th>\n",
       "      <td>-0.371468</td>\n",
       "      <td>2.196942</td>\n",
       "      <td>1.402377</td>\n",
       "    </tr>\n",
       "  </tbody>\n",
       "</table>\n",
       "</div>"
      ],
      "text/plain": [
       "                   A         B         C\n",
       "2000-01-10 -1.155062  0.691866 -1.448892\n",
       "2000-01-04 -0.462389  0.288112  0.023539\n",
       "2000-01-07 -0.371468  2.196942  1.402377"
      ]
     },
     "execution_count": 249,
     "metadata": {},
     "output_type": "execute_result"
    }
   ],
   "source": [
    "dfa1.nsmallest(3,columns='A')"
   ]
  },
  {
   "cell_type": "markdown",
   "metadata": {},
   "source": [
    "### datatime index 변환하기\n"
   ]
  },
  {
   "cell_type": "code",
   "execution_count": 200,
   "metadata": {},
   "outputs": [
    {
     "name": "stdout",
     "output_type": "stream",
     "text": [
      "Help on method to_period in module pandas.core.frame:\n",
      "\n",
      "to_period(freq=None, axis=0, copy=True) method of pandas.core.frame.DataFrame instance\n",
      "    Convert DataFrame from DatetimeIndex to PeriodIndex with desired\n",
      "    frequency (inferred from index if not passed)\n",
      "    \n",
      "    Parameters\n",
      "    ----------\n",
      "    freq : string, default\n",
      "    axis : {0 or 'index', 1 or 'columns'}, default 0\n",
      "        The axis to convert (the index by default)\n",
      "    copy : boolean, default True\n",
      "        If False then underlying input data is not copied\n",
      "    \n",
      "    Returns\n",
      "    -------\n",
      "    ts : TimeSeries with PeriodIndex\n",
      "\n"
     ]
    }
   ],
   "source": [
    "help(dfa1.to_period)"
   ]
  },
  {
   "cell_type": "code",
   "execution_count": 217,
   "metadata": {},
   "outputs": [
    {
     "name": "stdout",
     "output_type": "stream",
     "text": [
      "DatetimeIndex(['2000-01-01', '2000-01-02', '2000-01-03', '2000-01-04',\n",
      "               '2000-01-05', '2000-01-06', '2000-01-07', '2000-01-08',\n",
      "               '2000-01-09', '2000-01-10'],\n",
      "              dtype='datetime64[ns]', freq='D')\n",
      "PeriodIndex(['2000-01-01', '2000-01-02', '2000-01-03', '2000-01-04',\n",
      "             '2000-01-05', '2000-01-06', '2000-01-07', '2000-01-08',\n",
      "             '2000-01-09', '2000-01-10'],\n",
      "            dtype='int64', freq='D')\n",
      "DatetimeIndex(['2000-01-01', '2000-01-02', '2000-01-03', '2000-01-04',\n",
      "               '2000-01-05', '2000-01-06', '2000-01-07', '2000-01-08',\n",
      "               '2000-01-09', '2000-01-10'],\n",
      "              dtype='datetime64[ns]', freq='D')\n"
     ]
    }
   ],
   "source": [
    "dfa1 = pd.DataFrame(np.random.randn(10, 3), columns=['A', 'B', 'C'],\n",
    "     index=pd.date_range('1/1/2000',periods=10))\n",
    "print(dfa1.index)\n",
    "print(dfa1.to_period().index)\n",
    "\n",
    "print(dfa1.to_period().to_timestamp().index)"
   ]
  },
  {
   "cell_type": "markdown",
   "metadata": {},
   "source": [
    "###  반복자 처리 하기 \n",
    "\n"
   ]
  },
  {
   "cell_type": "code",
   "execution_count": 212,
   "metadata": {},
   "outputs": [
    {
     "name": "stdout",
     "output_type": "stream",
     "text": [
      "('A', 2000-01-01   -1.174204\n",
      "2000-01-02    1.112969\n",
      "2000-01-03    1.402323\n",
      "2000-01-04   -1.509344\n",
      "2000-01-05    1.070161\n",
      "2000-01-06    0.431090\n",
      "2000-01-07    1.247063\n",
      "2000-01-08    0.603113\n",
      "2000-01-09    1.986832\n",
      "2000-01-10   -1.204808\n",
      "Freq: D, Name: A, dtype: float64)\n",
      "('B', 2000-01-01    1.126097\n",
      "2000-01-02   -0.465048\n",
      "2000-01-03    0.539852\n",
      "2000-01-04   -0.120748\n",
      "2000-01-05    0.092564\n",
      "2000-01-06   -0.380590\n",
      "2000-01-07    0.032382\n",
      "2000-01-08    0.060806\n",
      "2000-01-09   -0.057642\n",
      "2000-01-10   -0.203952\n",
      "Freq: D, Name: B, dtype: float64)\n",
      "('C', 2000-01-01   -1.251036\n",
      "2000-01-02   -0.068990\n",
      "2000-01-03    1.577593\n",
      "2000-01-04    2.006353\n",
      "2000-01-05    0.218188\n",
      "2000-01-06   -0.341393\n",
      "2000-01-07    0.592830\n",
      "2000-01-08    0.898263\n",
      "2000-01-09    1.141988\n",
      "2000-01-10   -0.088157\n",
      "Freq: D, Name: C, dtype: float64)\n"
     ]
    }
   ],
   "source": [
    "dfa1 = pd.DataFrame(np.random.randn(10, 3), columns=['A', 'B', 'C'],\n",
    "     index=pd.date_range('1/1/2000',periods=10))\n",
    "\n",
    "for i in dfa1.iteritems() :\n",
    "    print(i)"
   ]
  },
  {
   "cell_type": "code",
   "execution_count": 213,
   "metadata": {},
   "outputs": [
    {
     "name": "stdout",
     "output_type": "stream",
     "text": [
      "(Timestamp('2000-01-01 00:00:00', offset='D'), A   -1.174204\n",
      "B    1.126097\n",
      "C   -1.251036\n",
      "Name: 2000-01-01 00:00:00, dtype: float64)\n",
      "(Timestamp('2000-01-02 00:00:00', offset='D'), A    1.112969\n",
      "B   -0.465048\n",
      "C   -0.068990\n",
      "Name: 2000-01-02 00:00:00, dtype: float64)\n",
      "(Timestamp('2000-01-03 00:00:00', offset='D'), A    1.402323\n",
      "B    0.539852\n",
      "C    1.577593\n",
      "Name: 2000-01-03 00:00:00, dtype: float64)\n",
      "(Timestamp('2000-01-04 00:00:00', offset='D'), A   -1.509344\n",
      "B   -0.120748\n",
      "C    2.006353\n",
      "Name: 2000-01-04 00:00:00, dtype: float64)\n",
      "(Timestamp('2000-01-05 00:00:00', offset='D'), A    1.070161\n",
      "B    0.092564\n",
      "C    0.218188\n",
      "Name: 2000-01-05 00:00:00, dtype: float64)\n",
      "(Timestamp('2000-01-06 00:00:00', offset='D'), A    0.431090\n",
      "B   -0.380590\n",
      "C   -0.341393\n",
      "Name: 2000-01-06 00:00:00, dtype: float64)\n",
      "(Timestamp('2000-01-07 00:00:00', offset='D'), A    1.247063\n",
      "B    0.032382\n",
      "C    0.592830\n",
      "Name: 2000-01-07 00:00:00, dtype: float64)\n",
      "(Timestamp('2000-01-08 00:00:00', offset='D'), A    0.603113\n",
      "B    0.060806\n",
      "C    0.898263\n",
      "Name: 2000-01-08 00:00:00, dtype: float64)\n",
      "(Timestamp('2000-01-09 00:00:00', offset='D'), A    1.986832\n",
      "B   -0.057642\n",
      "C    1.141988\n",
      "Name: 2000-01-09 00:00:00, dtype: float64)\n",
      "(Timestamp('2000-01-10 00:00:00', offset='D'), A   -1.204808\n",
      "B   -0.203952\n",
      "C   -0.088157\n",
      "Name: 2000-01-10 00:00:00, dtype: float64)\n"
     ]
    }
   ],
   "source": [
    "\n",
    "for i in dfa1.iterrows() :\n",
    "    print(i)"
   ]
  },
  {
   "cell_type": "code",
   "execution_count": 214,
   "metadata": {},
   "outputs": [
    {
     "name": "stdout",
     "output_type": "stream",
     "text": [
      "Pandas(Index=Timestamp('2000-01-01 00:00:00', offset='D'), A=-1.1742039393815158, B=1.1260968399441831, C=-1.2510356782385206)\n",
      "Pandas(Index=Timestamp('2000-01-02 00:00:00', offset='D'), A=1.1129694303436386, B=-0.46504751049942983, C=-0.068990033076514759)\n",
      "Pandas(Index=Timestamp('2000-01-03 00:00:00', offset='D'), A=1.4023234888100715, B=0.53985185262957203, C=1.5775933883851581)\n",
      "Pandas(Index=Timestamp('2000-01-04 00:00:00', offset='D'), A=-1.5093439531668416, B=-0.12074839258672755, C=2.0063533629515917)\n",
      "Pandas(Index=Timestamp('2000-01-05 00:00:00', offset='D'), A=1.0701606223659899, B=0.092563568217389425, C=0.21818849458141992)\n",
      "Pandas(Index=Timestamp('2000-01-06 00:00:00', offset='D'), A=0.43109022035531863, B=-0.38059004370028782, C=-0.34139283727645459)\n",
      "Pandas(Index=Timestamp('2000-01-07 00:00:00', offset='D'), A=1.2470627750629542, B=0.032382052375598262, C=0.59283027015763334)\n",
      "Pandas(Index=Timestamp('2000-01-08 00:00:00', offset='D'), A=0.60311265786583368, B=0.060806312772681455, C=0.8982632498877452)\n",
      "Pandas(Index=Timestamp('2000-01-09 00:00:00', offset='D'), A=1.9868323241911228, B=-0.057641975089419518, C=1.1419876022620827)\n",
      "Pandas(Index=Timestamp('2000-01-10 00:00:00', offset='D'), A=-1.2048084351162449, B=-0.20395172727089245, C=-0.088157072138872514)\n"
     ]
    }
   ],
   "source": [
    "for i in dfa1.itertuples() :\n",
    "    print(i)"
   ]
  },
  {
   "cell_type": "markdown",
   "metadata": {},
   "source": [
    "### shift 이동하기\n",
    "\n"
   ]
  },
  {
   "cell_type": "code",
   "execution_count": 227,
   "metadata": {},
   "outputs": [
    {
     "name": "stdout",
     "output_type": "stream",
     "text": [
      "Help on method shift in module pandas.core.frame:\n",
      "\n",
      "shift(periods=1, freq=None, axis=0) method of pandas.core.frame.DataFrame instance\n",
      "    Shift index by desired number of periods with an optional time freq\n",
      "    \n",
      "    Parameters\n",
      "    ----------\n",
      "    periods : int\n",
      "        Number of periods to move, can be positive or negative\n",
      "    freq : DateOffset, timedelta, or time rule string, optional\n",
      "        Increment to use from datetools module or time rule (e.g. 'EOM').\n",
      "        See Notes.\n",
      "    axis : {0, 1, 'index', 'columns'}\n",
      "    \n",
      "    Notes\n",
      "    -----\n",
      "    If freq is specified then the index values are shifted but the data\n",
      "    is not realigned. That is, use freq if you would like to extend the\n",
      "    index when shifting and preserve the original data.\n",
      "    \n",
      "    Returns\n",
      "    -------\n",
      "    shifted : DataFrame\n",
      "\n"
     ]
    }
   ],
   "source": [
    "help(df1.shift)"
   ]
  },
  {
   "cell_type": "code",
   "execution_count": 228,
   "metadata": {},
   "outputs": [
    {
     "data": {
      "text/html": [
       "<div>\n",
       "<table border=\"1\" class=\"dataframe\">\n",
       "  <thead>\n",
       "    <tr style=\"text-align: right;\">\n",
       "      <th></th>\n",
       "      <th>A</th>\n",
       "      <th>B</th>\n",
       "      <th>C</th>\n",
       "    </tr>\n",
       "  </thead>\n",
       "  <tbody>\n",
       "    <tr>\n",
       "      <th>0</th>\n",
       "      <td>0</td>\n",
       "      <td>1</td>\n",
       "      <td>2</td>\n",
       "    </tr>\n",
       "    <tr>\n",
       "      <th>1</th>\n",
       "      <td>3</td>\n",
       "      <td>4</td>\n",
       "      <td>5</td>\n",
       "    </tr>\n",
       "    <tr>\n",
       "      <th>2</th>\n",
       "      <td>6</td>\n",
       "      <td>7</td>\n",
       "      <td>8</td>\n",
       "    </tr>\n",
       "  </tbody>\n",
       "</table>\n",
       "</div>"
      ],
      "text/plain": [
       "   A  B  C\n",
       "0  0  1  2\n",
       "1  3  4  5\n",
       "2  6  7  8"
      ]
     },
     "execution_count": 228,
     "metadata": {},
     "output_type": "execute_result"
    }
   ],
   "source": [
    "df1.shift(0)"
   ]
  },
  {
   "cell_type": "code",
   "execution_count": 230,
   "metadata": {},
   "outputs": [
    {
     "data": {
      "text/html": [
       "<div>\n",
       "<table border=\"1\" class=\"dataframe\">\n",
       "  <thead>\n",
       "    <tr style=\"text-align: right;\">\n",
       "      <th></th>\n",
       "      <th>A</th>\n",
       "      <th>B</th>\n",
       "      <th>C</th>\n",
       "    </tr>\n",
       "  </thead>\n",
       "  <tbody>\n",
       "    <tr>\n",
       "      <th>0</th>\n",
       "      <td>NaN</td>\n",
       "      <td>NaN</td>\n",
       "      <td>NaN</td>\n",
       "    </tr>\n",
       "    <tr>\n",
       "      <th>1</th>\n",
       "      <td>0.0</td>\n",
       "      <td>1.0</td>\n",
       "      <td>2.0</td>\n",
       "    </tr>\n",
       "    <tr>\n",
       "      <th>2</th>\n",
       "      <td>3.0</td>\n",
       "      <td>4.0</td>\n",
       "      <td>5.0</td>\n",
       "    </tr>\n",
       "  </tbody>\n",
       "</table>\n",
       "</div>"
      ],
      "text/plain": [
       "     A    B    C\n",
       "0  NaN  NaN  NaN\n",
       "1  0.0  1.0  2.0\n",
       "2  3.0  4.0  5.0"
      ]
     },
     "execution_count": 230,
     "metadata": {},
     "output_type": "execute_result"
    }
   ],
   "source": [
    "df1.shift(1)"
   ]
  },
  {
   "cell_type": "code",
   "execution_count": 262,
   "metadata": {},
   "outputs": [
    {
     "name": "stdout",
     "output_type": "stream",
     "text": [
      "     A    B    C\n",
      "0  NaN  NaN  NaN\n",
      "1  NaN  NaN  NaN\n",
      "2  0.0  1.0  2.0\n"
     ]
    },
    {
     "data": {
      "text/html": [
       "<div>\n",
       "<table border=\"1\" class=\"dataframe\">\n",
       "  <thead>\n",
       "    <tr style=\"text-align: right;\">\n",
       "      <th></th>\n",
       "      <th>A</th>\n",
       "      <th>B</th>\n",
       "      <th>C</th>\n",
       "    </tr>\n",
       "  </thead>\n",
       "  <tbody>\n",
       "    <tr>\n",
       "      <th>0</th>\n",
       "      <td>0.0</td>\n",
       "      <td>0.0</td>\n",
       "      <td>0.0</td>\n",
       "    </tr>\n",
       "    <tr>\n",
       "      <th>1</th>\n",
       "      <td>0.0</td>\n",
       "      <td>0.0</td>\n",
       "      <td>0.0</td>\n",
       "    </tr>\n",
       "    <tr>\n",
       "      <th>2</th>\n",
       "      <td>0.0</td>\n",
       "      <td>1.0</td>\n",
       "      <td>2.0</td>\n",
       "    </tr>\n",
       "  </tbody>\n",
       "</table>\n",
       "</div>"
      ],
      "text/plain": [
       "     A    B    C\n",
       "0  0.0  0.0  0.0\n",
       "1  0.0  0.0  0.0\n",
       "2  0.0  1.0  2.0"
      ]
     },
     "execution_count": 262,
     "metadata": {},
     "output_type": "execute_result"
    }
   ],
   "source": [
    "a = df1.shift(2)\n",
    "print(a)\n",
    "a.fillna(0)"
   ]
  },
  {
   "cell_type": "code",
   "execution_count": 232,
   "metadata": {},
   "outputs": [
    {
     "data": {
      "text/html": [
       "<div>\n",
       "<table border=\"1\" class=\"dataframe\">\n",
       "  <thead>\n",
       "    <tr style=\"text-align: right;\">\n",
       "      <th></th>\n",
       "      <th>A</th>\n",
       "      <th>B</th>\n",
       "      <th>C</th>\n",
       "    </tr>\n",
       "  </thead>\n",
       "  <tbody>\n",
       "    <tr>\n",
       "      <th>0</th>\n",
       "      <td>0</td>\n",
       "      <td>1</td>\n",
       "      <td>2</td>\n",
       "    </tr>\n",
       "    <tr>\n",
       "      <th>1</th>\n",
       "      <td>3</td>\n",
       "      <td>4</td>\n",
       "      <td>5</td>\n",
       "    </tr>\n",
       "    <tr>\n",
       "      <th>2</th>\n",
       "      <td>6</td>\n",
       "      <td>7</td>\n",
       "      <td>8</td>\n",
       "    </tr>\n",
       "  </tbody>\n",
       "</table>\n",
       "</div>"
      ],
      "text/plain": [
       "   A  B  C\n",
       "0  0  1  2\n",
       "1  3  4  5\n",
       "2  6  7  8"
      ]
     },
     "execution_count": 232,
     "metadata": {},
     "output_type": "execute_result"
    }
   ],
   "source": [
    "df1"
   ]
  },
  {
   "cell_type": "markdown",
   "metadata": {},
   "source": [
    "###  the compound percentage of the values\n"
   ]
  },
  {
   "cell_type": "code",
   "execution_count": 221,
   "metadata": {},
   "outputs": [
    {
     "name": "stdout",
     "output_type": "stream",
     "text": [
      "Help on method compound in module pandas.core.generic:\n",
      "\n",
      "compound(axis=None, skipna=None, level=None) method of pandas.core.frame.DataFrame instance\n",
      "    Return the compound percentage of the values for the requested axis\n",
      "    \n",
      "    Parameters\n",
      "    ----------\n",
      "    axis : {index (0), columns (1)}\n",
      "    skipna : boolean, default True\n",
      "        Exclude NA/null values. If an entire row/column is NA, the result\n",
      "        will be NA\n",
      "    level : int or level name, default None\n",
      "        If the axis is a MultiIndex (hierarchical), count along a\n",
      "        particular level, collapsing into a Series\n",
      "    numeric_only : boolean, default None\n",
      "        Include only float, int, boolean data. If None, will attempt to use\n",
      "        everything, then use only numeric data\n",
      "    \n",
      "    Returns\n",
      "    -------\n",
      "    compounded : Series or DataFrame (if level specified)\n",
      "\n"
     ]
    }
   ],
   "source": [
    "help(df1.compound)"
   ]
  },
  {
   "cell_type": "code",
   "execution_count": 218,
   "metadata": {},
   "outputs": [
    {
     "data": {
      "text/html": [
       "<div>\n",
       "<table border=\"1\" class=\"dataframe\">\n",
       "  <thead>\n",
       "    <tr style=\"text-align: right;\">\n",
       "      <th></th>\n",
       "      <th>A</th>\n",
       "      <th>B</th>\n",
       "      <th>C</th>\n",
       "    </tr>\n",
       "  </thead>\n",
       "  <tbody>\n",
       "    <tr>\n",
       "      <th>0</th>\n",
       "      <td>0</td>\n",
       "      <td>1</td>\n",
       "      <td>2</td>\n",
       "    </tr>\n",
       "    <tr>\n",
       "      <th>1</th>\n",
       "      <td>3</td>\n",
       "      <td>4</td>\n",
       "      <td>5</td>\n",
       "    </tr>\n",
       "    <tr>\n",
       "      <th>2</th>\n",
       "      <td>6</td>\n",
       "      <td>7</td>\n",
       "      <td>8</td>\n",
       "    </tr>\n",
       "  </tbody>\n",
       "</table>\n",
       "</div>"
      ],
      "text/plain": [
       "   A  B  C\n",
       "0  0  1  2\n",
       "1  3  4  5\n",
       "2  6  7  8"
      ]
     },
     "execution_count": 218,
     "metadata": {},
     "output_type": "execute_result"
    }
   ],
   "source": [
    "df1"
   ]
  },
  {
   "cell_type": "code",
   "execution_count": 222,
   "metadata": {},
   "outputs": [
    {
     "data": {
      "text/plain": [
       "A     27\n",
       "B     79\n",
       "C    161\n",
       "dtype: int32"
      ]
     },
     "execution_count": 222,
     "metadata": {},
     "output_type": "execute_result"
    }
   ],
   "source": [
    "df1.compound(0)"
   ]
  },
  {
   "cell_type": "code",
   "execution_count": 223,
   "metadata": {},
   "outputs": [
    {
     "data": {
      "text/plain": [
       "0      5\n",
       "1    119\n",
       "2    503\n",
       "dtype: int32"
      ]
     },
     "execution_count": 223,
     "metadata": {},
     "output_type": "execute_result"
    }
   ],
   "source": [
    "df1.compound(1)"
   ]
  },
  {
   "cell_type": "markdown",
   "metadata": {},
   "source": [
    "## nan 값 처리 \n"
   ]
  },
  {
   "cell_type": "code",
   "execution_count": 257,
   "metadata": {},
   "outputs": [
    {
     "name": "stdout",
     "output_type": "stream",
     "text": [
      "Help on method fillna in module pandas.core.frame:\n",
      "\n",
      "fillna(value=None, method=None, axis=None, inplace=False, limit=None, downcast=None, **kwargs) method of pandas.core.frame.DataFrame instance\n",
      "    Fill NA/NaN values using the specified method\n",
      "    \n",
      "    Parameters\n",
      "    ----------\n",
      "    value : scalar, dict, Series, or DataFrame\n",
      "        Value to use to fill holes (e.g. 0), alternately a\n",
      "        dict/Series/DataFrame of values specifying which value to use for\n",
      "        each index (for a Series) or column (for a DataFrame). (values not\n",
      "        in the dict/Series/DataFrame will not be filled). This value cannot\n",
      "        be a list.\n",
      "    method : {'backfill', 'bfill', 'pad', 'ffill', None}, default None\n",
      "        Method to use for filling holes in reindexed Series\n",
      "        pad / ffill: propagate last valid observation forward to next valid\n",
      "        backfill / bfill: use NEXT valid observation to fill gap\n",
      "    axis : {0, 1, 'index', 'columns'}\n",
      "    inplace : boolean, default False\n",
      "        If True, fill in place. Note: this will modify any\n",
      "        other views on this object, (e.g. a no-copy slice for a column in a\n",
      "        DataFrame).\n",
      "    limit : int, default None\n",
      "        If method is specified, this is the maximum number of consecutive\n",
      "        NaN values to forward/backward fill. In other words, if there is\n",
      "        a gap with more than this number of consecutive NaNs, it will only\n",
      "        be partially filled. If method is not specified, this is the\n",
      "        maximum number of entries along the entire axis where NaNs will be\n",
      "        filled.\n",
      "    downcast : dict, default is None\n",
      "        a dict of item->dtype of what to downcast if possible,\n",
      "        or the string 'infer' which will try to downcast to an appropriate\n",
      "        equal type (e.g. float64 to int64 if possible)\n",
      "    \n",
      "    See Also\n",
      "    --------\n",
      "    reindex, asfreq\n",
      "    \n",
      "    Returns\n",
      "    -------\n",
      "    filled : DataFrame\n",
      "\n"
     ]
    }
   ],
   "source": [
    "help(dfna.fillna)"
   ]
  },
  {
   "cell_type": "code",
   "execution_count": 265,
   "metadata": {},
   "outputs": [
    {
     "name": "stdout",
     "output_type": "stream",
     "text": [
      "    0  1  2\n",
      "0 NaN  1  2\n",
      "1 NaN  4  5\n",
      "2 NaN  7  8\n",
      "      0      1      2\n",
      "0  True  False  False\n",
      "1  True  False  False\n",
      "2  True  False  False\n",
      "   1  2\n",
      "0  1  2\n",
      "1  4  5\n",
      "2  7  8\n",
      "      1     2\n",
      "0  True  True\n",
      "1  True  True\n",
      "2  True  True\n"
     ]
    }
   ],
   "source": [
    "dfna = pd.DataFrame(np.arange(9).reshape(3,3))\n",
    "dfna[[0,0]] = np.NaN\n",
    "print(dfna)\n",
    "\n",
    "print(dfna.isnull())\n",
    "\n",
    "b = dfna.dropna(axis=1)\n",
    "print(b)\n",
    "print(b.notnull())"
   ]
  },
  {
   "cell_type": "markdown",
   "metadata": {
    "collapsed": true
   },
   "source": [
    "## stack 과 unstack에 대한 처리\n",
    "\n",
    "    실제 인덱스에 대한 부분을 처리한다. \n",
    "    "
   ]
  },
  {
   "cell_type": "code",
   "execution_count": 3,
   "metadata": {},
   "outputs": [
    {
     "name": "stdout",
     "output_type": "stream",
     "text": [
      "Help on function unstack in module pandas.core.frame:\n",
      "\n",
      "unstack(self, level=-1, fill_value=None)\n",
      "    Pivot a level of the (necessarily hierarchical) index labels, returning\n",
      "    a DataFrame having a new level of column labels whose inner-most level\n",
      "    consists of the pivoted index labels. If the index is not a MultiIndex,\n",
      "    the output will be a Series (the analogue of stack when the columns are\n",
      "    not a MultiIndex).\n",
      "    The level involved will automatically get sorted.\n",
      "    \n",
      "    Parameters\n",
      "    ----------\n",
      "    level : int, string, or list of these, default -1 (last level)\n",
      "        Level(s) of index to unstack, can pass level name\n",
      "    fill_value : replace NaN with this value if the unstack produces\n",
      "        missing values\n",
      "    \n",
      "        .. versionadded: 0.18.0\n",
      "    \n",
      "    See also\n",
      "    --------\n",
      "    DataFrame.pivot : Pivot a table based on column values.\n",
      "    DataFrame.stack : Pivot a level of the column labels (inverse operation\n",
      "        from `unstack`).\n",
      "    \n",
      "    Examples\n",
      "    --------\n",
      "    >>> index = pd.MultiIndex.from_tuples([('one', 'a'), ('one', 'b'),\n",
      "    ...                                    ('two', 'a'), ('two', 'b')])\n",
      "    >>> s = pd.Series(np.arange(1.0, 5.0), index=index)\n",
      "    >>> s\n",
      "    one  a   1.0\n",
      "         b   2.0\n",
      "    two  a   3.0\n",
      "         b   4.0\n",
      "    dtype: float64\n",
      "    \n",
      "    >>> s.unstack(level=-1)\n",
      "         a   b\n",
      "    one  1.0  2.0\n",
      "    two  3.0  4.0\n",
      "    \n",
      "    >>> s.unstack(level=0)\n",
      "       one  two\n",
      "    a  1.0   3.0\n",
      "    b  2.0   4.0\n",
      "    \n",
      "    >>> df = s.unstack(level=0)\n",
      "    >>> df.unstack()\n",
      "    one  a  1.0\n",
      "         b  2.0\n",
      "    two  a  3.0\n",
      "         b  4.0\n",
      "    dtype: float64\n",
      "    \n",
      "    Returns\n",
      "    -------\n",
      "    unstacked : DataFrame or Series\n",
      "\n"
     ]
    }
   ],
   "source": [
    "help(pd.DataFrame.unstack)"
   ]
  },
  {
   "cell_type": "code",
   "execution_count": 24,
   "metadata": {
    "collapsed": true
   },
   "outputs": [],
   "source": [
    "index = pd.MultiIndex.from_tuples([('one', 'a'), ('one', 'b'),  ('two', 'a'), ('two', 'b')])\n"
   ]
  },
  {
   "cell_type": "code",
   "execution_count": 7,
   "metadata": {},
   "outputs": [
    {
     "data": {
      "text/plain": [
       "one  a    1.0\n",
       "     b    2.0\n",
       "two  a    3.0\n",
       "     b    4.0\n",
       "dtype: float64"
      ]
     },
     "execution_count": 7,
     "metadata": {},
     "output_type": "execute_result"
    }
   ],
   "source": [
    "s = pd.Series(np.arange(1.0, 5.0), index=index)\n",
    "s"
   ]
  },
  {
   "cell_type": "markdown",
   "metadata": {},
   "source": [
    "### 인덱스에서 두번째만 출력"
   ]
  },
  {
   "cell_type": "code",
   "execution_count": 8,
   "metadata": {},
   "outputs": [
    {
     "data": {
      "text/html": [
       "<div>\n",
       "<style>\n",
       "    .dataframe thead tr:only-child th {\n",
       "        text-align: right;\n",
       "    }\n",
       "\n",
       "    .dataframe thead th {\n",
       "        text-align: left;\n",
       "    }\n",
       "\n",
       "    .dataframe tbody tr th {\n",
       "        vertical-align: top;\n",
       "    }\n",
       "</style>\n",
       "<table border=\"1\" class=\"dataframe\">\n",
       "  <thead>\n",
       "    <tr style=\"text-align: right;\">\n",
       "      <th></th>\n",
       "      <th>a</th>\n",
       "      <th>b</th>\n",
       "    </tr>\n",
       "  </thead>\n",
       "  <tbody>\n",
       "    <tr>\n",
       "      <th>one</th>\n",
       "      <td>1.0</td>\n",
       "      <td>2.0</td>\n",
       "    </tr>\n",
       "    <tr>\n",
       "      <th>two</th>\n",
       "      <td>3.0</td>\n",
       "      <td>4.0</td>\n",
       "    </tr>\n",
       "  </tbody>\n",
       "</table>\n",
       "</div>"
      ],
      "text/plain": [
       "       a    b\n",
       "one  1.0  2.0\n",
       "two  3.0  4.0"
      ]
     },
     "execution_count": 8,
     "metadata": {},
     "output_type": "execute_result"
    }
   ],
   "source": [
    "s.unstack(level=-1)"
   ]
  },
  {
   "cell_type": "code",
   "execution_count": 9,
   "metadata": {},
   "outputs": [
    {
     "data": {
      "text/html": [
       "<div>\n",
       "<style>\n",
       "    .dataframe thead tr:only-child th {\n",
       "        text-align: right;\n",
       "    }\n",
       "\n",
       "    .dataframe thead th {\n",
       "        text-align: left;\n",
       "    }\n",
       "\n",
       "    .dataframe tbody tr th {\n",
       "        vertical-align: top;\n",
       "    }\n",
       "</style>\n",
       "<table border=\"1\" class=\"dataframe\">\n",
       "  <thead>\n",
       "    <tr style=\"text-align: right;\">\n",
       "      <th></th>\n",
       "      <th>a</th>\n",
       "      <th>b</th>\n",
       "    </tr>\n",
       "  </thead>\n",
       "  <tbody>\n",
       "    <tr>\n",
       "      <th>one</th>\n",
       "      <td>1.0</td>\n",
       "      <td>2.0</td>\n",
       "    </tr>\n",
       "    <tr>\n",
       "      <th>two</th>\n",
       "      <td>3.0</td>\n",
       "      <td>4.0</td>\n",
       "    </tr>\n",
       "  </tbody>\n",
       "</table>\n",
       "</div>"
      ],
      "text/plain": [
       "       a    b\n",
       "one  1.0  2.0\n",
       "two  3.0  4.0"
      ]
     },
     "execution_count": 9,
     "metadata": {},
     "output_type": "execute_result"
    }
   ],
   "source": [
    "s.unstack(level=1)"
   ]
  },
  {
   "cell_type": "code",
   "execution_count": 12,
   "metadata": {},
   "outputs": [
    {
     "data": {
      "text/html": [
       "<div>\n",
       "<style>\n",
       "    .dataframe thead tr:only-child th {\n",
       "        text-align: right;\n",
       "    }\n",
       "\n",
       "    .dataframe thead th {\n",
       "        text-align: left;\n",
       "    }\n",
       "\n",
       "    .dataframe tbody tr th {\n",
       "        vertical-align: top;\n",
       "    }\n",
       "</style>\n",
       "<table border=\"1\" class=\"dataframe\">\n",
       "  <thead>\n",
       "    <tr style=\"text-align: right;\">\n",
       "      <th></th>\n",
       "      <th>one</th>\n",
       "      <th>two</th>\n",
       "    </tr>\n",
       "  </thead>\n",
       "  <tbody>\n",
       "    <tr>\n",
       "      <th>a</th>\n",
       "      <td>1.0</td>\n",
       "      <td>3.0</td>\n",
       "    </tr>\n",
       "    <tr>\n",
       "      <th>b</th>\n",
       "      <td>2.0</td>\n",
       "      <td>4.0</td>\n",
       "    </tr>\n",
       "  </tbody>\n",
       "</table>\n",
       "</div>"
      ],
      "text/plain": [
       "   one  two\n",
       "a  1.0  3.0\n",
       "b  2.0  4.0"
      ]
     },
     "execution_count": 12,
     "metadata": {},
     "output_type": "execute_result"
    }
   ],
   "source": [
    "df2 = s.unstack(level=0)\n",
    "df2"
   ]
  },
  {
   "cell_type": "markdown",
   "metadata": {},
   "source": [
    "### 실제 레벨에 대한 원위치 처리"
   ]
  },
  {
   "cell_type": "code",
   "execution_count": 14,
   "metadata": {},
   "outputs": [
    {
     "name": "stdout",
     "output_type": "stream",
     "text": [
      "Help on function stack in module pandas.core.frame:\n",
      "\n",
      "stack(self, level=-1, dropna=True)\n",
      "    Pivot a level of the (possibly hierarchical) column labels, returning a\n",
      "    DataFrame (or Series in the case of an object with a single level of\n",
      "    column labels) having a hierarchical index with a new inner-most level\n",
      "    of row labels.\n",
      "    The level involved will automatically get sorted.\n",
      "    \n",
      "    Parameters\n",
      "    ----------\n",
      "    level : int, string, or list of these, default last level\n",
      "        Level(s) to stack, can pass level name\n",
      "    dropna : boolean, default True\n",
      "        Whether to drop rows in the resulting Frame/Series with no valid\n",
      "        values\n",
      "    \n",
      "    Examples\n",
      "    ----------\n",
      "    >>> s\n",
      "         a   b\n",
      "    one  1.  2.\n",
      "    two  3.  4.\n",
      "    \n",
      "    >>> s.stack()\n",
      "    one a    1\n",
      "        b    2\n",
      "    two a    3\n",
      "        b    4\n",
      "    \n",
      "    Returns\n",
      "    -------\n",
      "    stacked : DataFrame or Series\n",
      "\n"
     ]
    }
   ],
   "source": [
    "help(pd.DataFrame.stack)"
   ]
  },
  {
   "cell_type": "code",
   "execution_count": 17,
   "metadata": {},
   "outputs": [
    {
     "data": {
      "text/html": [
       "<div>\n",
       "<style>\n",
       "    .dataframe thead tr:only-child th {\n",
       "        text-align: right;\n",
       "    }\n",
       "\n",
       "    .dataframe thead th {\n",
       "        text-align: left;\n",
       "    }\n",
       "\n",
       "    .dataframe tbody tr th {\n",
       "        vertical-align: top;\n",
       "    }\n",
       "</style>\n",
       "<table border=\"1\" class=\"dataframe\">\n",
       "  <thead>\n",
       "    <tr style=\"text-align: right;\">\n",
       "      <th></th>\n",
       "      <th>one</th>\n",
       "      <th>two</th>\n",
       "    </tr>\n",
       "  </thead>\n",
       "  <tbody>\n",
       "    <tr>\n",
       "      <th>a</th>\n",
       "      <td>1.0</td>\n",
       "      <td>3.0</td>\n",
       "    </tr>\n",
       "    <tr>\n",
       "      <th>b</th>\n",
       "      <td>2.0</td>\n",
       "      <td>4.0</td>\n",
       "    </tr>\n",
       "  </tbody>\n",
       "</table>\n",
       "</div>"
      ],
      "text/plain": [
       "   one  two\n",
       "a  1.0  3.0\n",
       "b  2.0  4.0"
      ]
     },
     "execution_count": 17,
     "metadata": {},
     "output_type": "execute_result"
    }
   ],
   "source": [
    "df2"
   ]
  },
  {
   "cell_type": "code",
   "execution_count": 18,
   "metadata": {},
   "outputs": [
    {
     "data": {
      "text/plain": [
       "<bound method DataFrame.stack of    one  two\n",
       "a  1.0  3.0\n",
       "b  2.0  4.0>"
      ]
     },
     "execution_count": 18,
     "metadata": {},
     "output_type": "execute_result"
    }
   ],
   "source": [
    "df2.stack"
   ]
  },
  {
   "cell_type": "code",
   "execution_count": 13,
   "metadata": {},
   "outputs": [
    {
     "data": {
      "text/plain": [
       "one  a    1.0\n",
       "     b    2.0\n",
       "two  a    3.0\n",
       "     b    4.0\n",
       "dtype: float64"
      ]
     },
     "execution_count": 13,
     "metadata": {},
     "output_type": "execute_result"
    }
   ],
   "source": [
    "df2.unstack()"
   ]
  },
  {
   "cell_type": "code",
   "execution_count": 16,
   "metadata": {},
   "outputs": [
    {
     "data": {
      "text/plain": [
       "a  one    1.0\n",
       "   two    3.0\n",
       "b  one    2.0\n",
       "   two    4.0\n",
       "dtype: float64"
      ]
     },
     "execution_count": 16,
     "metadata": {},
     "output_type": "execute_result"
    }
   ],
   "source": [
    "df2.stack()"
   ]
  },
  {
   "cell_type": "markdown",
   "metadata": {},
   "source": [
    "## 내부적인 데이터들이 중복을 위해 처리"
   ]
  },
  {
   "cell_type": "code",
   "execution_count": 21,
   "metadata": {},
   "outputs": [
    {
     "name": "stdout",
     "output_type": "stream",
     "text": [
      "Help on method duplicated in module pandas.core.frame:\n",
      "\n",
      "duplicated(subset=None, keep='first') method of pandas.core.frame.DataFrame instance\n",
      "    Return boolean Series denoting duplicate rows, optionally only\n",
      "    considering certain columns\n",
      "    \n",
      "    Parameters\n",
      "    ----------\n",
      "    subset : column label or sequence of labels, optional\n",
      "        Only consider certain columns for identifying duplicates, by\n",
      "        default use all of the columns\n",
      "    keep : {'first', 'last', False}, default 'first'\n",
      "        - ``first`` : Mark duplicates as ``True`` except for the\n",
      "          first occurrence.\n",
      "        - ``last`` : Mark duplicates as ``True`` except for the\n",
      "          last occurrence.\n",
      "        - False : Mark all duplicates as ``True``.\n",
      "    \n",
      "    Returns\n",
      "    -------\n",
      "    duplicated : Series\n",
      "\n"
     ]
    }
   ],
   "source": [
    "help(df2.duplicated)"
   ]
  },
  {
   "cell_type": "code",
   "execution_count": 32,
   "metadata": {
    "collapsed": true
   },
   "outputs": [],
   "source": [
    "ss = pd.Series(np.arange(1.0, 5.0))\n",
    "\n",
    "df3 = pd.DataFrame([ss,ss,ss])"
   ]
  },
  {
   "cell_type": "code",
   "execution_count": 33,
   "metadata": {},
   "outputs": [
    {
     "data": {
      "text/html": [
       "<div>\n",
       "<style>\n",
       "    .dataframe thead tr:only-child th {\n",
       "        text-align: right;\n",
       "    }\n",
       "\n",
       "    .dataframe thead th {\n",
       "        text-align: left;\n",
       "    }\n",
       "\n",
       "    .dataframe tbody tr th {\n",
       "        vertical-align: top;\n",
       "    }\n",
       "</style>\n",
       "<table border=\"1\" class=\"dataframe\">\n",
       "  <thead>\n",
       "    <tr style=\"text-align: right;\">\n",
       "      <th></th>\n",
       "      <th>0</th>\n",
       "      <th>1</th>\n",
       "      <th>2</th>\n",
       "      <th>3</th>\n",
       "    </tr>\n",
       "  </thead>\n",
       "  <tbody>\n",
       "    <tr>\n",
       "      <th>0</th>\n",
       "      <td>1.0</td>\n",
       "      <td>2.0</td>\n",
       "      <td>3.0</td>\n",
       "      <td>4.0</td>\n",
       "    </tr>\n",
       "    <tr>\n",
       "      <th>1</th>\n",
       "      <td>1.0</td>\n",
       "      <td>2.0</td>\n",
       "      <td>3.0</td>\n",
       "      <td>4.0</td>\n",
       "    </tr>\n",
       "    <tr>\n",
       "      <th>2</th>\n",
       "      <td>1.0</td>\n",
       "      <td>2.0</td>\n",
       "      <td>3.0</td>\n",
       "      <td>4.0</td>\n",
       "    </tr>\n",
       "  </tbody>\n",
       "</table>\n",
       "</div>"
      ],
      "text/plain": [
       "     0    1    2    3\n",
       "0  1.0  2.0  3.0  4.0\n",
       "1  1.0  2.0  3.0  4.0\n",
       "2  1.0  2.0  3.0  4.0"
      ]
     },
     "execution_count": 33,
     "metadata": {},
     "output_type": "execute_result"
    }
   ],
   "source": [
    "df3"
   ]
  },
  {
   "cell_type": "code",
   "execution_count": 34,
   "metadata": {},
   "outputs": [
    {
     "data": {
      "text/plain": [
       "0    False\n",
       "1     True\n",
       "2     True\n",
       "dtype: bool"
      ]
     },
     "execution_count": 34,
     "metadata": {},
     "output_type": "execute_result"
    }
   ],
   "source": [
    "df3.duplicated()"
   ]
  },
  {
   "cell_type": "markdown",
   "metadata": {},
   "source": [
    "### 중복을 제거"
   ]
  },
  {
   "cell_type": "code",
   "execution_count": 35,
   "metadata": {},
   "outputs": [
    {
     "data": {
      "text/html": [
       "<div>\n",
       "<style>\n",
       "    .dataframe thead tr:only-child th {\n",
       "        text-align: right;\n",
       "    }\n",
       "\n",
       "    .dataframe thead th {\n",
       "        text-align: left;\n",
       "    }\n",
       "\n",
       "    .dataframe tbody tr th {\n",
       "        vertical-align: top;\n",
       "    }\n",
       "</style>\n",
       "<table border=\"1\" class=\"dataframe\">\n",
       "  <thead>\n",
       "    <tr style=\"text-align: right;\">\n",
       "      <th></th>\n",
       "      <th>0</th>\n",
       "      <th>1</th>\n",
       "      <th>2</th>\n",
       "      <th>3</th>\n",
       "    </tr>\n",
       "  </thead>\n",
       "  <tbody>\n",
       "    <tr>\n",
       "      <th>0</th>\n",
       "      <td>1.0</td>\n",
       "      <td>2.0</td>\n",
       "      <td>3.0</td>\n",
       "      <td>4.0</td>\n",
       "    </tr>\n",
       "  </tbody>\n",
       "</table>\n",
       "</div>"
      ],
      "text/plain": [
       "     0    1    2    3\n",
       "0  1.0  2.0  3.0  4.0"
      ]
     },
     "execution_count": 35,
     "metadata": {},
     "output_type": "execute_result"
    }
   ],
   "source": [
    "df3.drop_duplicates()"
   ]
  },
  {
   "cell_type": "code",
   "execution_count": 36,
   "metadata": {},
   "outputs": [
    {
     "data": {
      "text/html": [
       "<div>\n",
       "<style>\n",
       "    .dataframe thead tr:only-child th {\n",
       "        text-align: right;\n",
       "    }\n",
       "\n",
       "    .dataframe thead th {\n",
       "        text-align: left;\n",
       "    }\n",
       "\n",
       "    .dataframe tbody tr th {\n",
       "        vertical-align: top;\n",
       "    }\n",
       "</style>\n",
       "<table border=\"1\" class=\"dataframe\">\n",
       "  <thead>\n",
       "    <tr style=\"text-align: right;\">\n",
       "      <th></th>\n",
       "      <th>0</th>\n",
       "      <th>1</th>\n",
       "      <th>2</th>\n",
       "      <th>3</th>\n",
       "    </tr>\n",
       "  </thead>\n",
       "  <tbody>\n",
       "    <tr>\n",
       "      <th>0</th>\n",
       "      <td>1.0</td>\n",
       "      <td>2.0</td>\n",
       "      <td>3.0</td>\n",
       "      <td>4.0</td>\n",
       "    </tr>\n",
       "    <tr>\n",
       "      <th>1</th>\n",
       "      <td>1.0</td>\n",
       "      <td>2.0</td>\n",
       "      <td>3.0</td>\n",
       "      <td>4.0</td>\n",
       "    </tr>\n",
       "    <tr>\n",
       "      <th>2</th>\n",
       "      <td>1.0</td>\n",
       "      <td>2.0</td>\n",
       "      <td>3.0</td>\n",
       "      <td>4.0</td>\n",
       "    </tr>\n",
       "  </tbody>\n",
       "</table>\n",
       "</div>"
      ],
      "text/plain": [
       "     0    1    2    3\n",
       "0  1.0  2.0  3.0  4.0\n",
       "1  1.0  2.0  3.0  4.0\n",
       "2  1.0  2.0  3.0  4.0"
      ]
     },
     "execution_count": 36,
     "metadata": {},
     "output_type": "execute_result"
    }
   ],
   "source": [
    "df3"
   ]
  },
  {
   "cell_type": "code",
   "execution_count": 38,
   "metadata": {
    "collapsed": true
   },
   "outputs": [],
   "source": [
    "df3.drop_duplicates(inplace=True)"
   ]
  },
  {
   "cell_type": "code",
   "execution_count": 39,
   "metadata": {},
   "outputs": [
    {
     "data": {
      "text/html": [
       "<div>\n",
       "<style>\n",
       "    .dataframe thead tr:only-child th {\n",
       "        text-align: right;\n",
       "    }\n",
       "\n",
       "    .dataframe thead th {\n",
       "        text-align: left;\n",
       "    }\n",
       "\n",
       "    .dataframe tbody tr th {\n",
       "        vertical-align: top;\n",
       "    }\n",
       "</style>\n",
       "<table border=\"1\" class=\"dataframe\">\n",
       "  <thead>\n",
       "    <tr style=\"text-align: right;\">\n",
       "      <th></th>\n",
       "      <th>0</th>\n",
       "      <th>1</th>\n",
       "      <th>2</th>\n",
       "      <th>3</th>\n",
       "    </tr>\n",
       "  </thead>\n",
       "  <tbody>\n",
       "    <tr>\n",
       "      <th>0</th>\n",
       "      <td>1.0</td>\n",
       "      <td>2.0</td>\n",
       "      <td>3.0</td>\n",
       "      <td>4.0</td>\n",
       "    </tr>\n",
       "  </tbody>\n",
       "</table>\n",
       "</div>"
      ],
      "text/plain": [
       "     0    1    2    3\n",
       "0  1.0  2.0  3.0  4.0"
      ]
     },
     "execution_count": 39,
     "metadata": {},
     "output_type": "execute_result"
    }
   ],
   "source": [
    "df3"
   ]
  },
  {
   "cell_type": "code",
   "execution_count": null,
   "metadata": {
    "collapsed": true
   },
   "outputs": [],
   "source": [
    "\n",
    "transpose\n",
    "reset_index\n",
    "ffill\n",
    "tz_convert\n",
    "kurt\n",
    "to_clipboard\n",
    "last_valid_index\n",
    "update\n",
    "memory_usage\n",
    "squeeze\n",
    "combine\n",
    "truncate\n",
    "astype\n",
    "first_valid_index\n",
    "hist\n",
    "tz_localize\n",
    "to_hdf\n",
    "reindex_axis\n",
    "rolling\n",
    "swapaxes\n",
    "reindex_like\n",
    "clip\n",
    "combine_first\n",
    "sortlevel\n",
    "kurtosis\n",
    "xs\n",
    "product\n",
    "skew\n",
    "sort\n",
    "set_axis\n",
    "get_ftype_counts\n",
    "clip_upper\n",
    "add_prefix\n",
    "isin\n",
    "rename_axis\n",
    "sem\n",
    "align\n",
    "mode\n",
    "diff\n",
    "reorder_levels\n",
    "between_time\n",
    "bfill\n",
    "to_dense\n",
    "dot\n",
    "round\n",
    "to_timestamp\n",
    "expanding\n",
    "irow\n",
    "resample\n",
    "to_msgpack\n",
    "clip_lower\n",
    "plot\n",
    "add_suffix\n",
    "pipe\n",
    "ewm\n",
    "filter\n",
    "pct_change\n",
    "rename\n",
    "iget_value\n",
    "to_sparse\n",
    "consolidate\n",
    "quantile\n",
    "asfreq\n",
    "mask\n",
    "at_time\n",
    "to_sql\n",
    "ftypes\n",
    "sample\n",
    "mad\n",
    "swaplevel\n",
    "tshift\n",
    "get_dtype_counts\n",
    "convert_objects\n",
    "slice_shift\n",
    "interpolate"
   ]
  }
 ],
 "metadata": {
  "kernelspec": {
   "display_name": "Python 3",
   "language": "python",
   "name": "python3"
  },
  "language_info": {
   "codemirror_mode": {
    "name": "ipython",
    "version": 3
   },
   "file_extension": ".py",
   "mimetype": "text/x-python",
   "name": "python",
   "nbconvert_exporter": "python",
   "pygments_lexer": "ipython3",
   "version": "3.6.1"
  }
 },
 "nbformat": 4,
 "nbformat_minor": 1
}
