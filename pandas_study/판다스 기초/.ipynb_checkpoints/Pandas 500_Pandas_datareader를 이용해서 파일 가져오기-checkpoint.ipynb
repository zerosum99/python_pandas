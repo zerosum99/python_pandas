{
 "cells": [
  {
   "cell_type": "markdown",
   "metadata": {},
   "source": [
    "## 판다스의 데이터 추가"
   ]
  },
  {
   "cell_type": "code",
   "execution_count": 2,
   "metadata": {},
   "outputs": [
    {
     "name": "stdout",
     "output_type": "stream",
     "text": [
      "Collecting pandas_datareader\n",
      "  Downloading pandas_datareader-0.5.0-py2.py3-none-any.whl (74kB)\n",
      "\u001b[K    100% |████████████████████████████████| 81kB 77kB/s ta 0:00:01\n",
      "\u001b[?25hRequirement already satisfied: pandas>=0.17.0 in /Users/dahlmoon/anaconda/lib/python3.6/site-packages (from pandas_datareader)\n",
      "Collecting requests-ftp (from pandas_datareader)\n",
      "  Downloading requests-ftp-0.3.1.tar.gz\n",
      "Collecting requests-file (from pandas_datareader)\n",
      "  Downloading requests-file-1.4.2.tar.gz\n",
      "Requirement already satisfied: requests>=2.3.0 in /Users/dahlmoon/anaconda/lib/python3.6/site-packages (from pandas_datareader)\n",
      "Requirement already satisfied: python-dateutil>=2 in /Users/dahlmoon/anaconda/lib/python3.6/site-packages (from pandas>=0.17.0->pandas_datareader)\n",
      "Requirement already satisfied: pytz>=2011k in /Users/dahlmoon/anaconda/lib/python3.6/site-packages (from pandas>=0.17.0->pandas_datareader)\n",
      "Requirement already satisfied: numpy>=1.7.0 in /Users/dahlmoon/anaconda/lib/python3.6/site-packages (from pandas>=0.17.0->pandas_datareader)\n",
      "Requirement already satisfied: six in /Users/dahlmoon/anaconda/lib/python3.6/site-packages (from requests-file->pandas_datareader)\n",
      "Requirement already satisfied: idna<2.7,>=2.5 in /Users/dahlmoon/anaconda/lib/python3.6/site-packages (from requests>=2.3.0->pandas_datareader)\n",
      "Requirement already satisfied: urllib3<1.23,>=1.21.1 in /Users/dahlmoon/anaconda/lib/python3.6/site-packages (from requests>=2.3.0->pandas_datareader)\n",
      "Requirement already satisfied: chardet<3.1.0,>=3.0.2 in /Users/dahlmoon/anaconda/lib/python3.6/site-packages (from requests>=2.3.0->pandas_datareader)\n",
      "Requirement already satisfied: certifi>=2017.4.17 in /Users/dahlmoon/anaconda/lib/python3.6/site-packages (from requests>=2.3.0->pandas_datareader)\n",
      "Building wheels for collected packages: requests-ftp, requests-file\n",
      "  Running setup.py bdist_wheel for requests-ftp ... \u001b[?25ldone\n",
      "\u001b[?25h  Stored in directory: /Users/dahlmoon/Library/Caches/pip/wheels/76/fb/0d/1026eb562c34a4982dc9d39c9c582a734eefe7f0455f711deb\n",
      "  Running setup.py bdist_wheel for requests-file ... \u001b[?25ldone\n",
      "\u001b[?25h  Stored in directory: /Users/dahlmoon/Library/Caches/pip/wheels/3e/34/3a/c2e634ca7b545510c1b3b7d94dea084e5fdb5f33558f3c3a81\n",
      "Successfully built requests-ftp requests-file\n",
      "Installing collected packages: requests-ftp, requests-file, pandas-datareader\n",
      "Successfully installed pandas-datareader-0.5.0 requests-file-1.4.2 requests-ftp-0.3.1\n"
     ]
    }
   ],
   "source": [
    "!pip install pandas_datareader"
   ]
  },
  {
   "cell_type": "code",
   "execution_count": 43,
   "metadata": {
    "collapsed": true
   },
   "outputs": [],
   "source": [
    "import pandas as pd\n",
    "import pandas_datareader.data as web\n"
   ]
  },
  {
   "cell_type": "code",
   "execution_count": 10,
   "metadata": {},
   "outputs": [
    {
     "data": {
      "text/plain": [
       "['DataReader',\n",
       " 'EdgarIndexReader',\n",
       " 'EnigmaReader',\n",
       " 'EurostatReader',\n",
       " 'FamaFrenchReader',\n",
       " 'FredReader',\n",
       " 'GoogleDailyReader',\n",
       " 'GoogleOptions',\n",
       " 'GoogleQuotesReader',\n",
       " 'OECDReader',\n",
       " 'Options',\n",
       " 'QuandlReader',\n",
       " 'YahooActionReader',\n",
       " 'YahooDailyReader',\n",
       " 'YahooDivReader',\n",
       " 'YahooOptions',\n",
       " 'YahooQuotesReader',\n",
       " '__builtins__',\n",
       " '__cached__',\n",
       " '__doc__',\n",
       " '__file__',\n",
       " '__loader__',\n",
       " '__name__',\n",
       " '__package__',\n",
       " '__spec__',\n",
       " 'get_components_yahoo',\n",
       " 'get_data_enigma',\n",
       " 'get_data_famafrench',\n",
       " 'get_data_fred',\n",
       " 'get_data_google',\n",
       " 'get_data_quandl',\n",
       " 'get_data_yahoo',\n",
       " 'get_data_yahoo_actions',\n",
       " 'get_nasdaq_symbols',\n",
       " 'get_quote_google',\n",
       " 'get_quote_yahoo',\n",
       " 'warnings']"
      ]
     },
     "execution_count": 10,
     "metadata": {},
     "output_type": "execute_result"
    }
   ],
   "source": [
    "dir(web)"
   ]
  },
  {
   "cell_type": "code",
   "execution_count": 9,
   "metadata": {},
   "outputs": [
    {
     "name": "stdout",
     "output_type": "stream",
     "text": [
      "Help on function DataReader in module pandas_datareader.data:\n",
      "\n",
      "DataReader(name, data_source=None, start=None, end=None, retry_count=3, pause=0.001, session=None, access_key=None)\n",
      "    Imports data from a number of online sources.\n",
      "    \n",
      "    Currently supports Yahoo! Finance, Google Finance, St. Louis FED (FRED),\n",
      "    Kenneth French's data library, and the SEC's EDGAR Index.\n",
      "    \n",
      "    Parameters\n",
      "    ----------\n",
      "    name : str or list of strs\n",
      "        the name of the dataset. Some data sources (yahoo, google, fred) will\n",
      "        accept a list of names.\n",
      "    data_source: {str, None}\n",
      "        the data source (\"yahoo\", \"yahoo-actions\", \"yahoo-dividends\",\n",
      "        \"google\", \"fred\", \"ff\", or \"edgar-index\")\n",
      "    start : {datetime, None}\n",
      "        left boundary for range (defaults to 1/1/2010)\n",
      "    end : {datetime, None}\n",
      "        right boundary for range (defaults to today)\n",
      "    retry_count : {int, 3}\n",
      "        Number of times to retry query request.\n",
      "    pause : {numeric, 0.001}\n",
      "        Time, in seconds, to pause between consecutive queries of chunks. If\n",
      "        single value given for symbol, represents the pause between retries.\n",
      "    session : Session, default None\n",
      "            requests.sessions.Session instance to be used\n",
      "    \n",
      "    Examples\n",
      "    ----------\n",
      "    \n",
      "    # Data from Yahoo! Finance\n",
      "    gs = DataReader(\"GS\", \"yahoo\")\n",
      "    \n",
      "    # Corporate Actions (Dividend and Split Data)\n",
      "    # with ex-dates from Yahoo! Finance\n",
      "    gs = DataReader(\"GS\", \"yahoo-actions\")\n",
      "    \n",
      "    # Data from Google Finance\n",
      "    aapl = DataReader(\"AAPL\", \"google\")\n",
      "    \n",
      "    # Data from FRED\n",
      "    vix = DataReader(\"VIXCLS\", \"fred\")\n",
      "    \n",
      "    # Data from Fama/French\n",
      "    ff = DataReader(\"F-F_Research_Data_Factors\", \"famafrench\")\n",
      "    ff = DataReader(\"F-F_Research_Data_Factors_weekly\", \"famafrench\")\n",
      "    ff = DataReader(\"6_Portfolios_2x3\", \"famafrench\")\n",
      "    ff = DataReader(\"F-F_ST_Reversal_Factor\", \"famafrench\")\n",
      "    \n",
      "    # Data from EDGAR index\n",
      "    ed = DataReader(\"full\", \"edgar-index\")\n",
      "    ed2 = DataReader(\"daily\", \"edgar-index\")\n",
      "\n"
     ]
    }
   ],
   "source": [
    "help(web.DataReader)"
   ]
  },
  {
   "cell_type": "markdown",
   "metadata": {},
   "source": [
    "## 야후에서 가져오기"
   ]
  },
  {
   "cell_type": "code",
   "execution_count": 6,
   "metadata": {
    "collapsed": true
   },
   "outputs": [],
   "source": [
    "gs = web.DataReader(\"078930.KS\", \"yahoo\", \"2014-01-01\", \"2017-10-06\")"
   ]
  },
  {
   "cell_type": "code",
   "execution_count": 7,
   "metadata": {},
   "outputs": [
    {
     "data": {
      "text/html": [
       "<div>\n",
       "<style>\n",
       "    .dataframe thead tr:only-child th {\n",
       "        text-align: right;\n",
       "    }\n",
       "\n",
       "    .dataframe thead th {\n",
       "        text-align: left;\n",
       "    }\n",
       "\n",
       "    .dataframe tbody tr th {\n",
       "        vertical-align: top;\n",
       "    }\n",
       "</style>\n",
       "<table border=\"1\" class=\"dataframe\">\n",
       "  <thead>\n",
       "    <tr style=\"text-align: right;\">\n",
       "      <th></th>\n",
       "      <th>Open</th>\n",
       "      <th>High</th>\n",
       "      <th>Low</th>\n",
       "      <th>Close</th>\n",
       "      <th>Adj Close</th>\n",
       "      <th>Volume</th>\n",
       "    </tr>\n",
       "    <tr>\n",
       "      <th>Date</th>\n",
       "      <th></th>\n",
       "      <th></th>\n",
       "      <th></th>\n",
       "      <th></th>\n",
       "      <th></th>\n",
       "      <th></th>\n",
       "    </tr>\n",
       "  </thead>\n",
       "  <tbody>\n",
       "    <tr>\n",
       "      <th>2014-01-02</th>\n",
       "      <td>58200.0</td>\n",
       "      <td>58300.0</td>\n",
       "      <td>56000.0</td>\n",
       "      <td>56400.0</td>\n",
       "      <td>51602.105469</td>\n",
       "      <td>247497.0</td>\n",
       "    </tr>\n",
       "    <tr>\n",
       "      <th>2014-01-03</th>\n",
       "      <td>56500.0</td>\n",
       "      <td>56700.0</td>\n",
       "      <td>55100.0</td>\n",
       "      <td>55700.0</td>\n",
       "      <td>50961.656250</td>\n",
       "      <td>220482.0</td>\n",
       "    </tr>\n",
       "    <tr>\n",
       "      <th>2014-01-06</th>\n",
       "      <td>55400.0</td>\n",
       "      <td>55800.0</td>\n",
       "      <td>54600.0</td>\n",
       "      <td>55500.0</td>\n",
       "      <td>50778.664063</td>\n",
       "      <td>190935.0</td>\n",
       "    </tr>\n",
       "    <tr>\n",
       "      <th>2014-01-07</th>\n",
       "      <td>55000.0</td>\n",
       "      <td>55600.0</td>\n",
       "      <td>54900.0</td>\n",
       "      <td>55100.0</td>\n",
       "      <td>50412.695313</td>\n",
       "      <td>179610.0</td>\n",
       "    </tr>\n",
       "    <tr>\n",
       "      <th>2014-01-08</th>\n",
       "      <td>55300.0</td>\n",
       "      <td>55400.0</td>\n",
       "      <td>53700.0</td>\n",
       "      <td>54300.0</td>\n",
       "      <td>49680.750000</td>\n",
       "      <td>374566.0</td>\n",
       "    </tr>\n",
       "  </tbody>\n",
       "</table>\n",
       "</div>"
      ],
      "text/plain": [
       "               Open     High      Low    Close     Adj Close    Volume\n",
       "Date                                                                  \n",
       "2014-01-02  58200.0  58300.0  56000.0  56400.0  51602.105469  247497.0\n",
       "2014-01-03  56500.0  56700.0  55100.0  55700.0  50961.656250  220482.0\n",
       "2014-01-06  55400.0  55800.0  54600.0  55500.0  50778.664063  190935.0\n",
       "2014-01-07  55000.0  55600.0  54900.0  55100.0  50412.695313  179610.0\n",
       "2014-01-08  55300.0  55400.0  53700.0  54300.0  49680.750000  374566.0"
      ]
     },
     "execution_count": 7,
     "metadata": {},
     "output_type": "execute_result"
    }
   ],
   "source": [
    "gs.head()"
   ]
  },
  {
   "cell_type": "code",
   "execution_count": 8,
   "metadata": {},
   "outputs": [
    {
     "data": {
      "text/html": [
       "<div>\n",
       "<style>\n",
       "    .dataframe thead tr:only-child th {\n",
       "        text-align: right;\n",
       "    }\n",
       "\n",
       "    .dataframe thead th {\n",
       "        text-align: left;\n",
       "    }\n",
       "\n",
       "    .dataframe tbody tr th {\n",
       "        vertical-align: top;\n",
       "    }\n",
       "</style>\n",
       "<table border=\"1\" class=\"dataframe\">\n",
       "  <thead>\n",
       "    <tr style=\"text-align: right;\">\n",
       "      <th></th>\n",
       "      <th>Open</th>\n",
       "      <th>High</th>\n",
       "      <th>Low</th>\n",
       "      <th>Close</th>\n",
       "      <th>Adj Close</th>\n",
       "      <th>Volume</th>\n",
       "    </tr>\n",
       "    <tr>\n",
       "      <th>Date</th>\n",
       "      <th></th>\n",
       "      <th></th>\n",
       "      <th></th>\n",
       "      <th></th>\n",
       "      <th></th>\n",
       "      <th></th>\n",
       "    </tr>\n",
       "  </thead>\n",
       "  <tbody>\n",
       "    <tr>\n",
       "      <th>2017-09-27</th>\n",
       "      <td>64700.0</td>\n",
       "      <td>65800.0</td>\n",
       "      <td>64700.0</td>\n",
       "      <td>65800.0</td>\n",
       "      <td>65800.0</td>\n",
       "      <td>118293.0</td>\n",
       "    </tr>\n",
       "    <tr>\n",
       "      <th>2017-09-28</th>\n",
       "      <td>65000.0</td>\n",
       "      <td>65000.0</td>\n",
       "      <td>64100.0</td>\n",
       "      <td>64600.0</td>\n",
       "      <td>64600.0</td>\n",
       "      <td>169122.0</td>\n",
       "    </tr>\n",
       "    <tr>\n",
       "      <th>2017-09-29</th>\n",
       "      <td>64800.0</td>\n",
       "      <td>65600.0</td>\n",
       "      <td>64400.0</td>\n",
       "      <td>65600.0</td>\n",
       "      <td>65600.0</td>\n",
       "      <td>147107.0</td>\n",
       "    </tr>\n",
       "    <tr>\n",
       "      <th>2017-10-02</th>\n",
       "      <td>65600.0</td>\n",
       "      <td>65600.0</td>\n",
       "      <td>65600.0</td>\n",
       "      <td>65600.0</td>\n",
       "      <td>65600.0</td>\n",
       "      <td>0.0</td>\n",
       "    </tr>\n",
       "    <tr>\n",
       "      <th>2017-10-10</th>\n",
       "      <td>65600.0</td>\n",
       "      <td>65600.0</td>\n",
       "      <td>65600.0</td>\n",
       "      <td>65600.0</td>\n",
       "      <td>65600.0</td>\n",
       "      <td>0.0</td>\n",
       "    </tr>\n",
       "  </tbody>\n",
       "</table>\n",
       "</div>"
      ],
      "text/plain": [
       "               Open     High      Low    Close  Adj Close    Volume\n",
       "Date                                                               \n",
       "2017-09-27  64700.0  65800.0  64700.0  65800.0    65800.0  118293.0\n",
       "2017-09-28  65000.0  65000.0  64100.0  64600.0    64600.0  169122.0\n",
       "2017-09-29  64800.0  65600.0  64400.0  65600.0    65600.0  147107.0\n",
       "2017-10-02  65600.0  65600.0  65600.0  65600.0    65600.0       0.0\n",
       "2017-10-10  65600.0  65600.0  65600.0  65600.0    65600.0       0.0"
      ]
     },
     "execution_count": 8,
     "metadata": {},
     "output_type": "execute_result"
    }
   ],
   "source": [
    "gs.tail()"
   ]
  },
  {
   "cell_type": "code",
   "execution_count": 22,
   "metadata": {},
   "outputs": [
    {
     "data": {
      "text/plain": [
       "(927, 6)"
      ]
     },
     "execution_count": 22,
     "metadata": {},
     "output_type": "execute_result"
    }
   ],
   "source": [
    "gs.shape"
   ]
  },
  {
   "cell_type": "code",
   "execution_count": 84,
   "metadata": {
    "collapsed": true
   },
   "outputs": [],
   "source": [
    "from pandas_datareader import data, wb"
   ]
  },
  {
   "cell_type": "code",
   "execution_count": 4,
   "metadata": {},
   "outputs": [
    {
     "data": {
      "text/plain": [
       "['DataReader',\n",
       " 'EdgarIndexReader',\n",
       " 'EnigmaReader',\n",
       " 'EurostatReader',\n",
       " 'FamaFrenchReader',\n",
       " 'FredReader',\n",
       " 'GoogleDailyReader',\n",
       " 'GoogleOptions',\n",
       " 'GoogleQuotesReader',\n",
       " 'OECDReader',\n",
       " 'Options',\n",
       " 'QuandlReader',\n",
       " 'YahooActionReader',\n",
       " 'YahooDailyReader',\n",
       " 'YahooDivReader',\n",
       " 'YahooOptions',\n",
       " 'YahooQuotesReader',\n",
       " '__builtins__',\n",
       " '__cached__',\n",
       " '__doc__',\n",
       " '__file__',\n",
       " '__loader__',\n",
       " '__name__',\n",
       " '__package__',\n",
       " '__spec__',\n",
       " 'get_components_yahoo',\n",
       " 'get_data_enigma',\n",
       " 'get_data_famafrench',\n",
       " 'get_data_fred',\n",
       " 'get_data_google',\n",
       " 'get_data_quandl',\n",
       " 'get_data_yahoo',\n",
       " 'get_data_yahoo_actions',\n",
       " 'get_nasdaq_symbols',\n",
       " 'get_quote_google',\n",
       " 'get_quote_yahoo',\n",
       " 'warnings']"
      ]
     },
     "execution_count": 4,
     "metadata": {},
     "output_type": "execute_result"
    }
   ],
   "source": [
    "dir(data)"
   ]
  },
  {
   "cell_type": "code",
   "execution_count": 5,
   "metadata": {},
   "outputs": [
    {
     "data": {
      "text/plain": [
       "['WorldBankReader',\n",
       " '_BaseReader',\n",
       " '__builtins__',\n",
       " '__cached__',\n",
       " '__doc__',\n",
       " '__file__',\n",
       " '__loader__',\n",
       " '__name__',\n",
       " '__package__',\n",
       " '__spec__',\n",
       " '_cached_series',\n",
       " 'country_codes',\n",
       " 'download',\n",
       " 'get_countries',\n",
       " 'get_indicators',\n",
       " 'lrange',\n",
       " 'np',\n",
       " 'pd',\n",
       " 'reduce',\n",
       " 'search',\n",
       " 'string_types',\n",
       " 'warnings']"
      ]
     },
     "execution_count": 5,
     "metadata": {},
     "output_type": "execute_result"
    }
   ],
   "source": [
    "dir(wb)"
   ]
  },
  {
   "cell_type": "code",
   "execution_count": 6,
   "metadata": {},
   "outputs": [],
   "source": [
    "df = data.DataReader(\"KRX:KOSPI\", \"google\") "
   ]
  },
  {
   "cell_type": "code",
   "execution_count": 7,
   "metadata": {},
   "outputs": [
    {
     "data": {
      "text/html": [
       "<div>\n",
       "<style>\n",
       "    .dataframe thead tr:only-child th {\n",
       "        text-align: right;\n",
       "    }\n",
       "\n",
       "    .dataframe thead th {\n",
       "        text-align: left;\n",
       "    }\n",
       "\n",
       "    .dataframe tbody tr th {\n",
       "        vertical-align: top;\n",
       "    }\n",
       "</style>\n",
       "<table border=\"1\" class=\"dataframe\">\n",
       "  <thead>\n",
       "    <tr style=\"text-align: right;\">\n",
       "      <th></th>\n",
       "      <th>Open</th>\n",
       "      <th>High</th>\n",
       "      <th>Low</th>\n",
       "      <th>Close</th>\n",
       "      <th>Volume</th>\n",
       "    </tr>\n",
       "    <tr>\n",
       "      <th>Date</th>\n",
       "      <th></th>\n",
       "      <th></th>\n",
       "      <th></th>\n",
       "      <th></th>\n",
       "      <th></th>\n",
       "    </tr>\n",
       "  </thead>\n",
       "  <tbody>\n",
       "    <tr>\n",
       "      <th>2016-11-08</th>\n",
       "      <td>2009.56</td>\n",
       "      <td>2010.17</td>\n",
       "      <td>1994.33</td>\n",
       "      <td>2003.38</td>\n",
       "      <td>239579000</td>\n",
       "    </tr>\n",
       "    <tr>\n",
       "      <th>2016-11-09</th>\n",
       "      <td>2008.08</td>\n",
       "      <td>2015.23</td>\n",
       "      <td>1931.07</td>\n",
       "      <td>1958.38</td>\n",
       "      <td>709043000</td>\n",
       "    </tr>\n",
       "    <tr>\n",
       "      <th>2016-11-10</th>\n",
       "      <td>1989.85</td>\n",
       "      <td>2002.60</td>\n",
       "      <td>1983.26</td>\n",
       "      <td>2002.60</td>\n",
       "      <td>433884000</td>\n",
       "    </tr>\n",
       "    <tr>\n",
       "      <th>2016-11-11</th>\n",
       "      <td>1988.87</td>\n",
       "      <td>1994.05</td>\n",
       "      <td>1982.15</td>\n",
       "      <td>1984.43</td>\n",
       "      <td>386856000</td>\n",
       "    </tr>\n",
       "    <tr>\n",
       "      <th>2016-11-14</th>\n",
       "      <td>1982.93</td>\n",
       "      <td>1988.65</td>\n",
       "      <td>1974.27</td>\n",
       "      <td>1974.40</td>\n",
       "      <td>352116000</td>\n",
       "    </tr>\n",
       "  </tbody>\n",
       "</table>\n",
       "</div>"
      ],
      "text/plain": [
       "               Open     High      Low    Close     Volume\n",
       "Date                                                     \n",
       "2016-11-08  2009.56  2010.17  1994.33  2003.38  239579000\n",
       "2016-11-09  2008.08  2015.23  1931.07  1958.38  709043000\n",
       "2016-11-10  1989.85  2002.60  1983.26  2002.60  433884000\n",
       "2016-11-11  1988.87  1994.05  1982.15  1984.43  386856000\n",
       "2016-11-14  1982.93  1988.65  1974.27  1974.40  352116000"
      ]
     },
     "execution_count": 7,
     "metadata": {},
     "output_type": "execute_result"
    }
   ],
   "source": [
    "df.head()"
   ]
  },
  {
   "cell_type": "markdown",
   "metadata": {},
   "source": [
    "# 코스피 주가지수 가져오기"
   ]
  },
  {
   "cell_type": "markdown",
   "metadata": {},
   "source": [
    "## google 에서 읽어오기"
   ]
  },
  {
   "cell_type": "code",
   "execution_count": 9,
   "metadata": {
    "collapsed": true
   },
   "outputs": [],
   "source": [
    "from datetime import datetime"
   ]
  },
  {
   "cell_type": "code",
   "execution_count": 85,
   "metadata": {},
   "outputs": [],
   "source": [
    "df1 = data.DataReader(  \n",
    "    \"KRX:KOSPI\",        # name\n",
    "    \"google\",           # data source\n",
    "    start=datetime(2016, 11, 8) ,  # start\n",
    "    end=datetime(2017, 11, 6)   # end\n",
    ")"
   ]
  },
  {
   "cell_type": "code",
   "execution_count": 86,
   "metadata": {},
   "outputs": [
    {
     "data": {
      "text/html": [
       "<div>\n",
       "<style>\n",
       "    .dataframe thead tr:only-child th {\n",
       "        text-align: right;\n",
       "    }\n",
       "\n",
       "    .dataframe thead th {\n",
       "        text-align: left;\n",
       "    }\n",
       "\n",
       "    .dataframe tbody tr th {\n",
       "        vertical-align: top;\n",
       "    }\n",
       "</style>\n",
       "<table border=\"1\" class=\"dataframe\">\n",
       "  <thead>\n",
       "    <tr style=\"text-align: right;\">\n",
       "      <th></th>\n",
       "      <th>Open</th>\n",
       "      <th>High</th>\n",
       "      <th>Low</th>\n",
       "      <th>Close</th>\n",
       "      <th>Volume</th>\n",
       "    </tr>\n",
       "    <tr>\n",
       "      <th>Date</th>\n",
       "      <th></th>\n",
       "      <th></th>\n",
       "      <th></th>\n",
       "      <th></th>\n",
       "      <th></th>\n",
       "    </tr>\n",
       "  </thead>\n",
       "  <tbody>\n",
       "    <tr>\n",
       "      <th>2016-11-08</th>\n",
       "      <td>2009.56</td>\n",
       "      <td>2010.17</td>\n",
       "      <td>1994.33</td>\n",
       "      <td>2003.38</td>\n",
       "      <td>239579000</td>\n",
       "    </tr>\n",
       "    <tr>\n",
       "      <th>2016-11-09</th>\n",
       "      <td>2008.08</td>\n",
       "      <td>2015.23</td>\n",
       "      <td>1931.07</td>\n",
       "      <td>1958.38</td>\n",
       "      <td>709043000</td>\n",
       "    </tr>\n",
       "    <tr>\n",
       "      <th>2016-11-10</th>\n",
       "      <td>1989.85</td>\n",
       "      <td>2002.60</td>\n",
       "      <td>1983.26</td>\n",
       "      <td>2002.60</td>\n",
       "      <td>433884000</td>\n",
       "    </tr>\n",
       "    <tr>\n",
       "      <th>2016-11-11</th>\n",
       "      <td>1988.87</td>\n",
       "      <td>1994.05</td>\n",
       "      <td>1982.15</td>\n",
       "      <td>1984.43</td>\n",
       "      <td>386856000</td>\n",
       "    </tr>\n",
       "    <tr>\n",
       "      <th>2016-11-14</th>\n",
       "      <td>1982.93</td>\n",
       "      <td>1988.65</td>\n",
       "      <td>1974.27</td>\n",
       "      <td>1974.40</td>\n",
       "      <td>352116000</td>\n",
       "    </tr>\n",
       "  </tbody>\n",
       "</table>\n",
       "</div>"
      ],
      "text/plain": [
       "               Open     High      Low    Close     Volume\n",
       "Date                                                     \n",
       "2016-11-08  2009.56  2010.17  1994.33  2003.38  239579000\n",
       "2016-11-09  2008.08  2015.23  1931.07  1958.38  709043000\n",
       "2016-11-10  1989.85  2002.60  1983.26  2002.60  433884000\n",
       "2016-11-11  1988.87  1994.05  1982.15  1984.43  386856000\n",
       "2016-11-14  1982.93  1988.65  1974.27  1974.40  352116000"
      ]
     },
     "execution_count": 86,
     "metadata": {},
     "output_type": "execute_result"
    }
   ],
   "source": [
    "df1.head()"
   ]
  },
  {
   "cell_type": "code",
   "execution_count": 87,
   "metadata": {},
   "outputs": [
    {
     "data": {
      "text/plain": [
       "(244, 5)"
      ]
     },
     "execution_count": 87,
     "metadata": {},
     "output_type": "execute_result"
    }
   ],
   "source": [
    "df1.shape"
   ]
  },
  {
   "cell_type": "code",
   "execution_count": 88,
   "metadata": {},
   "outputs": [
    {
     "data": {
      "text/plain": [
       "DatetimeIndex(['2016-11-08', '2016-11-09', '2016-11-10', '2016-11-11',\n",
       "               '2016-11-14', '2016-11-15', '2016-11-16', '2016-11-17',\n",
       "               '2016-11-18', '2016-11-21',\n",
       "               ...\n",
       "               '2017-10-24', '2017-10-25', '2017-10-26', '2017-10-27',\n",
       "               '2017-10-30', '2017-10-31', '2017-11-01', '2017-11-02',\n",
       "               '2017-11-03', '2017-11-06'],\n",
       "              dtype='datetime64[ns]', name='Date', length=244, freq=None)"
      ]
     },
     "execution_count": 88,
     "metadata": {},
     "output_type": "execute_result"
    }
   ],
   "source": [
    "df1.index"
   ]
  },
  {
   "cell_type": "code",
   "execution_count": 29,
   "metadata": {},
   "outputs": [
    {
     "data": {
      "text/plain": [
       "Index(['Open', 'High', 'Low', 'Close', 'Volume'], dtype='object')"
      ]
     },
     "execution_count": 29,
     "metadata": {},
     "output_type": "execute_result"
    }
   ],
   "source": [
    "df1.columns"
   ]
  },
  {
   "cell_type": "code",
   "execution_count": 32,
   "metadata": {},
   "outputs": [],
   "source": [
    "%matplotlib inline"
   ]
  },
  {
   "cell_type": "code",
   "execution_count": 36,
   "metadata": {},
   "outputs": [
    {
     "data": {
      "text/plain": [
       "(736276.0, 736639.0)"
      ]
     },
     "execution_count": 36,
     "metadata": {},
     "output_type": "execute_result"
    },
    {
     "data": {
      "image/png": "[encoded data removed]",
      "text/plain": [
       "<matplotlib.figure.Figure at 0x1162fac88>"
      ]
     },
     "metadata": {},
     "output_type": "display_data"
    }
   ],
   "source": [
    "ax = df.Close.plot()\n",
    "\n",
    "ax.set_title(\"KOSPI 2016 2017\")  \n",
    "ax.set_ylabel(\"Index\")  \n",
    "ax.set_xlim(\"2016-11-08\", \"2017-11-06\") "
   ]
  },
  {
   "cell_type": "code",
   "execution_count": 64,
   "metadata": {
    "collapsed": true
   },
   "outputs": [],
   "source": [
    "df2 = data.get_data_google(\"KRX:KOSPI\")  "
   ]
  },
  {
   "cell_type": "code",
   "execution_count": 65,
   "metadata": {},
   "outputs": [
    {
     "data": {
      "text/html": [
       "<div>\n",
       "<style>\n",
       "    .dataframe thead tr:only-child th {\n",
       "        text-align: right;\n",
       "    }\n",
       "\n",
       "    .dataframe thead th {\n",
       "        text-align: left;\n",
       "    }\n",
       "\n",
       "    .dataframe tbody tr th {\n",
       "        vertical-align: top;\n",
       "    }\n",
       "</style>\n",
       "<table border=\"1\" class=\"dataframe\">\n",
       "  <thead>\n",
       "    <tr style=\"text-align: right;\">\n",
       "      <th></th>\n",
       "      <th>Open</th>\n",
       "      <th>High</th>\n",
       "      <th>Low</th>\n",
       "      <th>Close</th>\n",
       "      <th>Volume</th>\n",
       "    </tr>\n",
       "    <tr>\n",
       "      <th>Date</th>\n",
       "      <th></th>\n",
       "      <th></th>\n",
       "      <th></th>\n",
       "      <th></th>\n",
       "      <th></th>\n",
       "    </tr>\n",
       "  </thead>\n",
       "  <tbody>\n",
       "    <tr>\n",
       "      <th>2016-11-08</th>\n",
       "      <td>2009.56</td>\n",
       "      <td>2010.17</td>\n",
       "      <td>1994.33</td>\n",
       "      <td>2003.38</td>\n",
       "      <td>239579000</td>\n",
       "    </tr>\n",
       "    <tr>\n",
       "      <th>2016-11-09</th>\n",
       "      <td>2008.08</td>\n",
       "      <td>2015.23</td>\n",
       "      <td>1931.07</td>\n",
       "      <td>1958.38</td>\n",
       "      <td>709043000</td>\n",
       "    </tr>\n",
       "    <tr>\n",
       "      <th>2016-11-10</th>\n",
       "      <td>1989.85</td>\n",
       "      <td>2002.60</td>\n",
       "      <td>1983.26</td>\n",
       "      <td>2002.60</td>\n",
       "      <td>433884000</td>\n",
       "    </tr>\n",
       "    <tr>\n",
       "      <th>2016-11-11</th>\n",
       "      <td>1988.87</td>\n",
       "      <td>1994.05</td>\n",
       "      <td>1982.15</td>\n",
       "      <td>1984.43</td>\n",
       "      <td>386856000</td>\n",
       "    </tr>\n",
       "    <tr>\n",
       "      <th>2016-11-14</th>\n",
       "      <td>1982.93</td>\n",
       "      <td>1988.65</td>\n",
       "      <td>1974.27</td>\n",
       "      <td>1974.40</td>\n",
       "      <td>352116000</td>\n",
       "    </tr>\n",
       "  </tbody>\n",
       "</table>\n",
       "</div>"
      ],
      "text/plain": [
       "               Open     High      Low    Close     Volume\n",
       "Date                                                     \n",
       "2016-11-08  2009.56  2010.17  1994.33  2003.38  239579000\n",
       "2016-11-09  2008.08  2015.23  1931.07  1958.38  709043000\n",
       "2016-11-10  1989.85  2002.60  1983.26  2002.60  433884000\n",
       "2016-11-11  1988.87  1994.05  1982.15  1984.43  386856000\n",
       "2016-11-14  1982.93  1988.65  1974.27  1974.40  352116000"
      ]
     },
     "execution_count": 65,
     "metadata": {},
     "output_type": "execute_result"
    }
   ],
   "source": [
    "df2.head()"
   ]
  },
  {
   "cell_type": "code",
   "execution_count": 66,
   "metadata": {},
   "outputs": [
    {
     "data": {
      "text/html": [
       "<div>\n",
       "<style>\n",
       "    .dataframe thead tr:only-child th {\n",
       "        text-align: right;\n",
       "    }\n",
       "\n",
       "    .dataframe thead th {\n",
       "        text-align: left;\n",
       "    }\n",
       "\n",
       "    .dataframe tbody tr th {\n",
       "        vertical-align: top;\n",
       "    }\n",
       "</style>\n",
       "<table border=\"1\" class=\"dataframe\">\n",
       "  <thead>\n",
       "    <tr style=\"text-align: right;\">\n",
       "      <th></th>\n",
       "      <th>Open</th>\n",
       "      <th>High</th>\n",
       "      <th>Low</th>\n",
       "      <th>Close</th>\n",
       "      <th>Volume</th>\n",
       "    </tr>\n",
       "    <tr>\n",
       "      <th>Date</th>\n",
       "      <th></th>\n",
       "      <th></th>\n",
       "      <th></th>\n",
       "      <th></th>\n",
       "      <th></th>\n",
       "    </tr>\n",
       "  </thead>\n",
       "  <tbody>\n",
       "    <tr>\n",
       "      <th>2017-10-31</th>\n",
       "      <td>2500.21</td>\n",
       "      <td>2528.32</td>\n",
       "      <td>2498.05</td>\n",
       "      <td>2523.43</td>\n",
       "      <td>313787000</td>\n",
       "    </tr>\n",
       "    <tr>\n",
       "      <th>2017-11-01</th>\n",
       "      <td>2535.97</td>\n",
       "      <td>2556.47</td>\n",
       "      <td>2535.83</td>\n",
       "      <td>2556.47</td>\n",
       "      <td>361796000</td>\n",
       "    </tr>\n",
       "    <tr>\n",
       "      <th>2017-11-02</th>\n",
       "      <td>2560.34</td>\n",
       "      <td>2561.63</td>\n",
       "      <td>2542.02</td>\n",
       "      <td>2546.36</td>\n",
       "      <td>527727000</td>\n",
       "    </tr>\n",
       "    <tr>\n",
       "      <th>2017-11-03</th>\n",
       "      <td>2558.37</td>\n",
       "      <td>2558.37</td>\n",
       "      <td>2539.72</td>\n",
       "      <td>2557.97</td>\n",
       "      <td>292766000</td>\n",
       "    </tr>\n",
       "    <tr>\n",
       "      <th>2017-11-06</th>\n",
       "      <td>2557.29</td>\n",
       "      <td>2559.90</td>\n",
       "      <td>2529.94</td>\n",
       "      <td>2549.41</td>\n",
       "      <td>221187000</td>\n",
       "    </tr>\n",
       "  </tbody>\n",
       "</table>\n",
       "</div>"
      ],
      "text/plain": [
       "               Open     High      Low    Close     Volume\n",
       "Date                                                     \n",
       "2017-10-31  2500.21  2528.32  2498.05  2523.43  313787000\n",
       "2017-11-01  2535.97  2556.47  2535.83  2556.47  361796000\n",
       "2017-11-02  2560.34  2561.63  2542.02  2546.36  527727000\n",
       "2017-11-03  2558.37  2558.37  2539.72  2557.97  292766000\n",
       "2017-11-06  2557.29  2559.90  2529.94  2549.41  221187000"
      ]
     },
     "execution_count": 66,
     "metadata": {},
     "output_type": "execute_result"
    }
   ],
   "source": [
    "df2.tail()"
   ]
  },
  {
   "cell_type": "markdown",
   "metadata": {},
   "source": [
    "## 각 항목별로 조회"
   ]
  },
  {
   "cell_type": "code",
   "execution_count": 40,
   "metadata": {},
   "outputs": [
    {
     "data": {
      "text/plain": [
       "Date\n",
       "2016-11-08    2003.38\n",
       "2016-11-09    1958.38\n",
       "2016-11-10    2002.60\n",
       "2016-11-11    1984.43\n",
       "2016-11-14    1974.40\n",
       "2016-11-15    1967.53\n",
       "2016-11-16    1979.65\n",
       "2016-11-17    1980.55\n",
       "2016-11-18    1974.58\n",
       "2016-11-21    1966.05\n",
       "2016-11-22    1983.47\n",
       "2016-11-23    1987.95\n",
       "2016-11-24    1971.26\n",
       "2016-11-25    1974.46\n",
       "2016-11-28    1978.13\n",
       "2016-11-29    1978.39\n",
       "2016-11-30    1983.48\n",
       "2016-12-01    1983.75\n",
       "2016-12-02    1970.61\n",
       "2016-12-05    1963.36\n",
       "2016-12-06    1989.86\n",
       "2016-12-07    1991.89\n",
       "2016-12-08    2031.07\n",
       "2016-12-09    2024.69\n",
       "2016-12-12    2027.24\n",
       "2016-12-13    2035.98\n",
       "2016-12-14    2036.87\n",
       "2016-12-15    2036.65\n",
       "2016-12-16    2042.24\n",
       "2016-12-19    2038.39\n",
       "               ...   \n",
       "2017-09-18    2418.21\n",
       "2017-09-19    2416.05\n",
       "2017-09-20    2412.20\n",
       "2017-09-21    2406.50\n",
       "2017-09-22    2388.71\n",
       "2017-09-25    2380.40\n",
       "2017-09-26    2374.32\n",
       "2017-09-27    2372.57\n",
       "2017-09-28    2373.14\n",
       "2017-09-29    2394.47\n",
       "2017-10-10    2433.81\n",
       "2017-10-11    2458.16\n",
       "2017-10-12    2474.76\n",
       "2017-10-13    2473.62\n",
       "2017-10-16    2480.05\n",
       "2017-10-17    2484.37\n",
       "2017-10-18    2482.91\n",
       "2017-10-19    2473.06\n",
       "2017-10-20    2489.54\n",
       "2017-10-23    2490.05\n",
       "2017-10-24    2490.49\n",
       "2017-10-25    2492.50\n",
       "2017-10-26    2480.63\n",
       "2017-10-27    2496.63\n",
       "2017-10-30    2501.93\n",
       "2017-10-31    2523.43\n",
       "2017-11-01    2556.47\n",
       "2017-11-02    2546.36\n",
       "2017-11-03    2557.97\n",
       "2017-11-06    2549.41\n",
       "Name: Close, Length: 244, dtype: float64"
      ]
     },
     "execution_count": 40,
     "metadata": {},
     "output_type": "execute_result"
    }
   ],
   "source": [
    "df2.Close"
   ]
  },
  {
   "cell_type": "code",
   "execution_count": 71,
   "metadata": {},
   "outputs": [],
   "source": [
    "df122 = data.DataReader(  \n",
    "    \"KRX:KOSPI\",        # name\n",
    "    \"google\",           # data source\n",
    "    start=datetime(2016, 11, 8) ,  # start\n",
    "    end=datetime(2017, 11, 6)   # end\n",
    ")"
   ]
  },
  {
   "cell_type": "markdown",
   "metadata": {},
   "source": [
    "## 코스닥 정보 처리 에러 발생"
   ]
  },
  {
   "cell_type": "code",
   "execution_count": 99,
   "metadata": {},
   "outputs": [
    {
     "ename": "RemoteDataError",
     "evalue": "Unable to read URL: http://www.google.com/finance/historical?q=KCI%3AKOSDAQ&startdate=Jan+01%2C+2010&enddate=Nov+07%2C+2017&output=csv",
     "output_type": "error",
     "traceback": [
      "\u001b[0;31m---------------------------------------------------------------------------\u001b[0m",
      "\u001b[0;31mRemoteDataError\u001b[0m                           Traceback (most recent call last)",
      "\u001b[0;32m<ipython-input-99-a830bfbbfa03>\u001b[0m in \u001b[0;36m<module>\u001b[0;34m()\u001b[0m\n\u001b[0;32m----> 1\u001b[0;31m \u001b[0mdf22\u001b[0m \u001b[0;34m=\u001b[0m \u001b[0mdata\u001b[0m\u001b[0;34m.\u001b[0m\u001b[0mget_data_google\u001b[0m\u001b[0;34m(\u001b[0m\u001b[0;34m\"KCI:KOSDAQ\"\u001b[0m\u001b[0;34m)\u001b[0m\u001b[0;34m\u001b[0m\u001b[0m\n\u001b[0m",
      "\u001b[0;32m~/anaconda/lib/python3.6/site-packages/pandas_datareader/data.py\u001b[0m in \u001b[0;36mget_data_google\u001b[0;34m(*args, **kwargs)\u001b[0m\n\u001b[1;32m     34\u001b[0m \u001b[0;34m\u001b[0m\u001b[0m\n\u001b[1;32m     35\u001b[0m \u001b[0;32mdef\u001b[0m \u001b[0mget_data_google\u001b[0m\u001b[0;34m(\u001b[0m\u001b[0;34m*\u001b[0m\u001b[0margs\u001b[0m\u001b[0;34m,\u001b[0m \u001b[0;34m**\u001b[0m\u001b[0mkwargs\u001b[0m\u001b[0;34m)\u001b[0m\u001b[0;34m:\u001b[0m\u001b[0;34m\u001b[0m\u001b[0m\n\u001b[0;32m---> 36\u001b[0;31m     \u001b[0;32mreturn\u001b[0m \u001b[0mGoogleDailyReader\u001b[0m\u001b[0;34m(\u001b[0m\u001b[0;34m*\u001b[0m\u001b[0margs\u001b[0m\u001b[0;34m,\u001b[0m \u001b[0;34m**\u001b[0m\u001b[0mkwargs\u001b[0m\u001b[0;34m)\u001b[0m\u001b[0;34m.\u001b[0m\u001b[0mread\u001b[0m\u001b[0;34m(\u001b[0m\u001b[0;34m)\u001b[0m\u001b[0;34m\u001b[0m\u001b[0m\n\u001b[0m\u001b[1;32m     37\u001b[0m \u001b[0;34m\u001b[0m\u001b[0m\n\u001b[1;32m     38\u001b[0m \u001b[0;34m\u001b[0m\u001b[0m\n",
      "\u001b[0;32m~/anaconda/lib/python3.6/site-packages/pandas_datareader/base.py\u001b[0m in \u001b[0;36mread\u001b[0;34m(self)\u001b[0m\n\u001b[1;32m    179\u001b[0m         \u001b[0;32mif\u001b[0m \u001b[0misinstance\u001b[0m\u001b[0;34m(\u001b[0m\u001b[0mself\u001b[0m\u001b[0;34m.\u001b[0m\u001b[0msymbols\u001b[0m\u001b[0;34m,\u001b[0m \u001b[0;34m(\u001b[0m\u001b[0mcompat\u001b[0m\u001b[0;34m.\u001b[0m\u001b[0mstring_types\u001b[0m\u001b[0;34m,\u001b[0m \u001b[0mint\u001b[0m\u001b[0;34m)\u001b[0m\u001b[0;34m)\u001b[0m\u001b[0;34m:\u001b[0m\u001b[0;34m\u001b[0m\u001b[0m\n\u001b[1;32m    180\u001b[0m             df = self._read_one_data(self.url,\n\u001b[0;32m--> 181\u001b[0;31m                                      params=self._get_params(self.symbols))\n\u001b[0m\u001b[1;32m    182\u001b[0m         \u001b[0;31m# Or multiple symbols, (e.g., ['GOOG', 'AAPL', 'MSFT'])\u001b[0m\u001b[0;34m\u001b[0m\u001b[0;34m\u001b[0m\u001b[0m\n\u001b[1;32m    183\u001b[0m         \u001b[0;32melif\u001b[0m \u001b[0misinstance\u001b[0m\u001b[0;34m(\u001b[0m\u001b[0mself\u001b[0m\u001b[0;34m.\u001b[0m\u001b[0msymbols\u001b[0m\u001b[0;34m,\u001b[0m \u001b[0mDataFrame\u001b[0m\u001b[0;34m)\u001b[0m\u001b[0;34m:\u001b[0m\u001b[0;34m\u001b[0m\u001b[0m\n",
      "\u001b[0;32m~/anaconda/lib/python3.6/site-packages/pandas_datareader/base.py\u001b[0m in \u001b[0;36m_read_one_data\u001b[0;34m(self, url, params)\u001b[0m\n\u001b[1;32m     77\u001b[0m         \u001b[0;34m\"\"\" read one data from specified URL \"\"\"\u001b[0m\u001b[0;34m\u001b[0m\u001b[0m\n\u001b[1;32m     78\u001b[0m         \u001b[0;32mif\u001b[0m \u001b[0mself\u001b[0m\u001b[0;34m.\u001b[0m\u001b[0m_format\u001b[0m \u001b[0;34m==\u001b[0m \u001b[0;34m'string'\u001b[0m\u001b[0;34m:\u001b[0m\u001b[0;34m\u001b[0m\u001b[0m\n\u001b[0;32m---> 79\u001b[0;31m             \u001b[0mout\u001b[0m \u001b[0;34m=\u001b[0m \u001b[0mself\u001b[0m\u001b[0;34m.\u001b[0m\u001b[0m_read_url_as_StringIO\u001b[0m\u001b[0;34m(\u001b[0m\u001b[0murl\u001b[0m\u001b[0;34m,\u001b[0m \u001b[0mparams\u001b[0m\u001b[0;34m=\u001b[0m\u001b[0mparams\u001b[0m\u001b[0;34m)\u001b[0m\u001b[0;34m\u001b[0m\u001b[0m\n\u001b[0m\u001b[1;32m     80\u001b[0m         \u001b[0;32melif\u001b[0m \u001b[0mself\u001b[0m\u001b[0;34m.\u001b[0m\u001b[0m_format\u001b[0m \u001b[0;34m==\u001b[0m \u001b[0;34m'json'\u001b[0m\u001b[0;34m:\u001b[0m\u001b[0;34m\u001b[0m\u001b[0m\n\u001b[1;32m     81\u001b[0m             \u001b[0mout\u001b[0m \u001b[0;34m=\u001b[0m \u001b[0mself\u001b[0m\u001b[0;34m.\u001b[0m\u001b[0m_get_response\u001b[0m\u001b[0;34m(\u001b[0m\u001b[0murl\u001b[0m\u001b[0;34m,\u001b[0m \u001b[0mparams\u001b[0m\u001b[0;34m=\u001b[0m\u001b[0mparams\u001b[0m\u001b[0;34m)\u001b[0m\u001b[0;34m.\u001b[0m\u001b[0mjson\u001b[0m\u001b[0;34m(\u001b[0m\u001b[0;34m)\u001b[0m\u001b[0;34m\u001b[0m\u001b[0m\n",
      "\u001b[0;32m~/anaconda/lib/python3.6/site-packages/pandas_datareader/base.py\u001b[0m in \u001b[0;36m_read_url_as_StringIO\u001b[0;34m(self, url, params)\u001b[0m\n\u001b[1;32m     88\u001b[0m         \u001b[0mOpen\u001b[0m \u001b[0murl\u001b[0m \u001b[0;34m(\u001b[0m\u001b[0;32mand\u001b[0m \u001b[0mretry\u001b[0m\u001b[0;34m)\u001b[0m\u001b[0;34m\u001b[0m\u001b[0m\n\u001b[1;32m     89\u001b[0m         \"\"\"\n\u001b[0;32m---> 90\u001b[0;31m         \u001b[0mresponse\u001b[0m \u001b[0;34m=\u001b[0m \u001b[0mself\u001b[0m\u001b[0;34m.\u001b[0m\u001b[0m_get_response\u001b[0m\u001b[0;34m(\u001b[0m\u001b[0murl\u001b[0m\u001b[0;34m,\u001b[0m \u001b[0mparams\u001b[0m\u001b[0;34m=\u001b[0m\u001b[0mparams\u001b[0m\u001b[0;34m)\u001b[0m\u001b[0;34m\u001b[0m\u001b[0m\n\u001b[0m\u001b[1;32m     91\u001b[0m         \u001b[0mtext\u001b[0m \u001b[0;34m=\u001b[0m \u001b[0mself\u001b[0m\u001b[0;34m.\u001b[0m\u001b[0m_sanitize_response\u001b[0m\u001b[0;34m(\u001b[0m\u001b[0mresponse\u001b[0m\u001b[0;34m)\u001b[0m\u001b[0;34m\u001b[0m\u001b[0m\n\u001b[1;32m     92\u001b[0m         \u001b[0mout\u001b[0m \u001b[0;34m=\u001b[0m \u001b[0mStringIO\u001b[0m\u001b[0;34m(\u001b[0m\u001b[0;34m)\u001b[0m\u001b[0;34m\u001b[0m\u001b[0m\n",
      "\u001b[0;32m~/anaconda/lib/python3.6/site-packages/pandas_datareader/base.py\u001b[0m in \u001b[0;36m_get_response\u001b[0;34m(self, url, params, headers)\u001b[0m\n\u001b[1;32m    137\u001b[0m         \u001b[0;32mif\u001b[0m \u001b[0mparams\u001b[0m \u001b[0;32mis\u001b[0m \u001b[0;32mnot\u001b[0m \u001b[0;32mNone\u001b[0m \u001b[0;32mand\u001b[0m \u001b[0mlen\u001b[0m\u001b[0;34m(\u001b[0m\u001b[0mparams\u001b[0m\u001b[0;34m)\u001b[0m \u001b[0;34m>\u001b[0m \u001b[0;36m0\u001b[0m\u001b[0;34m:\u001b[0m\u001b[0;34m\u001b[0m\u001b[0m\n\u001b[1;32m    138\u001b[0m             \u001b[0murl\u001b[0m \u001b[0;34m=\u001b[0m \u001b[0murl\u001b[0m \u001b[0;34m+\u001b[0m \u001b[0;34m\"?\"\u001b[0m \u001b[0;34m+\u001b[0m \u001b[0murlencode\u001b[0m\u001b[0;34m(\u001b[0m\u001b[0mparams\u001b[0m\u001b[0;34m)\u001b[0m\u001b[0;34m\u001b[0m\u001b[0m\n\u001b[0;32m--> 139\u001b[0;31m         \u001b[0;32mraise\u001b[0m \u001b[0mRemoteDataError\u001b[0m\u001b[0;34m(\u001b[0m\u001b[0;34m'Unable to read URL: {0}'\u001b[0m\u001b[0;34m.\u001b[0m\u001b[0mformat\u001b[0m\u001b[0;34m(\u001b[0m\u001b[0murl\u001b[0m\u001b[0;34m)\u001b[0m\u001b[0;34m)\u001b[0m\u001b[0;34m\u001b[0m\u001b[0m\n\u001b[0m\u001b[1;32m    140\u001b[0m \u001b[0;34m\u001b[0m\u001b[0m\n\u001b[1;32m    141\u001b[0m     \u001b[0;32mdef\u001b[0m \u001b[0m_get_crumb\u001b[0m\u001b[0;34m(\u001b[0m\u001b[0mself\u001b[0m\u001b[0;34m,\u001b[0m \u001b[0;34m*\u001b[0m\u001b[0margs\u001b[0m\u001b[0;34m)\u001b[0m\u001b[0;34m:\u001b[0m\u001b[0;34m\u001b[0m\u001b[0m\n",
      "\u001b[0;31mRemoteDataError\u001b[0m: Unable to read URL: http://www.google.com/finance/historical?q=KCI%3AKOSDAQ&startdate=Jan+01%2C+2010&enddate=Nov+07%2C+2017&output=csv"
     ]
    }
   ],
   "source": [
    "df22 = data.get_data_google(\"KCI:KOSDAQ\")  "
   ]
  },
  {
   "cell_type": "code",
   "execution_count": 78,
   "metadata": {},
   "outputs": [
    {
     "name": "stdout",
     "output_type": "stream",
     "text": [
      "Help on function get_data_google in module pandas_datareader.data:\n",
      "\n",
      "get_data_google(*args, **kwargs)\n",
      "\n"
     ]
    }
   ],
   "source": [
    "help(data.get_data_google)"
   ]
  },
  {
   "cell_type": "code",
   "execution_count": 75,
   "metadata": {},
   "outputs": [
    {
     "name": "stdout",
     "output_type": "stream",
     "text": [
      "Help on function get_data_yahoo in module pandas_datareader.data:\n",
      "\n",
      "get_data_yahoo(*args, **kwargs)\n",
      "\n"
     ]
    }
   ],
   "source": [
    "help(data.get_data_yahoo)"
   ]
  },
  {
   "cell_type": "markdown",
   "metadata": {},
   "source": [
    "# 종목별로 데이터 가져오기"
   ]
  },
  {
   "cell_type": "markdown",
   "metadata": {},
   "source": [
    "## 코스피는 KS, 코스닥은 KQ"
   ]
  },
  {
   "cell_type": "code",
   "execution_count": 51,
   "metadata": {},
   "outputs": [],
   "source": [
    "cell = web.DataReader(\"068760.KQ\", \"yahoo\", \"2017-01-01\", \"2017-11-06\")"
   ]
  },
  {
   "cell_type": "code",
   "execution_count": 52,
   "metadata": {},
   "outputs": [
    {
     "data": {
      "text/html": [
       "<div>\n",
       "<style>\n",
       "    .dataframe thead tr:only-child th {\n",
       "        text-align: right;\n",
       "    }\n",
       "\n",
       "    .dataframe thead th {\n",
       "        text-align: left;\n",
       "    }\n",
       "\n",
       "    .dataframe tbody tr th {\n",
       "        vertical-align: top;\n",
       "    }\n",
       "</style>\n",
       "<table border=\"1\" class=\"dataframe\">\n",
       "  <thead>\n",
       "    <tr style=\"text-align: right;\">\n",
       "      <th></th>\n",
       "      <th>Open</th>\n",
       "      <th>High</th>\n",
       "      <th>Low</th>\n",
       "      <th>Close</th>\n",
       "      <th>Adj Close</th>\n",
       "      <th>Volume</th>\n",
       "    </tr>\n",
       "    <tr>\n",
       "      <th>Date</th>\n",
       "      <th></th>\n",
       "      <th></th>\n",
       "      <th></th>\n",
       "      <th></th>\n",
       "      <th></th>\n",
       "      <th></th>\n",
       "    </tr>\n",
       "  </thead>\n",
       "  <tbody>\n",
       "    <tr>\n",
       "      <th>2017-01-02</th>\n",
       "      <td>23850.0</td>\n",
       "      <td>23850.0</td>\n",
       "      <td>23150.0</td>\n",
       "      <td>23450.0</td>\n",
       "      <td>23450.0</td>\n",
       "      <td>153947</td>\n",
       "    </tr>\n",
       "    <tr>\n",
       "      <th>2017-01-03</th>\n",
       "      <td>23250.0</td>\n",
       "      <td>23350.0</td>\n",
       "      <td>22950.0</td>\n",
       "      <td>23200.0</td>\n",
       "      <td>23200.0</td>\n",
       "      <td>161239</td>\n",
       "    </tr>\n",
       "    <tr>\n",
       "      <th>2017-01-04</th>\n",
       "      <td>23350.0</td>\n",
       "      <td>23350.0</td>\n",
       "      <td>22850.0</td>\n",
       "      <td>23000.0</td>\n",
       "      <td>23000.0</td>\n",
       "      <td>81858</td>\n",
       "    </tr>\n",
       "    <tr>\n",
       "      <th>2017-01-05</th>\n",
       "      <td>23100.0</td>\n",
       "      <td>23700.0</td>\n",
       "      <td>22850.0</td>\n",
       "      <td>23500.0</td>\n",
       "      <td>23500.0</td>\n",
       "      <td>141192</td>\n",
       "    </tr>\n",
       "    <tr>\n",
       "      <th>2017-01-06</th>\n",
       "      <td>23400.0</td>\n",
       "      <td>23450.0</td>\n",
       "      <td>22950.0</td>\n",
       "      <td>23000.0</td>\n",
       "      <td>23000.0</td>\n",
       "      <td>100135</td>\n",
       "    </tr>\n",
       "  </tbody>\n",
       "</table>\n",
       "</div>"
      ],
      "text/plain": [
       "               Open     High      Low    Close  Adj Close  Volume\n",
       "Date                                                             \n",
       "2017-01-02  23850.0  23850.0  23150.0  23450.0    23450.0  153947\n",
       "2017-01-03  23250.0  23350.0  22950.0  23200.0    23200.0  161239\n",
       "2017-01-04  23350.0  23350.0  22850.0  23000.0    23000.0   81858\n",
       "2017-01-05  23100.0  23700.0  22850.0  23500.0    23500.0  141192\n",
       "2017-01-06  23400.0  23450.0  22950.0  23000.0    23000.0  100135"
      ]
     },
     "execution_count": 52,
     "metadata": {},
     "output_type": "execute_result"
    }
   ],
   "source": [
    "cell.head()"
   ]
  },
  {
   "cell_type": "code",
   "execution_count": 53,
   "metadata": {},
   "outputs": [
    {
     "data": {
      "text/html": [
       "<div>\n",
       "<style>\n",
       "    .dataframe thead tr:only-child th {\n",
       "        text-align: right;\n",
       "    }\n",
       "\n",
       "    .dataframe thead th {\n",
       "        text-align: left;\n",
       "    }\n",
       "\n",
       "    .dataframe tbody tr th {\n",
       "        vertical-align: top;\n",
       "    }\n",
       "</style>\n",
       "<table border=\"1\" class=\"dataframe\">\n",
       "  <thead>\n",
       "    <tr style=\"text-align: right;\">\n",
       "      <th></th>\n",
       "      <th>Open</th>\n",
       "      <th>High</th>\n",
       "      <th>Low</th>\n",
       "      <th>Close</th>\n",
       "      <th>Adj Close</th>\n",
       "      <th>Volume</th>\n",
       "    </tr>\n",
       "    <tr>\n",
       "      <th>Date</th>\n",
       "      <th></th>\n",
       "      <th></th>\n",
       "      <th></th>\n",
       "      <th></th>\n",
       "      <th></th>\n",
       "      <th></th>\n",
       "    </tr>\n",
       "  </thead>\n",
       "  <tbody>\n",
       "    <tr>\n",
       "      <th>2017-10-31</th>\n",
       "      <td>30300.0</td>\n",
       "      <td>34400.0</td>\n",
       "      <td>29500.0</td>\n",
       "      <td>33500.0</td>\n",
       "      <td>33500.0</td>\n",
       "      <td>3454651</td>\n",
       "    </tr>\n",
       "    <tr>\n",
       "      <th>2017-11-01</th>\n",
       "      <td>33900.0</td>\n",
       "      <td>35500.0</td>\n",
       "      <td>32750.0</td>\n",
       "      <td>33100.0</td>\n",
       "      <td>33100.0</td>\n",
       "      <td>1820124</td>\n",
       "    </tr>\n",
       "    <tr>\n",
       "      <th>2017-11-02</th>\n",
       "      <td>34000.0</td>\n",
       "      <td>34500.0</td>\n",
       "      <td>32550.0</td>\n",
       "      <td>33300.0</td>\n",
       "      <td>33300.0</td>\n",
       "      <td>1018293</td>\n",
       "    </tr>\n",
       "    <tr>\n",
       "      <th>2017-11-03</th>\n",
       "      <td>33950.0</td>\n",
       "      <td>34900.0</td>\n",
       "      <td>33200.0</td>\n",
       "      <td>33200.0</td>\n",
       "      <td>33200.0</td>\n",
       "      <td>1369710</td>\n",
       "    </tr>\n",
       "    <tr>\n",
       "      <th>2017-11-06</th>\n",
       "      <td>33550.0</td>\n",
       "      <td>33950.0</td>\n",
       "      <td>32200.0</td>\n",
       "      <td>33050.0</td>\n",
       "      <td>33050.0</td>\n",
       "      <td>577575</td>\n",
       "    </tr>\n",
       "  </tbody>\n",
       "</table>\n",
       "</div>"
      ],
      "text/plain": [
       "               Open     High      Low    Close  Adj Close   Volume\n",
       "Date                                                              \n",
       "2017-10-31  30300.0  34400.0  29500.0  33500.0    33500.0  3454651\n",
       "2017-11-01  33900.0  35500.0  32750.0  33100.0    33100.0  1820124\n",
       "2017-11-02  34000.0  34500.0  32550.0  33300.0    33300.0  1018293\n",
       "2017-11-03  33950.0  34900.0  33200.0  33200.0    33200.0  1369710\n",
       "2017-11-06  33550.0  33950.0  32200.0  33050.0    33050.0   577575"
      ]
     },
     "execution_count": 53,
     "metadata": {},
     "output_type": "execute_result"
    }
   ],
   "source": [
    "cell.tail()"
   ]
  },
  {
   "cell_type": "code",
   "execution_count": 54,
   "metadata": {
    "collapsed": true
   },
   "outputs": [],
   "source": [
    "cell.to_csv('data/cell.csv')"
   ]
  },
  {
   "cell_type": "code",
   "execution_count": 55,
   "metadata": {},
   "outputs": [
    {
     "name": "stdout",
     "output_type": "stream",
     "text": [
      "bar.csv       datatypes.csv example.csv   temp.txt\r\n",
      "cell.csv      ex2.csv       foo.csv       test.xlsx\r\n",
      "counties.csv  ex3.tsv       plaza.csv     ~$test.xlsx\r\n"
     ]
    }
   ],
   "source": [
    "!ls data/"
   ]
  },
  {
   "cell_type": "code",
   "execution_count": 110,
   "metadata": {},
   "outputs": [],
   "source": [
    "cell_g = web.DataReader(\"068760.KQ\", \"yahoo\", \"2017-01-01\", \"2017-11-06\")"
   ]
  },
  {
   "cell_type": "code",
   "execution_count": 111,
   "metadata": {},
   "outputs": [
    {
     "ename": "RemoteDataError",
     "evalue": "Unable to read URL: http://www.google.com/finance/historical?q=KOSDAQ%3A068270&startdate=Jan+01%2C+2017&enddate=Nov+06%2C+2017&output=csv",
     "output_type": "error",
     "traceback": [
      "\u001b[0;31m---------------------------------------------------------------------------\u001b[0m",
      "\u001b[0;31mRemoteDataError\u001b[0m                           Traceback (most recent call last)",
      "\u001b[0;32m<ipython-input-111-b2a331d8e232>\u001b[0m in \u001b[0;36m<module>\u001b[0;34m()\u001b[0m\n\u001b[0;32m----> 1\u001b[0;31m \u001b[0mdf\u001b[0m \u001b[0;34m=\u001b[0m \u001b[0mweb\u001b[0m\u001b[0;34m.\u001b[0m\u001b[0mDataReader\u001b[0m\u001b[0;34m(\u001b[0m\u001b[0;34m\"KOSDAQ:068270\"\u001b[0m\u001b[0;34m,\u001b[0m \u001b[0;34m\"google\"\u001b[0m\u001b[0;34m,\u001b[0m \u001b[0;34m\"2017-01-01\"\u001b[0m\u001b[0;34m,\u001b[0m \u001b[0;34m\"2017-11-06\"\u001b[0m\u001b[0;34m)\u001b[0m\u001b[0;34m\u001b[0m\u001b[0m\n\u001b[0m",
      "\u001b[0;32m~/anaconda/lib/python3.6/site-packages/pandas_datareader/data.py\u001b[0m in \u001b[0;36mDataReader\u001b[0;34m(name, data_source, start, end, retry_count, pause, session, access_key)\u001b[0m\n\u001b[1;32m    135\u001b[0m                                  \u001b[0mchunksize\u001b[0m\u001b[0;34m=\u001b[0m\u001b[0;36m25\u001b[0m\u001b[0;34m,\u001b[0m\u001b[0;34m\u001b[0m\u001b[0m\n\u001b[1;32m    136\u001b[0m                                  \u001b[0mretry_count\u001b[0m\u001b[0;34m=\u001b[0m\u001b[0mretry_count\u001b[0m\u001b[0;34m,\u001b[0m \u001b[0mpause\u001b[0m\u001b[0;34m=\u001b[0m\u001b[0mpause\u001b[0m\u001b[0;34m,\u001b[0m\u001b[0;34m\u001b[0m\u001b[0m\n\u001b[0;32m--> 137\u001b[0;31m                                  session=session).read()\n\u001b[0m\u001b[1;32m    138\u001b[0m \u001b[0;34m\u001b[0m\u001b[0m\n\u001b[1;32m    139\u001b[0m     \u001b[0;32melif\u001b[0m \u001b[0mdata_source\u001b[0m \u001b[0;34m==\u001b[0m \u001b[0;34m\"enigma\"\u001b[0m\u001b[0;34m:\u001b[0m\u001b[0;34m\u001b[0m\u001b[0m\n",
      "\u001b[0;32m~/anaconda/lib/python3.6/site-packages/pandas_datareader/base.py\u001b[0m in \u001b[0;36mread\u001b[0;34m(self)\u001b[0m\n\u001b[1;32m    179\u001b[0m         \u001b[0;32mif\u001b[0m \u001b[0misinstance\u001b[0m\u001b[0;34m(\u001b[0m\u001b[0mself\u001b[0m\u001b[0;34m.\u001b[0m\u001b[0msymbols\u001b[0m\u001b[0;34m,\u001b[0m \u001b[0;34m(\u001b[0m\u001b[0mcompat\u001b[0m\u001b[0;34m.\u001b[0m\u001b[0mstring_types\u001b[0m\u001b[0;34m,\u001b[0m \u001b[0mint\u001b[0m\u001b[0;34m)\u001b[0m\u001b[0;34m)\u001b[0m\u001b[0;34m:\u001b[0m\u001b[0;34m\u001b[0m\u001b[0m\n\u001b[1;32m    180\u001b[0m             df = self._read_one_data(self.url,\n\u001b[0;32m--> 181\u001b[0;31m                                      params=self._get_params(self.symbols))\n\u001b[0m\u001b[1;32m    182\u001b[0m         \u001b[0;31m# Or multiple symbols, (e.g., ['GOOG', 'AAPL', 'MSFT'])\u001b[0m\u001b[0;34m\u001b[0m\u001b[0;34m\u001b[0m\u001b[0m\n\u001b[1;32m    183\u001b[0m         \u001b[0;32melif\u001b[0m \u001b[0misinstance\u001b[0m\u001b[0;34m(\u001b[0m\u001b[0mself\u001b[0m\u001b[0;34m.\u001b[0m\u001b[0msymbols\u001b[0m\u001b[0;34m,\u001b[0m \u001b[0mDataFrame\u001b[0m\u001b[0;34m)\u001b[0m\u001b[0;34m:\u001b[0m\u001b[0;34m\u001b[0m\u001b[0m\n",
      "\u001b[0;32m~/anaconda/lib/python3.6/site-packages/pandas_datareader/base.py\u001b[0m in \u001b[0;36m_read_one_data\u001b[0;34m(self, url, params)\u001b[0m\n\u001b[1;32m     77\u001b[0m         \u001b[0;34m\"\"\" read one data from specified URL \"\"\"\u001b[0m\u001b[0;34m\u001b[0m\u001b[0m\n\u001b[1;32m     78\u001b[0m         \u001b[0;32mif\u001b[0m \u001b[0mself\u001b[0m\u001b[0;34m.\u001b[0m\u001b[0m_format\u001b[0m \u001b[0;34m==\u001b[0m \u001b[0;34m'string'\u001b[0m\u001b[0;34m:\u001b[0m\u001b[0;34m\u001b[0m\u001b[0m\n\u001b[0;32m---> 79\u001b[0;31m             \u001b[0mout\u001b[0m \u001b[0;34m=\u001b[0m \u001b[0mself\u001b[0m\u001b[0;34m.\u001b[0m\u001b[0m_read_url_as_StringIO\u001b[0m\u001b[0;34m(\u001b[0m\u001b[0murl\u001b[0m\u001b[0;34m,\u001b[0m \u001b[0mparams\u001b[0m\u001b[0;34m=\u001b[0m\u001b[0mparams\u001b[0m\u001b[0;34m)\u001b[0m\u001b[0;34m\u001b[0m\u001b[0m\n\u001b[0m\u001b[1;32m     80\u001b[0m         \u001b[0;32melif\u001b[0m \u001b[0mself\u001b[0m\u001b[0;34m.\u001b[0m\u001b[0m_format\u001b[0m \u001b[0;34m==\u001b[0m \u001b[0;34m'json'\u001b[0m\u001b[0;34m:\u001b[0m\u001b[0;34m\u001b[0m\u001b[0m\n\u001b[1;32m     81\u001b[0m             \u001b[0mout\u001b[0m \u001b[0;34m=\u001b[0m \u001b[0mself\u001b[0m\u001b[0;34m.\u001b[0m\u001b[0m_get_response\u001b[0m\u001b[0;34m(\u001b[0m\u001b[0murl\u001b[0m\u001b[0;34m,\u001b[0m \u001b[0mparams\u001b[0m\u001b[0;34m=\u001b[0m\u001b[0mparams\u001b[0m\u001b[0;34m)\u001b[0m\u001b[0;34m.\u001b[0m\u001b[0mjson\u001b[0m\u001b[0;34m(\u001b[0m\u001b[0;34m)\u001b[0m\u001b[0;34m\u001b[0m\u001b[0m\n",
      "\u001b[0;32m~/anaconda/lib/python3.6/site-packages/pandas_datareader/base.py\u001b[0m in \u001b[0;36m_read_url_as_StringIO\u001b[0;34m(self, url, params)\u001b[0m\n\u001b[1;32m     88\u001b[0m         \u001b[0mOpen\u001b[0m \u001b[0murl\u001b[0m \u001b[0;34m(\u001b[0m\u001b[0;32mand\u001b[0m \u001b[0mretry\u001b[0m\u001b[0;34m)\u001b[0m\u001b[0;34m\u001b[0m\u001b[0m\n\u001b[1;32m     89\u001b[0m         \"\"\"\n\u001b[0;32m---> 90\u001b[0;31m         \u001b[0mresponse\u001b[0m \u001b[0;34m=\u001b[0m \u001b[0mself\u001b[0m\u001b[0;34m.\u001b[0m\u001b[0m_get_response\u001b[0m\u001b[0;34m(\u001b[0m\u001b[0murl\u001b[0m\u001b[0;34m,\u001b[0m \u001b[0mparams\u001b[0m\u001b[0;34m=\u001b[0m\u001b[0mparams\u001b[0m\u001b[0;34m)\u001b[0m\u001b[0;34m\u001b[0m\u001b[0m\n\u001b[0m\u001b[1;32m     91\u001b[0m         \u001b[0mtext\u001b[0m \u001b[0;34m=\u001b[0m \u001b[0mself\u001b[0m\u001b[0;34m.\u001b[0m\u001b[0m_sanitize_response\u001b[0m\u001b[0;34m(\u001b[0m\u001b[0mresponse\u001b[0m\u001b[0;34m)\u001b[0m\u001b[0;34m\u001b[0m\u001b[0m\n\u001b[1;32m     92\u001b[0m         \u001b[0mout\u001b[0m \u001b[0;34m=\u001b[0m \u001b[0mStringIO\u001b[0m\u001b[0;34m(\u001b[0m\u001b[0;34m)\u001b[0m\u001b[0;34m\u001b[0m\u001b[0m\n",
      "\u001b[0;32m~/anaconda/lib/python3.6/site-packages/pandas_datareader/base.py\u001b[0m in \u001b[0;36m_get_response\u001b[0;34m(self, url, params, headers)\u001b[0m\n\u001b[1;32m    137\u001b[0m         \u001b[0;32mif\u001b[0m \u001b[0mparams\u001b[0m \u001b[0;32mis\u001b[0m \u001b[0;32mnot\u001b[0m \u001b[0;32mNone\u001b[0m \u001b[0;32mand\u001b[0m \u001b[0mlen\u001b[0m\u001b[0;34m(\u001b[0m\u001b[0mparams\u001b[0m\u001b[0;34m)\u001b[0m \u001b[0;34m>\u001b[0m \u001b[0;36m0\u001b[0m\u001b[0;34m:\u001b[0m\u001b[0;34m\u001b[0m\u001b[0m\n\u001b[1;32m    138\u001b[0m             \u001b[0murl\u001b[0m \u001b[0;34m=\u001b[0m \u001b[0murl\u001b[0m \u001b[0;34m+\u001b[0m \u001b[0;34m\"?\"\u001b[0m \u001b[0;34m+\u001b[0m \u001b[0murlencode\u001b[0m\u001b[0;34m(\u001b[0m\u001b[0mparams\u001b[0m\u001b[0;34m)\u001b[0m\u001b[0;34m\u001b[0m\u001b[0m\n\u001b[0;32m--> 139\u001b[0;31m         \u001b[0;32mraise\u001b[0m \u001b[0mRemoteDataError\u001b[0m\u001b[0;34m(\u001b[0m\u001b[0;34m'Unable to read URL: {0}'\u001b[0m\u001b[0;34m.\u001b[0m\u001b[0mformat\u001b[0m\u001b[0;34m(\u001b[0m\u001b[0murl\u001b[0m\u001b[0;34m)\u001b[0m\u001b[0;34m)\u001b[0m\u001b[0;34m\u001b[0m\u001b[0m\n\u001b[0m\u001b[1;32m    140\u001b[0m \u001b[0;34m\u001b[0m\u001b[0m\n\u001b[1;32m    141\u001b[0m     \u001b[0;32mdef\u001b[0m \u001b[0m_get_crumb\u001b[0m\u001b[0;34m(\u001b[0m\u001b[0mself\u001b[0m\u001b[0;34m,\u001b[0m \u001b[0;34m*\u001b[0m\u001b[0margs\u001b[0m\u001b[0;34m)\u001b[0m\u001b[0;34m:\u001b[0m\u001b[0;34m\u001b[0m\u001b[0m\n",
      "\u001b[0;31mRemoteDataError\u001b[0m: Unable to read URL: http://www.google.com/finance/historical?q=KOSDAQ%3A068270&startdate=Jan+01%2C+2017&enddate=Nov+06%2C+2017&output=csv"
     ]
    }
   ],
   "source": [
    "df = web.DataReader(\"KOSDAQ:068270\", \"google\", \"2017-01-01\", \"2017-11-06\")"
   ]
  },
  {
   "cell_type": "code",
   "execution_count": 112,
   "metadata": {},
   "outputs": [
    {
     "name": "stdout",
     "output_type": "stream",
     "text": [
      "Help on function DataReader in module pandas_datareader.data:\n",
      "\n",
      "DataReader(name, data_source=None, start=None, end=None, retry_count=3, pause=0.001, session=None, access_key=None)\n",
      "    Imports data from a number of online sources.\n",
      "    \n",
      "    Currently supports Yahoo! Finance, Google Finance, St. Louis FED (FRED),\n",
      "    Kenneth French's data library, and the SEC's EDGAR Index.\n",
      "    \n",
      "    Parameters\n",
      "    ----------\n",
      "    name : str or list of strs\n",
      "        the name of the dataset. Some data sources (yahoo, google, fred) will\n",
      "        accept a list of names.\n",
      "    data_source: {str, None}\n",
      "        the data source (\"yahoo\", \"yahoo-actions\", \"yahoo-dividends\",\n",
      "        \"google\", \"fred\", \"ff\", or \"edgar-index\")\n",
      "    start : {datetime, None}\n",
      "        left boundary for range (defaults to 1/1/2010)\n",
      "    end : {datetime, None}\n",
      "        right boundary for range (defaults to today)\n",
      "    retry_count : {int, 3}\n",
      "        Number of times to retry query request.\n",
      "    pause : {numeric, 0.001}\n",
      "        Time, in seconds, to pause between consecutive queries of chunks. If\n",
      "        single value given for symbol, represents the pause between retries.\n",
      "    session : Session, default None\n",
      "            requests.sessions.Session instance to be used\n",
      "    \n",
      "    Examples\n",
      "    ----------\n",
      "    \n",
      "    # Data from Yahoo! Finance\n",
      "    gs = DataReader(\"GS\", \"yahoo\")\n",
      "    \n",
      "    # Corporate Actions (Dividend and Split Data)\n",
      "    # with ex-dates from Yahoo! Finance\n",
      "    gs = DataReader(\"GS\", \"yahoo-actions\")\n",
      "    \n",
      "    # Data from Google Finance\n",
      "    aapl = DataReader(\"AAPL\", \"google\")\n",
      "    \n",
      "    # Data from FRED\n",
      "    vix = DataReader(\"VIXCLS\", \"fred\")\n",
      "    \n",
      "    # Data from Fama/French\n",
      "    ff = DataReader(\"F-F_Research_Data_Factors\", \"famafrench\")\n",
      "    ff = DataReader(\"F-F_Research_Data_Factors_weekly\", \"famafrench\")\n",
      "    ff = DataReader(\"6_Portfolios_2x3\", \"famafrench\")\n",
      "    ff = DataReader(\"F-F_ST_Reversal_Factor\", \"famafrench\")\n",
      "    \n",
      "    # Data from EDGAR index\n",
      "    ed = DataReader(\"full\", \"edgar-index\")\n",
      "    ed2 = DataReader(\"daily\", \"edgar-index\")\n",
      "\n"
     ]
    }
   ],
   "source": [
    "help(web.DataReader)"
   ]
  },
  {
   "cell_type": "code",
   "execution_count": 113,
   "metadata": {
    "collapsed": true
   },
   "outputs": [],
   "source": [
    "aapl = web.DataReader(\"AAPL\", \"google\")"
   ]
  },
  {
   "cell_type": "code",
   "execution_count": 114,
   "metadata": {},
   "outputs": [
    {
     "data": {
      "text/html": [
       "<div>\n",
       "<style>\n",
       "    .dataframe thead tr:only-child th {\n",
       "        text-align: right;\n",
       "    }\n",
       "\n",
       "    .dataframe thead th {\n",
       "        text-align: left;\n",
       "    }\n",
       "\n",
       "    .dataframe tbody tr th {\n",
       "        vertical-align: top;\n",
       "    }\n",
       "</style>\n",
       "<table border=\"1\" class=\"dataframe\">\n",
       "  <thead>\n",
       "    <tr style=\"text-align: right;\">\n",
       "      <th></th>\n",
       "      <th>Open</th>\n",
       "      <th>High</th>\n",
       "      <th>Low</th>\n",
       "      <th>Close</th>\n",
       "      <th>Volume</th>\n",
       "    </tr>\n",
       "    <tr>\n",
       "      <th>Date</th>\n",
       "      <th></th>\n",
       "      <th></th>\n",
       "      <th></th>\n",
       "      <th></th>\n",
       "      <th></th>\n",
       "    </tr>\n",
       "  </thead>\n",
       "  <tbody>\n",
       "    <tr>\n",
       "      <th>2016-11-08</th>\n",
       "      <td>110.31</td>\n",
       "      <td>111.72</td>\n",
       "      <td>109.70</td>\n",
       "      <td>111.06</td>\n",
       "      <td>24254179</td>\n",
       "    </tr>\n",
       "    <tr>\n",
       "      <th>2016-11-09</th>\n",
       "      <td>109.88</td>\n",
       "      <td>111.32</td>\n",
       "      <td>108.05</td>\n",
       "      <td>110.88</td>\n",
       "      <td>59176361</td>\n",
       "    </tr>\n",
       "    <tr>\n",
       "      <th>2016-11-10</th>\n",
       "      <td>111.09</td>\n",
       "      <td>111.09</td>\n",
       "      <td>105.83</td>\n",
       "      <td>107.79</td>\n",
       "      <td>57134541</td>\n",
       "    </tr>\n",
       "    <tr>\n",
       "      <th>2016-11-11</th>\n",
       "      <td>107.12</td>\n",
       "      <td>108.87</td>\n",
       "      <td>106.55</td>\n",
       "      <td>108.43</td>\n",
       "      <td>34143898</td>\n",
       "    </tr>\n",
       "    <tr>\n",
       "      <th>2016-11-14</th>\n",
       "      <td>107.71</td>\n",
       "      <td>107.81</td>\n",
       "      <td>104.08</td>\n",
       "      <td>105.71</td>\n",
       "      <td>51175504</td>\n",
       "    </tr>\n",
       "  </tbody>\n",
       "</table>\n",
       "</div>"
      ],
      "text/plain": [
       "              Open    High     Low   Close    Volume\n",
       "Date                                                \n",
       "2016-11-08  110.31  111.72  109.70  111.06  24254179\n",
       "2016-11-09  109.88  111.32  108.05  110.88  59176361\n",
       "2016-11-10  111.09  111.09  105.83  107.79  57134541\n",
       "2016-11-11  107.12  108.87  106.55  108.43  34143898\n",
       "2016-11-14  107.71  107.81  104.08  105.71  51175504"
      ]
     },
     "execution_count": 114,
     "metadata": {},
     "output_type": "execute_result"
    }
   ],
   "source": [
    "aapl.head()"
   ]
  },
  {
   "cell_type": "code",
   "execution_count": 117,
   "metadata": {},
   "outputs": [],
   "source": [
    "gs = web.DataReader(\"GS\",\"google\")"
   ]
  },
  {
   "cell_type": "code",
   "execution_count": null,
   "metadata": {
    "collapsed": true
   },
   "outputs": [],
   "source": []
  }
 ],
 "metadata": {
  "kernelspec": {
   "display_name": "Python 3",
   "language": "python",
   "name": "python3"
  },
  "language_info": {
   "codemirror_mode": {
    "name": "ipython",
    "version": 3
   },
   "file_extension": ".py",
   "mimetype": "text/x-python",
   "name": "python",
   "nbconvert_exporter": "python",
   "pygments_lexer": "ipython3",
   "version": "3.6.1"
  }
 },
 "nbformat": 4,
 "nbformat_minor": 2
}
