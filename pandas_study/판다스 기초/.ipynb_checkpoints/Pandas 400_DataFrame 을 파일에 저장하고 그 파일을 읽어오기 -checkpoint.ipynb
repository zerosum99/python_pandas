{
 "cells": [
  {
   "cell_type": "code",
   "execution_count": 1,
   "metadata": {
    "collapsed": true
   },
   "outputs": [],
   "source": [
    "import pandas as pd"
   ]
  },
  {
   "cell_type": "markdown",
   "metadata": {},
   "source": [
    "## 파일에 쓰고 그 파일을 읽어오기"
   ]
  },
  {
   "cell_type": "code",
   "execution_count": 2,
   "metadata": {
    "collapsed": true
   },
   "outputs": [],
   "source": [
    "import numpy as np\n",
    "names = ['Frank', 'Eve', 'Stella', 'Guido', 'Lara']\n",
    "index = [\"January\", \"February\", \"March\",\n",
    "         \"April\", \"May\", \"June\",\n",
    "         \"July\", \"August\", \"September\",\n",
    "         \"October\", \"November\", \"December\"]\n",
    "df11 = pd.DataFrame(np.random.randn(12, 5)*1000,\n",
    "                columns=names,\n",
    "                index=index)"
   ]
  },
  {
   "cell_type": "code",
   "execution_count": 3,
   "metadata": {
    "collapsed": true
   },
   "outputs": [],
   "source": [
    "df11.to_csv('data/counties.csv')"
   ]
  },
  {
   "cell_type": "markdown",
   "metadata": {},
   "source": [
    "### 파일을 그대로 읽어오면 실제 인덱스가 숫자로 생긴다"
   ]
  },
  {
   "cell_type": "code",
   "execution_count": 4,
   "metadata": {
    "collapsed": true
   },
   "outputs": [],
   "source": [
    "df12 = pd.read_csv('data/counties.csv')"
   ]
  },
  {
   "cell_type": "code",
   "execution_count": 5,
   "metadata": {},
   "outputs": [
    {
     "data": {
      "text/html": [
       "<div>\n",
       "<style>\n",
       "    .dataframe thead tr:only-child th {\n",
       "        text-align: right;\n",
       "    }\n",
       "\n",
       "    .dataframe thead th {\n",
       "        text-align: left;\n",
       "    }\n",
       "\n",
       "    .dataframe tbody tr th {\n",
       "        vertical-align: top;\n",
       "    }\n",
       "</style>\n",
       "<table border=\"1\" class=\"dataframe\">\n",
       "  <thead>\n",
       "    <tr style=\"text-align: right;\">\n",
       "      <th></th>\n",
       "      <th>Unnamed: 0</th>\n",
       "      <th>Frank</th>\n",
       "      <th>Eve</th>\n",
       "      <th>Stella</th>\n",
       "      <th>Guido</th>\n",
       "      <th>Lara</th>\n",
       "    </tr>\n",
       "  </thead>\n",
       "  <tbody>\n",
       "    <tr>\n",
       "      <th>0</th>\n",
       "      <td>January</td>\n",
       "      <td>338.781896</td>\n",
       "      <td>-412.342748</td>\n",
       "      <td>-1999.894647</td>\n",
       "      <td>1373.314482</td>\n",
       "      <td>-448.581549</td>\n",
       "    </tr>\n",
       "    <tr>\n",
       "      <th>1</th>\n",
       "      <td>February</td>\n",
       "      <td>550.817744</td>\n",
       "      <td>1984.586355</td>\n",
       "      <td>1064.656762</td>\n",
       "      <td>-630.293778</td>\n",
       "      <td>551.885611</td>\n",
       "    </tr>\n",
       "    <tr>\n",
       "      <th>2</th>\n",
       "      <td>March</td>\n",
       "      <td>398.385321</td>\n",
       "      <td>1483.409939</td>\n",
       "      <td>1476.725678</td>\n",
       "      <td>-959.204133</td>\n",
       "      <td>-551.360873</td>\n",
       "    </tr>\n",
       "    <tr>\n",
       "      <th>3</th>\n",
       "      <td>April</td>\n",
       "      <td>-2294.027585</td>\n",
       "      <td>-1484.359223</td>\n",
       "      <td>-455.638398</td>\n",
       "      <td>-1233.470125</td>\n",
       "      <td>627.653321</td>\n",
       "    </tr>\n",
       "    <tr>\n",
       "      <th>4</th>\n",
       "      <td>May</td>\n",
       "      <td>289.502919</td>\n",
       "      <td>-672.061452</td>\n",
       "      <td>-599.851798</td>\n",
       "      <td>-433.799379</td>\n",
       "      <td>-187.521816</td>\n",
       "    </tr>\n",
       "    <tr>\n",
       "      <th>5</th>\n",
       "      <td>June</td>\n",
       "      <td>-935.036740</td>\n",
       "      <td>-722.672552</td>\n",
       "      <td>374.024060</td>\n",
       "      <td>-686.037999</td>\n",
       "      <td>1632.108248</td>\n",
       "    </tr>\n",
       "    <tr>\n",
       "      <th>6</th>\n",
       "      <td>July</td>\n",
       "      <td>753.340503</td>\n",
       "      <td>747.125748</td>\n",
       "      <td>471.290972</td>\n",
       "      <td>-66.418721</td>\n",
       "      <td>-711.162881</td>\n",
       "    </tr>\n",
       "    <tr>\n",
       "      <th>7</th>\n",
       "      <td>August</td>\n",
       "      <td>-1779.457381</td>\n",
       "      <td>-460.395896</td>\n",
       "      <td>724.940392</td>\n",
       "      <td>-43.983849</td>\n",
       "      <td>1105.644497</td>\n",
       "    </tr>\n",
       "    <tr>\n",
       "      <th>8</th>\n",
       "      <td>September</td>\n",
       "      <td>-218.886031</td>\n",
       "      <td>1019.232914</td>\n",
       "      <td>-1961.611030</td>\n",
       "      <td>78.043417</td>\n",
       "      <td>-1221.905530</td>\n",
       "    </tr>\n",
       "    <tr>\n",
       "      <th>9</th>\n",
       "      <td>October</td>\n",
       "      <td>599.318369</td>\n",
       "      <td>1963.968905</td>\n",
       "      <td>479.284157</td>\n",
       "      <td>-584.445562</td>\n",
       "      <td>-382.754219</td>\n",
       "    </tr>\n",
       "    <tr>\n",
       "      <th>10</th>\n",
       "      <td>November</td>\n",
       "      <td>-563.659235</td>\n",
       "      <td>820.406551</td>\n",
       "      <td>554.981844</td>\n",
       "      <td>-735.493731</td>\n",
       "      <td>-852.029928</td>\n",
       "    </tr>\n",
       "    <tr>\n",
       "      <th>11</th>\n",
       "      <td>December</td>\n",
       "      <td>499.107458</td>\n",
       "      <td>-113.069756</td>\n",
       "      <td>-655.385234</td>\n",
       "      <td>968.437251</td>\n",
       "      <td>-286.673462</td>\n",
       "    </tr>\n",
       "  </tbody>\n",
       "</table>\n",
       "</div>"
      ],
      "text/plain": [
       "   Unnamed: 0        Frank          Eve       Stella        Guido         Lara\n",
       "0     January   338.781896  -412.342748 -1999.894647  1373.314482  -448.581549\n",
       "1    February   550.817744  1984.586355  1064.656762  -630.293778   551.885611\n",
       "2       March   398.385321  1483.409939  1476.725678  -959.204133  -551.360873\n",
       "3       April -2294.027585 -1484.359223  -455.638398 -1233.470125   627.653321\n",
       "4         May   289.502919  -672.061452  -599.851798  -433.799379  -187.521816\n",
       "5        June  -935.036740  -722.672552   374.024060  -686.037999  1632.108248\n",
       "6        July   753.340503   747.125748   471.290972   -66.418721  -711.162881\n",
       "7      August -1779.457381  -460.395896   724.940392   -43.983849  1105.644497\n",
       "8   September  -218.886031  1019.232914 -1961.611030    78.043417 -1221.905530\n",
       "9     October   599.318369  1963.968905   479.284157  -584.445562  -382.754219\n",
       "10   November  -563.659235   820.406551   554.981844  -735.493731  -852.029928\n",
       "11   December   499.107458  -113.069756  -655.385234   968.437251  -286.673462"
      ]
     },
     "execution_count": 5,
     "metadata": {},
     "output_type": "execute_result"
    }
   ],
   "source": [
    "df12"
   ]
  },
  {
   "cell_type": "code",
   "execution_count": 6,
   "metadata": {},
   "outputs": [
    {
     "data": {
      "text/plain": [
       "RangeIndex(start=0, stop=12, step=1)"
      ]
     },
     "execution_count": 6,
     "metadata": {},
     "output_type": "execute_result"
    }
   ],
   "source": [
    "df12.index"
   ]
  },
  {
   "cell_type": "code",
   "execution_count": 7,
   "metadata": {},
   "outputs": [
    {
     "data": {
      "text/plain": [
       "Index(['Unnamed: 0', 'Frank', 'Eve', 'Stella', 'Guido', 'Lara'], dtype='object')"
      ]
     },
     "execution_count": 7,
     "metadata": {},
     "output_type": "execute_result"
    }
   ],
   "source": [
    "df12.columns"
   ]
  },
  {
   "cell_type": "markdown",
   "metadata": {},
   "source": [
    "### 특정 칼럼을 인덱스로 처리하기"
   ]
  },
  {
   "cell_type": "code",
   "execution_count": 8,
   "metadata": {
    "collapsed": true
   },
   "outputs": [],
   "source": [
    "df13 = pd.read_csv('data/counties.csv',index_col=0)"
   ]
  },
  {
   "cell_type": "code",
   "execution_count": 9,
   "metadata": {},
   "outputs": [
    {
     "data": {
      "text/html": [
       "<div>\n",
       "<style>\n",
       "    .dataframe thead tr:only-child th {\n",
       "        text-align: right;\n",
       "    }\n",
       "\n",
       "    .dataframe thead th {\n",
       "        text-align: left;\n",
       "    }\n",
       "\n",
       "    .dataframe tbody tr th {\n",
       "        vertical-align: top;\n",
       "    }\n",
       "</style>\n",
       "<table border=\"1\" class=\"dataframe\">\n",
       "  <thead>\n",
       "    <tr style=\"text-align: right;\">\n",
       "      <th></th>\n",
       "      <th>Frank</th>\n",
       "      <th>Eve</th>\n",
       "      <th>Stella</th>\n",
       "      <th>Guido</th>\n",
       "      <th>Lara</th>\n",
       "    </tr>\n",
       "  </thead>\n",
       "  <tbody>\n",
       "    <tr>\n",
       "      <th>January</th>\n",
       "      <td>338.781896</td>\n",
       "      <td>-412.342748</td>\n",
       "      <td>-1999.894647</td>\n",
       "      <td>1373.314482</td>\n",
       "      <td>-448.581549</td>\n",
       "    </tr>\n",
       "    <tr>\n",
       "      <th>February</th>\n",
       "      <td>550.817744</td>\n",
       "      <td>1984.586355</td>\n",
       "      <td>1064.656762</td>\n",
       "      <td>-630.293778</td>\n",
       "      <td>551.885611</td>\n",
       "    </tr>\n",
       "    <tr>\n",
       "      <th>March</th>\n",
       "      <td>398.385321</td>\n",
       "      <td>1483.409939</td>\n",
       "      <td>1476.725678</td>\n",
       "      <td>-959.204133</td>\n",
       "      <td>-551.360873</td>\n",
       "    </tr>\n",
       "    <tr>\n",
       "      <th>April</th>\n",
       "      <td>-2294.027585</td>\n",
       "      <td>-1484.359223</td>\n",
       "      <td>-455.638398</td>\n",
       "      <td>-1233.470125</td>\n",
       "      <td>627.653321</td>\n",
       "    </tr>\n",
       "    <tr>\n",
       "      <th>May</th>\n",
       "      <td>289.502919</td>\n",
       "      <td>-672.061452</td>\n",
       "      <td>-599.851798</td>\n",
       "      <td>-433.799379</td>\n",
       "      <td>-187.521816</td>\n",
       "    </tr>\n",
       "    <tr>\n",
       "      <th>June</th>\n",
       "      <td>-935.036740</td>\n",
       "      <td>-722.672552</td>\n",
       "      <td>374.024060</td>\n",
       "      <td>-686.037999</td>\n",
       "      <td>1632.108248</td>\n",
       "    </tr>\n",
       "    <tr>\n",
       "      <th>July</th>\n",
       "      <td>753.340503</td>\n",
       "      <td>747.125748</td>\n",
       "      <td>471.290972</td>\n",
       "      <td>-66.418721</td>\n",
       "      <td>-711.162881</td>\n",
       "    </tr>\n",
       "    <tr>\n",
       "      <th>August</th>\n",
       "      <td>-1779.457381</td>\n",
       "      <td>-460.395896</td>\n",
       "      <td>724.940392</td>\n",
       "      <td>-43.983849</td>\n",
       "      <td>1105.644497</td>\n",
       "    </tr>\n",
       "    <tr>\n",
       "      <th>September</th>\n",
       "      <td>-218.886031</td>\n",
       "      <td>1019.232914</td>\n",
       "      <td>-1961.611030</td>\n",
       "      <td>78.043417</td>\n",
       "      <td>-1221.905530</td>\n",
       "    </tr>\n",
       "    <tr>\n",
       "      <th>October</th>\n",
       "      <td>599.318369</td>\n",
       "      <td>1963.968905</td>\n",
       "      <td>479.284157</td>\n",
       "      <td>-584.445562</td>\n",
       "      <td>-382.754219</td>\n",
       "    </tr>\n",
       "    <tr>\n",
       "      <th>November</th>\n",
       "      <td>-563.659235</td>\n",
       "      <td>820.406551</td>\n",
       "      <td>554.981844</td>\n",
       "      <td>-735.493731</td>\n",
       "      <td>-852.029928</td>\n",
       "    </tr>\n",
       "    <tr>\n",
       "      <th>December</th>\n",
       "      <td>499.107458</td>\n",
       "      <td>-113.069756</td>\n",
       "      <td>-655.385234</td>\n",
       "      <td>968.437251</td>\n",
       "      <td>-286.673462</td>\n",
       "    </tr>\n",
       "  </tbody>\n",
       "</table>\n",
       "</div>"
      ],
      "text/plain": [
       "                 Frank          Eve       Stella        Guido         Lara\n",
       "January     338.781896  -412.342748 -1999.894647  1373.314482  -448.581549\n",
       "February    550.817744  1984.586355  1064.656762  -630.293778   551.885611\n",
       "March       398.385321  1483.409939  1476.725678  -959.204133  -551.360873\n",
       "April     -2294.027585 -1484.359223  -455.638398 -1233.470125   627.653321\n",
       "May         289.502919  -672.061452  -599.851798  -433.799379  -187.521816\n",
       "June       -935.036740  -722.672552   374.024060  -686.037999  1632.108248\n",
       "July        753.340503   747.125748   471.290972   -66.418721  -711.162881\n",
       "August    -1779.457381  -460.395896   724.940392   -43.983849  1105.644497\n",
       "September  -218.886031  1019.232914 -1961.611030    78.043417 -1221.905530\n",
       "October     599.318369  1963.968905   479.284157  -584.445562  -382.754219\n",
       "November   -563.659235   820.406551   554.981844  -735.493731  -852.029928\n",
       "December    499.107458  -113.069756  -655.385234   968.437251  -286.673462"
      ]
     },
     "execution_count": 9,
     "metadata": {},
     "output_type": "execute_result"
    }
   ],
   "source": [
    "df13"
   ]
  },
  {
   "cell_type": "code",
   "execution_count": 10,
   "metadata": {},
   "outputs": [
    {
     "data": {
      "text/plain": [
       "Index(['January', 'February', 'March', 'April', 'May', 'June', 'July',\n",
       "       'August', 'September', 'October', 'November', 'December'],\n",
       "      dtype='object')"
      ]
     },
     "execution_count": 10,
     "metadata": {},
     "output_type": "execute_result"
    }
   ],
   "source": [
    "df13.index"
   ]
  },
  {
   "cell_type": "code",
   "execution_count": 11,
   "metadata": {},
   "outputs": [
    {
     "data": {
      "text/plain": [
       "Index(['Frank', 'Eve', 'Stella', 'Guido', 'Lara'], dtype='object')"
      ]
     },
     "execution_count": 11,
     "metadata": {},
     "output_type": "execute_result"
    }
   ],
   "source": [
    "df13.columns"
   ]
  },
  {
   "cell_type": "code",
   "execution_count": null,
   "metadata": {
    "collapsed": true
   },
   "outputs": [],
   "source": []
  }
 ],
 "metadata": {
  "kernelspec": {
   "display_name": "Python 3",
   "language": "python",
   "name": "python3"
  },
  "language_info": {
   "codemirror_mode": {
    "name": "ipython",
    "version": 3
   },
   "file_extension": ".py",
   "mimetype": "text/x-python",
   "name": "python",
   "nbconvert_exporter": "python",
   "pygments_lexer": "ipython3",
   "version": "3.6.1"
  }
 },
 "nbformat": 4,
 "nbformat_minor": 2
}
