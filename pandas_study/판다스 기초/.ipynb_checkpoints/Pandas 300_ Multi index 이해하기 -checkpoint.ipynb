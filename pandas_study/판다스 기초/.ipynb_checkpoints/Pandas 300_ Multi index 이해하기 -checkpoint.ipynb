{
 "cells": [
  {
   "cell_type": "markdown",
   "metadata": {},
   "source": [
    "# MultiIndex 처리 기준\n"
   ]
  },
  {
   "cell_type": "markdown",
   "metadata": {},
   "source": [
    "## 멀티 인덱스는 차원을 축소해서 만들때 많이 사용된다.\n"
   ]
  },
  {
   "cell_type": "markdown",
   "metadata": {},
   "source": [
    "### 2차원을 1차원으로 줄일경우 칼럼 정보를 멀티인덱스로 처리해서 모든 값을 1차원으로 처리도 가능하다."
   ]
  },
  {
   "cell_type": "code",
   "execution_count": 13,
   "metadata": {
    "collapsed": true
   },
   "outputs": [],
   "source": [
    "import pandas as pd\n",
    "import numpy as np"
   ]
  },
  {
   "cell_type": "code",
   "execution_count": 2,
   "metadata": {},
   "outputs": [
    {
     "data": {
      "text/plain": [
       "pandas.core.indexes.base.Index"
      ]
     },
     "execution_count": 2,
     "metadata": {},
     "output_type": "execute_result"
    }
   ],
   "source": [
    "pd.Index"
   ]
  },
  {
   "cell_type": "code",
   "execution_count": 3,
   "metadata": {},
   "outputs": [
    {
     "data": {
      "text/plain": [
       "pandas.core.indexes.multi.MultiIndex"
      ]
     },
     "execution_count": 3,
     "metadata": {},
     "output_type": "execute_result"
    }
   ],
   "source": [
    "pd.MultiIndex"
   ]
  },
  {
   "cell_type": "markdown",
   "metadata": {},
   "source": [
    "## MultiIndex 클래스 처리"
   ]
  },
  {
   "cell_type": "markdown",
   "metadata": {},
   "source": [
    "### Index와 MultiIndex 내부의 속성과 메소드"
   ]
  },
  {
   "cell_type": "code",
   "execution_count": 20,
   "metadata": {},
   "outputs": [
    {
     "name": "stdout",
     "output_type": "stream",
     "text": [
      "reorder_levels\n",
      "get_major_bounds\n",
      "levels\n",
      "get_locs\n",
      "remove_unused_levels\n",
      "labels\n",
      "levshape\n",
      "droplevel\n",
      "from_product\n",
      "to_hierarchical\n",
      "swaplevel\n",
      "from_tuples\n",
      "set_levels\n",
      "to_frame\n",
      "set_labels\n",
      "from_arrays\n",
      "truncate\n",
      "get_loc_level\n",
      "lexsort_depth\n",
      "equal_levels\n",
      "is_lexsorted\n"
     ]
    }
   ],
   "source": [
    "s = set(dir(pd.Index))\n",
    "m = set(dir(pd.MultiIndex))\n",
    "\n",
    "ms = m-s\n",
    "\n",
    "for i in ms :\n",
    "    if not i.startswith(\"_\") :\n",
    "        print(i)\n",
    "\n",
    "    "
   ]
  },
  {
   "cell_type": "code",
   "execution_count": 22,
   "metadata": {},
   "outputs": [
    {
     "name": "stdout",
     "output_type": "stream",
     "text": [
      "sym_diff\n",
      "where\n",
      "nunique\n",
      "shape\n",
      "sort\n",
      "T\n",
      "names\n",
      "has_duplicates\n",
      "drop\n",
      "is_all_dates\n",
      "size\n",
      "astype\n",
      "is_type_compatible\n",
      "append\n",
      "holds_integer\n",
      "is_unique\n",
      "shift\n",
      "insert\n",
      "is_monotonic\n",
      "argmax\n",
      "asof_locs\n",
      "data\n",
      "get_values\n",
      "isnull\n",
      "ravel\n",
      "is_boolean\n",
      "join\n",
      "sortlevel\n",
      "get_slice_bound\n",
      "itemsize\n",
      "unique\n",
      "empty\n",
      "is_monotonic_increasing\n",
      "argsort\n",
      "slice_indexer\n",
      "str\n",
      "transpose\n",
      "value_counts\n",
      "drop_duplicates\n",
      "get_level_values\n",
      "take\n",
      "equals\n",
      "factorize\n",
      "is_object\n",
      "is_interval\n",
      "is_numeric\n",
      "is_lexsorted_for_tuple\n",
      "get_loc\n",
      "is_floating\n",
      "fillna\n",
      "groupby\n",
      "is_integer\n",
      "putmask\n",
      "base\n",
      "get_indexer_for\n",
      "reindex\n",
      "set_names\n",
      "is_\n",
      "is_categorical\n",
      "asof\n",
      "difference\n",
      "duplicated\n",
      "searchsorted\n",
      "get_duplicates\n",
      "reshape\n",
      "hasnans\n",
      "view\n",
      "map\n",
      "rename\n",
      "argmin\n",
      "nbytes\n",
      "repeat\n",
      "all\n",
      "get_indexer\n",
      "slice_locs\n",
      "isin\n",
      "dtype_str\n",
      "name\n",
      "union\n",
      "item\n",
      "identical\n",
      "memory_usage\n",
      "get_value\n",
      "max\n",
      "nlevels\n",
      "min\n",
      "summary\n",
      "dtype\n",
      "sort_values\n",
      "flags\n",
      "to_datetime\n",
      "copy\n",
      "any\n",
      "tolist\n",
      "format\n",
      "asi8\n",
      "contains\n",
      "strides\n",
      "ndim\n",
      "dropna\n",
      "intersection\n",
      "set_value\n",
      "notnull\n",
      "values\n",
      "is_monotonic_decreasing\n",
      "delete\n",
      "to_series\n",
      "get_indexer_non_unique\n",
      "to_native_types\n",
      "is_mixed\n",
      "inferred_type\n",
      "symmetric_difference\n"
     ]
    }
   ],
   "source": [
    "mi = m & s\n",
    "\n",
    "for i in mi :\n",
    "    if not i.startswith(\"_\") :\n",
    "        print(i)"
   ]
  },
  {
   "cell_type": "markdown",
   "metadata": {},
   "source": [
    "### 2차원 배열을 만들고 튜플로 전환 후에 멀티인덱스 만들기"
   ]
  },
  {
   "cell_type": "code",
   "execution_count": 23,
   "metadata": {
    "collapsed": true
   },
   "outputs": [],
   "source": [
    "arrays = [['bar', 'bar', 'baz', 'baz', 'foo', 'foo', 'qux', 'qux'],\n",
    "        ['one', 'two', 'one', 'two', 'one', 'two', 'one', 'two']]"
   ]
  },
  {
   "cell_type": "code",
   "execution_count": 24,
   "metadata": {
    "collapsed": true
   },
   "outputs": [],
   "source": [
    "tuples = list(zip(*arrays))"
   ]
  },
  {
   "cell_type": "code",
   "execution_count": 25,
   "metadata": {},
   "outputs": [
    {
     "data": {
      "text/plain": [
       "[('bar', 'one'),\n",
       " ('bar', 'two'),\n",
       " ('baz', 'one'),\n",
       " ('baz', 'two'),\n",
       " ('foo', 'one'),\n",
       " ('foo', 'two'),\n",
       " ('qux', 'one'),\n",
       " ('qux', 'two')]"
      ]
     },
     "execution_count": 25,
     "metadata": {},
     "output_type": "execute_result"
    }
   ],
   "source": [
    "tuples"
   ]
  },
  {
   "cell_type": "code",
   "execution_count": 26,
   "metadata": {
    "collapsed": true
   },
   "outputs": [],
   "source": [
    "index = pd.MultiIndex.from_tuples(tuples, names=['first', 'second'])\n"
   ]
  },
  {
   "cell_type": "code",
   "execution_count": 27,
   "metadata": {},
   "outputs": [
    {
     "data": {
      "text/plain": [
       "MultiIndex(levels=[['bar', 'baz', 'foo', 'qux'], ['one', 'two']],\n",
       "           labels=[[0, 0, 1, 1, 2, 2, 3, 3], [0, 1, 0, 1, 0, 1, 0, 1]],\n",
       "           names=['first', 'second'])"
      ]
     },
     "execution_count": 27,
     "metadata": {},
     "output_type": "execute_result"
    }
   ],
   "source": [
    "index"
   ]
  },
  {
   "cell_type": "markdown",
   "metadata": {},
   "source": [
    "### 인덱스를 시리즈로 변환하기"
   ]
  },
  {
   "cell_type": "code",
   "execution_count": 28,
   "metadata": {},
   "outputs": [
    {
     "data": {
      "text/plain": [
       "first  second\n",
       "bar    one       (bar, one)\n",
       "       two       (bar, two)\n",
       "baz    one       (baz, one)\n",
       "       two       (baz, two)\n",
       "foo    one       (foo, one)\n",
       "       two       (foo, two)\n",
       "qux    one       (qux, one)\n",
       "       two       (qux, two)\n",
       "dtype: object"
      ]
     },
     "execution_count": 28,
     "metadata": {},
     "output_type": "execute_result"
    }
   ],
   "source": [
    "index.to_series()"
   ]
  },
  {
   "cell_type": "code",
   "execution_count": null,
   "metadata": {
    "collapsed": true
   },
   "outputs": [],
   "source": []
  },
  {
   "cell_type": "markdown",
   "metadata": {},
   "source": [
    "### Tuple 형태로 전달시 \n",
    "\n",
    "    계층에 대한 이름(levels), 각 이름별 계층 위치(labels) 그리고 level에 대한 이름(names)\n"
   ]
  },
  {
   "cell_type": "code",
   "execution_count": 6,
   "metadata": {},
   "outputs": [
    {
     "name": "stdout",
     "output_type": "stream",
     "text": [
      "MultiIndex(levels=[[1, 2], ['blue', 'red']],\n",
      "           labels=[[0, 0, 1, 1], [1, 0, 1, 0]],\n",
      "           names=['number', 'color'])\n"
     ]
    }
   ],
   "source": [
    "import pandas as pd\n",
    "\n",
    "tuples = [(1, 'red'), (1, 'blue'), (2, 'red'), (2, 'blue')]\n",
    "mi = pd.MultiIndex.from_tuples(tuples, names=('number', 'color'))\n",
    "print(mi)\n"
   ]
  },
  {
   "cell_type": "markdown",
   "metadata": {},
   "source": [
    "### Levels, labels, names으로 분리해서 접근할 수 있는 정보를 관리 \n"
   ]
  },
  {
   "cell_type": "code",
   "execution_count": 5,
   "metadata": {},
   "outputs": [
    {
     "name": "stdout",
     "output_type": "stream",
     "text": [
      "MultiIndex(levels=[[1, 2], ['blue', 'red']],\n",
      "           labels=[[0, 0, 1, 1], [1, 0, 1, 0]],\n",
      "           names=['number', 'color'])\n"
     ]
    }
   ],
   "source": [
    "ml = pd.MultiIndex(levels=[[1, 2],['blue', 'red']],\n",
    "           labels=[[0, 0, 1, 1], [1, 0, 1, 0]],\n",
    "           names=['number', 'color'])\n",
    "print(ml)"
   ]
  },
  {
   "cell_type": "markdown",
   "metadata": {},
   "source": [
    "### List로 lable 형태로 전달시 \n",
    "\n",
    "    계층에 대한 이름(levels), 각 이름별 계층 위치(labels) 그리고 level에 대한 이름(names)\n"
   ]
  },
  {
   "cell_type": "code",
   "execution_count": 1,
   "metadata": {},
   "outputs": [
    {
     "name": "stdout",
     "output_type": "stream",
     "text": [
      "MultiIndex(levels=[[1, 2], ['blue', 'red']],\n",
      "           labels=[[0, 0, 1, 1], [1, 0, 1, 0]])\n"
     ]
    }
   ],
   "source": [
    "import pandas as pd\n",
    "\n",
    "arrays = [[1, 1, 2, 2], ['red', 'blue', 'red', 'blue']]\n",
    "mi1 = pd.MultiIndex.from_arrays(arrays)\n",
    "print(mi1)\n"
   ]
  },
  {
   "cell_type": "markdown",
   "metadata": {},
   "source": [
    "### names 키워드인자를 사용하면 멀티 인덱스의 각 레벨이 이름이 된다"
   ]
  },
  {
   "cell_type": "code",
   "execution_count": 2,
   "metadata": {},
   "outputs": [
    {
     "name": "stdout",
     "output_type": "stream",
     "text": [
      "MultiIndex(levels=[[1, 2], ['blue', 'red']],\n",
      "           labels=[[0, 0, 1, 1], [1, 0, 1, 0]],\n",
      "           names=['number', 'color'])\n"
     ]
    }
   ],
   "source": [
    "import pandas as pd\n",
    "\n",
    "arrays = [[1, 1, 2, 2], ['red', 'blue', 'red', 'blue']]\n",
    "mi1 = pd.MultiIndex.from_arrays(arrays, names=('number', 'color'))\n",
    "print(mi1)"
   ]
  },
  {
   "cell_type": "markdown",
   "metadata": {},
   "source": [
    "###  product 로 처리 \n",
    "    List를 level 형태로 전달시 \n",
    "\n",
    "    계층에 대한 이름(levels), 각 이름별 계층 위치(labels) 그리고 level에 대한 이름(names)\n"
   ]
  },
  {
   "cell_type": "code",
   "execution_count": 9,
   "metadata": {},
   "outputs": [
    {
     "name": "stdout",
     "output_type": "stream",
     "text": [
      "MultiIndex(levels=[[0, 1], ['green', 'purple']],\n",
      "           labels=[[0, 0, 1, 1], [0, 1, 0, 1]],\n",
      "           names=['number', 'color'])\n"
     ]
    }
   ],
   "source": [
    "import pandas as pd\n",
    "\n",
    "numbers = [0, 1]\n",
    "colors = ['green', 'purple']\n",
    "mi2 = pd.MultiIndex.from_product([numbers, colors],names=['number', 'color'])\n",
    "print(mi2)\n"
   ]
  },
  {
   "cell_type": "markdown",
   "metadata": {},
   "source": [
    "## 내부 속성 조회 \n"
   ]
  },
  {
   "cell_type": "markdown",
   "metadata": {},
   "source": [
    "### 기본 구성된 속성 조회\n"
   ]
  },
  {
   "cell_type": "code",
   "execution_count": 3,
   "metadata": {},
   "outputs": [],
   "source": [
    "import pandas as pd\n",
    "\n",
    "midx = pd.MultiIndex.from_product([list(range(3)),['a','b','c'],\n",
    "                                   pd.date_range('20130101',periods=3)],\n",
    "                                  names=['numbers','letters','dates'])\n"
   ]
  },
  {
   "cell_type": "code",
   "execution_count": 4,
   "metadata": {},
   "outputs": [
    {
     "data": {
      "text/plain": [
       "MultiIndex(levels=[[0, 1, 2], ['a', 'b', 'c'], [2013-01-01 00:00:00, 2013-01-02 00:00:00, 2013-01-03 00:00:00]],\n",
       "           labels=[[0, 0, 0, 0, 0, 0, 0, 0, 0, 1, 1, 1, 1, 1, 1, 1, 1, 1, 2, 2, 2, 2, 2, 2, 2, 2, 2], [0, 0, 0, 1, 1, 1, 2, 2, 2, 0, 0, 0, 1, 1, 1, 2, 2, 2, 0, 0, 0, 1, 1, 1, 2, 2, 2], [0, 1, 2, 0, 1, 2, 0, 1, 2, 0, 1, 2, 0, 1, 2, 0, 1, 2, 0, 1, 2, 0, 1, 2, 0, 1, 2]],\n",
       "           names=['numbers', 'letters', 'dates'])"
      ]
     },
     "execution_count": 4,
     "metadata": {},
     "output_type": "execute_result"
    }
   ],
   "source": [
    "midx"
   ]
  },
  {
   "cell_type": "code",
   "execution_count": 5,
   "metadata": {},
   "outputs": [
    {
     "data": {
      "text/plain": [
       "(27,)"
      ]
     },
     "execution_count": 5,
     "metadata": {},
     "output_type": "execute_result"
    }
   ],
   "source": [
    "midx.shape"
   ]
  },
  {
   "cell_type": "code",
   "execution_count": 6,
   "metadata": {},
   "outputs": [
    {
     "data": {
      "text/plain": [
       "1"
      ]
     },
     "execution_count": 6,
     "metadata": {},
     "output_type": "execute_result"
    }
   ],
   "source": [
    "midx.ndim"
   ]
  },
  {
   "cell_type": "code",
   "execution_count": 8,
   "metadata": {},
   "outputs": [
    {
     "data": {
      "text/plain": [
       "array([(0, 'a', Timestamp('2013-01-01 00:00:00', freq='D')),\n",
       "       (0, 'a', Timestamp('2013-01-02 00:00:00', freq='D')),\n",
       "       (0, 'a', Timestamp('2013-01-03 00:00:00', freq='D')),\n",
       "       (0, 'b', Timestamp('2013-01-01 00:00:00', freq='D')),\n",
       "       (0, 'b', Timestamp('2013-01-02 00:00:00', freq='D')),\n",
       "       (0, 'b', Timestamp('2013-01-03 00:00:00', freq='D')),\n",
       "       (0, 'c', Timestamp('2013-01-01 00:00:00', freq='D')),\n",
       "       (0, 'c', Timestamp('2013-01-02 00:00:00', freq='D')),\n",
       "       (0, 'c', Timestamp('2013-01-03 00:00:00', freq='D')),\n",
       "       (1, 'a', Timestamp('2013-01-01 00:00:00', freq='D')),\n",
       "       (1, 'a', Timestamp('2013-01-02 00:00:00', freq='D')),\n",
       "       (1, 'a', Timestamp('2013-01-03 00:00:00', freq='D')),\n",
       "       (1, 'b', Timestamp('2013-01-01 00:00:00', freq='D')),\n",
       "       (1, 'b', Timestamp('2013-01-02 00:00:00', freq='D')),\n",
       "       (1, 'b', Timestamp('2013-01-03 00:00:00', freq='D')),\n",
       "       (1, 'c', Timestamp('2013-01-01 00:00:00', freq='D')),\n",
       "       (1, 'c', Timestamp('2013-01-02 00:00:00', freq='D')),\n",
       "       (1, 'c', Timestamp('2013-01-03 00:00:00', freq='D')),\n",
       "       (2, 'a', Timestamp('2013-01-01 00:00:00', freq='D')),\n",
       "       (2, 'a', Timestamp('2013-01-02 00:00:00', freq='D')),\n",
       "       (2, 'a', Timestamp('2013-01-03 00:00:00', freq='D')),\n",
       "       (2, 'b', Timestamp('2013-01-01 00:00:00', freq='D')),\n",
       "       (2, 'b', Timestamp('2013-01-02 00:00:00', freq='D')),\n",
       "       (2, 'b', Timestamp('2013-01-03 00:00:00', freq='D')),\n",
       "       (2, 'c', Timestamp('2013-01-01 00:00:00', freq='D')),\n",
       "       (2, 'c', Timestamp('2013-01-02 00:00:00', freq='D')),\n",
       "       (2, 'c', Timestamp('2013-01-03 00:00:00', freq='D'))], dtype=object)"
      ]
     },
     "execution_count": 8,
     "metadata": {},
     "output_type": "execute_result"
    }
   ],
   "source": [
    "midx.data.obj"
   ]
  },
  {
   "cell_type": "markdown",
   "metadata": {},
   "source": [
    "###  레벨을 조회"
   ]
  },
  {
   "cell_type": "code",
   "execution_count": 9,
   "metadata": {},
   "outputs": [
    {
     "data": {
      "text/plain": [
       "FrozenList([[0, 1, 2], ['a', 'b', 'c'], [2013-01-01 00:00:00, 2013-01-02 00:00:00, 2013-01-03 00:00:00]])"
      ]
     },
     "execution_count": 9,
     "metadata": {},
     "output_type": "execute_result"
    }
   ],
   "source": [
    "midx.levels"
   ]
  },
  {
   "cell_type": "code",
   "execution_count": null,
   "metadata": {
    "collapsed": true
   },
   "outputs": [],
   "source": [
    "print(midx.levels[0])\n",
    "print(midx.levels[1])\n",
    "print(midx.levels[2])"
   ]
  },
  {
   "cell_type": "markdown",
   "metadata": {},
   "source": [
    "### 메소드로 실제 레벨의 값을 조회"
   ]
  },
  {
   "cell_type": "code",
   "execution_count": 14,
   "metadata": {},
   "outputs": [
    {
     "name": "stdout",
     "output_type": "stream",
     "text": [
      "Int64Index([0, 0, 0, 0, 0, 0, 0, 0, 0, 1, 1, 1, 1, 1, 1, 1, 1, 1, 2, 2, 2, 2,\n",
      "            2, 2, 2, 2, 2],\n",
      "           dtype='int64', name='numbers')\n",
      "Index(['a', 'a', 'a', 'b', 'b', 'b', 'c', 'c', 'c', 'a', 'a', 'a', 'b', 'b',\n",
      "       'b', 'c', 'c', 'c', 'a', 'a', 'a', 'b', 'b', 'b', 'c', 'c', 'c'],\n",
      "      dtype='object', name='letters')\n",
      "DatetimeIndex(['2013-01-01', '2013-01-02', '2013-01-03', '2013-01-01',\n",
      "               '2013-01-02', '2013-01-03', '2013-01-01', '2013-01-02',\n",
      "               '2013-01-03', '2013-01-01', '2013-01-02', '2013-01-03',\n",
      "               '2013-01-01', '2013-01-02', '2013-01-03', '2013-01-01',\n",
      "               '2013-01-02', '2013-01-03', '2013-01-01', '2013-01-02',\n",
      "               '2013-01-03', '2013-01-01', '2013-01-02', '2013-01-03',\n",
      "               '2013-01-01', '2013-01-02', '2013-01-03'],\n",
      "              dtype='datetime64[ns]', name='dates', freq='D')\n"
     ]
    }
   ],
   "source": [
    "print(midx.get_level_values(0))\n",
    "print(midx.get_level_values(1))\n",
    "print(midx.get_level_values(2))\n"
   ]
  },
  {
   "cell_type": "markdown",
   "metadata": {},
   "source": [
    "### label 조회\n"
   ]
  },
  {
   "cell_type": "code",
   "execution_count": 12,
   "metadata": {},
   "outputs": [
    {
     "name": "stdout",
     "output_type": "stream",
     "text": [
      "FrozenNDArray([0, 0, 0, 0, 0, 0, 0, 0, 0, 1, 1, 1, 1, 1, 1, 1, 1, 1, 2, 2, 2, 2, 2, 2, 2, 2, 2], dtype='int8')\n",
      "FrozenNDArray([0, 0, 0, 1, 1, 1, 2, 2, 2, 0, 0, 0, 1, 1, 1, 2, 2, 2, 0, 0, 0, 1, 1, 1, 2, 2, 2], dtype='int8')\n",
      "FrozenNDArray([0, 1, 2, 0, 1, 2, 0, 1, 2, 0, 1, 2, 0, 1, 2, 0, 1, 2, 0, 1, 2, 0, 1, 2, 0, 1, 2], dtype='int8')\n"
     ]
    }
   ],
   "source": [
    "print(midx.labels[0])\n",
    "print(midx.labels[1])\n",
    "print(midx.labels[2])\n"
   ]
  },
  {
   "cell_type": "markdown",
   "metadata": {},
   "source": [
    "#### names 조회 \n"
   ]
  },
  {
   "cell_type": "code",
   "execution_count": 15,
   "metadata": {},
   "outputs": [
    {
     "name": "stdout",
     "output_type": "stream",
     "text": [
      "['numbers', 'letters', 'dates'] <class 'pandas.core.base.FrozenList'>\n",
      "1\n",
      "2\n"
     ]
    }
   ],
   "source": [
    "print(midx.names, type(midx.names))\n",
    "print(midx.names.index('letters'))\n",
    "print(midx.names.index('dates'))\n"
   ]
  },
  {
   "cell_type": "code",
   "execution_count": null,
   "metadata": {
    "collapsed": true
   },
   "outputs": [],
   "source": []
  }
 ],
 "metadata": {
  "kernelspec": {
   "display_name": "Python 3",
   "language": "python",
   "name": "python3"
  },
  "language_info": {
   "codemirror_mode": {
    "name": "ipython",
    "version": 3
   },
   "file_extension": ".py",
   "mimetype": "text/x-python",
   "name": "python",
   "nbconvert_exporter": "python",
   "pygments_lexer": "ipython3",
   "version": "3.6.1"
  }
 },
 "nbformat": 4,
 "nbformat_minor": 1
}
