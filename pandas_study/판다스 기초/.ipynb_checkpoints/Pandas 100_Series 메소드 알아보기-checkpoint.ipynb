{
 "cells": [
  {
   "cell_type": "code",
   "execution_count": 1,
   "metadata": {
    "collapsed": true
   },
   "outputs": [],
   "source": [
    "import pandas as pd\n",
    "\n",
    "import numpy as np"
   ]
  },
  {
   "cell_type": "markdown",
   "metadata": {},
   "source": [
    "## 시리즈 생성"
   ]
  },
  {
   "cell_type": "code",
   "execution_count": 2,
   "metadata": {
    "collapsed": true
   },
   "outputs": [],
   "source": [
    "sr = pd.Series([1,2,3,4,5])"
   ]
  },
  {
   "cell_type": "code",
   "execution_count": 3,
   "metadata": {},
   "outputs": [
    {
     "data": {
      "text/plain": [
       "0    1\n",
       "1    2\n",
       "2    3\n",
       "3    4\n",
       "4    5\n",
       "dtype: int64"
      ]
     },
     "execution_count": 3,
     "metadata": {},
     "output_type": "execute_result"
    }
   ],
   "source": [
    "sr"
   ]
  },
  {
   "cell_type": "markdown",
   "metadata": {},
   "source": [
    "### 시리즈를 가지고 딕셔너리로 바꿀 수 있다"
   ]
  },
  {
   "cell_type": "code",
   "execution_count": 4,
   "metadata": {},
   "outputs": [
    {
     "data": {
      "text/plain": [
       "{0: 1, 1: 2, 2: 3, 3: 4, 4: 5}"
      ]
     },
     "execution_count": 4,
     "metadata": {},
     "output_type": "execute_result"
    }
   ],
   "source": [
    "dict(sr)"
   ]
  },
  {
   "cell_type": "markdown",
   "metadata": {},
   "source": [
    "### 시리즈의 값을 가지고 리스트로 전환하기"
   ]
  },
  {
   "cell_type": "code",
   "execution_count": 8,
   "metadata": {
    "collapsed": true
   },
   "outputs": [],
   "source": [
    "a = sr.tolist()"
   ]
  },
  {
   "cell_type": "code",
   "execution_count": 9,
   "metadata": {},
   "outputs": [
    {
     "data": {
      "text/plain": [
       "[1, 2, 3, 4, 5]"
      ]
     },
     "execution_count": 9,
     "metadata": {},
     "output_type": "execute_result"
    }
   ],
   "source": [
    "a"
   ]
  },
  {
   "cell_type": "code",
   "execution_count": 7,
   "metadata": {
    "collapsed": true
   },
   "outputs": [],
   "source": [
    "b = list(sr)"
   ]
  },
  {
   "cell_type": "code",
   "execution_count": 10,
   "metadata": {},
   "outputs": [
    {
     "data": {
      "text/plain": [
       "[1, 2, 3, 4, 5]"
      ]
     },
     "execution_count": 10,
     "metadata": {},
     "output_type": "execute_result"
    }
   ],
   "source": [
    "b"
   ]
  },
  {
   "cell_type": "markdown",
   "metadata": {},
   "source": [
    "###  최소값과 최대값 구하기"
   ]
  },
  {
   "cell_type": "code",
   "execution_count": 14,
   "metadata": {},
   "outputs": [
    {
     "data": {
      "text/plain": [
       "count    5.000000\n",
       "mean     3.000000\n",
       "std      1.581139\n",
       "min      1.000000\n",
       "25%      2.000000\n",
       "50%      3.000000\n",
       "75%      4.000000\n",
       "max      5.000000\n",
       "dtype: float64"
      ]
     },
     "execution_count": 14,
     "metadata": {},
     "output_type": "execute_result"
    }
   ],
   "source": [
    "sr.describe()"
   ]
  },
  {
   "cell_type": "code",
   "execution_count": 11,
   "metadata": {
    "collapsed": true
   },
   "outputs": [],
   "source": [
    "c = sr.argmax()"
   ]
  },
  {
   "cell_type": "code",
   "execution_count": 12,
   "metadata": {},
   "outputs": [
    {
     "data": {
      "text/plain": [
       "4"
      ]
     },
     "execution_count": 12,
     "metadata": {},
     "output_type": "execute_result"
    }
   ],
   "source": [
    "c"
   ]
  },
  {
   "cell_type": "code",
   "execution_count": 16,
   "metadata": {},
   "outputs": [
    {
     "data": {
      "text/plain": [
       "5"
      ]
     },
     "execution_count": 16,
     "metadata": {},
     "output_type": "execute_result"
    }
   ],
   "source": [
    "sr.max()"
   ]
  },
  {
   "cell_type": "code",
   "execution_count": 13,
   "metadata": {
    "collapsed": true
   },
   "outputs": [],
   "source": [
    "d = sr.argmin()"
   ]
  },
  {
   "cell_type": "code",
   "execution_count": 15,
   "metadata": {},
   "outputs": [
    {
     "data": {
      "text/plain": [
       "1"
      ]
     },
     "execution_count": 15,
     "metadata": {},
     "output_type": "execute_result"
    }
   ],
   "source": [
    "sr.min()"
   ]
  },
  {
   "cell_type": "markdown",
   "metadata": {},
   "source": [
    "### 정렬하기 "
   ]
  },
  {
   "cell_type": "code",
   "execution_count": 27,
   "metadata": {},
   "outputs": [
    {
     "name": "stdout",
     "output_type": "stream",
     "text": [
      "Help on function argsort in module pandas.core.series:\n",
      "\n",
      "argsort(self, axis=0, kind='quicksort', order=None)\n",
      "    Overrides ndarray.argsort. Argsorts the value, omitting NA/null values,\n",
      "    and places the result in the same locations as the non-NA values\n",
      "    \n",
      "    Parameters\n",
      "    ----------\n",
      "    axis : int (can only be zero)\n",
      "    kind : {'mergesort', 'quicksort', 'heapsort'}, default 'quicksort'\n",
      "        Choice of sorting algorithm. See np.sort for more\n",
      "        information. 'mergesort' is the only stable algorithm\n",
      "    order : ignored\n",
      "    \n",
      "    Returns\n",
      "    -------\n",
      "    argsorted : Series, with -1 indicated where nan values are present\n",
      "    \n",
      "    See also\n",
      "    --------\n",
      "    numpy.ndarray.argsort\n",
      "\n"
     ]
    }
   ],
   "source": [
    "help(pd.Series.argsort)"
   ]
  },
  {
   "cell_type": "code",
   "execution_count": 36,
   "metadata": {
    "collapsed": true
   },
   "outputs": [],
   "source": [
    "sr1 = pd.Series([2,4,5,1,3])"
   ]
  },
  {
   "cell_type": "code",
   "execution_count": 37,
   "metadata": {
    "collapsed": true
   },
   "outputs": [],
   "source": [
    "e = sr1.argsort()"
   ]
  },
  {
   "cell_type": "code",
   "execution_count": 38,
   "metadata": {},
   "outputs": [
    {
     "data": {
      "text/plain": [
       "0    3\n",
       "1    0\n",
       "2    4\n",
       "3    1\n",
       "4    2\n",
       "dtype: int64"
      ]
     },
     "execution_count": 38,
     "metadata": {},
     "output_type": "execute_result"
    }
   ],
   "source": [
    "e"
   ]
  },
  {
   "cell_type": "code",
   "execution_count": 39,
   "metadata": {},
   "outputs": [
    {
     "data": {
      "text/plain": [
       "array([2, 4, 5, 1, 3])"
      ]
     },
     "execution_count": 39,
     "metadata": {},
     "output_type": "execute_result"
    }
   ],
   "source": [
    "sr1.values"
   ]
  },
  {
   "cell_type": "code",
   "execution_count": 41,
   "metadata": {},
   "outputs": [
    {
     "data": {
      "text/plain": [
       "1"
      ]
     },
     "execution_count": 41,
     "metadata": {},
     "output_type": "execute_result"
    }
   ],
   "source": [
    "sr1.values[e[0]]"
   ]
  },
  {
   "cell_type": "code",
   "execution_count": 44,
   "metadata": {},
   "outputs": [
    {
     "name": "stdout",
     "output_type": "stream",
     "text": [
      "Help on function searchsorted in module pandas.core.series:\n",
      "\n",
      "searchsorted(self, value, side='left', sorter=None)\n",
      "    Find indices where elements should be inserted to maintain order.\n",
      "    \n",
      "    Find the indices into a sorted Series `self` such that, if the\n",
      "    corresponding elements in `value` were inserted before the indices,\n",
      "    the order of `self` would be preserved.\n",
      "    \n",
      "    Parameters\n",
      "    ----------\n",
      "    value : array_like\n",
      "        Values to insert into `self`.\n",
      "    side : {'left', 'right'}, optional\n",
      "        If 'left', the index of the first suitable location found is given.\n",
      "        If 'right', return the last such index.  If there is no suitable\n",
      "        index, return either 0 or N (where N is the length of `self`).\n",
      "    sorter : 1-D array_like, optional\n",
      "        Optional array of integer indices that sort `self` into ascending\n",
      "        order. They are typically the result of ``np.argsort``.\n",
      "    \n",
      "    Returns\n",
      "    -------\n",
      "    indices : array of ints\n",
      "        Array of insertion points with the same shape as `value`.\n",
      "    \n",
      "    See Also\n",
      "    --------\n",
      "    numpy.searchsorted\n",
      "    \n",
      "    Notes\n",
      "    -----\n",
      "    Binary search is used to find the required insertion points.\n",
      "    \n",
      "    Examples\n",
      "    --------\n",
      "    \n",
      "    >>> x = pd.Series([1, 2, 3])\n",
      "    >>> x\n",
      "    0    1\n",
      "    1    2\n",
      "    2    3\n",
      "    dtype: int64\n",
      "    \n",
      "    >>> x.searchsorted(4)\n",
      "    array([3])\n",
      "    \n",
      "    >>> x.searchsorted([0, 4])\n",
      "    array([0, 3])\n",
      "    \n",
      "    >>> x.searchsorted([1, 3], side='left')\n",
      "    array([0, 2])\n",
      "    \n",
      "    >>> x.searchsorted([1, 3], side='right')\n",
      "    array([1, 3])\n",
      "    \n",
      "    >>> x = pd.Categorical(['apple', 'bread', 'bread', 'cheese', 'milk' ])\n",
      "    [apple, bread, bread, cheese, milk]\n",
      "    Categories (4, object): [apple < bread < cheese < milk]\n",
      "    \n",
      "    >>> x.searchsorted('bread')\n",
      "    array([1])     # Note: an array, not a scalar\n",
      "    \n",
      "    >>> x.searchsorted(['bread'])\n",
      "    array([1])\n",
      "    \n",
      "    >>> x.searchsorted(['bread', 'eggs'])\n",
      "    array([1, 4])\n",
      "    \n",
      "    >>> x.searchsorted(['bread', 'eggs'], side='right')\n",
      "    array([3, 4])    # eggs before milk\n",
      "\n"
     ]
    }
   ],
   "source": [
    "help(pd.Series.searchsorted)"
   ]
  },
  {
   "cell_type": "markdown",
   "metadata": {},
   "source": [
    "#### 삽입할 때 실제 정렬되어 들어갈 위치"
   ]
  },
  {
   "cell_type": "code",
   "execution_count": 47,
   "metadata": {
    "collapsed": true
   },
   "outputs": [],
   "source": [
    "sr2 = pd.Series([1,2,3,4,5])"
   ]
  },
  {
   "cell_type": "code",
   "execution_count": 48,
   "metadata": {},
   "outputs": [
    {
     "data": {
      "text/plain": [
       "array([4])"
      ]
     },
     "execution_count": 48,
     "metadata": {},
     "output_type": "execute_result"
    }
   ],
   "source": [
    "sr2.searchsorted(5)"
   ]
  },
  {
   "cell_type": "markdown",
   "metadata": {},
   "source": [
    "### 실제 원소의 논리적 처리 기준"
   ]
  },
  {
   "cell_type": "code",
   "execution_count": 56,
   "metadata": {},
   "outputs": [
    {
     "name": "stdout",
     "output_type": "stream",
     "text": [
      "Help on function all in module pandas.core.series:\n",
      "\n",
      "all(self, axis=None, bool_only=None, skipna=None, level=None, **kwargs)\n",
      "    Return whether all elements are True over requested axis\n",
      "    \n",
      "    Parameters\n",
      "    ----------\n",
      "    axis : {index (0)}\n",
      "    skipna : boolean, default True\n",
      "        Exclude NA/null values. If an entire row/column is NA, the result\n",
      "        will be NA\n",
      "    level : int or level name, default None\n",
      "        If the axis is a MultiIndex (hierarchical), count along a\n",
      "        particular level, collapsing into a scalar\n",
      "    bool_only : boolean, default None\n",
      "        Include only boolean columns. If None, will attempt to use everything,\n",
      "        then use only boolean data. Not implemented for Series.\n",
      "    \n",
      "    Returns\n",
      "    -------\n",
      "    all : scalar or Series (if level specified)\n",
      "\n"
     ]
    }
   ],
   "source": [
    "help(pd.Series.all)"
   ]
  },
  {
   "cell_type": "code",
   "execution_count": 49,
   "metadata": {
    "collapsed": true
   },
   "outputs": [],
   "source": [
    "sr3 = pd.Series([1,None])"
   ]
  },
  {
   "cell_type": "code",
   "execution_count": 50,
   "metadata": {},
   "outputs": [
    {
     "data": {
      "text/plain": [
       "True"
      ]
     },
     "execution_count": 50,
     "metadata": {},
     "output_type": "execute_result"
    }
   ],
   "source": [
    "sr3.any()"
   ]
  },
  {
   "cell_type": "code",
   "execution_count": 51,
   "metadata": {},
   "outputs": [
    {
     "data": {
      "text/plain": [
       "True"
      ]
     },
     "execution_count": 51,
     "metadata": {},
     "output_type": "execute_result"
    }
   ],
   "source": [
    "sr3.all()"
   ]
  },
  {
   "cell_type": "code",
   "execution_count": 53,
   "metadata": {
    "collapsed": true
   },
   "outputs": [],
   "source": [
    "sr4 = pd.Series([1,np.nan])"
   ]
  },
  {
   "cell_type": "code",
   "execution_count": 54,
   "metadata": {},
   "outputs": [
    {
     "data": {
      "text/plain": [
       "True"
      ]
     },
     "execution_count": 54,
     "metadata": {},
     "output_type": "execute_result"
    }
   ],
   "source": [
    "sr4.any()"
   ]
  },
  {
   "cell_type": "code",
   "execution_count": 55,
   "metadata": {},
   "outputs": [
    {
     "data": {
      "text/plain": [
       "True"
      ]
     },
     "execution_count": 55,
     "metadata": {},
     "output_type": "execute_result"
    }
   ],
   "source": [
    "sr4.all()"
   ]
  },
  {
   "cell_type": "code",
   "execution_count": 62,
   "metadata": {},
   "outputs": [
    {
     "name": "stdout",
     "output_type": "stream",
     "text": [
      "Help on function view in module pandas.core.series:\n",
      "\n",
      "view(self, dtype=None)\n",
      "\n"
     ]
    }
   ],
   "source": [
    "help(pd.Series.view)"
   ]
  },
  {
   "cell_type": "code",
   "execution_count": 60,
   "metadata": {
    "collapsed": true
   },
   "outputs": [],
   "source": [
    "cc = sr4.view()"
   ]
  },
  {
   "cell_type": "code",
   "execution_count": 61,
   "metadata": {},
   "outputs": [
    {
     "data": {
      "text/plain": [
       "0    1.0\n",
       "1    NaN\n",
       "dtype: float64"
      ]
     },
     "execution_count": 61,
     "metadata": {},
     "output_type": "execute_result"
    }
   ],
   "source": [
    "cc"
   ]
  },
  {
   "cell_type": "markdown",
   "metadata": {},
   "source": [
    "### 원소들 중에 zero 값이 아닐 경우 추출"
   ]
  },
  {
   "cell_type": "code",
   "execution_count": 71,
   "metadata": {},
   "outputs": [
    {
     "name": "stdout",
     "output_type": "stream",
     "text": [
      "Help on function nonzero in module pandas.core.series:\n",
      "\n",
      "nonzero(self)\n",
      "    Return the indices of the elements that are non-zero\n",
      "    \n",
      "    This method is equivalent to calling `numpy.nonzero` on the\n",
      "    series data. For compatability with NumPy, the return value is\n",
      "    the same (a tuple with an array of indices for each dimension),\n",
      "    but it will always be a one-item tuple because series only have\n",
      "    one dimension.\n",
      "    \n",
      "    Examples\n",
      "    --------\n",
      "    >>> s = pd.Series([0, 3, 0, 4])\n",
      "    >>> s.nonzero()\n",
      "    (array([1, 3]),)\n",
      "    >>> s.iloc[s.nonzero()[0]]\n",
      "    1    3\n",
      "    3    4\n",
      "    dtype: int64\n",
      "    \n",
      "    See Also\n",
      "    --------\n",
      "    numpy.nonzero\n",
      "\n"
     ]
    }
   ],
   "source": [
    "help(pd.Series.nonzero)"
   ]
  },
  {
   "cell_type": "code",
   "execution_count": 72,
   "metadata": {},
   "outputs": [
    {
     "data": {
      "text/plain": [
       "(array([1, 3]),)"
      ]
     },
     "execution_count": 72,
     "metadata": {},
     "output_type": "execute_result"
    }
   ],
   "source": [
    "s = pd.Series([0, 3, 0, 4])\n",
    "s.nonzero()"
   ]
  },
  {
   "cell_type": "markdown",
   "metadata": {},
   "source": [
    "### reshape 는 실제 배열에 적용"
   ]
  },
  {
   "cell_type": "code",
   "execution_count": 65,
   "metadata": {
    "collapsed": true
   },
   "outputs": [],
   "source": [
    "sr5 = pd.Series([1,2,3,4]).values.reshape(2,2)"
   ]
  },
  {
   "cell_type": "code",
   "execution_count": 66,
   "metadata": {},
   "outputs": [
    {
     "data": {
      "text/plain": [
       "array([[1, 2],\n",
       "       [3, 4]])"
      ]
     },
     "execution_count": 66,
     "metadata": {},
     "output_type": "execute_result"
    }
   ],
   "source": [
    "sr5"
   ]
  },
  {
   "cell_type": "markdown",
   "metadata": {},
   "source": [
    "## 2 차원배열을 시리즈로 만들면 행의 원소로 처리"
   ]
  },
  {
   "cell_type": "code",
   "execution_count": 67,
   "metadata": {
    "collapsed": true
   },
   "outputs": [],
   "source": [
    "sr6 = pd.Series([[1,2],[3,4]])"
   ]
  },
  {
   "cell_type": "code",
   "execution_count": 68,
   "metadata": {},
   "outputs": [
    {
     "data": {
      "text/plain": [
       "0    [1, 2]\n",
       "1    [3, 4]\n",
       "dtype: object"
      ]
     },
     "execution_count": 68,
     "metadata": {},
     "output_type": "execute_result"
    }
   ],
   "source": [
    "sr6"
   ]
  },
  {
   "cell_type": "code",
   "execution_count": null,
   "metadata": {
    "collapsed": true
   },
   "outputs": [],
   "source": []
  },
  {
   "cell_type": "code",
   "execution_count": null,
   "metadata": {
    "collapsed": true
   },
   "outputs": [],
   "source": [
    " prod  swapaxes  repeat isqueeze mean cumprod  T   copy put take  \n",
    "    compress  ptp  var data cumsum sum dot ravel round nonzero transpose clip \n",
    " std astype searchsorted reshape flags \n"
   ]
  }
 ],
 "metadata": {
  "kernelspec": {
   "display_name": "Python 3",
   "language": "python",
   "name": "python3"
  },
  "language_info": {
   "codemirror_mode": {
    "name": "ipython",
    "version": 3
   },
   "file_extension": ".py",
   "mimetype": "text/x-python",
   "name": "python",
   "nbconvert_exporter": "python",
   "pygments_lexer": "ipython3",
   "version": "3.6.1"
  }
 },
 "nbformat": 4,
 "nbformat_minor": 2
}
