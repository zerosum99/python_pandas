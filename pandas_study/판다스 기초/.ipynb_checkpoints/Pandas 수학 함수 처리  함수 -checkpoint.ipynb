{
 "cells": [
  {
   "cell_type": "markdown",
   "metadata": {},
   "source": [
    "# 주요 함수 "
   ]
  },
  {
   "cell_type": "code",
   "execution_count": 2,
   "metadata": {},
   "outputs": [
    {
     "name": "stdout",
     "output_type": "stream",
     "text": [
      "Expr Term bdate_range concat crosstab cut date_range eval ewma ewmcorr ewmcov ewmstd ewmvar ewmvol expanding_apply expanding_corr expanding_count expanding_cov expanding_kurt expanding_max expanding_mean expanding_median expanding_min expanding_quantile expanding_skew expanding_std expanding_sum expanding_var factorize get_dummies get_store groupby infer_freq interval_range isnull lreshape match melt merge merge_asof merge_ordered notnull ordered_merge period_range pivot pivot_table pnow qcut read_clipboard read_csv read_excel read_feather read_fwf read_gbq read_hdf read_html read_json read_msgpack read_pickle read_sas read_sql read_sql_query read_sql_table read_stata read_table rolling_apply rolling_corr rolling_count rolling_cov rolling_kurt rolling_max rolling_mean rolling_median rolling_min rolling_quantile rolling_skew rolling_std rolling_sum rolling_var rolling_window scatter_matrix set_eng_float_format show_versions test timedelta_range to_datetime to_msgpack to_numeric to_pickle to_timedelta unique value_counts wide_to_long "
     ]
    }
   ],
   "source": [
    "import pandas as pd\n",
    "import numpy as np\n",
    "import types\n",
    "\n",
    "for i in dir(pd) :\n",
    "    if i.startswith(\"_\") :\n",
    "        continue\n",
    "    if type(pd.__dict__[i]) == types.FunctionType :\n",
    "        \n",
    "        print(i,end= ' ')\n",
    "        "
   ]
  },
  {
   "cell_type": "markdown",
   "metadata": {},
   "source": [
    "# 주요 메소드 처리\n",
    "\n"
   ]
  },
  {
   "cell_type": "code",
   "execution_count": 150,
   "metadata": {},
   "outputs": [
    {
     "name": "stdout",
     "output_type": "stream",
     "text": [
      "index compound rdiv unstack from_csv abs duplicated to_period iterkv take transpose reset_index ffill tz_convert mean kurt loc to_clipboard cummin nlargest describe min size last_valid_index axes update memory_usage squeeze values sum corr combine truncate astype first_valid_index reindex append idxmax items drop_duplicates hist tz_localize first to_hdf iteritems reindex_axis rolling add rtruediv pop rmul groupby swapaxes lt select shift shape reindex_like clip combine_first sortlevel kurtosis xs product skew sort sort_values set_axis radd bool get_ftype_counts as_blocks std rpow clip_upper sort_index iat is_copy sub add_prefix isin rename_axis sem align nsmallest replace mode diff to_xarray reorder_levels between_time get_values rsub bfill to_dense pow copy notnull dot round count cumprod dropna cummax floordiv empty to_timestamp head at cumsum ne ndim to_pickle rank expanding iloc mod irow le resample multiply get_value to_msgpack divide to_json to_string median clip_lower plot tail add_suffix keys pipe ewm rfloordiv filter prod pct_change rmod mul T any rename last as_matrix truediv iget_value dtypes var apply to_csv to_sparse drop set_value all equals to_dict consolidate quantile asfreq where mask at_time to_sql eq gt ix ftypes ge fillna cov blocks sample mad swaplevel tshift get_dtype_counts isnull subtract max div convert_objects slice_shift idxmin get interpolate "
     ]
    }
   ],
   "source": [
    "import types\n",
    "s = set(dir(pd.Series))\n",
    "d = set(dir(pd.DataFrame)) \n",
    "sd = s & d \n",
    "\n",
    "for i in sd :\n",
    "    if not i.startswith(\"_\") :\n",
    "        print(i, end = \" \")"
   ]
  },
  {
   "cell_type": "markdown",
   "metadata": {},
   "source": [
    "### 사칙연산 \n"
   ]
  },
  {
   "cell_type": "code",
   "execution_count": 154,
   "metadata": {},
   "outputs": [
    {
     "name": "stdout",
     "output_type": "stream",
     "text": [
      "   A  B  C\n",
      "0  0  1  2\n",
      "1  3  4  5\n",
      "2  6  7  8\n",
      "    A   B   C\n",
      "0   3   6   9\n",
      "1  12  15  18\n",
      "2  21  24  27\n"
     ]
    }
   ],
   "source": [
    "df1 = pd.DataFrame(np.arange(9).reshape(3,3), columns=['A', 'B', 'C'])\n",
    "df2 = pd.DataFrame(np.arange(1,10).reshape(3,3) *3, columns=['A', 'B', 'C'])\n",
    "print(df1)\n",
    "print(df2)"
   ]
  },
  {
   "cell_type": "code",
   "execution_count": 166,
   "metadata": {},
   "outputs": [
    {
     "name": "stdout",
     "output_type": "stream",
     "text": [
      "    A   B   C\n",
      "0   3   7  11\n",
      "1  15  19  23\n",
      "2  27  31  35\n",
      "    A   B   C\n",
      "0  -3  -5  -7\n",
      "1  -9 -11 -13\n",
      "2 -15 -17 -19\n",
      "    A   B   C\n",
      "0   3   7  11\n",
      "1  15  19  23\n",
      "2  27  31  35\n",
      "    A   B   C\n",
      "0   3   5   7\n",
      "1   9  11  13\n",
      "2  15  17  19\n",
      "    A   B   C\n",
      "0  -3  -5  -7\n",
      "1  -9 -11 -13\n",
      "2 -15 -17 -19\n"
     ]
    }
   ],
   "source": [
    "print(df1.add(df2))\n",
    "print(df1.sub(df2))\n",
    "print(df1.radd(df2))\n",
    "print(df1.rsub(df2))\n",
    "print(df1.subtract(df2))"
   ]
  },
  {
   "cell_type": "code",
   "execution_count": 156,
   "metadata": {},
   "outputs": [
    {
     "name": "stdout",
     "output_type": "stream",
     "text": [
      "          A         B         C\n",
      "0  0.000000  0.166667  0.222222\n",
      "1  0.250000  0.266667  0.277778\n",
      "2  0.285714  0.291667  0.296296\n",
      "          A         B         C\n",
      "0  0.000000  0.166667  0.222222\n",
      "1  0.250000  0.266667  0.277778\n",
      "2  0.285714  0.291667  0.296296\n",
      "   A  B  C\n",
      "0  0  0  0\n",
      "1  0  0  0\n",
      "2  0  0  0\n",
      "          A         B         C\n",
      "0  0.000000  0.166667  0.222222\n",
      "1  0.250000  0.266667  0.277778\n",
      "2  0.285714  0.291667  0.296296\n"
     ]
    }
   ],
   "source": [
    "print(df1.divide(df2))\n",
    "print(df1.truediv(df2))\n",
    "print(df1.floordiv(df2))\n",
    "print(df1.div(df2))"
   ]
  },
  {
   "cell_type": "code",
   "execution_count": 159,
   "metadata": {},
   "outputs": [
    {
     "name": "stdout",
     "output_type": "stream",
     "text": [
      "     A    B    C\n",
      "0    0    6   18\n",
      "1   36   60   90\n",
      "2  126  168  216\n",
      "     A    B    C\n",
      "0    0    6   18\n",
      "1   36   60   90\n",
      "2  126  168  216\n",
      "     A    B    C\n",
      "0    0    6   18\n",
      "1   36   60   90\n",
      "2  126  168  216\n",
      "   A  B  C\n",
      "0  0  1  2\n",
      "1  3  4  5\n",
      "2  6  7  8\n"
     ]
    }
   ],
   "source": [
    "print(df1.mul(df2))\n",
    "print(df1.rmul(df2))\n",
    "print(df1.multiply(df2))\n",
    "print(df1.mod(df2))"
   ]
  },
  {
   "cell_type": "code",
   "execution_count": 171,
   "metadata": {},
   "outputs": [
    {
     "name": "stdout",
     "output_type": "stream",
     "text": [
      "            A           B          C\n",
      "0           0           1        512\n",
      "1      531441  1073741824  766306777\n",
      "2  1449132032  1452577857          0\n",
      "          A          B           C\n",
      "0         1          6          81\n",
      "1      1728      50625     1889568\n",
      "2  85766121  291504128 -1038305055\n"
     ]
    }
   ],
   "source": [
    "print(df1.pow(df2))\n",
    "print(df1.rpow(df2))"
   ]
  },
  {
   "cell_type": "markdown",
   "metadata": {},
   "source": [
    "### 비교연산 \n"
   ]
  },
  {
   "cell_type": "code",
   "execution_count": 169,
   "metadata": {},
   "outputs": [
    {
     "name": "stdout",
     "output_type": "stream",
     "text": [
      "      A     B     C\n",
      "0  True  True  True\n",
      "1  True  True  True\n",
      "2  True  True  True\n",
      "      A     B     C\n",
      "0  True  True  True\n",
      "1  True  True  True\n",
      "2  True  True  True\n"
     ]
    }
   ],
   "source": [
    "print(df1.le(df2))\n",
    "print(df1.ne(df2))"
   ]
  },
  {
   "cell_type": "code",
   "execution_count": 168,
   "metadata": {},
   "outputs": [
    {
     "name": "stdout",
     "output_type": "stream",
     "text": [
      "       A      B      C\n",
      "0  False  False  False\n",
      "1  False  False  False\n",
      "2  False  False  False\n",
      "False\n"
     ]
    }
   ],
   "source": [
    "print(df1.eq(df2))\n",
    "print(df1.equals(df2))"
   ]
  },
  {
   "cell_type": "code",
   "execution_count": 163,
   "metadata": {},
   "outputs": [
    {
     "name": "stdout",
     "output_type": "stream",
     "text": [
      "       A      B      C\n",
      "0  False  False  False\n",
      "1  False  False  False\n",
      "2  False  False  False\n"
     ]
    }
   ],
   "source": [
    "print(df1.ge(df2))"
   ]
  },
  {
   "cell_type": "code",
   "execution_count": 164,
   "metadata": {},
   "outputs": [
    {
     "name": "stdout",
     "output_type": "stream",
     "text": [
      "      A     B     C\n",
      "0  True  True  True\n",
      "1  True  True  True\n",
      "2  True  True  True\n"
     ]
    }
   ],
   "source": [
    "print(df1.lt(df2))"
   ]
  },
  {
   "cell_type": "code",
   "execution_count": 165,
   "metadata": {},
   "outputs": [
    {
     "name": "stdout",
     "output_type": "stream",
     "text": [
      "       A      B      C\n",
      "0  False  False  False\n",
      "1  False  False  False\n",
      "2  False  False  False\n"
     ]
    }
   ],
   "source": [
    "print(df1.gt(df2))"
   ]
  },
  {
   "cell_type": "code",
   "execution_count": 180,
   "metadata": {
    "collapsed": true
   },
   "outputs": [],
   "source": [
    "df1.to_pickle(\"data.pkl\")"
   ]
  },
  {
   "cell_type": "markdown",
   "metadata": {},
   "source": [
    "### 특정 컬럼에 큰 값이나 작은 값을 조회\n",
    "\n"
   ]
  },
  {
   "cell_type": "code",
   "execution_count": 248,
   "metadata": {},
   "outputs": [
    {
     "data": {
      "text/html": [
       "<div>\n",
       "<table border=\"1\" class=\"dataframe\">\n",
       "  <thead>\n",
       "    <tr style=\"text-align: right;\">\n",
       "      <th></th>\n",
       "      <th>A</th>\n",
       "      <th>B</th>\n",
       "      <th>C</th>\n",
       "    </tr>\n",
       "  </thead>\n",
       "  <tbody>\n",
       "    <tr>\n",
       "      <th>2000-01-05</th>\n",
       "      <td>1.111170</td>\n",
       "      <td>0.938332</td>\n",
       "      <td>-0.104852</td>\n",
       "    </tr>\n",
       "    <tr>\n",
       "      <th>2000-01-02</th>\n",
       "      <td>0.557821</td>\n",
       "      <td>0.289315</td>\n",
       "      <td>0.645696</td>\n",
       "    </tr>\n",
       "    <tr>\n",
       "      <th>2000-01-06</th>\n",
       "      <td>0.484249</td>\n",
       "      <td>0.556453</td>\n",
       "      <td>0.006105</td>\n",
       "    </tr>\n",
       "  </tbody>\n",
       "</table>\n",
       "</div>"
      ],
      "text/plain": [
       "                   A         B         C\n",
       "2000-01-05  1.111170  0.938332 -0.104852\n",
       "2000-01-02  0.557821  0.289315  0.645696\n",
       "2000-01-06  0.484249  0.556453  0.006105"
      ]
     },
     "execution_count": 248,
     "metadata": {},
     "output_type": "execute_result"
    }
   ],
   "source": [
    "dfa1.nlargest(3,columns='A')"
   ]
  },
  {
   "cell_type": "code",
   "execution_count": 249,
   "metadata": {},
   "outputs": [
    {
     "data": {
      "text/html": [
       "<div>\n",
       "<table border=\"1\" class=\"dataframe\">\n",
       "  <thead>\n",
       "    <tr style=\"text-align: right;\">\n",
       "      <th></th>\n",
       "      <th>A</th>\n",
       "      <th>B</th>\n",
       "      <th>C</th>\n",
       "    </tr>\n",
       "  </thead>\n",
       "  <tbody>\n",
       "    <tr>\n",
       "      <th>2000-01-10</th>\n",
       "      <td>-1.155062</td>\n",
       "      <td>0.691866</td>\n",
       "      <td>-1.448892</td>\n",
       "    </tr>\n",
       "    <tr>\n",
       "      <th>2000-01-04</th>\n",
       "      <td>-0.462389</td>\n",
       "      <td>0.288112</td>\n",
       "      <td>0.023539</td>\n",
       "    </tr>\n",
       "    <tr>\n",
       "      <th>2000-01-07</th>\n",
       "      <td>-0.371468</td>\n",
       "      <td>2.196942</td>\n",
       "      <td>1.402377</td>\n",
       "    </tr>\n",
       "  </tbody>\n",
       "</table>\n",
       "</div>"
      ],
      "text/plain": [
       "                   A         B         C\n",
       "2000-01-10 -1.155062  0.691866 -1.448892\n",
       "2000-01-04 -0.462389  0.288112  0.023539\n",
       "2000-01-07 -0.371468  2.196942  1.402377"
      ]
     },
     "execution_count": 249,
     "metadata": {},
     "output_type": "execute_result"
    }
   ],
   "source": [
    "dfa1.nsmallest(3,columns='A')"
   ]
  },
  {
   "cell_type": "markdown",
   "metadata": {},
   "source": [
    "###  the compound percentage of the values\n"
   ]
  },
  {
   "cell_type": "code",
   "execution_count": 221,
   "metadata": {},
   "outputs": [
    {
     "name": "stdout",
     "output_type": "stream",
     "text": [
      "Help on method compound in module pandas.core.generic:\n",
      "\n",
      "compound(axis=None, skipna=None, level=None) method of pandas.core.frame.DataFrame instance\n",
      "    Return the compound percentage of the values for the requested axis\n",
      "    \n",
      "    Parameters\n",
      "    ----------\n",
      "    axis : {index (0), columns (1)}\n",
      "    skipna : boolean, default True\n",
      "        Exclude NA/null values. If an entire row/column is NA, the result\n",
      "        will be NA\n",
      "    level : int or level name, default None\n",
      "        If the axis is a MultiIndex (hierarchical), count along a\n",
      "        particular level, collapsing into a Series\n",
      "    numeric_only : boolean, default None\n",
      "        Include only float, int, boolean data. If None, will attempt to use\n",
      "        everything, then use only numeric data\n",
      "    \n",
      "    Returns\n",
      "    -------\n",
      "    compounded : Series or DataFrame (if level specified)\n",
      "\n"
     ]
    }
   ],
   "source": [
    "help(df1.compound)"
   ]
  },
  {
   "cell_type": "code",
   "execution_count": 218,
   "metadata": {},
   "outputs": [
    {
     "data": {
      "text/html": [
       "<div>\n",
       "<table border=\"1\" class=\"dataframe\">\n",
       "  <thead>\n",
       "    <tr style=\"text-align: right;\">\n",
       "      <th></th>\n",
       "      <th>A</th>\n",
       "      <th>B</th>\n",
       "      <th>C</th>\n",
       "    </tr>\n",
       "  </thead>\n",
       "  <tbody>\n",
       "    <tr>\n",
       "      <th>0</th>\n",
       "      <td>0</td>\n",
       "      <td>1</td>\n",
       "      <td>2</td>\n",
       "    </tr>\n",
       "    <tr>\n",
       "      <th>1</th>\n",
       "      <td>3</td>\n",
       "      <td>4</td>\n",
       "      <td>5</td>\n",
       "    </tr>\n",
       "    <tr>\n",
       "      <th>2</th>\n",
       "      <td>6</td>\n",
       "      <td>7</td>\n",
       "      <td>8</td>\n",
       "    </tr>\n",
       "  </tbody>\n",
       "</table>\n",
       "</div>"
      ],
      "text/plain": [
       "   A  B  C\n",
       "0  0  1  2\n",
       "1  3  4  5\n",
       "2  6  7  8"
      ]
     },
     "execution_count": 218,
     "metadata": {},
     "output_type": "execute_result"
    }
   ],
   "source": [
    "df1"
   ]
  },
  {
   "cell_type": "code",
   "execution_count": 222,
   "metadata": {},
   "outputs": [
    {
     "data": {
      "text/plain": [
       "A     27\n",
       "B     79\n",
       "C    161\n",
       "dtype: int32"
      ]
     },
     "execution_count": 222,
     "metadata": {},
     "output_type": "execute_result"
    }
   ],
   "source": [
    "df1.compound(0)"
   ]
  },
  {
   "cell_type": "code",
   "execution_count": 223,
   "metadata": {},
   "outputs": [
    {
     "data": {
      "text/plain": [
       "0      5\n",
       "1    119\n",
       "2    503\n",
       "dtype: int32"
      ]
     },
     "execution_count": 223,
     "metadata": {},
     "output_type": "execute_result"
    }
   ],
   "source": [
    "df1.compound(1)"
   ]
  },
  {
   "cell_type": "code",
   "execution_count": null,
   "metadata": {
    "collapsed": true
   },
   "outputs": [],
   "source": []
  }
 ],
 "metadata": {
  "kernelspec": {
   "display_name": "Python 3",
   "language": "python",
   "name": "python3"
  },
  "language_info": {
   "codemirror_mode": {
    "name": "ipython",
    "version": 3
   },
   "file_extension": ".py",
   "mimetype": "text/x-python",
   "name": "python",
   "nbconvert_exporter": "python",
   "pygments_lexer": "ipython3",
   "version": "3.6.1"
  }
 },
 "nbformat": 4,
 "nbformat_minor": 1
}
