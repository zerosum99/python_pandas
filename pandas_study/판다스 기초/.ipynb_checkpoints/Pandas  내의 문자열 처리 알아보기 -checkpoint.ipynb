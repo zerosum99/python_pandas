{
 "cells": [
  {
   "cell_type": "code",
   "execution_count": 2,
   "metadata": {
    "collapsed": true
   },
   "outputs": [],
   "source": [
    "import pandas as pd\n",
    "import numpy as np\n"
   ]
  },
  {
   "cell_type": "code",
   "execution_count": 3,
   "metadata": {},
   "outputs": [
    {
     "data": {
      "text/plain": [
       "'0.20.1'"
      ]
     },
     "execution_count": 3,
     "metadata": {},
     "output_type": "execute_result"
    }
   ],
   "source": [
    "pd.__version__"
   ]
  },
  {
   "cell_type": "markdown",
   "metadata": {},
   "source": [
    "## 문자열 처리 알아보기  \n",
    "\n"
   ]
  },
  {
   "cell_type": "code",
   "execution_count": 46,
   "metadata": {
    "collapsed": true
   },
   "outputs": [],
   "source": [
    "aa = np.array([[\"aaa\",\"bbb\",\"ccc\"],[\"ddd\",\"eee\",'fff']])"
   ]
  },
  {
   "cell_type": "code",
   "execution_count": 47,
   "metadata": {},
   "outputs": [
    {
     "data": {
      "text/plain": [
       "array([['aaa', 'bbb', 'ccc'],\n",
       "       ['ddd', 'eee', 'fff']],\n",
       "      dtype='<U3')"
      ]
     },
     "execution_count": 47,
     "metadata": {},
     "output_type": "execute_result"
    }
   ],
   "source": [
    "aa"
   ]
  },
  {
   "cell_type": "code",
   "execution_count": 48,
   "metadata": {},
   "outputs": [
    {
     "data": {
      "text/plain": [
       "(2, 3)"
      ]
     },
     "execution_count": 48,
     "metadata": {},
     "output_type": "execute_result"
    }
   ],
   "source": [
    "aa.shape"
   ]
  },
  {
   "cell_type": "code",
   "execution_count": 81,
   "metadata": {},
   "outputs": [
    {
     "name": "stdout",
     "output_type": "stream",
     "text": [
      "     0    1    2\n",
      "0  aaa  bbb  ccc\n",
      "1  ddd  eee  fff\n"
     ]
    }
   ],
   "source": [
    "ab = pd.DataFrame(np.array([[\"aaa\",\"bbb\",\"ccc\"],[\"ddd\",\"eee\",'fff']]))\n",
    "print(ab)"
   ]
  },
  {
   "cell_type": "code",
   "execution_count": 83,
   "metadata": {},
   "outputs": [
    {
     "data": {
      "text/plain": [
       "(2, 3)"
      ]
     },
     "execution_count": 83,
     "metadata": {},
     "output_type": "execute_result"
    }
   ],
   "source": [
    "ab.values.shape"
   ]
  },
  {
   "cell_type": "code",
   "execution_count": 50,
   "metadata": {},
   "outputs": [
    {
     "data": {
      "text/plain": [
       "(3, 2)"
      ]
     },
     "execution_count": 50,
     "metadata": {},
     "output_type": "execute_result"
    }
   ],
   "source": [
    "aa.T.shape"
   ]
  },
  {
   "cell_type": "code",
   "execution_count": 82,
   "metadata": {},
   "outputs": [
    {
     "name": "stdout",
     "output_type": "stream",
     "text": [
      "     0    1\n",
      "0  aaa  ddd\n",
      "1  bbb  eee\n",
      "2  ccc  fff\n"
     ]
    }
   ],
   "source": [
    "a = pd.DataFrame(np.array([[\"aaa\",\"bbb\",\"ccc\"],[\"ddd\",\"eee\",'fff']]).T)\n",
    "print(a)\n"
   ]
  },
  {
   "cell_type": "code",
   "execution_count": 49,
   "metadata": {},
   "outputs": [
    {
     "data": {
      "text/plain": [
       "(3, 2)"
      ]
     },
     "execution_count": 49,
     "metadata": {},
     "output_type": "execute_result"
    }
   ],
   "source": [
    "a.values.shape"
   ]
  },
  {
   "cell_type": "code",
   "execution_count": 54,
   "metadata": {},
   "outputs": [
    {
     "data": {
      "text/plain": [
       "0    aaa\n",
       "1    bbb\n",
       "2    ccc\n",
       "Name: 0, dtype: object"
      ]
     },
     "execution_count": 54,
     "metadata": {},
     "output_type": "execute_result"
    }
   ],
   "source": [
    "a[0]"
   ]
  },
  {
   "cell_type": "code",
   "execution_count": 55,
   "metadata": {},
   "outputs": [
    {
     "data": {
      "text/plain": [
       "pandas.core.series.Series"
      ]
     },
     "execution_count": 55,
     "metadata": {},
     "output_type": "execute_result"
    }
   ],
   "source": [
    "type(a[0])"
   ]
  },
  {
   "cell_type": "markdown",
   "metadata": {},
   "source": [
    "## 시리즈 내의 원소가 문자열인 경우 str로 처리"
   ]
  },
  {
   "cell_type": "code",
   "execution_count": 72,
   "metadata": {},
   "outputs": [
    {
     "name": "stdout",
     "output_type": "stream",
     "text": [
      "<pandas.core.strings.StringMethods object at 0x1182ce080>\n"
     ]
    }
   ],
   "source": [
    "print(a[0].str)"
   ]
  },
  {
   "cell_type": "markdown",
   "metadata": {},
   "source": [
    "## 시리즈내의 문자열과 파이썬 문자열 자료형의  메소드 비교하기"
   ]
  },
  {
   "cell_type": "code",
   "execution_count": 57,
   "metadata": {},
   "outputs": [
    {
     "name": "stdout",
     "output_type": "stream",
     "text": [
      "capitalize\n",
      "cat\n",
      "center\n",
      "contains\n",
      "count\n",
      "decode\n",
      "encode\n",
      "endswith\n",
      "extract\n",
      "extractall\n",
      "find\n",
      "findall\n",
      "get\n",
      "get_dummies\n",
      "index\n",
      "isalnum\n",
      "isalpha\n",
      "isdecimal\n",
      "isdigit\n",
      "islower\n",
      "isnumeric\n",
      "isspace\n",
      "istitle\n",
      "isupper\n",
      "join\n",
      "len\n",
      "ljust\n",
      "lower\n",
      "lstrip\n",
      "match\n",
      "normalize\n",
      "pad\n",
      "partition\n",
      "repeat\n",
      "replace\n",
      "rfind\n",
      "rindex\n",
      "rjust\n",
      "rpartition\n",
      "rsplit\n",
      "rstrip\n",
      "slice\n",
      "slice_replace\n",
      "split\n",
      "startswith\n",
      "strip\n",
      "swapcase\n",
      "title\n",
      "translate\n",
      "upper\n",
      "wrap\n",
      "zfill\n"
     ]
    }
   ],
   "source": [
    "for i in dir(pd.Series.str) :\n",
    "    if not i.startswith(\"_\") :\n",
    "        print(i)"
   ]
  },
  {
   "cell_type": "markdown",
   "metadata": {},
   "source": [
    "## 문자열 내의 메소드와 시리즈 내의 str 메소드 비교"
   ]
  },
  {
   "cell_type": "code",
   "execution_count": 66,
   "metadata": {
    "collapsed": true
   },
   "outputs": [],
   "source": [
    "s_str = set(dir(str))\n",
    "ser_str = set(dir(pd.Series.str))\n",
    "\n",
    "inter = s_str & ser_str"
   ]
  },
  {
   "cell_type": "code",
   "execution_count": 70,
   "metadata": {},
   "outputs": [
    {
     "data": {
      "text/plain": [
       "set"
      ]
     },
     "execution_count": 70,
     "metadata": {},
     "output_type": "execute_result"
    }
   ],
   "source": [
    "type(inter)"
   ]
  },
  {
   "cell_type": "code",
   "execution_count": 69,
   "metadata": {},
   "outputs": [
    {
     "name": "stdout",
     "output_type": "stream",
     "text": [
      "count\n",
      "isdigit\n",
      "isupper\n",
      "isnumeric\n",
      "center\n",
      "title\n",
      "join\n",
      "swapcase\n",
      "upper\n",
      "rsplit\n",
      "rindex\n",
      "capitalize\n",
      "rstrip\n",
      "ljust\n",
      "find\n",
      "strip\n",
      "rfind\n",
      "translate\n",
      "partition\n",
      "islower\n",
      "isspace\n",
      "index\n",
      "lower\n",
      "startswith\n",
      "isalnum\n",
      "isalpha\n",
      "istitle\n",
      "rpartition\n",
      "replace\n",
      "lstrip\n",
      "endswith\n",
      "split\n",
      "isdecimal\n",
      "zfill\n",
      "rjust\n",
      "encode\n"
     ]
    }
   ],
   "source": [
    "for i in list(inter) :\n",
    "    if not i.startswith(\"_\") :\n",
    "        print(i)"
   ]
  },
  {
   "cell_type": "markdown",
   "metadata": {},
   "source": [
    "### 문자열 원소의 대문자로 처리하기"
   ]
  },
  {
   "cell_type": "code",
   "execution_count": 71,
   "metadata": {},
   "outputs": [
    {
     "data": {
      "text/plain": [
       "0    Aaa\n",
       "1    Bbb\n",
       "2    Ccc\n",
       "Name: 0, dtype: object"
      ]
     },
     "execution_count": 71,
     "metadata": {},
     "output_type": "execute_result"
    }
   ],
   "source": [
    "a[0].str.capitalize()"
   ]
  },
  {
   "cell_type": "markdown",
   "metadata": {},
   "source": [
    "### 문자의 원소로 구성한 것을 len 처리"
   ]
  },
  {
   "cell_type": "code",
   "execution_count": 73,
   "metadata": {},
   "outputs": [
    {
     "name": "stdout",
     "output_type": "stream",
     "text": [
      "0    3\n",
      "1    3\n",
      "2    3\n",
      "Name: 0, dtype: int64\n"
     ]
    }
   ],
   "source": [
    "print(a[0].str.len())"
   ]
  },
  {
   "cell_type": "code",
   "execution_count": null,
   "metadata": {
    "collapsed": true
   },
   "outputs": [],
   "source": []
  }
 ],
 "metadata": {
  "anaconda-cloud": {},
  "kernelspec": {
   "display_name": "Python 3",
   "language": "python",
   "name": "python3"
  },
  "language_info": {
   "codemirror_mode": {
    "name": "ipython",
    "version": 3
   },
   "file_extension": ".py",
   "mimetype": "text/x-python",
   "name": "python",
   "nbconvert_exporter": "python",
   "pygments_lexer": "ipython3",
   "version": "3.6.1"
  }
 },
 "nbformat": 4,
 "nbformat_minor": 1
}
