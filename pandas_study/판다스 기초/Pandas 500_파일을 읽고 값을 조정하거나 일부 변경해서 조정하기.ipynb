{
 "cells": [
  {
   "cell_type": "code",
   "execution_count": 11,
   "metadata": {
    "collapsed": true
   },
   "outputs": [],
   "source": [
    "import pandas as pd\n",
    "import numpy as np"
   ]
  },
  {
   "cell_type": "code",
   "execution_count": 2,
   "metadata": {
    "collapsed": true
   },
   "outputs": [],
   "source": [
    "df = pd.read_csv('data/plaza.csv')"
   ]
  },
  {
   "cell_type": "code",
   "execution_count": 3,
   "metadata": {},
   "outputs": [
    {
     "data": {
      "text/html": [
       "<div>\n",
       "<style>\n",
       "    .dataframe thead tr:only-child th {\n",
       "        text-align: right;\n",
       "    }\n",
       "\n",
       "    .dataframe thead th {\n",
       "        text-align: left;\n",
       "    }\n",
       "\n",
       "    .dataframe tbody tr th {\n",
       "        vertical-align: top;\n",
       "    }\n",
       "</style>\n",
       "<table border=\"1\" class=\"dataframe\">\n",
       "  <thead>\n",
       "    <tr style=\"text-align: right;\">\n",
       "      <th></th>\n",
       "      <th>time</th>\n",
       "      <th>dest</th>\n",
       "      <th>dir</th>\n",
       "      <th>len</th>\n",
       "      <th>etd</th>\n",
       "    </tr>\n",
       "  </thead>\n",
       "  <tbody>\n",
       "    <tr>\n",
       "      <th>0</th>\n",
       "      <td>1.417109e+09</td>\n",
       "      <td>Fremont</td>\n",
       "      <td>South</td>\n",
       "      <td>6</td>\n",
       "      <td>3</td>\n",
       "    </tr>\n",
       "    <tr>\n",
       "      <th>1</th>\n",
       "      <td>1.417109e+09</td>\n",
       "      <td>Richmond</td>\n",
       "      <td>North</td>\n",
       "      <td>6</td>\n",
       "      <td>10</td>\n",
       "    </tr>\n",
       "    <tr>\n",
       "      <th>2</th>\n",
       "      <td>1.417109e+09</td>\n",
       "      <td>Fremont</td>\n",
       "      <td>South</td>\n",
       "      <td>6</td>\n",
       "      <td>2</td>\n",
       "    </tr>\n",
       "    <tr>\n",
       "      <th>3</th>\n",
       "      <td>1.417109e+09</td>\n",
       "      <td>Richmond</td>\n",
       "      <td>North</td>\n",
       "      <td>6</td>\n",
       "      <td>9</td>\n",
       "    </tr>\n",
       "    <tr>\n",
       "      <th>4</th>\n",
       "      <td>1.417109e+09</td>\n",
       "      <td>Fremont</td>\n",
       "      <td>South</td>\n",
       "      <td>6</td>\n",
       "      <td>Leaving</td>\n",
       "    </tr>\n",
       "  </tbody>\n",
       "</table>\n",
       "</div>"
      ],
      "text/plain": [
       "           time      dest    dir  len      etd\n",
       "0  1.417109e+09   Fremont  South    6        3\n",
       "1  1.417109e+09  Richmond  North    6       10\n",
       "2  1.417109e+09   Fremont  South    6        2\n",
       "3  1.417109e+09  Richmond  North    6        9\n",
       "4  1.417109e+09   Fremont  South    6  Leaving"
      ]
     },
     "execution_count": 3,
     "metadata": {},
     "output_type": "execute_result"
    }
   ],
   "source": [
    "df.head()"
   ]
  },
  {
   "cell_type": "markdown",
   "metadata": {},
   "source": [
    "## 타임에 대한 문자열 처리\n",
    "\n",
    "     타입만 파싱처리하면 실제 주어진 대로만 출력"
   ]
  },
  {
   "cell_type": "code",
   "execution_count": 20,
   "metadata": {
    "collapsed": true
   },
   "outputs": [],
   "source": [
    "df0 = pd.read_csv('data/plaza.csv', parse_dates=['time'])"
   ]
  },
  {
   "cell_type": "code",
   "execution_count": 22,
   "metadata": {},
   "outputs": [
    {
     "data": {
      "text/html": [
       "<div>\n",
       "<style>\n",
       "    .dataframe thead tr:only-child th {\n",
       "        text-align: right;\n",
       "    }\n",
       "\n",
       "    .dataframe thead th {\n",
       "        text-align: left;\n",
       "    }\n",
       "\n",
       "    .dataframe tbody tr th {\n",
       "        vertical-align: top;\n",
       "    }\n",
       "</style>\n",
       "<table border=\"1\" class=\"dataframe\">\n",
       "  <thead>\n",
       "    <tr style=\"text-align: right;\">\n",
       "      <th></th>\n",
       "      <th>time</th>\n",
       "      <th>dest</th>\n",
       "      <th>dir</th>\n",
       "      <th>len</th>\n",
       "      <th>etd</th>\n",
       "    </tr>\n",
       "  </thead>\n",
       "  <tbody>\n",
       "    <tr>\n",
       "      <th>0</th>\n",
       "      <td>1417108837.85</td>\n",
       "      <td>Fremont</td>\n",
       "      <td>South</td>\n",
       "      <td>6</td>\n",
       "      <td>3</td>\n",
       "    </tr>\n",
       "    <tr>\n",
       "      <th>1</th>\n",
       "      <td>1417108837.85</td>\n",
       "      <td>Richmond</td>\n",
       "      <td>North</td>\n",
       "      <td>6</td>\n",
       "      <td>10</td>\n",
       "    </tr>\n",
       "    <tr>\n",
       "      <th>2</th>\n",
       "      <td>1417108921.12</td>\n",
       "      <td>Fremont</td>\n",
       "      <td>South</td>\n",
       "      <td>6</td>\n",
       "      <td>2</td>\n",
       "    </tr>\n",
       "    <tr>\n",
       "      <th>3</th>\n",
       "      <td>1417108921.12</td>\n",
       "      <td>Richmond</td>\n",
       "      <td>North</td>\n",
       "      <td>6</td>\n",
       "      <td>9</td>\n",
       "    </tr>\n",
       "    <tr>\n",
       "      <th>4</th>\n",
       "      <td>1417108981.46</td>\n",
       "      <td>Fremont</td>\n",
       "      <td>South</td>\n",
       "      <td>6</td>\n",
       "      <td>Leaving</td>\n",
       "    </tr>\n",
       "  </tbody>\n",
       "</table>\n",
       "</div>"
      ],
      "text/plain": [
       "            time      dest    dir  len      etd\n",
       "0  1417108837.85   Fremont  South    6        3\n",
       "1  1417108837.85  Richmond  North    6       10\n",
       "2  1417108921.12   Fremont  South    6        2\n",
       "3  1417108921.12  Richmond  North    6        9\n",
       "4  1417108981.46   Fremont  South    6  Leaving"
      ]
     },
     "execution_count": 22,
     "metadata": {},
     "output_type": "execute_result"
    }
   ],
   "source": [
    "df0.head()"
   ]
  },
  {
   "cell_type": "markdown",
   "metadata": {},
   "source": [
    "## 타임에 대해 특정한 형태로 변형하려면 그 기준점을 부여해서 처리\n",
    "\n",
    "     기본적인 데이터프레임처리는 새로운 결과를 처리하고 내부의 값은 변경하지 않는다.\n",
    "     "
   ]
  },
  {
   "cell_type": "markdown",
   "metadata": {},
   "source": [
    "### 문자열을 타임스템프로 전환하기"
   ]
  },
  {
   "cell_type": "code",
   "execution_count": 24,
   "metadata": {},
   "outputs": [],
   "source": [
    "s = pd.to_datetime(float('1417108837.85'),unit='s')"
   ]
  },
  {
   "cell_type": "code",
   "execution_count": 25,
   "metadata": {},
   "outputs": [
    {
     "data": {
      "text/plain": [
       "Timestamp('2014-11-27 17:20:37.850000')"
      ]
     },
     "execution_count": 25,
     "metadata": {},
     "output_type": "execute_result"
    }
   ],
   "source": [
    "s"
   ]
  },
  {
   "cell_type": "markdown",
   "metadata": {},
   "source": [
    "### 타임존을 표시하기"
   ]
  },
  {
   "cell_type": "code",
   "execution_count": 36,
   "metadata": {},
   "outputs": [
    {
     "name": "stdout",
     "output_type": "stream",
     "text": [
      "Help on function tz_localize in module pandas.core.generic:\n",
      "\n",
      "tz_localize(self, tz, axis=0, level=None, copy=True, ambiguous='raise')\n",
      "    Localize tz-naive TimeSeries to target time zone.\n",
      "    \n",
      "    Parameters\n",
      "    ----------\n",
      "    tz : string or pytz.timezone object\n",
      "    axis : the axis to localize\n",
      "    level : int, str, default None\n",
      "        If axis ia a MultiIndex, localize a specific level. Otherwise\n",
      "        must be None\n",
      "    copy : boolean, default True\n",
      "        Also make a copy of the underlying data\n",
      "    ambiguous : 'infer', bool-ndarray, 'NaT', default 'raise'\n",
      "        - 'infer' will attempt to infer fall dst-transition hours based on\n",
      "          order\n",
      "        - bool-ndarray where True signifies a DST time, False designates\n",
      "          a non-DST time (note that this flag is only applicable for\n",
      "          ambiguous times)\n",
      "        - 'NaT' will return NaT where there are ambiguous times\n",
      "        - 'raise' will raise an AmbiguousTimeError if there are ambiguous\n",
      "          times\n",
      "    infer_dst : boolean, default False (DEPRECATED)\n",
      "        Attempt to infer fall dst-transition hours based on order\n",
      "    \n",
      "    Returns\n",
      "    -------\n",
      "    \n",
      "    Raises\n",
      "    ------\n",
      "    TypeError\n",
      "        If the TimeSeries is tz-aware and tz is not None.\n",
      "\n"
     ]
    }
   ],
   "source": [
    "help(pd.DataFrame.tz_localize)"
   ]
  },
  {
   "cell_type": "code",
   "execution_count": 31,
   "metadata": {},
   "outputs": [],
   "source": [
    "s1 = s.tz_localize('UTC')"
   ]
  },
  {
   "cell_type": "code",
   "execution_count": 32,
   "metadata": {},
   "outputs": [
    {
     "data": {
      "text/plain": [
       "Timestamp('2014-11-27 17:20:37.850000+0000', tz='UTC')"
      ]
     },
     "execution_count": 32,
     "metadata": {},
     "output_type": "execute_result"
    }
   ],
   "source": [
    "s1"
   ]
  },
  {
   "cell_type": "markdown",
   "metadata": {},
   "source": [
    "### 타임존을 변환하기"
   ]
  },
  {
   "cell_type": "code",
   "execution_count": 37,
   "metadata": {},
   "outputs": [
    {
     "name": "stdout",
     "output_type": "stream",
     "text": [
      "Help on function tz_convert in module pandas.core.generic:\n",
      "\n",
      "tz_convert(self, tz, axis=0, level=None, copy=True)\n",
      "    Convert tz-aware axis to target time zone.\n",
      "    \n",
      "    Parameters\n",
      "    ----------\n",
      "    tz : string or pytz.timezone object\n",
      "    axis : the axis to convert\n",
      "    level : int, str, default None\n",
      "        If axis ia a MultiIndex, convert a specific level. Otherwise\n",
      "        must be None\n",
      "    copy : boolean, default True\n",
      "        Also make a copy of the underlying data\n",
      "    \n",
      "    Returns\n",
      "    -------\n",
      "    \n",
      "    Raises\n",
      "    ------\n",
      "    TypeError\n",
      "        If the axis is tz-naive.\n",
      "\n"
     ]
    }
   ],
   "source": [
    "help(pd.DataFrame.tz_convert)"
   ]
  },
  {
   "cell_type": "code",
   "execution_count": 34,
   "metadata": {},
   "outputs": [],
   "source": [
    "s2 = s1.tz_convert('US/Pacific')"
   ]
  },
  {
   "cell_type": "code",
   "execution_count": 35,
   "metadata": {},
   "outputs": [
    {
     "data": {
      "text/plain": [
       "Timestamp('2014-11-27 09:20:37.850000-0800', tz='US/Pacific')"
      ]
     },
     "execution_count": 35,
     "metadata": {},
     "output_type": "execute_result"
    }
   ],
   "source": [
    "s2"
   ]
  },
  {
   "cell_type": "markdown",
   "metadata": {},
   "source": [
    "### 타임에 대한 처리를 하기 위해 실제 타입을 변경할 함수를 제공하기"
   ]
  },
  {
   "cell_type": "code",
   "execution_count": 14,
   "metadata": {},
   "outputs": [],
   "source": [
    "def parse_time(timestamp):\n",
    "    try:\n",
    "        dt = pd.to_datetime(float(timestamp), unit='s')\n",
    "        return dt.tz_localize('UTC').tz_convert('US/Pacific')\n",
    "    except AttributeError:\n",
    "        return pd.NaT\n",
    "    except ValueError:\n",
    "        return pd.NaT"
   ]
  },
  {
   "cell_type": "markdown",
   "metadata": {},
   "source": [
    "## 파일을 읽고 처리할 때 내부적인 것을 처리하면 새로운 데이터 프레임에 변환을 한다"
   ]
  },
  {
   "cell_type": "code",
   "execution_count": 15,
   "metadata": {},
   "outputs": [],
   "source": [
    "df1 = pd.read_csv('data/plaza.csv', parse_dates=['time'], date_parser=parse_time)"
   ]
  },
  {
   "cell_type": "code",
   "execution_count": 16,
   "metadata": {},
   "outputs": [
    {
     "data": {
      "text/html": [
       "<div>\n",
       "<style>\n",
       "    .dataframe thead tr:only-child th {\n",
       "        text-align: right;\n",
       "    }\n",
       "\n",
       "    .dataframe thead th {\n",
       "        text-align: left;\n",
       "    }\n",
       "\n",
       "    .dataframe tbody tr th {\n",
       "        vertical-align: top;\n",
       "    }\n",
       "</style>\n",
       "<table border=\"1\" class=\"dataframe\">\n",
       "  <thead>\n",
       "    <tr style=\"text-align: right;\">\n",
       "      <th></th>\n",
       "      <th>time</th>\n",
       "      <th>dest</th>\n",
       "      <th>dir</th>\n",
       "      <th>len</th>\n",
       "      <th>etd</th>\n",
       "    </tr>\n",
       "  </thead>\n",
       "  <tbody>\n",
       "    <tr>\n",
       "      <th>0</th>\n",
       "      <td>2014-11-27 09:20:37.850000-08:00</td>\n",
       "      <td>Fremont</td>\n",
       "      <td>South</td>\n",
       "      <td>6</td>\n",
       "      <td>3</td>\n",
       "    </tr>\n",
       "    <tr>\n",
       "      <th>1</th>\n",
       "      <td>2014-11-27 09:20:37.850000-08:00</td>\n",
       "      <td>Richmond</td>\n",
       "      <td>North</td>\n",
       "      <td>6</td>\n",
       "      <td>10</td>\n",
       "    </tr>\n",
       "    <tr>\n",
       "      <th>2</th>\n",
       "      <td>2014-11-27 09:22:01.120000-08:00</td>\n",
       "      <td>Fremont</td>\n",
       "      <td>South</td>\n",
       "      <td>6</td>\n",
       "      <td>2</td>\n",
       "    </tr>\n",
       "    <tr>\n",
       "      <th>3</th>\n",
       "      <td>2014-11-27 09:22:01.120000-08:00</td>\n",
       "      <td>Richmond</td>\n",
       "      <td>North</td>\n",
       "      <td>6</td>\n",
       "      <td>9</td>\n",
       "    </tr>\n",
       "    <tr>\n",
       "      <th>4</th>\n",
       "      <td>2014-11-27 09:23:01.460000-08:00</td>\n",
       "      <td>Fremont</td>\n",
       "      <td>South</td>\n",
       "      <td>6</td>\n",
       "      <td>Leaving</td>\n",
       "    </tr>\n",
       "  </tbody>\n",
       "</table>\n",
       "</div>"
      ],
      "text/plain": [
       "                              time      dest    dir  len      etd\n",
       "0 2014-11-27 09:20:37.850000-08:00   Fremont  South    6        3\n",
       "1 2014-11-27 09:20:37.850000-08:00  Richmond  North    6       10\n",
       "2 2014-11-27 09:22:01.120000-08:00   Fremont  South    6        2\n",
       "3 2014-11-27 09:22:01.120000-08:00  Richmond  North    6        9\n",
       "4 2014-11-27 09:23:01.460000-08:00   Fremont  South    6  Leaving"
      ]
     },
     "execution_count": 16,
     "metadata": {},
     "output_type": "execute_result"
    }
   ],
   "source": [
    "df1.head()"
   ]
  },
  {
   "cell_type": "code",
   "execution_count": 18,
   "metadata": {},
   "outputs": [
    {
     "data": {
      "text/plain": [
       "0          3\n",
       "1         10\n",
       "2          2\n",
       "3          9\n",
       "4    Leaving\n",
       "Name: etd, dtype: object"
      ]
     },
     "execution_count": 18,
     "metadata": {},
     "output_type": "execute_result"
    }
   ],
   "source": [
    "df1['etd'].head()"
   ]
  },
  {
   "cell_type": "markdown",
   "metadata": {},
   "source": [
    "## 문자열 값을 숫자 값으로 대체해서 실제 자료형을 변경\n",
    "\n",
    "    인덱싱으로 갱신하면 내부의 각 원소들을 갱신처리한다."
   ]
  },
  {
   "cell_type": "markdown",
   "metadata": {},
   "source": [
    "### 실제 내부의 메소드로 실행하면 새로운 것인 시리즈로  표시한다."
   ]
  },
  {
   "cell_type": "code",
   "execution_count": 39,
   "metadata": {},
   "outputs": [
    {
     "data": {
      "text/plain": [
       "0     3.0\n",
       "1    10.0\n",
       "2     2.0\n",
       "3     9.0\n",
       "4     0.0\n",
       "Name: etd, dtype: float64"
      ]
     },
     "execution_count": 39,
     "metadata": {},
     "output_type": "execute_result"
    }
   ],
   "source": [
    "df1['etd'].replace('Leaving', 0).astype(np.float).head() "
   ]
  },
  {
   "cell_type": "markdown",
   "metadata": {},
   "source": [
    "### 새로운 칼럼에 메소드 처리한 값을 할당하면 내부의 값이 변경된다."
   ]
  },
  {
   "cell_type": "code",
   "execution_count": 12,
   "metadata": {},
   "outputs": [],
   "source": [
    "df1['etd'] = df1['etd'].replace('Leaving', 0).astype(np.float) "
   ]
  },
  {
   "cell_type": "code",
   "execution_count": 13,
   "metadata": {},
   "outputs": [
    {
     "data": {
      "text/html": [
       "<div>\n",
       "<style>\n",
       "    .dataframe thead tr:only-child th {\n",
       "        text-align: right;\n",
       "    }\n",
       "\n",
       "    .dataframe thead th {\n",
       "        text-align: left;\n",
       "    }\n",
       "\n",
       "    .dataframe tbody tr th {\n",
       "        vertical-align: top;\n",
       "    }\n",
       "</style>\n",
       "<table border=\"1\" class=\"dataframe\">\n",
       "  <thead>\n",
       "    <tr style=\"text-align: right;\">\n",
       "      <th></th>\n",
       "      <th>time</th>\n",
       "      <th>dest</th>\n",
       "      <th>dir</th>\n",
       "      <th>len</th>\n",
       "      <th>etd</th>\n",
       "    </tr>\n",
       "  </thead>\n",
       "  <tbody>\n",
       "    <tr>\n",
       "      <th>0</th>\n",
       "      <td>2014-11-27 09:20:37.850000-08:00</td>\n",
       "      <td>Fremont</td>\n",
       "      <td>South</td>\n",
       "      <td>6</td>\n",
       "      <td>3.0</td>\n",
       "    </tr>\n",
       "    <tr>\n",
       "      <th>1</th>\n",
       "      <td>2014-11-27 09:20:37.850000-08:00</td>\n",
       "      <td>Richmond</td>\n",
       "      <td>North</td>\n",
       "      <td>6</td>\n",
       "      <td>10.0</td>\n",
       "    </tr>\n",
       "    <tr>\n",
       "      <th>2</th>\n",
       "      <td>2014-11-27 09:22:01.120000-08:00</td>\n",
       "      <td>Fremont</td>\n",
       "      <td>South</td>\n",
       "      <td>6</td>\n",
       "      <td>2.0</td>\n",
       "    </tr>\n",
       "    <tr>\n",
       "      <th>3</th>\n",
       "      <td>2014-11-27 09:22:01.120000-08:00</td>\n",
       "      <td>Richmond</td>\n",
       "      <td>North</td>\n",
       "      <td>6</td>\n",
       "      <td>9.0</td>\n",
       "    </tr>\n",
       "    <tr>\n",
       "      <th>4</th>\n",
       "      <td>2014-11-27 09:23:01.460000-08:00</td>\n",
       "      <td>Fremont</td>\n",
       "      <td>South</td>\n",
       "      <td>6</td>\n",
       "      <td>0.0</td>\n",
       "    </tr>\n",
       "  </tbody>\n",
       "</table>\n",
       "</div>"
      ],
      "text/plain": [
       "                              time      dest    dir  len   etd\n",
       "0 2014-11-27 09:20:37.850000-08:00   Fremont  South    6   3.0\n",
       "1 2014-11-27 09:20:37.850000-08:00  Richmond  North    6  10.0\n",
       "2 2014-11-27 09:22:01.120000-08:00   Fremont  South    6   2.0\n",
       "3 2014-11-27 09:22:01.120000-08:00  Richmond  North    6   9.0\n",
       "4 2014-11-27 09:23:01.460000-08:00   Fremont  South    6   0.0"
      ]
     },
     "execution_count": 13,
     "metadata": {},
     "output_type": "execute_result"
    }
   ],
   "source": [
    "df1.head()"
   ]
  },
  {
   "cell_type": "markdown",
   "metadata": {},
   "source": [
    "## 특정 칼럼의 값을 기준으로 데이터 프레임 추출하기\n",
    "\n",
    "    마스킹으로 가져오면 실제 특정 값이 True 인 경우를 추출해서 데이터 프레임으로 가져온다."
   ]
  },
  {
   "cell_type": "code",
   "execution_count": 19,
   "metadata": {},
   "outputs": [
    {
     "data": {
      "text/html": [
       "<div>\n",
       "<style>\n",
       "    .dataframe thead tr:only-child th {\n",
       "        text-align: right;\n",
       "    }\n",
       "\n",
       "    .dataframe thead th {\n",
       "        text-align: left;\n",
       "    }\n",
       "\n",
       "    .dataframe tbody tr th {\n",
       "        vertical-align: top;\n",
       "    }\n",
       "</style>\n",
       "<table border=\"1\" class=\"dataframe\">\n",
       "  <thead>\n",
       "    <tr style=\"text-align: right;\">\n",
       "      <th></th>\n",
       "      <th>time</th>\n",
       "      <th>dest</th>\n",
       "      <th>dir</th>\n",
       "      <th>len</th>\n",
       "      <th>etd</th>\n",
       "    </tr>\n",
       "  </thead>\n",
       "  <tbody>\n",
       "    <tr>\n",
       "      <th>1856</th>\n",
       "      <td>2014-11-28 03:29:01.120000-08:00</td>\n",
       "      <td>Millbrae</td>\n",
       "      <td>South</td>\n",
       "      <td>5</td>\n",
       "      <td>52</td>\n",
       "    </tr>\n",
       "    <tr>\n",
       "      <th>1858</th>\n",
       "      <td>2014-11-28 03:30:01.460000-08:00</td>\n",
       "      <td>Millbrae</td>\n",
       "      <td>South</td>\n",
       "      <td>5</td>\n",
       "      <td>51</td>\n",
       "    </tr>\n",
       "    <tr>\n",
       "      <th>1860</th>\n",
       "      <td>2014-11-28 03:31:01.810000-08:00</td>\n",
       "      <td>Millbrae</td>\n",
       "      <td>South</td>\n",
       "      <td>5</td>\n",
       "      <td>50</td>\n",
       "    </tr>\n",
       "  </tbody>\n",
       "</table>\n",
       "</div>"
      ],
      "text/plain": [
       "                                 time      dest    dir  len etd\n",
       "1856 2014-11-28 03:29:01.120000-08:00  Millbrae  South    5  52\n",
       "1858 2014-11-28 03:30:01.460000-08:00  Millbrae  South    5  51\n",
       "1860 2014-11-28 03:31:01.810000-08:00  Millbrae  South    5  50"
      ]
     },
     "execution_count": 19,
     "metadata": {},
     "output_type": "execute_result"
    }
   ],
   "source": [
    "df_mill = df1[df1['dest'] == 'Millbrae']\n",
    "df_mill.head(3)"
   ]
  },
  {
   "cell_type": "code",
   "execution_count": null,
   "metadata": {
    "collapsed": true
   },
   "outputs": [],
   "source": []
  }
 ],
 "metadata": {
  "kernelspec": {
   "display_name": "Python 3",
   "language": "python",
   "name": "python3"
  },
  "language_info": {
   "codemirror_mode": {
    "name": "ipython",
    "version": 3
   },
   "file_extension": ".py",
   "mimetype": "text/x-python",
   "name": "python",
   "nbconvert_exporter": "python",
   "pygments_lexer": "ipython3",
   "version": "3.6.1"
  }
 },
 "nbformat": 4,
 "nbformat_minor": 2
}
