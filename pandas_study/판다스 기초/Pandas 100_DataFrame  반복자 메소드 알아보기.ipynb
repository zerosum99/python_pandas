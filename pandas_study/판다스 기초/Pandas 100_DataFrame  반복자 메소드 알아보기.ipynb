{
 "cells": [
  {
   "cell_type": "code",
   "execution_count": 1,
   "metadata": {
    "collapsed": true
   },
   "outputs": [],
   "source": [
    "import pandas as pd"
   ]
  },
  {
   "cell_type": "code",
   "execution_count": 3,
   "metadata": {
    "collapsed": true
   },
   "outputs": [],
   "source": [
    "df = pd.read_csv(\"state-population.csv\")"
   ]
  },
  {
   "cell_type": "markdown",
   "metadata": {},
   "source": [
    "##  하나의 행으로 읽는  반복자 클래스를 만들기"
   ]
  },
  {
   "cell_type": "code",
   "execution_count": 6,
   "metadata": {},
   "outputs": [
    {
     "data": {
      "text/plain": [
       "<generator object DataFrame.iterrows at 0x1144c0a98>"
      ]
     },
     "execution_count": 6,
     "metadata": {},
     "output_type": "execute_result"
    }
   ],
   "source": [
    "df.iterrows()"
   ]
  },
  {
   "cell_type": "code",
   "execution_count": 12,
   "metadata": {},
   "outputs": [
    {
     "data": {
      "text/html": [
       "<div>\n",
       "<style>\n",
       "    .dataframe thead tr:only-child th {\n",
       "        text-align: right;\n",
       "    }\n",
       "\n",
       "    .dataframe thead th {\n",
       "        text-align: left;\n",
       "    }\n",
       "\n",
       "    .dataframe tbody tr th {\n",
       "        vertical-align: top;\n",
       "    }\n",
       "</style>\n",
       "<table border=\"1\" class=\"dataframe\">\n",
       "  <thead>\n",
       "    <tr style=\"text-align: right;\">\n",
       "      <th></th>\n",
       "      <th>state/region</th>\n",
       "      <th>ages</th>\n",
       "      <th>year</th>\n",
       "      <th>population</th>\n",
       "    </tr>\n",
       "  </thead>\n",
       "  <tbody>\n",
       "    <tr>\n",
       "      <th>0</th>\n",
       "      <td>AL</td>\n",
       "      <td>under18</td>\n",
       "      <td>2012</td>\n",
       "      <td>1117489.0</td>\n",
       "    </tr>\n",
       "    <tr>\n",
       "      <th>1</th>\n",
       "      <td>AL</td>\n",
       "      <td>total</td>\n",
       "      <td>2012</td>\n",
       "      <td>4817528.0</td>\n",
       "    </tr>\n",
       "    <tr>\n",
       "      <th>2</th>\n",
       "      <td>AL</td>\n",
       "      <td>under18</td>\n",
       "      <td>2010</td>\n",
       "      <td>1130966.0</td>\n",
       "    </tr>\n",
       "    <tr>\n",
       "      <th>3</th>\n",
       "      <td>AL</td>\n",
       "      <td>total</td>\n",
       "      <td>2010</td>\n",
       "      <td>4785570.0</td>\n",
       "    </tr>\n",
       "    <tr>\n",
       "      <th>4</th>\n",
       "      <td>AL</td>\n",
       "      <td>under18</td>\n",
       "      <td>2011</td>\n",
       "      <td>1125763.0</td>\n",
       "    </tr>\n",
       "  </tbody>\n",
       "</table>\n",
       "</div>"
      ],
      "text/plain": [
       "  state/region     ages  year  population\n",
       "0           AL  under18  2012   1117489.0\n",
       "1           AL    total  2012   4817528.0\n",
       "2           AL  under18  2010   1130966.0\n",
       "3           AL    total  2010   4785570.0\n",
       "4           AL  under18  2011   1125763.0"
      ]
     },
     "execution_count": 12,
     "metadata": {},
     "output_type": "execute_result"
    }
   ],
   "source": [
    "df.head()"
   ]
  },
  {
   "cell_type": "code",
   "execution_count": 7,
   "metadata": {},
   "outputs": [
    {
     "name": "stdout",
     "output_type": "stream",
     "text": [
      "(0, state/region             AL\n",
      "ages                under18\n",
      "year                   2012\n",
      "population      1.11749e+06\n",
      "Name: 0, dtype: object)\n",
      "(1, state/region             AL\n",
      "ages                  total\n",
      "year                   2012\n",
      "population      4.81753e+06\n",
      "Name: 1, dtype: object)\n",
      "(2, state/region             AL\n",
      "ages                under18\n",
      "year                   2010\n",
      "population      1.13097e+06\n",
      "Name: 2, dtype: object)\n",
      "(3, state/region             AL\n",
      "ages                  total\n",
      "year                   2010\n",
      "population      4.78557e+06\n",
      "Name: 3, dtype: object)\n",
      "(4, state/region             AL\n",
      "ages                under18\n",
      "year                   2011\n",
      "population      1.12576e+06\n",
      "Name: 4, dtype: object)\n"
     ]
    }
   ],
   "source": [
    "count = 0 \n",
    "for i in df.iterrows() :\n",
    "    print(i) \n",
    "    count += 1\n",
    "    if count == 5 :\n",
    "        break"
   ]
  },
  {
   "cell_type": "markdown",
   "metadata": {},
   "source": [
    "## 칼럼단위로 검색하는 반복자 이해하기"
   ]
  },
  {
   "cell_type": "code",
   "execution_count": 14,
   "metadata": {},
   "outputs": [
    {
     "data": {
      "text/plain": [
       "<generator object DataFrame.iteritems at 0x114bf01a8>"
      ]
     },
     "execution_count": 14,
     "metadata": {},
     "output_type": "execute_result"
    }
   ],
   "source": [
    "df.iteritems()"
   ]
  },
  {
   "cell_type": "code",
   "execution_count": 13,
   "metadata": {},
   "outputs": [
    {
     "name": "stdout",
     "output_type": "stream",
     "text": [
      "('state/region', 0        AL\n",
      "1        AL\n",
      "2        AL\n",
      "3        AL\n",
      "4        AL\n",
      "5        AL\n",
      "6        AL\n",
      "7        AL\n",
      "8        AL\n",
      "9        AL\n",
      "10       AL\n",
      "11       AL\n",
      "12       AL\n",
      "13       AL\n",
      "14       AL\n",
      "15       AL\n",
      "16       AL\n",
      "17       AL\n",
      "18       AL\n",
      "19       AL\n",
      "20       AL\n",
      "21       AL\n",
      "22       AL\n",
      "23       AL\n",
      "24       AL\n",
      "25       AL\n",
      "26       AL\n",
      "27       AL\n",
      "28       AL\n",
      "29       AL\n",
      "       ... \n",
      "2514    USA\n",
      "2515    USA\n",
      "2516    USA\n",
      "2517    USA\n",
      "2518    USA\n",
      "2519    USA\n",
      "2520    USA\n",
      "2521    USA\n",
      "2522    USA\n",
      "2523    USA\n",
      "2524    USA\n",
      "2525    USA\n",
      "2526    USA\n",
      "2527    USA\n",
      "2528    USA\n",
      "2529    USA\n",
      "2530    USA\n",
      "2531    USA\n",
      "2532    USA\n",
      "2533    USA\n",
      "2534    USA\n",
      "2535    USA\n",
      "2536    USA\n",
      "2537    USA\n",
      "2538    USA\n",
      "2539    USA\n",
      "2540    USA\n",
      "2541    USA\n",
      "2542    USA\n",
      "2543    USA\n",
      "Name: state/region, Length: 2544, dtype: object)\n",
      "('ages', 0       under18\n",
      "1         total\n",
      "2       under18\n",
      "3         total\n",
      "4       under18\n",
      "5         total\n",
      "6         total\n",
      "7       under18\n",
      "8       under18\n",
      "9         total\n",
      "10        total\n",
      "11      under18\n",
      "12        total\n",
      "13      under18\n",
      "14        total\n",
      "15      under18\n",
      "16        total\n",
      "17      under18\n",
      "18        total\n",
      "19      under18\n",
      "20        total\n",
      "21      under18\n",
      "22        total\n",
      "23      under18\n",
      "24        total\n",
      "25      under18\n",
      "26      under18\n",
      "27        total\n",
      "28        total\n",
      "29      under18\n",
      "         ...   \n",
      "2514    under18\n",
      "2515      total\n",
      "2516    under18\n",
      "2517      total\n",
      "2518      total\n",
      "2519    under18\n",
      "2520      total\n",
      "2521    under18\n",
      "2522      total\n",
      "2523    under18\n",
      "2524      total\n",
      "2525    under18\n",
      "2526      total\n",
      "2527    under18\n",
      "2528      total\n",
      "2529    under18\n",
      "2530      total\n",
      "2531    under18\n",
      "2532      total\n",
      "2533    under18\n",
      "2534    under18\n",
      "2535      total\n",
      "2536      total\n",
      "2537    under18\n",
      "2538    under18\n",
      "2539      total\n",
      "2540    under18\n",
      "2541      total\n",
      "2542    under18\n",
      "2543      total\n",
      "Name: ages, Length: 2544, dtype: object)\n"
     ]
    }
   ],
   "source": [
    "count = 0 \n",
    "for i in df.iteritems() :\n",
    "    print(i) \n",
    "    count += 1\n",
    "    if count == 2 :\n",
    "        break"
   ]
  },
  {
   "cell_type": "code",
   "execution_count": 20,
   "metadata": {
    "collapsed": true
   },
   "outputs": [],
   "source": [
    "### 실제 반복자를 인덱싱으로 전체를 불러올 수 있다."
   ]
  },
  {
   "cell_type": "code",
   "execution_count": 18,
   "metadata": {},
   "outputs": [
    {
     "data": {
      "text/plain": [
       "0    AL\n",
       "1    AL\n",
       "2    AL\n",
       "3    AL\n",
       "4    AL\n",
       "Name: state/region, dtype: object"
      ]
     },
     "execution_count": 18,
     "metadata": {},
     "output_type": "execute_result"
    }
   ],
   "source": [
    "df['state/region'].head()"
   ]
  },
  {
   "cell_type": "code",
   "execution_count": 19,
   "metadata": {},
   "outputs": [
    {
     "data": {
      "text/plain": [
       "0    under18\n",
       "1      total\n",
       "2    under18\n",
       "3      total\n",
       "4    under18\n",
       "Name: ages, dtype: object"
      ]
     },
     "execution_count": 19,
     "metadata": {},
     "output_type": "execute_result"
    }
   ],
   "source": [
    "df['ages'].head()"
   ]
  },
  {
   "cell_type": "markdown",
   "metadata": {},
   "source": [
    "## 반복자를 이용해서 행으로 데이터를 가져오기"
   ]
  },
  {
   "cell_type": "code",
   "execution_count": 11,
   "metadata": {},
   "outputs": [
    {
     "data": {
      "text/html": [
       "<div>\n",
       "<style>\n",
       "    .dataframe thead tr:only-child th {\n",
       "        text-align: right;\n",
       "    }\n",
       "\n",
       "    .dataframe thead th {\n",
       "        text-align: left;\n",
       "    }\n",
       "\n",
       "    .dataframe tbody tr th {\n",
       "        vertical-align: top;\n",
       "    }\n",
       "</style>\n",
       "<table border=\"1\" class=\"dataframe\">\n",
       "  <thead>\n",
       "    <tr style=\"text-align: right;\">\n",
       "      <th></th>\n",
       "      <th>state/region</th>\n",
       "      <th>ages</th>\n",
       "      <th>year</th>\n",
       "      <th>population</th>\n",
       "    </tr>\n",
       "  </thead>\n",
       "  <tbody>\n",
       "    <tr>\n",
       "      <th>0</th>\n",
       "      <td>AL</td>\n",
       "      <td>under18</td>\n",
       "      <td>2012</td>\n",
       "      <td>1117489.0</td>\n",
       "    </tr>\n",
       "    <tr>\n",
       "      <th>1</th>\n",
       "      <td>AL</td>\n",
       "      <td>total</td>\n",
       "      <td>2012</td>\n",
       "      <td>4817528.0</td>\n",
       "    </tr>\n",
       "    <tr>\n",
       "      <th>2</th>\n",
       "      <td>AL</td>\n",
       "      <td>under18</td>\n",
       "      <td>2010</td>\n",
       "      <td>1130966.0</td>\n",
       "    </tr>\n",
       "    <tr>\n",
       "      <th>3</th>\n",
       "      <td>AL</td>\n",
       "      <td>total</td>\n",
       "      <td>2010</td>\n",
       "      <td>4785570.0</td>\n",
       "    </tr>\n",
       "    <tr>\n",
       "      <th>4</th>\n",
       "      <td>AL</td>\n",
       "      <td>under18</td>\n",
       "      <td>2011</td>\n",
       "      <td>1125763.0</td>\n",
       "    </tr>\n",
       "  </tbody>\n",
       "</table>\n",
       "</div>"
      ],
      "text/plain": [
       "  state/region     ages  year  population\n",
       "0           AL  under18  2012   1117489.0\n",
       "1           AL    total  2012   4817528.0\n",
       "2           AL  under18  2010   1130966.0\n",
       "3           AL    total  2010   4785570.0\n",
       "4           AL  under18  2011   1125763.0"
      ]
     },
     "execution_count": 11,
     "metadata": {},
     "output_type": "execute_result"
    }
   ],
   "source": [
    "df.head()"
   ]
  },
  {
   "cell_type": "code",
   "execution_count": 10,
   "metadata": {},
   "outputs": [
    {
     "name": "stdout",
     "output_type": "stream",
     "text": [
      "Pandas(Index=0, _1='AL', ages='under18', year=2012, population=1117489.0)\n",
      "Pandas(Index=1, _1='AL', ages='total', year=2012, population=4817528.0)\n",
      "Pandas(Index=2, _1='AL', ages='under18', year=2010, population=1130966.0)\n",
      "Pandas(Index=3, _1='AL', ages='total', year=2010, population=4785570.0)\n",
      "Pandas(Index=4, _1='AL', ages='under18', year=2011, population=1125763.0)\n"
     ]
    }
   ],
   "source": [
    "count = 0 \n",
    "for i in df.itertuples() :\n",
    "    print(i) \n",
    "    count += 1\n",
    "    if count == 5 :\n",
    "        break"
   ]
  },
  {
   "cell_type": "markdown",
   "metadata": {},
   "source": [
    "### 행으로 슬라이싱을 해서 정보를 가져올 수 있다."
   ]
  },
  {
   "cell_type": "code",
   "execution_count": 15,
   "metadata": {},
   "outputs": [
    {
     "data": {
      "text/html": [
       "<div>\n",
       "<style>\n",
       "    .dataframe thead tr:only-child th {\n",
       "        text-align: right;\n",
       "    }\n",
       "\n",
       "    .dataframe thead th {\n",
       "        text-align: left;\n",
       "    }\n",
       "\n",
       "    .dataframe tbody tr th {\n",
       "        vertical-align: top;\n",
       "    }\n",
       "</style>\n",
       "<table border=\"1\" class=\"dataframe\">\n",
       "  <thead>\n",
       "    <tr style=\"text-align: right;\">\n",
       "      <th></th>\n",
       "      <th>state/region</th>\n",
       "      <th>ages</th>\n",
       "      <th>year</th>\n",
       "      <th>population</th>\n",
       "    </tr>\n",
       "  </thead>\n",
       "  <tbody>\n",
       "    <tr>\n",
       "      <th>0</th>\n",
       "      <td>AL</td>\n",
       "      <td>under18</td>\n",
       "      <td>2012</td>\n",
       "      <td>1117489.0</td>\n",
       "    </tr>\n",
       "    <tr>\n",
       "      <th>1</th>\n",
       "      <td>AL</td>\n",
       "      <td>total</td>\n",
       "      <td>2012</td>\n",
       "      <td>4817528.0</td>\n",
       "    </tr>\n",
       "    <tr>\n",
       "      <th>2</th>\n",
       "      <td>AL</td>\n",
       "      <td>under18</td>\n",
       "      <td>2010</td>\n",
       "      <td>1130966.0</td>\n",
       "    </tr>\n",
       "    <tr>\n",
       "      <th>3</th>\n",
       "      <td>AL</td>\n",
       "      <td>total</td>\n",
       "      <td>2010</td>\n",
       "      <td>4785570.0</td>\n",
       "    </tr>\n",
       "    <tr>\n",
       "      <th>4</th>\n",
       "      <td>AL</td>\n",
       "      <td>under18</td>\n",
       "      <td>2011</td>\n",
       "      <td>1125763.0</td>\n",
       "    </tr>\n",
       "  </tbody>\n",
       "</table>\n",
       "</div>"
      ],
      "text/plain": [
       "  state/region     ages  year  population\n",
       "0           AL  under18  2012   1117489.0\n",
       "1           AL    total  2012   4817528.0\n",
       "2           AL  under18  2010   1130966.0\n",
       "3           AL    total  2010   4785570.0\n",
       "4           AL  under18  2011   1125763.0"
      ]
     },
     "execution_count": 15,
     "metadata": {},
     "output_type": "execute_result"
    }
   ],
   "source": [
    "df.iloc[:5]"
   ]
  },
  {
   "cell_type": "code",
   "execution_count": null,
   "metadata": {
    "collapsed": true
   },
   "outputs": [],
   "source": []
  }
 ],
 "metadata": {
  "kernelspec": {
   "display_name": "Python 3",
   "language": "python",
   "name": "python3"
  },
  "language_info": {
   "codemirror_mode": {
    "name": "ipython",
    "version": 3
   },
   "file_extension": ".py",
   "mimetype": "text/x-python",
   "name": "python",
   "nbconvert_exporter": "python",
   "pygments_lexer": "ipython3",
   "version": "3.6.1"
  }
 },
 "nbformat": 4,
 "nbformat_minor": 2
}
