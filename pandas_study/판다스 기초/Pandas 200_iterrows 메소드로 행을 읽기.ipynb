{
 "cells": [
  {
   "cell_type": "code",
   "execution_count": 19,
   "metadata": {
    "collapsed": true
   },
   "outputs": [],
   "source": [
    "import pandas as pd\n",
    "import numpy as np"
   ]
  },
  {
   "cell_type": "code",
   "execution_count": 2,
   "metadata": {},
   "outputs": [
    {
     "name": "stdout",
     "output_type": "stream",
     "text": [
      "Categorical\n",
      "CategoricalIndex\n",
      "DataFrame\n",
      "DateOffset\n",
      "DatetimeIndex\n",
      "ExcelFile\n",
      "ExcelWriter\n",
      "Expr\n",
      "Float64Index\n",
      "Grouper\n",
      "HDFStore\n",
      "Index\n",
      "IndexSlice\n",
      "Int64Index\n",
      "Interval\n",
      "IntervalIndex\n",
      "MultiIndex\n",
      "NaT\n",
      "Panel\n",
      "Panel4D\n",
      "Period\n",
      "PeriodIndex\n",
      "RangeIndex\n",
      "Series\n",
      "SparseArray\n",
      "SparseDataFrame\n",
      "SparseList\n",
      "SparseSeries\n",
      "Term\n",
      "TimeGrouper\n",
      "Timedelta\n",
      "TimedeltaIndex\n",
      "Timestamp\n",
      "UInt64Index\n",
      "WidePanel\n",
      "api\n",
      "bdate_range\n",
      "compat\n",
      "concat\n",
      "core\n",
      "crosstab\n",
      "cut\n",
      "date_range\n",
      "datetime\n",
      "datetools\n",
      "describe_option\n",
      "errors\n",
      "eval\n",
      "ewma\n",
      "ewmcorr\n",
      "ewmcov\n",
      "ewmstd\n",
      "ewmvar\n",
      "ewmvol\n",
      "expanding_apply\n",
      "expanding_corr\n",
      "expanding_count\n",
      "expanding_cov\n",
      "expanding_kurt\n",
      "expanding_max\n",
      "expanding_mean\n",
      "expanding_median\n",
      "expanding_min\n",
      "expanding_quantile\n",
      "expanding_skew\n",
      "expanding_std\n",
      "expanding_sum\n",
      "expanding_var\n",
      "factorize\n",
      "get_dummies\n",
      "get_option\n",
      "get_store\n",
      "groupby\n",
      "infer_freq\n",
      "interval_range\n",
      "io\n",
      "isnull\n",
      "json\n",
      "lib\n",
      "lreshape\n",
      "match\n",
      "melt\n",
      "merge\n",
      "merge_asof\n",
      "merge_ordered\n",
      "notnull\n",
      "np\n",
      "offsets\n",
      "option_context\n",
      "options\n",
      "ordered_merge\n",
      "pandas\n",
      "parser\n",
      "period_range\n",
      "pivot\n",
      "pivot_table\n",
      "plot_params\n",
      "plotting\n",
      "pnow\n",
      "qcut\n",
      "read_clipboard\n",
      "read_csv\n",
      "read_excel\n",
      "read_feather\n",
      "read_fwf\n",
      "read_gbq\n",
      "read_hdf\n",
      "read_html\n",
      "read_json\n",
      "read_msgpack\n",
      "read_pickle\n",
      "read_sas\n",
      "read_sql\n",
      "read_sql_query\n",
      "read_sql_table\n",
      "read_stata\n",
      "read_table\n",
      "reset_option\n",
      "rolling_apply\n",
      "rolling_corr\n",
      "rolling_count\n",
      "rolling_cov\n",
      "rolling_kurt\n",
      "rolling_max\n",
      "rolling_mean\n",
      "rolling_median\n",
      "rolling_min\n",
      "rolling_quantile\n",
      "rolling_skew\n",
      "rolling_std\n",
      "rolling_sum\n",
      "rolling_var\n",
      "rolling_window\n",
      "scatter_matrix\n",
      "set_eng_float_format\n",
      "set_option\n",
      "show_versions\n",
      "stats\n",
      "test\n",
      "testing\n",
      "timedelta_range\n",
      "to_datetime\n",
      "to_msgpack\n",
      "to_numeric\n",
      "to_pickle\n",
      "to_timedelta\n",
      "tools\n",
      "tseries\n",
      "tslib\n",
      "unique\n",
      "util\n",
      "value_counts\n",
      "wide_to_long\n"
     ]
    }
   ],
   "source": [
    "for i in dir(pd) :\n",
    "    if not i.startswith(\"_\") :\n",
    "        print(i)"
   ]
  },
  {
   "cell_type": "code",
   "execution_count": 4,
   "metadata": {},
   "outputs": [
    {
     "name": "stdout",
     "output_type": "stream",
     "text": [
      "Writing data/datatypes.csv\n"
     ]
    }
   ],
   "source": [
    "%%writefile data/datatypes.csv\n",
    "feature,type\n",
    "Loan_ID,categorical\n",
    "Gender,categorical\n",
    "Married,categorical\n",
    "Dependents,categorical\n",
    "Education,categorical\n",
    "Self_Employed,categorical\n",
    "ApplicantIncome,continuous\n",
    "CoapplicantIncome,continuous\n",
    "LoanAmount,continuous\n",
    "Loan_Amount_Term,continuous\n",
    "Credit_History,categorical\n",
    "Property_Area,categorical\n",
    "Loan_Status,categorical"
   ]
  },
  {
   "cell_type": "code",
   "execution_count": 6,
   "metadata": {},
   "outputs": [],
   "source": [
    "colTypes = pd.read_csv('data/datatypes.csv')"
   ]
  },
  {
   "cell_type": "code",
   "execution_count": 7,
   "metadata": {},
   "outputs": [
    {
     "data": {
      "text/html": [
       "<div>\n",
       "<style>\n",
       "    .dataframe thead tr:only-child th {\n",
       "        text-align: right;\n",
       "    }\n",
       "\n",
       "    .dataframe thead th {\n",
       "        text-align: left;\n",
       "    }\n",
       "\n",
       "    .dataframe tbody tr th {\n",
       "        vertical-align: top;\n",
       "    }\n",
       "</style>\n",
       "<table border=\"1\" class=\"dataframe\">\n",
       "  <thead>\n",
       "    <tr style=\"text-align: right;\">\n",
       "      <th></th>\n",
       "      <th>feature</th>\n",
       "      <th>type</th>\n",
       "    </tr>\n",
       "  </thead>\n",
       "  <tbody>\n",
       "    <tr>\n",
       "      <th>0</th>\n",
       "      <td>Loan_ID</td>\n",
       "      <td>categorical</td>\n",
       "    </tr>\n",
       "    <tr>\n",
       "      <th>1</th>\n",
       "      <td>Gender</td>\n",
       "      <td>categorical</td>\n",
       "    </tr>\n",
       "    <tr>\n",
       "      <th>2</th>\n",
       "      <td>Married</td>\n",
       "      <td>categorical</td>\n",
       "    </tr>\n",
       "    <tr>\n",
       "      <th>3</th>\n",
       "      <td>Dependents</td>\n",
       "      <td>categorical</td>\n",
       "    </tr>\n",
       "    <tr>\n",
       "      <th>4</th>\n",
       "      <td>Education</td>\n",
       "      <td>categorical</td>\n",
       "    </tr>\n",
       "    <tr>\n",
       "      <th>5</th>\n",
       "      <td>Self_Employed</td>\n",
       "      <td>categorical</td>\n",
       "    </tr>\n",
       "    <tr>\n",
       "      <th>6</th>\n",
       "      <td>ApplicantIncome</td>\n",
       "      <td>continuous</td>\n",
       "    </tr>\n",
       "    <tr>\n",
       "      <th>7</th>\n",
       "      <td>CoapplicantIncome</td>\n",
       "      <td>continuous</td>\n",
       "    </tr>\n",
       "    <tr>\n",
       "      <th>8</th>\n",
       "      <td>LoanAmount</td>\n",
       "      <td>continuous</td>\n",
       "    </tr>\n",
       "    <tr>\n",
       "      <th>9</th>\n",
       "      <td>Loan_Amount_Term</td>\n",
       "      <td>continuous</td>\n",
       "    </tr>\n",
       "    <tr>\n",
       "      <th>10</th>\n",
       "      <td>Credit_History</td>\n",
       "      <td>categorical</td>\n",
       "    </tr>\n",
       "    <tr>\n",
       "      <th>11</th>\n",
       "      <td>Property_Area</td>\n",
       "      <td>categorical</td>\n",
       "    </tr>\n",
       "    <tr>\n",
       "      <th>12</th>\n",
       "      <td>Loan_Status</td>\n",
       "      <td>categorical</td>\n",
       "    </tr>\n",
       "  </tbody>\n",
       "</table>\n",
       "</div>"
      ],
      "text/plain": [
       "              feature         type\n",
       "0             Loan_ID  categorical\n",
       "1              Gender  categorical\n",
       "2             Married  categorical\n",
       "3          Dependents  categorical\n",
       "4           Education  categorical\n",
       "5       Self_Employed  categorical\n",
       "6     ApplicantIncome   continuous\n",
       "7   CoapplicantIncome   continuous\n",
       "8          LoanAmount   continuous\n",
       "9    Loan_Amount_Term   continuous\n",
       "10     Credit_History  categorical\n",
       "11      Property_Area  categorical\n",
       "12        Loan_Status  categorical"
      ]
     },
     "execution_count": 7,
     "metadata": {},
     "output_type": "execute_result"
    }
   ],
   "source": [
    "colTypes"
   ]
  },
  {
   "cell_type": "code",
   "execution_count": 31,
   "metadata": {},
   "outputs": [],
   "source": [
    "data = pd.Series(1,index=colTypes['feature'])"
   ]
  },
  {
   "cell_type": "code",
   "execution_count": 32,
   "metadata": {},
   "outputs": [
    {
     "data": {
      "text/plain": [
       "feature\n",
       "Loan_ID              1\n",
       "Gender               1\n",
       "Married              1\n",
       "Dependents           1\n",
       "Education            1\n",
       "Self_Employed        1\n",
       "ApplicantIncome      1\n",
       "CoapplicantIncome    1\n",
       "LoanAmount           1\n",
       "Loan_Amount_Term     1\n",
       "Credit_History       1\n",
       "Property_Area        1\n",
       "Loan_Status          1\n",
       "dtype: int64"
      ]
     },
     "execution_count": 32,
     "metadata": {},
     "output_type": "execute_result"
    }
   ],
   "source": [
    "data"
   ]
  },
  {
   "cell_type": "code",
   "execution_count": 33,
   "metadata": {},
   "outputs": [
    {
     "data": {
      "text/plain": [
       "pandas.core.series.Series"
      ]
     },
     "execution_count": 33,
     "metadata": {},
     "output_type": "execute_result"
    }
   ],
   "source": [
    "type(data)"
   ]
  },
  {
   "cell_type": "markdown",
   "metadata": {},
   "source": [
    "## iterrows로 반복자 처리"
   ]
  },
  {
   "cell_type": "code",
   "execution_count": 36,
   "metadata": {},
   "outputs": [
    {
     "name": "stdout",
     "output_type": "stream",
     "text": [
      "0 feature        Loan_ID\n",
      "type       categorical\n",
      "Name: 0, dtype: object\n",
      "1 feature         Gender\n",
      "type       categorical\n",
      "Name: 1, dtype: object\n",
      "2 feature        Married\n",
      "type       categorical\n",
      "Name: 2, dtype: object\n",
      "3 feature     Dependents\n",
      "type       categorical\n",
      "Name: 3, dtype: object\n",
      "4 feature      Education\n",
      "type       categorical\n",
      "Name: 4, dtype: object\n",
      "5 feature    Self_Employed\n",
      "type         categorical\n",
      "Name: 5, dtype: object\n",
      "6 feature    ApplicantIncome\n",
      "type            continuous\n",
      "Name: 6, dtype: object\n",
      "7 feature    CoapplicantIncome\n",
      "type              continuous\n",
      "Name: 7, dtype: object\n",
      "8 feature    LoanAmount\n",
      "type       continuous\n",
      "Name: 8, dtype: object\n",
      "9 feature    Loan_Amount_Term\n",
      "type             continuous\n",
      "Name: 9, dtype: object\n",
      "10 feature    Credit_History\n",
      "type          categorical\n",
      "Name: 10, dtype: object\n",
      "11 feature    Property_Area\n",
      "type         categorical\n",
      "Name: 11, dtype: object\n",
      "12 feature    Loan_Status\n",
      "type       categorical\n",
      "Name: 12, dtype: object\n"
     ]
    }
   ],
   "source": [
    "for i, row in colTypes.iterrows() :\n",
    "    print(i, row)"
   ]
  },
  {
   "cell_type": "markdown",
   "metadata": {},
   "source": [
    "## 행을 하나의 시리즈로 읽고 처리한다."
   ]
  },
  {
   "cell_type": "code",
   "execution_count": 37,
   "metadata": {},
   "outputs": [
    {
     "data": {
      "text/plain": [
       "feature    Loan_Status\n",
       "type       categorical\n",
       "Name: 12, dtype: object"
      ]
     },
     "execution_count": 37,
     "metadata": {},
     "output_type": "execute_result"
    }
   ],
   "source": [
    "row"
   ]
  },
  {
   "cell_type": "code",
   "execution_count": 34,
   "metadata": {},
   "outputs": [],
   "source": [
    "for i, row in colTypes.iterrows():  #i: dataframe index; row: each row in series format\n",
    "    if row['type']==\"categorical\":\n",
    "        data[row['feature']]=data[row['feature']].astype(np.object)\n",
    "    elif row['type']==\"continuous\":\n",
    "        data[row['feature']]=data[row['feature']].astype(np.float)"
   ]
  },
  {
   "cell_type": "code",
   "execution_count": 35,
   "metadata": {},
   "outputs": [
    {
     "data": {
      "text/plain": [
       "feature\n",
       "Loan_ID              1\n",
       "Gender               1\n",
       "Married              1\n",
       "Dependents           1\n",
       "Education            1\n",
       "Self_Employed        1\n",
       "ApplicantIncome      1\n",
       "CoapplicantIncome    1\n",
       "LoanAmount           1\n",
       "Loan_Amount_Term     1\n",
       "Credit_History       1\n",
       "Property_Area        1\n",
       "Loan_Status          1\n",
       "dtype: int64"
      ]
     },
     "execution_count": 35,
     "metadata": {},
     "output_type": "execute_result"
    }
   ],
   "source": [
    "data"
   ]
  },
  {
   "cell_type": "code",
   "execution_count": 38,
   "metadata": {},
   "outputs": [
    {
     "data": {
      "text/plain": [
       "feature\n",
       "Loan_ID              1\n",
       "Gender               1\n",
       "Married              1\n",
       "Dependents           1\n",
       "Education            1\n",
       "Self_Employed        1\n",
       "ApplicantIncome      1\n",
       "CoapplicantIncome    1\n",
       "LoanAmount           1\n",
       "Loan_Amount_Term     1\n",
       "Credit_History       1\n",
       "Property_Area        1\n",
       "Loan_Status          1\n",
       "dtype: object"
      ]
     },
     "execution_count": 38,
     "metadata": {},
     "output_type": "execute_result"
    }
   ],
   "source": [
    "data.astype(np.object)"
   ]
  },
  {
   "cell_type": "code",
   "execution_count": null,
   "metadata": {
    "collapsed": true
   },
   "outputs": [],
   "source": []
  }
 ],
 "metadata": {
  "kernelspec": {
   "display_name": "Python 3",
   "language": "python",
   "name": "python3"
  },
  "language_info": {
   "codemirror_mode": {
    "name": "ipython",
    "version": 3
   },
   "file_extension": ".py",
   "mimetype": "text/x-python",
   "name": "python",
   "nbconvert_exporter": "python",
   "pygments_lexer": "ipython3",
   "version": "3.6.1"
  }
 },
 "nbformat": 4,
 "nbformat_minor": 2
}
