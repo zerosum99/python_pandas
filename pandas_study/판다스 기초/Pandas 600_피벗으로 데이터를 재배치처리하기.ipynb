{
 "cells": [
  {
   "cell_type": "code",
   "execution_count": 1,
   "metadata": {
    "collapsed": true
   },
   "outputs": [],
   "source": [
    "import pandas as pd\n",
    "import numpy as np"
   ]
  },
  {
   "cell_type": "code",
   "execution_count": 26,
   "metadata": {
    "collapsed": true
   },
   "outputs": [],
   "source": [
    "ldata = pd.read_csv('ldata.csv')"
   ]
  },
  {
   "cell_type": "code",
   "execution_count": 27,
   "metadata": {},
   "outputs": [
    {
     "data": {
      "text/html": [
       "<div>\n",
       "<style>\n",
       "    .dataframe thead tr:only-child th {\n",
       "        text-align: right;\n",
       "    }\n",
       "\n",
       "    .dataframe thead th {\n",
       "        text-align: left;\n",
       "    }\n",
       "\n",
       "    .dataframe tbody tr th {\n",
       "        vertical-align: top;\n",
       "    }\n",
       "</style>\n",
       "<table border=\"1\" class=\"dataframe\">\n",
       "  <thead>\n",
       "    <tr style=\"text-align: right;\">\n",
       "      <th></th>\n",
       "      <th>date</th>\n",
       "      <th>item</th>\n",
       "      <th>value</th>\n",
       "    </tr>\n",
       "  </thead>\n",
       "  <tbody>\n",
       "    <tr>\n",
       "      <th>0</th>\n",
       "      <td>2017-1-1</td>\n",
       "      <td>realgdg</td>\n",
       "      <td>2710.349</td>\n",
       "    </tr>\n",
       "    <tr>\n",
       "      <th>1</th>\n",
       "      <td>2017-1-1</td>\n",
       "      <td>inf1</td>\n",
       "      <td>0.001</td>\n",
       "    </tr>\n",
       "    <tr>\n",
       "      <th>2</th>\n",
       "      <td>2017-1-1</td>\n",
       "      <td>unemp</td>\n",
       "      <td>5.800</td>\n",
       "    </tr>\n",
       "    <tr>\n",
       "      <th>3</th>\n",
       "      <td>2017-1-2</td>\n",
       "      <td>realgdg</td>\n",
       "      <td>2778.801</td>\n",
       "    </tr>\n",
       "    <tr>\n",
       "      <th>4</th>\n",
       "      <td>2017-1-2</td>\n",
       "      <td>inf1</td>\n",
       "      <td>2.340</td>\n",
       "    </tr>\n",
       "    <tr>\n",
       "      <th>5</th>\n",
       "      <td>2017-1-2</td>\n",
       "      <td>unemp</td>\n",
       "      <td>5.100</td>\n",
       "    </tr>\n",
       "    <tr>\n",
       "      <th>6</th>\n",
       "      <td>2017-1-3</td>\n",
       "      <td>realgdg</td>\n",
       "      <td>2775.488</td>\n",
       "    </tr>\n",
       "    <tr>\n",
       "      <th>7</th>\n",
       "      <td>2017-1-3</td>\n",
       "      <td>inf1</td>\n",
       "      <td>2.740</td>\n",
       "    </tr>\n",
       "    <tr>\n",
       "      <th>8</th>\n",
       "      <td>2017-1-3</td>\n",
       "      <td>unemp</td>\n",
       "      <td>5.300</td>\n",
       "    </tr>\n",
       "  </tbody>\n",
       "</table>\n",
       "</div>"
      ],
      "text/plain": [
       "       date     item     value\n",
       "0  2017-1-1  realgdg  2710.349\n",
       "1  2017-1-1     inf1     0.001\n",
       "2  2017-1-1    unemp     5.800\n",
       "3  2017-1-2  realgdg  2778.801\n",
       "4  2017-1-2     inf1     2.340\n",
       "5  2017-1-2    unemp     5.100\n",
       "6  2017-1-3  realgdg  2775.488\n",
       "7  2017-1-3     inf1     2.740\n",
       "8  2017-1-3    unemp     5.300"
      ]
     },
     "execution_count": 27,
     "metadata": {},
     "output_type": "execute_result"
    }
   ],
   "source": [
    "ldata"
   ]
  },
  {
   "cell_type": "code",
   "execution_count": 28,
   "metadata": {},
   "outputs": [
    {
     "data": {
      "text/plain": [
       "RangeIndex(start=0, stop=9, step=1)"
      ]
     },
     "execution_count": 28,
     "metadata": {},
     "output_type": "execute_result"
    }
   ],
   "source": [
    "ldata.index"
   ]
  },
  {
   "cell_type": "code",
   "execution_count": 29,
   "metadata": {},
   "outputs": [
    {
     "data": {
      "text/plain": [
       "Index(['date', 'item', 'value'], dtype='object')"
      ]
     },
     "execution_count": 29,
     "metadata": {},
     "output_type": "execute_result"
    }
   ],
   "source": [
    "ldata.columns"
   ]
  },
  {
   "cell_type": "markdown",
   "metadata": {},
   "source": [
    "## 피봇 메소드로 기존 데이터 프레임을 다른 구조의 데이터 프레임으로 변경한다."
   ]
  },
  {
   "cell_type": "code",
   "execution_count": 30,
   "metadata": {},
   "outputs": [
    {
     "name": "stdout",
     "output_type": "stream",
     "text": [
      "Help on method pivot in module pandas.core.frame:\n",
      "\n",
      "pivot(index=None, columns=None, values=None) method of pandas.core.frame.DataFrame instance\n",
      "    Reshape data (produce a \"pivot\" table) based on column values. Uses\n",
      "    unique values from index / columns to form axes of the resulting\n",
      "    DataFrame.\n",
      "    \n",
      "    Parameters\n",
      "    ----------\n",
      "    index : string or object, optional\n",
      "        Column name to use to make new frame's index. If None, uses\n",
      "        existing index.\n",
      "    columns : string or object\n",
      "        Column name to use to make new frame's columns\n",
      "    values : string or object, optional\n",
      "        Column name to use for populating new frame's values. If not\n",
      "        specified, all remaining columns will be used and the result will\n",
      "        have hierarchically indexed columns\n",
      "    \n",
      "    Returns\n",
      "    -------\n",
      "    pivoted : DataFrame\n",
      "    \n",
      "    See also\n",
      "    --------\n",
      "    DataFrame.pivot_table : generalization of pivot that can handle\n",
      "        duplicate values for one index/column pair\n",
      "    DataFrame.unstack : pivot based on the index values instead of a\n",
      "        column\n",
      "    \n",
      "    Notes\n",
      "    -----\n",
      "    For finer-tuned control, see hierarchical indexing documentation along\n",
      "    with the related stack/unstack methods\n",
      "    \n",
      "    Examples\n",
      "    --------\n",
      "    \n",
      "    >>> df = pd.DataFrame({'foo': ['one','one','one','two','two','two'],\n",
      "                           'bar': ['A', 'B', 'C', 'A', 'B', 'C'],\n",
      "                           'baz': [1, 2, 3, 4, 5, 6]})\n",
      "    >>> df\n",
      "        foo   bar  baz\n",
      "    0   one   A    1\n",
      "    1   one   B    2\n",
      "    2   one   C    3\n",
      "    3   two   A    4\n",
      "    4   two   B    5\n",
      "    5   two   C    6\n",
      "    \n",
      "    >>> df.pivot(index='foo', columns='bar', values='baz')\n",
      "         A   B   C\n",
      "    one  1   2   3\n",
      "    two  4   5   6\n",
      "    \n",
      "    >>> df.pivot(index='foo', columns='bar')['baz']\n",
      "         A   B   C\n",
      "    one  1   2   3\n",
      "    two  4   5   6\n",
      "\n"
     ]
    }
   ],
   "source": [
    "help(ldata.pivot)"
   ]
  },
  {
   "cell_type": "code",
   "execution_count": 31,
   "metadata": {
    "collapsed": true
   },
   "outputs": [],
   "source": [
    "pivoted = ldata.pivot(index=\"date\",columns='item', values='value')"
   ]
  },
  {
   "cell_type": "code",
   "execution_count": 32,
   "metadata": {},
   "outputs": [
    {
     "data": {
      "text/html": [
       "<div>\n",
       "<style>\n",
       "    .dataframe thead tr:only-child th {\n",
       "        text-align: right;\n",
       "    }\n",
       "\n",
       "    .dataframe thead th {\n",
       "        text-align: left;\n",
       "    }\n",
       "\n",
       "    .dataframe tbody tr th {\n",
       "        vertical-align: top;\n",
       "    }\n",
       "</style>\n",
       "<table border=\"1\" class=\"dataframe\">\n",
       "  <thead>\n",
       "    <tr style=\"text-align: right;\">\n",
       "      <th>item</th>\n",
       "      <th>inf1</th>\n",
       "      <th>realgdg</th>\n",
       "      <th>unemp</th>\n",
       "    </tr>\n",
       "    <tr>\n",
       "      <th>date</th>\n",
       "      <th></th>\n",
       "      <th></th>\n",
       "      <th></th>\n",
       "    </tr>\n",
       "  </thead>\n",
       "  <tbody>\n",
       "    <tr>\n",
       "      <th>2017-1-1</th>\n",
       "      <td>0.001</td>\n",
       "      <td>2710.349</td>\n",
       "      <td>5.8</td>\n",
       "    </tr>\n",
       "    <tr>\n",
       "      <th>2017-1-2</th>\n",
       "      <td>2.340</td>\n",
       "      <td>2778.801</td>\n",
       "      <td>5.1</td>\n",
       "    </tr>\n",
       "    <tr>\n",
       "      <th>2017-1-3</th>\n",
       "      <td>2.740</td>\n",
       "      <td>2775.488</td>\n",
       "      <td>5.3</td>\n",
       "    </tr>\n",
       "  </tbody>\n",
       "</table>\n",
       "</div>"
      ],
      "text/plain": [
       "item       inf1   realgdg  unemp\n",
       "date                            \n",
       "2017-1-1  0.001  2710.349    5.8\n",
       "2017-1-2  2.340  2778.801    5.1\n",
       "2017-1-3  2.740  2775.488    5.3"
      ]
     },
     "execution_count": 32,
     "metadata": {},
     "output_type": "execute_result"
    }
   ],
   "source": [
    "pivoted"
   ]
  },
  {
   "cell_type": "markdown",
   "metadata": {},
   "source": [
    "## 하나의 열을 추가한다."
   ]
  },
  {
   "cell_type": "code",
   "execution_count": 33,
   "metadata": {
    "collapsed": true
   },
   "outputs": [],
   "source": [
    "ldata['value2'] = np.random.randn(len(ldata))"
   ]
  },
  {
   "cell_type": "code",
   "execution_count": 34,
   "metadata": {},
   "outputs": [
    {
     "data": {
      "text/html": [
       "<div>\n",
       "<style>\n",
       "    .dataframe thead tr:only-child th {\n",
       "        text-align: right;\n",
       "    }\n",
       "\n",
       "    .dataframe thead th {\n",
       "        text-align: left;\n",
       "    }\n",
       "\n",
       "    .dataframe tbody tr th {\n",
       "        vertical-align: top;\n",
       "    }\n",
       "</style>\n",
       "<table border=\"1\" class=\"dataframe\">\n",
       "  <thead>\n",
       "    <tr style=\"text-align: right;\">\n",
       "      <th></th>\n",
       "      <th>date</th>\n",
       "      <th>item</th>\n",
       "      <th>value</th>\n",
       "      <th>value2</th>\n",
       "    </tr>\n",
       "  </thead>\n",
       "  <tbody>\n",
       "    <tr>\n",
       "      <th>0</th>\n",
       "      <td>2017-1-1</td>\n",
       "      <td>realgdg</td>\n",
       "      <td>2710.349</td>\n",
       "      <td>-0.440359</td>\n",
       "    </tr>\n",
       "    <tr>\n",
       "      <th>1</th>\n",
       "      <td>2017-1-1</td>\n",
       "      <td>inf1</td>\n",
       "      <td>0.001</td>\n",
       "      <td>-1.053425</td>\n",
       "    </tr>\n",
       "    <tr>\n",
       "      <th>2</th>\n",
       "      <td>2017-1-1</td>\n",
       "      <td>unemp</td>\n",
       "      <td>5.800</td>\n",
       "      <td>-0.059266</td>\n",
       "    </tr>\n",
       "    <tr>\n",
       "      <th>3</th>\n",
       "      <td>2017-1-2</td>\n",
       "      <td>realgdg</td>\n",
       "      <td>2778.801</td>\n",
       "      <td>1.916664</td>\n",
       "    </tr>\n",
       "    <tr>\n",
       "      <th>4</th>\n",
       "      <td>2017-1-2</td>\n",
       "      <td>inf1</td>\n",
       "      <td>2.340</td>\n",
       "      <td>1.009884</td>\n",
       "    </tr>\n",
       "    <tr>\n",
       "      <th>5</th>\n",
       "      <td>2017-1-2</td>\n",
       "      <td>unemp</td>\n",
       "      <td>5.100</td>\n",
       "      <td>0.905684</td>\n",
       "    </tr>\n",
       "    <tr>\n",
       "      <th>6</th>\n",
       "      <td>2017-1-3</td>\n",
       "      <td>realgdg</td>\n",
       "      <td>2775.488</td>\n",
       "      <td>-0.434246</td>\n",
       "    </tr>\n",
       "    <tr>\n",
       "      <th>7</th>\n",
       "      <td>2017-1-3</td>\n",
       "      <td>inf1</td>\n",
       "      <td>2.740</td>\n",
       "      <td>-0.018365</td>\n",
       "    </tr>\n",
       "    <tr>\n",
       "      <th>8</th>\n",
       "      <td>2017-1-3</td>\n",
       "      <td>unemp</td>\n",
       "      <td>5.300</td>\n",
       "      <td>-0.831114</td>\n",
       "    </tr>\n",
       "  </tbody>\n",
       "</table>\n",
       "</div>"
      ],
      "text/plain": [
       "       date     item     value    value2\n",
       "0  2017-1-1  realgdg  2710.349 -0.440359\n",
       "1  2017-1-1     inf1     0.001 -1.053425\n",
       "2  2017-1-1    unemp     5.800 -0.059266\n",
       "3  2017-1-2  realgdg  2778.801  1.916664\n",
       "4  2017-1-2     inf1     2.340  1.009884\n",
       "5  2017-1-2    unemp     5.100  0.905684\n",
       "6  2017-1-3  realgdg  2775.488 -0.434246\n",
       "7  2017-1-3     inf1     2.740 -0.018365\n",
       "8  2017-1-3    unemp     5.300 -0.831114"
      ]
     },
     "execution_count": 34,
     "metadata": {},
     "output_type": "execute_result"
    }
   ],
   "source": [
    "ldata"
   ]
  },
  {
   "cell_type": "markdown",
   "metadata": {},
   "source": [
    "##  데이터 프레임에 정해진 것중에 item을 열로 변경해서 처리"
   ]
  },
  {
   "cell_type": "code",
   "execution_count": 36,
   "metadata": {
    "collapsed": true
   },
   "outputs": [],
   "source": [
    "pivoted2 = ldata.pivot('date','item')"
   ]
  },
  {
   "cell_type": "code",
   "execution_count": 37,
   "metadata": {},
   "outputs": [
    {
     "data": {
      "text/html": [
       "<div>\n",
       "<style>\n",
       "    .dataframe thead tr:only-child th {\n",
       "        text-align: right;\n",
       "    }\n",
       "\n",
       "    .dataframe thead th {\n",
       "        text-align: left;\n",
       "    }\n",
       "\n",
       "    .dataframe tbody tr th {\n",
       "        vertical-align: top;\n",
       "    }\n",
       "</style>\n",
       "<table border=\"1\" class=\"dataframe\">\n",
       "  <thead>\n",
       "    <tr>\n",
       "      <th></th>\n",
       "      <th colspan=\"3\" halign=\"left\">value</th>\n",
       "      <th colspan=\"3\" halign=\"left\">value2</th>\n",
       "    </tr>\n",
       "    <tr>\n",
       "      <th>item</th>\n",
       "      <th>inf1</th>\n",
       "      <th>realgdg</th>\n",
       "      <th>unemp</th>\n",
       "      <th>inf1</th>\n",
       "      <th>realgdg</th>\n",
       "      <th>unemp</th>\n",
       "    </tr>\n",
       "    <tr>\n",
       "      <th>date</th>\n",
       "      <th></th>\n",
       "      <th></th>\n",
       "      <th></th>\n",
       "      <th></th>\n",
       "      <th></th>\n",
       "      <th></th>\n",
       "    </tr>\n",
       "  </thead>\n",
       "  <tbody>\n",
       "    <tr>\n",
       "      <th>2017-1-1</th>\n",
       "      <td>0.001</td>\n",
       "      <td>2710.349</td>\n",
       "      <td>5.8</td>\n",
       "      <td>-1.053425</td>\n",
       "      <td>-0.440359</td>\n",
       "      <td>-0.059266</td>\n",
       "    </tr>\n",
       "    <tr>\n",
       "      <th>2017-1-2</th>\n",
       "      <td>2.340</td>\n",
       "      <td>2778.801</td>\n",
       "      <td>5.1</td>\n",
       "      <td>1.009884</td>\n",
       "      <td>1.916664</td>\n",
       "      <td>0.905684</td>\n",
       "    </tr>\n",
       "    <tr>\n",
       "      <th>2017-1-3</th>\n",
       "      <td>2.740</td>\n",
       "      <td>2775.488</td>\n",
       "      <td>5.3</td>\n",
       "      <td>-0.018365</td>\n",
       "      <td>-0.434246</td>\n",
       "      <td>-0.831114</td>\n",
       "    </tr>\n",
       "  </tbody>\n",
       "</table>\n",
       "</div>"
      ],
      "text/plain": [
       "          value                    value2                    \n",
       "item       inf1   realgdg unemp      inf1   realgdg     unemp\n",
       "date                                                         \n",
       "2017-1-1  0.001  2710.349   5.8 -1.053425 -0.440359 -0.059266\n",
       "2017-1-2  2.340  2778.801   5.1  1.009884  1.916664  0.905684\n",
       "2017-1-3  2.740  2775.488   5.3 -0.018365 -0.434246 -0.831114"
      ]
     },
     "execution_count": 37,
     "metadata": {},
     "output_type": "execute_result"
    }
   ],
   "source": [
    "pivoted2"
   ]
  },
  {
   "cell_type": "markdown",
   "metadata": {},
   "source": [
    "###  상위 칼럼으로 조회하기"
   ]
  },
  {
   "cell_type": "code",
   "execution_count": 41,
   "metadata": {},
   "outputs": [
    {
     "data": {
      "text/html": [
       "<div>\n",
       "<style>\n",
       "    .dataframe thead tr:only-child th {\n",
       "        text-align: right;\n",
       "    }\n",
       "\n",
       "    .dataframe thead th {\n",
       "        text-align: left;\n",
       "    }\n",
       "\n",
       "    .dataframe tbody tr th {\n",
       "        vertical-align: top;\n",
       "    }\n",
       "</style>\n",
       "<table border=\"1\" class=\"dataframe\">\n",
       "  <thead>\n",
       "    <tr style=\"text-align: right;\">\n",
       "      <th>item</th>\n",
       "      <th>inf1</th>\n",
       "      <th>realgdg</th>\n",
       "      <th>unemp</th>\n",
       "    </tr>\n",
       "    <tr>\n",
       "      <th>date</th>\n",
       "      <th></th>\n",
       "      <th></th>\n",
       "      <th></th>\n",
       "    </tr>\n",
       "  </thead>\n",
       "  <tbody>\n",
       "    <tr>\n",
       "      <th>2017-1-1</th>\n",
       "      <td>0.001</td>\n",
       "      <td>2710.349</td>\n",
       "      <td>5.8</td>\n",
       "    </tr>\n",
       "    <tr>\n",
       "      <th>2017-1-2</th>\n",
       "      <td>2.340</td>\n",
       "      <td>2778.801</td>\n",
       "      <td>5.1</td>\n",
       "    </tr>\n",
       "    <tr>\n",
       "      <th>2017-1-3</th>\n",
       "      <td>2.740</td>\n",
       "      <td>2775.488</td>\n",
       "      <td>5.3</td>\n",
       "    </tr>\n",
       "  </tbody>\n",
       "</table>\n",
       "</div>"
      ],
      "text/plain": [
       "item       inf1   realgdg  unemp\n",
       "date                            \n",
       "2017-1-1  0.001  2710.349    5.8\n",
       "2017-1-2  2.340  2778.801    5.1\n",
       "2017-1-3  2.740  2775.488    5.3"
      ]
     },
     "execution_count": 41,
     "metadata": {},
     "output_type": "execute_result"
    }
   ],
   "source": [
    "pivoted2['value']"
   ]
  },
  {
   "cell_type": "code",
   "execution_count": 40,
   "metadata": {},
   "outputs": [
    {
     "data": {
      "text/html": [
       "<div>\n",
       "<style>\n",
       "    .dataframe thead tr:only-child th {\n",
       "        text-align: right;\n",
       "    }\n",
       "\n",
       "    .dataframe thead th {\n",
       "        text-align: left;\n",
       "    }\n",
       "\n",
       "    .dataframe tbody tr th {\n",
       "        vertical-align: top;\n",
       "    }\n",
       "</style>\n",
       "<table border=\"1\" class=\"dataframe\">\n",
       "  <thead>\n",
       "    <tr style=\"text-align: right;\">\n",
       "      <th>item</th>\n",
       "      <th>inf1</th>\n",
       "      <th>realgdg</th>\n",
       "      <th>unemp</th>\n",
       "    </tr>\n",
       "    <tr>\n",
       "      <th>date</th>\n",
       "      <th></th>\n",
       "      <th></th>\n",
       "      <th></th>\n",
       "    </tr>\n",
       "  </thead>\n",
       "  <tbody>\n",
       "    <tr>\n",
       "      <th>2017-1-1</th>\n",
       "      <td>-1.053425</td>\n",
       "      <td>-0.440359</td>\n",
       "      <td>-0.059266</td>\n",
       "    </tr>\n",
       "    <tr>\n",
       "      <th>2017-1-2</th>\n",
       "      <td>1.009884</td>\n",
       "      <td>1.916664</td>\n",
       "      <td>0.905684</td>\n",
       "    </tr>\n",
       "    <tr>\n",
       "      <th>2017-1-3</th>\n",
       "      <td>-0.018365</td>\n",
       "      <td>-0.434246</td>\n",
       "      <td>-0.831114</td>\n",
       "    </tr>\n",
       "  </tbody>\n",
       "</table>\n",
       "</div>"
      ],
      "text/plain": [
       "item          inf1   realgdg     unemp\n",
       "date                                  \n",
       "2017-1-1 -1.053425 -0.440359 -0.059266\n",
       "2017-1-2  1.009884  1.916664  0.905684\n",
       "2017-1-3 -0.018365 -0.434246 -0.831114"
      ]
     },
     "execution_count": 40,
     "metadata": {},
     "output_type": "execute_result"
    }
   ],
   "source": [
    "pivoted2['value2']"
   ]
  },
  {
   "cell_type": "markdown",
   "metadata": {},
   "source": [
    "### 하위 칼럼으로 조회하기"
   ]
  },
  {
   "cell_type": "code",
   "execution_count": 44,
   "metadata": {},
   "outputs": [
    {
     "data": {
      "text/plain": [
       "date\n",
       "2017-1-1   -0.059266\n",
       "2017-1-2    0.905684\n",
       "2017-1-3   -0.831114\n",
       "Name: unemp, dtype: float64"
      ]
     },
     "execution_count": 44,
     "metadata": {},
     "output_type": "execute_result"
    }
   ],
   "source": [
    "pivoted2['value2']['unemp']"
   ]
  },
  {
   "cell_type": "markdown",
   "metadata": {},
   "source": [
    "## pivot 메소드는 \n",
    "\n",
    "   set_index를 부여하고 이를 unstack으로 처리하는 것과 동일하게 처리된다.\n",
    "    "
   ]
  },
  {
   "cell_type": "code",
   "execution_count": 50,
   "metadata": {},
   "outputs": [
    {
     "data": {
      "text/html": [
       "<div>\n",
       "<style>\n",
       "    .dataframe thead tr:only-child th {\n",
       "        text-align: right;\n",
       "    }\n",
       "\n",
       "    .dataframe thead th {\n",
       "        text-align: left;\n",
       "    }\n",
       "\n",
       "    .dataframe tbody tr th {\n",
       "        vertical-align: top;\n",
       "    }\n",
       "</style>\n",
       "<table border=\"1\" class=\"dataframe\">\n",
       "  <thead>\n",
       "    <tr>\n",
       "      <th></th>\n",
       "      <th colspan=\"3\" halign=\"left\">value</th>\n",
       "      <th colspan=\"3\" halign=\"left\">value2</th>\n",
       "    </tr>\n",
       "    <tr>\n",
       "      <th>item</th>\n",
       "      <th>inf1</th>\n",
       "      <th>realgdg</th>\n",
       "      <th>unemp</th>\n",
       "      <th>inf1</th>\n",
       "      <th>realgdg</th>\n",
       "      <th>unemp</th>\n",
       "    </tr>\n",
       "    <tr>\n",
       "      <th>date</th>\n",
       "      <th></th>\n",
       "      <th></th>\n",
       "      <th></th>\n",
       "      <th></th>\n",
       "      <th></th>\n",
       "      <th></th>\n",
       "    </tr>\n",
       "  </thead>\n",
       "  <tbody>\n",
       "    <tr>\n",
       "      <th>2017-1-1</th>\n",
       "      <td>0.001</td>\n",
       "      <td>2710.349</td>\n",
       "      <td>5.8</td>\n",
       "      <td>-1.053425</td>\n",
       "      <td>-0.440359</td>\n",
       "      <td>-0.059266</td>\n",
       "    </tr>\n",
       "    <tr>\n",
       "      <th>2017-1-2</th>\n",
       "      <td>2.340</td>\n",
       "      <td>2778.801</td>\n",
       "      <td>5.1</td>\n",
       "      <td>1.009884</td>\n",
       "      <td>1.916664</td>\n",
       "      <td>0.905684</td>\n",
       "    </tr>\n",
       "    <tr>\n",
       "      <th>2017-1-3</th>\n",
       "      <td>2.740</td>\n",
       "      <td>2775.488</td>\n",
       "      <td>5.3</td>\n",
       "      <td>-0.018365</td>\n",
       "      <td>-0.434246</td>\n",
       "      <td>-0.831114</td>\n",
       "    </tr>\n",
       "  </tbody>\n",
       "</table>\n",
       "</div>"
      ],
      "text/plain": [
       "          value                    value2                    \n",
       "item       inf1   realgdg unemp      inf1   realgdg     unemp\n",
       "date                                                         \n",
       "2017-1-1  0.001  2710.349   5.8 -1.053425 -0.440359 -0.059266\n",
       "2017-1-2  2.340  2778.801   5.1  1.009884  1.916664  0.905684\n",
       "2017-1-3  2.740  2775.488   5.3 -0.018365 -0.434246 -0.831114"
      ]
     },
     "execution_count": 50,
     "metadata": {},
     "output_type": "execute_result"
    }
   ],
   "source": [
    "pivoted2\n"
   ]
  },
  {
   "cell_type": "code",
   "execution_count": 45,
   "metadata": {
    "collapsed": true
   },
   "outputs": [],
   "source": [
    "unstacked = ldata.set_index(['date','item']).unstack('item')"
   ]
  },
  {
   "cell_type": "code",
   "execution_count": 46,
   "metadata": {},
   "outputs": [
    {
     "data": {
      "text/html": [
       "<div>\n",
       "<style>\n",
       "    .dataframe thead tr:only-child th {\n",
       "        text-align: right;\n",
       "    }\n",
       "\n",
       "    .dataframe thead th {\n",
       "        text-align: left;\n",
       "    }\n",
       "\n",
       "    .dataframe tbody tr th {\n",
       "        vertical-align: top;\n",
       "    }\n",
       "</style>\n",
       "<table border=\"1\" class=\"dataframe\">\n",
       "  <thead>\n",
       "    <tr>\n",
       "      <th></th>\n",
       "      <th colspan=\"3\" halign=\"left\">value</th>\n",
       "      <th colspan=\"3\" halign=\"left\">value2</th>\n",
       "    </tr>\n",
       "    <tr>\n",
       "      <th>item</th>\n",
       "      <th>inf1</th>\n",
       "      <th>realgdg</th>\n",
       "      <th>unemp</th>\n",
       "      <th>inf1</th>\n",
       "      <th>realgdg</th>\n",
       "      <th>unemp</th>\n",
       "    </tr>\n",
       "    <tr>\n",
       "      <th>date</th>\n",
       "      <th></th>\n",
       "      <th></th>\n",
       "      <th></th>\n",
       "      <th></th>\n",
       "      <th></th>\n",
       "      <th></th>\n",
       "    </tr>\n",
       "  </thead>\n",
       "  <tbody>\n",
       "    <tr>\n",
       "      <th>2017-1-1</th>\n",
       "      <td>0.001</td>\n",
       "      <td>2710.349</td>\n",
       "      <td>5.8</td>\n",
       "      <td>-1.053425</td>\n",
       "      <td>-0.440359</td>\n",
       "      <td>-0.059266</td>\n",
       "    </tr>\n",
       "    <tr>\n",
       "      <th>2017-1-2</th>\n",
       "      <td>2.340</td>\n",
       "      <td>2778.801</td>\n",
       "      <td>5.1</td>\n",
       "      <td>1.009884</td>\n",
       "      <td>1.916664</td>\n",
       "      <td>0.905684</td>\n",
       "    </tr>\n",
       "    <tr>\n",
       "      <th>2017-1-3</th>\n",
       "      <td>2.740</td>\n",
       "      <td>2775.488</td>\n",
       "      <td>5.3</td>\n",
       "      <td>-0.018365</td>\n",
       "      <td>-0.434246</td>\n",
       "      <td>-0.831114</td>\n",
       "    </tr>\n",
       "  </tbody>\n",
       "</table>\n",
       "</div>"
      ],
      "text/plain": [
       "          value                    value2                    \n",
       "item       inf1   realgdg unemp      inf1   realgdg     unemp\n",
       "date                                                         \n",
       "2017-1-1  0.001  2710.349   5.8 -1.053425 -0.440359 -0.059266\n",
       "2017-1-2  2.340  2778.801   5.1  1.009884  1.916664  0.905684\n",
       "2017-1-3  2.740  2775.488   5.3 -0.018365 -0.434246 -0.831114"
      ]
     },
     "execution_count": 46,
     "metadata": {},
     "output_type": "execute_result"
    }
   ],
   "source": [
    "unstacked"
   ]
  },
  {
   "cell_type": "code",
   "execution_count": null,
   "metadata": {
    "collapsed": true
   },
   "outputs": [],
   "source": []
  }
 ],
 "metadata": {
  "kernelspec": {
   "display_name": "Python 3",
   "language": "python",
   "name": "python3"
  },
  "language_info": {
   "codemirror_mode": {
    "name": "ipython",
    "version": 3
   },
   "file_extension": ".py",
   "mimetype": "text/x-python",
   "name": "python",
   "nbconvert_exporter": "python",
   "pygments_lexer": "ipython3",
   "version": "3.6.1"
  }
 },
 "nbformat": 4,
 "nbformat_minor": 2
}
