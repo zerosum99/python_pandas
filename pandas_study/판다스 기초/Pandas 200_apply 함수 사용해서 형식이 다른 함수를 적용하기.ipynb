{
 "cells": [
  {
   "cell_type": "markdown",
   "metadata": {},
   "source": [
    "# 주요 함수 "
   ]
  },
  {
   "cell_type": "code",
   "execution_count": 3,
   "metadata": {
    "collapsed": true
   },
   "outputs": [],
   "source": [
    "import pandas as pd\n",
    "import numpy as np\n",
    "import types"
   ]
  },
  {
   "cell_type": "code",
   "execution_count": 2,
   "metadata": {},
   "outputs": [
    {
     "name": "stdout",
     "output_type": "stream",
     "text": [
      "Expr Term bdate_range concat crosstab cut date_range eval ewma ewmcorr ewmcov ewmstd ewmvar ewmvol expanding_apply expanding_corr expanding_count expanding_cov expanding_kurt expanding_max expanding_mean expanding_median expanding_min expanding_quantile expanding_skew expanding_std expanding_sum expanding_var factorize get_dummies get_store groupby infer_freq interval_range isnull lreshape match melt merge merge_asof merge_ordered notnull ordered_merge period_range pivot pivot_table pnow qcut read_clipboard read_csv read_excel read_feather read_fwf read_gbq read_hdf read_html read_json read_msgpack read_pickle read_sas read_sql read_sql_query read_sql_table read_stata read_table rolling_apply rolling_corr rolling_count rolling_cov rolling_kurt rolling_max rolling_mean rolling_median rolling_min rolling_quantile rolling_skew rolling_std rolling_sum rolling_var rolling_window scatter_matrix set_eng_float_format show_versions test timedelta_range to_datetime to_msgpack to_numeric to_pickle to_timedelta unique value_counts wide_to_long "
     ]
    }
   ],
   "source": [
    "import pandas as pd\n",
    "import numpy as np\n",
    "import types\n",
    "\n",
    "for i in dir(pd) :\n",
    "    if i.startswith(\"_\") :\n",
    "        continue\n",
    "    if type(pd.__dict__[i]) == types.FunctionType :\n",
    "        \n",
    "        print(i,end= ' ')\n",
    "        "
   ]
  },
  {
   "cell_type": "markdown",
   "metadata": {},
   "source": [
    "# 주요 메소드 처리\n",
    "\n"
   ]
  },
  {
   "cell_type": "code",
   "execution_count": 150,
   "metadata": {},
   "outputs": [
    {
     "name": "stdout",
     "output_type": "stream",
     "text": [
      "index compound rdiv unstack from_csv abs duplicated to_period iterkv take transpose reset_index ffill tz_convert mean kurt loc to_clipboard cummin nlargest describe min size last_valid_index axes update memory_usage squeeze values sum corr combine truncate astype first_valid_index reindex append idxmax items drop_duplicates hist tz_localize first to_hdf iteritems reindex_axis rolling add rtruediv pop rmul groupby swapaxes lt select shift shape reindex_like clip combine_first sortlevel kurtosis xs product skew sort sort_values set_axis radd bool get_ftype_counts as_blocks std rpow clip_upper sort_index iat is_copy sub add_prefix isin rename_axis sem align nsmallest replace mode diff to_xarray reorder_levels between_time get_values rsub bfill to_dense pow copy notnull dot round count cumprod dropna cummax floordiv empty to_timestamp head at cumsum ne ndim to_pickle rank expanding iloc mod irow le resample multiply get_value to_msgpack divide to_json to_string median clip_lower plot tail add_suffix keys pipe ewm rfloordiv filter prod pct_change rmod mul T any rename last as_matrix truediv iget_value dtypes var apply to_csv to_sparse drop set_value all equals to_dict consolidate quantile asfreq where mask at_time to_sql eq gt ix ftypes ge fillna cov blocks sample mad swaplevel tshift get_dtype_counts isnull subtract max div convert_objects slice_shift idxmin get interpolate "
     ]
    }
   ],
   "source": [
    "import types\n",
    "s = set(dir(pd.Series))\n",
    "d = set(dir(pd.DataFrame)) \n",
    "sd = s & d \n",
    "\n",
    "for i in sd :\n",
    "    if not i.startswith(\"_\") :\n",
    "        print(i, end = \" \")"
   ]
  },
  {
   "cell_type": "markdown",
   "metadata": {},
   "source": [
    "### apply 함수 처리\n",
    "\n"
   ]
  },
  {
   "cell_type": "code",
   "execution_count": 4,
   "metadata": {},
   "outputs": [
    {
     "name": "stdout",
     "output_type": "stream",
     "text": [
      "                   A         B         C\n",
      "2000-01-01 -0.105344  1.166109  0.177124\n",
      "2000-01-02  0.044590  1.560137 -0.147828\n",
      "2000-01-03 -0.262588 -0.406657  0.581775\n",
      "2000-01-04  1.032962  0.238218 -0.986328\n",
      "2000-01-05  1.701043 -0.322042  0.500540\n",
      "2000-01-06 -0.601285  2.068910 -0.408963\n",
      "2000-01-07 -0.731037  0.338016  0.342425\n",
      "2000-01-08  1.361662 -1.046723 -0.937321\n",
      "2000-01-09 -1.806673  1.601196  0.328245\n",
      "2000-01-10 -0.687693  0.494841  1.475417\n"
     ]
    }
   ],
   "source": [
    "df = pd.DataFrame(np.random.randn(10, 3), columns=['A', 'B', 'C'],\n",
    "     index=pd.date_range('1/1/2000', periods=10))\n",
    "\n",
    "print(df)\n"
   ]
  },
  {
   "cell_type": "markdown",
   "metadata": {},
   "source": [
    "#### 파아썬의 sum 함수를 사용해서 계산하기"
   ]
  },
  {
   "cell_type": "code",
   "execution_count": 7,
   "metadata": {},
   "outputs": [
    {
     "data": {
      "text/plain": [
       "2000-01-01   -0.105344\n",
       "2000-01-02    0.044590\n",
       "2000-01-03   -0.262588\n",
       "2000-01-04    1.032962\n",
       "2000-01-05    1.701043\n",
       "2000-01-06   -0.601285\n",
       "2000-01-07   -0.731037\n",
       "2000-01-08    1.361662\n",
       "2000-01-09   -1.806673\n",
       "2000-01-10   -0.687693\n",
       "Freq: D, Name: A, dtype: float64"
      ]
     },
     "execution_count": 7,
     "metadata": {},
     "output_type": "execute_result"
    }
   ],
   "source": [
    "df['A']"
   ]
  },
  {
   "cell_type": "code",
   "execution_count": 8,
   "metadata": {},
   "outputs": [
    {
     "data": {
      "text/plain": [
       "-0.054362298542007137"
      ]
     },
     "execution_count": 8,
     "metadata": {},
     "output_type": "execute_result"
    }
   ],
   "source": [
    "sum(df[\"A\"])"
   ]
  },
  {
   "cell_type": "markdown",
   "metadata": {},
   "source": [
    "### 데이터 프레임 처리할 때 예외가 발생한다."
   ]
  },
  {
   "cell_type": "code",
   "execution_count": 9,
   "metadata": {},
   "outputs": [
    {
     "ename": "TypeError",
     "evalue": "unsupported operand type(s) for +: 'int' and 'str'",
     "output_type": "error",
     "traceback": [
      "\u001b[0;31m---------------------------------------------------------------------------\u001b[0m",
      "\u001b[0;31mTypeError\u001b[0m                                 Traceback (most recent call last)",
      "\u001b[0;32m<ipython-input-9-60acc5caff1c>\u001b[0m in \u001b[0;36m<module>\u001b[0;34m()\u001b[0m\n\u001b[0;32m----> 1\u001b[0;31m \u001b[0msum\u001b[0m\u001b[0;34m(\u001b[0m\u001b[0mdf\u001b[0m\u001b[0;34m)\u001b[0m\u001b[0;34m\u001b[0m\u001b[0m\n\u001b[0m",
      "\u001b[0;31mTypeError\u001b[0m: unsupported operand type(s) for +: 'int' and 'str'"
     ]
    }
   ],
   "source": [
    "sum(df)"
   ]
  },
  {
   "cell_type": "markdown",
   "metadata": {},
   "source": [
    "### 데이터 프레임을 처리하기 위해서는 apply 함수를 이용한다."
   ]
  },
  {
   "cell_type": "code",
   "execution_count": 90,
   "metadata": {},
   "outputs": [
    {
     "name": "stdout",
     "output_type": "stream",
     "text": [
      "A   -2.568167\n",
      "B   -3.327006\n",
      "C   -2.942631\n",
      "dtype: float64\n"
     ]
    }
   ],
   "source": [
    "print(df.apply(sum))"
   ]
  },
  {
   "cell_type": "markdown",
   "metadata": {},
   "source": [
    "### numpy 함수는 apply 없어서 처리한다."
   ]
  },
  {
   "cell_type": "code",
   "execution_count": 10,
   "metadata": {},
   "outputs": [
    {
     "data": {
      "text/plain": [
       "A   -0.005436\n",
       "B    0.569200\n",
       "C    0.092509\n",
       "dtype: float64"
      ]
     },
     "execution_count": 10,
     "metadata": {},
     "output_type": "execute_result"
    }
   ],
   "source": [
    "np.mean(df)"
   ]
  },
  {
   "cell_type": "code",
   "execution_count": 92,
   "metadata": {},
   "outputs": [
    {
     "name": "stdout",
     "output_type": "stream",
     "text": [
      "A   -0.256817\n",
      "B   -0.332701\n",
      "C   -0.294263\n",
      "dtype: float64\n"
     ]
    }
   ],
   "source": [
    "print(df.apply(np.mean))"
   ]
  },
  {
   "cell_type": "code",
   "execution_count": 93,
   "metadata": {},
   "outputs": [
    {
     "name": "stdout",
     "output_type": "stream",
     "text": [
      "A   -0.256817\n",
      "B   -0.332701\n",
      "C   -0.294263\n",
      "dtype: float64\n"
     ]
    }
   ],
   "source": [
    "print(df.mean())"
   ]
  }
 ],
 "metadata": {
  "kernelspec": {
   "display_name": "Python 3",
   "language": "python",
   "name": "python3"
  },
  "language_info": {
   "codemirror_mode": {
    "name": "ipython",
    "version": 3
   },
   "file_extension": ".py",
   "mimetype": "text/x-python",
   "name": "python",
   "nbconvert_exporter": "python",
   "pygments_lexer": "ipython3",
   "version": "3.6.1"
  }
 },
 "nbformat": 4,
 "nbformat_minor": 1
}
