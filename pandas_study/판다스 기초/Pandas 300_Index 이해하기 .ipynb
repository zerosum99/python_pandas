{
 "cells": [
  {
   "cell_type": "markdown",
   "metadata": {},
   "source": [
    "## Index와 MultiIndex 처리 기준\n"
   ]
  },
  {
   "cell_type": "code",
   "execution_count": 13,
   "metadata": {
    "collapsed": true
   },
   "outputs": [],
   "source": [
    "import pandas as pd\n",
    "import numpy as np"
   ]
  },
  {
   "cell_type": "code",
   "execution_count": 2,
   "metadata": {},
   "outputs": [
    {
     "data": {
      "text/plain": [
       "pandas.core.indexes.base.Index"
      ]
     },
     "execution_count": 2,
     "metadata": {},
     "output_type": "execute_result"
    }
   ],
   "source": [
    "pd.Index"
   ]
  },
  {
   "cell_type": "code",
   "execution_count": 3,
   "metadata": {},
   "outputs": [
    {
     "data": {
      "text/plain": [
       "pandas.core.indexes.multi.MultiIndex"
      ]
     },
     "execution_count": 3,
     "metadata": {},
     "output_type": "execute_result"
    }
   ],
   "source": [
    "pd.MultiIndex"
   ]
  },
  {
   "cell_type": "markdown",
   "metadata": {},
   "source": [
    "## 정수와 레인지 인덱스 구분하기"
   ]
  },
  {
   "cell_type": "code",
   "execution_count": 7,
   "metadata": {},
   "outputs": [],
   "source": [
    "ir = pd.Index([0,1,2,3])"
   ]
  },
  {
   "cell_type": "code",
   "execution_count": 8,
   "metadata": {},
   "outputs": [
    {
     "data": {
      "text/plain": [
       "Int64Index([0, 1, 2, 3], dtype='int64')"
      ]
     },
     "execution_count": 8,
     "metadata": {},
     "output_type": "execute_result"
    }
   ],
   "source": [
    "ir"
   ]
  },
  {
   "cell_type": "code",
   "execution_count": 9,
   "metadata": {
    "collapsed": true
   },
   "outputs": [],
   "source": [
    "ira = pd.Index(range(1,3))"
   ]
  },
  {
   "cell_type": "code",
   "execution_count": 10,
   "metadata": {},
   "outputs": [
    {
     "data": {
      "text/plain": [
       "RangeIndex(start=1, stop=3, step=1)"
      ]
     },
     "execution_count": 10,
     "metadata": {},
     "output_type": "execute_result"
    }
   ],
   "source": [
    "ira"
   ]
  },
  {
   "cell_type": "code",
   "execution_count": 4,
   "metadata": {},
   "outputs": [
    {
     "data": {
      "text/plain": [
       "pandas.core.indexes.range.RangeIndex"
      ]
     },
     "execution_count": 4,
     "metadata": {},
     "output_type": "execute_result"
    }
   ],
   "source": [
    "pd.RangeIndex"
   ]
  },
  {
   "cell_type": "code",
   "execution_count": 5,
   "metadata": {},
   "outputs": [
    {
     "data": {
      "text/plain": [
       "pandas.core.indexes.numeric.Int64Index"
      ]
     },
     "execution_count": 5,
     "metadata": {},
     "output_type": "execute_result"
    }
   ],
   "source": [
    "pd.Int64Index"
   ]
  },
  {
   "cell_type": "markdown",
   "metadata": {},
   "source": [
    "## index 클래스 처리 \n"
   ]
  },
  {
   "cell_type": "code",
   "execution_count": 20,
   "metadata": {},
   "outputs": [
    {
     "name": "stdout",
     "output_type": "stream",
     "text": [
      "Index(['blue', 'red'], dtype='object', name=['color'])\n"
     ]
    }
   ],
   "source": [
    "sl = pd.Index(['blue', 'red'],\n",
    "           name=[ 'color'])\n",
    "print(sl)"
   ]
  },
  {
   "cell_type": "code",
   "execution_count": 4,
   "metadata": {},
   "outputs": [
    {
     "name": "stdout",
     "output_type": "stream",
     "text": [
      "T\n",
      "all\n",
      "any\n",
      "append\n",
      "argmax\n",
      "argmin\n",
      "argsort\n",
      "asi8\n",
      "asof\n",
      "asof_locs\n",
      "astype\n",
      "base\n",
      "contains\n",
      "copy\n",
      "data\n",
      "delete\n",
      "difference\n",
      "drop\n",
      "drop_duplicates\n",
      "dropna\n",
      "dtype\n",
      "dtype_str\n",
      "duplicated\n",
      "empty\n",
      "equals\n",
      "factorize\n",
      "fillna\n",
      "flags\n",
      "format\n",
      "get_duplicates\n",
      "get_indexer\n",
      "get_indexer_for\n",
      "get_indexer_non_unique\n",
      "get_level_values\n",
      "get_loc\n",
      "get_slice_bound\n",
      "get_value\n",
      "get_values\n",
      "groupby\n",
      "has_duplicates\n",
      "hasnans\n",
      "holds_integer\n",
      "identical\n",
      "inferred_type\n",
      "insert\n",
      "intersection\n",
      "is_\n",
      "is_all_dates\n",
      "is_boolean\n",
      "is_categorical\n",
      "is_floating\n",
      "is_integer\n",
      "is_interval\n",
      "is_lexsorted_for_tuple\n",
      "is_mixed\n",
      "is_monotonic\n",
      "is_monotonic_decreasing\n",
      "is_monotonic_increasing\n",
      "is_numeric\n",
      "is_object\n",
      "is_type_compatible\n",
      "is_unique\n",
      "isin\n",
      "isnull\n",
      "item\n",
      "itemsize\n",
      "join\n",
      "map\n",
      "max\n",
      "memory_usage\n",
      "min\n",
      "name\n",
      "names\n",
      "nbytes\n",
      "ndim\n",
      "nlevels\n",
      "notnull\n",
      "nunique\n",
      "putmask\n",
      "ravel\n",
      "reindex\n",
      "rename\n",
      "repeat\n",
      "reshape\n",
      "searchsorted\n",
      "set_names\n",
      "set_value\n",
      "shape\n",
      "shift\n",
      "size\n",
      "slice_indexer\n",
      "slice_locs\n",
      "sort\n",
      "sort_values\n",
      "sortlevel\n",
      "str\n",
      "strides\n",
      "summary\n",
      "sym_diff\n",
      "symmetric_difference\n",
      "take\n",
      "to_datetime\n",
      "to_native_types\n",
      "to_series\n",
      "tolist\n",
      "transpose\n",
      "union\n",
      "unique\n",
      "value_counts\n",
      "values\n",
      "view\n",
      "where\n"
     ]
    }
   ],
   "source": [
    "for i in dir(pd.Index) :\n",
    "    if not i.startswith(\"_\") :\n",
    "        print(i)"
   ]
  },
  {
   "cell_type": "markdown",
   "metadata": {},
   "source": [
    "##  데이터를 관리하는 속성은 property로 구성"
   ]
  },
  {
   "cell_type": "code",
   "execution_count": 9,
   "metadata": {},
   "outputs": [
    {
     "data": {
      "text/plain": [
       "<property at 0x112180818>"
      ]
     },
     "execution_count": 9,
     "metadata": {},
     "output_type": "execute_result"
    }
   ],
   "source": [
    "pd.Index.data"
   ]
  },
  {
   "cell_type": "code",
   "execution_count": 10,
   "metadata": {},
   "outputs": [
    {
     "data": {
      "text/plain": [
       "<property at 0x1121809f8>"
      ]
     },
     "execution_count": 10,
     "metadata": {},
     "output_type": "execute_result"
    }
   ],
   "source": [
    "pd.Index.base"
   ]
  },
  {
   "cell_type": "markdown",
   "metadata": {},
   "source": [
    "## 집합처리 메소드 알아보기 \n",
    "\n",
    "    차집합, 교집합, 합집합 알아보기\n",
    "    유일한 인덱스를 알아보기"
   ]
  },
  {
   "cell_type": "code",
   "execution_count": 11,
   "metadata": {
    "collapsed": true
   },
   "outputs": [],
   "source": [
    "idx1 = pd.Index([1, 2, 3, 4])\n",
    "idx2 = pd.Index([3, 4, 5, 6])"
   ]
  },
  {
   "cell_type": "code",
   "execution_count": 12,
   "metadata": {},
   "outputs": [
    {
     "data": {
      "text/plain": [
       "Int64Index([1, 2], dtype='int64')"
      ]
     },
     "execution_count": 12,
     "metadata": {},
     "output_type": "execute_result"
    }
   ],
   "source": [
    "idx1.difference(idx2)"
   ]
  },
  {
   "cell_type": "code",
   "execution_count": 13,
   "metadata": {},
   "outputs": [
    {
     "data": {
      "text/plain": [
       "Int64Index([1, 2, 3, 4, 5, 6], dtype='int64')"
      ]
     },
     "execution_count": 13,
     "metadata": {},
     "output_type": "execute_result"
    }
   ],
   "source": [
    "idx1.union(idx2)"
   ]
  },
  {
   "cell_type": "code",
   "execution_count": 14,
   "metadata": {},
   "outputs": [
    {
     "data": {
      "text/plain": [
       "Int64Index([3, 4], dtype='int64')"
      ]
     },
     "execution_count": 14,
     "metadata": {},
     "output_type": "execute_result"
    }
   ],
   "source": [
    "idx1.intersection(idx2)"
   ]
  },
  {
   "cell_type": "code",
   "execution_count": 17,
   "metadata": {
    "collapsed": true
   },
   "outputs": [],
   "source": [
    "idx3 = pd.Index([1,2,2,2])"
   ]
  },
  {
   "cell_type": "code",
   "execution_count": 18,
   "metadata": {},
   "outputs": [
    {
     "data": {
      "text/plain": [
       "Int64Index([1, 2], dtype='int64')"
      ]
     },
     "execution_count": 18,
     "metadata": {},
     "output_type": "execute_result"
    }
   ],
   "source": [
    "idx3.unique()"
   ]
  },
  {
   "cell_type": "markdown",
   "metadata": {},
   "source": [
    "###  정수 인덱스 생성 \n"
   ]
  },
  {
   "cell_type": "code",
   "execution_count": 21,
   "metadata": {},
   "outputs": [
    {
     "name": "stdout",
     "output_type": "stream",
     "text": [
      "Int64Index([1, 2], dtype='int64')\n",
      "Int64Index([1, 2, 3, 4], dtype='int64') Int64Index([3, 4, 5, 6], dtype='int64')\n",
      "Int64Index([1, 2], dtype='int64')\n"
     ]
    }
   ],
   "source": [
    "import pandas as pd\n",
    "\n",
    "idx1 = pd.Index([1, 2, 3, 4])\n",
    "idx2 = pd.Index([3, 4, 5, 6])\n",
    "print(idx1.difference(idx2))\n",
    "print(idx1, idx2)\n",
    "idx3 = pd.Int64Index([1, 2], dtype='int64')\n",
    "print(idx3)\n"
   ]
  },
  {
   "cell_type": "code",
   "execution_count": 14,
   "metadata": {},
   "outputs": [
    {
     "data": {
      "text/plain": [
       "Int64Index([1, 2, 3, 4, 5, 6, 7, 8, 9], dtype='int64')"
      ]
     },
     "execution_count": 14,
     "metadata": {},
     "output_type": "execute_result"
    }
   ],
   "source": [
    "pd.Index(np.arange(1,10))"
   ]
  },
  {
   "cell_type": "code",
   "execution_count": 15,
   "metadata": {},
   "outputs": [
    {
     "data": {
      "text/plain": [
       "RangeIndex(start=1, stop=10, step=1)"
      ]
     },
     "execution_count": 15,
     "metadata": {},
     "output_type": "execute_result"
    }
   ],
   "source": [
    "pd.Index(range(1,10))"
   ]
  },
  {
   "cell_type": "markdown",
   "metadata": {},
   "source": [
    "### 문자 인덱스 생성"
   ]
  },
  {
   "cell_type": "code",
   "execution_count": 22,
   "metadata": {},
   "outputs": [
    {
     "name": "stdout",
     "output_type": "stream",
     "text": [
      "Index(['a', 'b', 'c'], dtype='object')\n"
     ]
    }
   ],
   "source": [
    "import pandas as pd\n",
    "\n",
    "idx4 = pd.Index(['a', 'b','c'])\n",
    "print(idx4)\n"
   ]
  },
  {
   "cell_type": "markdown",
   "metadata": {},
   "source": [
    "### 날짜 인덱스 생성 \n"
   ]
  },
  {
   "cell_type": "code",
   "execution_count": 23,
   "metadata": {},
   "outputs": [
    {
     "name": "stdout",
     "output_type": "stream",
     "text": [
      "DatetimeIndex(['2013-01-01', '2013-01-02', '2013-01-03'], dtype='datetime64[ns]', freq='D')\n"
     ]
    }
   ],
   "source": [
    "import pandas as pd\n",
    "\n",
    "idx5 = pd.Index(pd.date_range('20130101',periods=3)) \n",
    "print(idx5)\n"
   ]
  },
  {
   "cell_type": "markdown",
   "metadata": {},
   "source": [
    "### 간격범주 처리"
   ]
  },
  {
   "cell_type": "code",
   "execution_count": 11,
   "metadata": {},
   "outputs": [
    {
     "data": {
      "text/plain": [
       "IntervalIndex([(1, 2], (2, 3], (3, 4], (4, 5], (5, 6], (6, 7], (7, 8], (8, 9]]\n",
       "              closed='right',\n",
       "              dtype='interval[int64]')"
      ]
     },
     "execution_count": 11,
     "metadata": {},
     "output_type": "execute_result"
    }
   ],
   "source": [
    "pd.Index(pd.interval_range(1,10))"
   ]
  },
  {
   "cell_type": "markdown",
   "metadata": {},
   "source": [
    "## MultiIndex 클래스 처리"
   ]
  },
  {
   "cell_type": "markdown",
   "metadata": {},
   "source": [
    "### Index와 MultiIndex 내부의 속성과 메소드"
   ]
  },
  {
   "cell_type": "code",
   "execution_count": 20,
   "metadata": {},
   "outputs": [
    {
     "name": "stdout",
     "output_type": "stream",
     "text": [
      "reorder_levels\n",
      "get_major_bounds\n",
      "levels\n",
      "get_locs\n",
      "remove_unused_levels\n",
      "labels\n",
      "levshape\n",
      "droplevel\n",
      "from_product\n",
      "to_hierarchical\n",
      "swaplevel\n",
      "from_tuples\n",
      "set_levels\n",
      "to_frame\n",
      "set_labels\n",
      "from_arrays\n",
      "truncate\n",
      "get_loc_level\n",
      "lexsort_depth\n",
      "equal_levels\n",
      "is_lexsorted\n"
     ]
    }
   ],
   "source": [
    "s = set(dir(pd.Index))\n",
    "m = set(dir(pd.MultiIndex))\n",
    "\n",
    "ms = m-s\n",
    "\n",
    "for i in ms :\n",
    "    if not i.startswith(\"_\") :\n",
    "        print(i)\n",
    "\n",
    "    "
   ]
  },
  {
   "cell_type": "code",
   "execution_count": 22,
   "metadata": {},
   "outputs": [
    {
     "name": "stdout",
     "output_type": "stream",
     "text": [
      "sym_diff\n",
      "where\n",
      "nunique\n",
      "shape\n",
      "sort\n",
      "T\n",
      "names\n",
      "has_duplicates\n",
      "drop\n",
      "is_all_dates\n",
      "size\n",
      "astype\n",
      "is_type_compatible\n",
      "append\n",
      "holds_integer\n",
      "is_unique\n",
      "shift\n",
      "insert\n",
      "is_monotonic\n",
      "argmax\n",
      "asof_locs\n",
      "data\n",
      "get_values\n",
      "isnull\n",
      "ravel\n",
      "is_boolean\n",
      "join\n",
      "sortlevel\n",
      "get_slice_bound\n",
      "itemsize\n",
      "unique\n",
      "empty\n",
      "is_monotonic_increasing\n",
      "argsort\n",
      "slice_indexer\n",
      "str\n",
      "transpose\n",
      "value_counts\n",
      "drop_duplicates\n",
      "get_level_values\n",
      "take\n",
      "equals\n",
      "factorize\n",
      "is_object\n",
      "is_interval\n",
      "is_numeric\n",
      "is_lexsorted_for_tuple\n",
      "get_loc\n",
      "is_floating\n",
      "fillna\n",
      "groupby\n",
      "is_integer\n",
      "putmask\n",
      "base\n",
      "get_indexer_for\n",
      "reindex\n",
      "set_names\n",
      "is_\n",
      "is_categorical\n",
      "asof\n",
      "difference\n",
      "duplicated\n",
      "searchsorted\n",
      "get_duplicates\n",
      "reshape\n",
      "hasnans\n",
      "view\n",
      "map\n",
      "rename\n",
      "argmin\n",
      "nbytes\n",
      "repeat\n",
      "all\n",
      "get_indexer\n",
      "slice_locs\n",
      "isin\n",
      "dtype_str\n",
      "name\n",
      "union\n",
      "item\n",
      "identical\n",
      "memory_usage\n",
      "get_value\n",
      "max\n",
      "nlevels\n",
      "min\n",
      "summary\n",
      "dtype\n",
      "sort_values\n",
      "flags\n",
      "to_datetime\n",
      "copy\n",
      "any\n",
      "tolist\n",
      "format\n",
      "asi8\n",
      "contains\n",
      "strides\n",
      "ndim\n",
      "dropna\n",
      "intersection\n",
      "set_value\n",
      "notnull\n",
      "values\n",
      "is_monotonic_decreasing\n",
      "delete\n",
      "to_series\n",
      "get_indexer_non_unique\n",
      "to_native_types\n",
      "is_mixed\n",
      "inferred_type\n",
      "symmetric_difference\n"
     ]
    }
   ],
   "source": [
    "mi = m & s\n",
    "\n",
    "for i in mi :\n",
    "    if not i.startswith(\"_\") :\n",
    "        print(i)"
   ]
  },
  {
   "cell_type": "code",
   "execution_count": null,
   "metadata": {
    "collapsed": true
   },
   "outputs": [],
   "source": []
  }
 ],
 "metadata": {
  "kernelspec": {
   "display_name": "Python 3",
   "language": "python",
   "name": "python3"
  },
  "language_info": {
   "codemirror_mode": {
    "name": "ipython",
    "version": 3
   },
   "file_extension": ".py",
   "mimetype": "text/x-python",
   "name": "python",
   "nbconvert_exporter": "python",
   "pygments_lexer": "ipython3",
   "version": "3.6.1"
  }
 },
 "nbformat": 4,
 "nbformat_minor": 1
}
