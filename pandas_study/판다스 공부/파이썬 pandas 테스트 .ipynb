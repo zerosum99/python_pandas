{
 "cells": [
  {
   "cell_type": "code",
   "execution_count": 1,
   "metadata": {},
   "outputs": [
    {
     "data": {
      "text/plain": [
       "'0.7.1'"
      ]
     },
     "execution_count": 1,
     "metadata": {},
     "output_type": "execute_result"
    }
   ],
   "source": [
    "%matplotlib inline\n",
    "import seaborn as sns\n",
    "sns.__version__"
   ]
  },
  {
   "cell_type": "code",
   "execution_count": 3,
   "metadata": {},
   "outputs": [
    {
     "data": {
      "image/png": "[encoded data removed]",
      "text/plain": [
       "<matplotlib.figure.Figure at 0x7f80e6700410>"
      ]
     },
     "metadata": {},
     "output_type": "display_data"
    }
   ],
   "source": [
    "import matplotlib.pyplot as plt\n",
    "plt.plot([1,2,3,4,5])\n",
    "plt.show()"
   ]
  },
  {
   "cell_type": "code",
   "execution_count": 11,
   "metadata": {},
   "outputs": [
    {
     "name": "stdout",
     "output_type": "stream",
     "text": [
      "/usr/local/lib/python2.7/dist-packages/pip/_vendor/requests/packages/urllib3/util/ssl_.py:318: SNIMissingWarning: An HTTPS request has been made, but the SNI (Subject Name Indication) extension to TLS is not available on this platform. This may cause the server to present an incorrect TLS certificate, which can cause validation failures. You can upgrade to a newer version of Python to solve this. For more information, see https://urllib3.readthedocs.org/en/latest/security.html#snimissingwarning.\n",
      "  SNIMissingWarning\n",
      "/usr/local/lib/python2.7/dist-packages/pip/_vendor/requests/packages/urllib3/util/ssl_.py:122: InsecurePlatformWarning: A true SSLContext object is not available. This prevents urllib3 from configuring SSL appropriately and may cause certain SSL connections to fail. You can upgrade to a newer version of Python to solve this. For more information, see https://urllib3.readthedocs.org/en/latest/security.html#insecureplatformwarning.\n",
      "  InsecurePlatformWarning\n",
      "Requirement already up-to-date: matplotlib in /usr/local/lib/python2.7/dist-packages\n",
      "Requirement already up-to-date: pytz in /usr/local/lib/python2.7/dist-packages (from matplotlib)\n",
      "Requirement already up-to-date: cycler in /usr/local/lib/python2.7/dist-packages (from matplotlib)\n",
      "Requirement already up-to-date: python-dateutil in /usr/local/lib/python2.7/dist-packages (from matplotlib)\n",
      "Requirement already up-to-date: pyparsing!=2.0.0,!=2.0.4,!=2.1.2,>=1.5.6 in /usr/local/lib/python2.7/dist-packages (from matplotlib)\n",
      "Requirement already up-to-date: numpy>=1.6 in /usr/local/lib/python2.7/dist-packages (from matplotlib)\n",
      "Requirement already up-to-date: six in /usr/local/lib/python2.7/dist-packages (from cycler->matplotlib)\n"
     ]
    }
   ],
   "source": [
    "!pip install matplotlib --upgrade"
   ]
  },
  {
   "cell_type": "code",
   "execution_count": 7,
   "metadata": {},
   "outputs": [
    {
     "name": "stdout",
     "output_type": "stream",
     "text": [
      "backports-abc (0.4)\r\n",
      "backports.ssl-match-hostname (3.5.0.1)\r\n",
      "certifi (2015.11.20.1)\r\n",
      "chardet (2.0.1)\r\n",
      "colorama (0.2.5)\r\n",
      "cycler (0.10.0)\r\n",
      "decorator (4.0.9)\r\n",
      "docutils (0.12)\r\n",
      "functools32 (3.2.3.post2)\r\n",
      "html5lib (0.999)\r\n",
      "ipykernel (4.2.2)\r\n",
      "ipython (4.1.1)\r\n",
      "ipython-genutils (0.1.0)\r\n",
      "ipywidgets (4.1.1)\r\n",
      "Jinja2 (2.8)\r\n",
      "jsonschema (2.5.1)\r\n",
      "jupyter (1.0.0)\r\n",
      "jupyter-client (4.1.1)\r\n",
      "jupyter-console (4.1.0)\r\n",
      "jupyter-core (4.0.6)\r\n",
      "MarkupSafe (0.23)\r\n",
      "matplotlib (1.5.2)\r\n",
      "mistune (0.7.1)\r\n",
      "mpmath (0.19)\r\n",
      "nbconvert (4.1.0)\r\n",
      "nbformat (4.0.1)\r\n",
      "notebook (4.1.0)\r\n",
      "numpy (1.11.1)\r\n",
      "pandas (0.18.1)\r\n",
      "path.py (8.1.2)\r\n",
      "pexpect (4.0.1)\r\n",
      "pickleshare (0.6)\r\n",
      "pip (8.1.2)\r\n",
      "protobuf (3.0.0b2)\r\n",
      "ptyprocess (0.5.1)\r\n",
      "Pygments (2.1.1)\r\n",
      "pyparsing (2.1.8)\r\n",
      "python-dateutil (2.5.3)\r\n",
      "pytz (2016.6.1)\r\n",
      "pyzmq (15.2.0)\r\n",
      "qtconsole (4.1.1)\r\n",
      "requests (2.2.1)\r\n",
      "scikit-learn (0.17.1)\r\n",
      "scipy (0.18.0)\r\n",
      "seaborn (0.7.1)\r\n",
      "setuptools (26.1.1)\r\n",
      "simplegeneric (0.8.1)\r\n",
      "singledispatch (3.4.0.3)\r\n",
      "six (1.10.0)\r\n",
      "statistics (1.0.3.5)\r\n",
      "sympy (1.0)\r\n",
      "tensorflow (0.7.1)\r\n",
      "terminado (0.6)\r\n",
      "tornado (4.3)\r\n",
      "traitlets (4.1.0)\r\n",
      "urllib3 (1.7.1)\r\n",
      "wheel (0.29.0)\r\n"
     ]
    }
   ],
   "source": [
    "!pip list"
   ]
  },
  {
   "cell_type": "code",
   "execution_count": 75,
   "metadata": {},
   "outputs": [
    {
     "name": "stdout",
     "output_type": "stream",
     "text": [
      "Reading package lists... Done\n",
      "Building dependency tree       \n",
      "Reading state information... Done\n",
      "wget is already the newest version.\n",
      "0 upgraded, 0 newly installed, 0 to remove and 105 not upgraded.\n"
     ]
    }
   ],
   "source": [
    "!sudo apt-get install wget"
   ]
  },
  {
   "cell_type": "code",
   "execution_count": 6,
   "metadata": {},
   "outputs": [
    {
     "name": "stdout",
     "output_type": "stream",
     "text": [
      "--2017-09-08 18:11:45--  https://raw.githubusercontent.com/ipython-books/minibook-2nd-data/master/nyc_taxi.zip\n",
      "Resolving raw.githubusercontent.com... 151.101.72.133\n",
      "Connecting to raw.githubusercontent.com|151.101.72.133|:443... connected.\n",
      "HTTP request sent, awaiting response... 200 OK\n",
      "Length: 91078102 (87M) [application/zip]\n",
      "Saving to: ‘nyc_taxi.zip’\n",
      "\n",
      "nyc_taxi.zip        100%[===================>]  86.86M  1.82MB/s    in 48s     \n",
      "\n",
      "2017-09-08 18:12:35 (1.80 MB/s) - ‘nyc_taxi.zip’ saved [91078102/91078102]\n",
      "\n"
     ]
    }
   ],
   "source": [
    "!wget https://raw.githubusercontent.com/ipython-books/minibook-2nd-data/master/nyc_taxi.zip"
   ]
  },
  {
   "cell_type": "code",
   "execution_count": 7,
   "metadata": {},
   "outputs": [
    {
     "name": "stdout",
     "output_type": "stream",
     "text": [
      "Index와 Multi index 이해하기 .ipynb\r\n",
      "Pandas DataFrame .ipynb\r\n",
      "Pandas Dataframe을 가지고 제어문 처리 방법.ipynb\r\n",
      "Pandas 주요 함수  .ipynb\r\n",
      "README.md\r\n",
      "data.csv\r\n",
      "data.pkl\r\n",
      "nyc_taxi.zip\r\n",
      "pandas  series test_20170710.ipynb\r\n",
      "pandas 검색하는 방법.ipynb\r\n",
      "seaborn_test_20160907.ipynb\r\n",
      "시리즈 데이터 구조 이해하기.ipynb\r\n",
      "데이터 프레임 연산자 처리.ipynb\r\n",
      "파이썬 pandas 테스트 .ipynb\r\n",
      "인덱스와 칼럼 이해하기.ipynb\r\n",
      "데이터프레임 생성.ipynb\r\n",
      "데이터프레임 인스턴스 내의 행과 열로 읽어오기.ipynb\r\n"
     ]
    }
   ],
   "source": [
    "%ls"
   ]
  },
  {
   "cell_type": "code",
   "execution_count": 8,
   "metadata": {},
   "outputs": [
    {
     "name": "stdout",
     "output_type": "stream",
     "text": [
      "Archive:  nyc_taxi.zip\n",
      "   creating: data/\n",
      "  inflating: data/nyc_data.csv       \n",
      "  inflating: data/nyc_fare.csv       \n"
     ]
    }
   ],
   "source": [
    "!unzip nyc_taxi.zip"
   ]
  },
  {
   "cell_type": "code",
   "execution_count": 1,
   "metadata": {},
   "outputs": [
    {
     "name": "stdout",
     "output_type": "stream",
     "text": [
      "Series class  내부 속성들을 알아보기.ipynb\r\n",
      "Series class 에 함수 적용하기.ipynb\r\n",
      "data.csv\r\n",
      "data.pkl\r\n",
      "시리즈 데이터 구조 이해하기.ipynb\r\n",
      "데이터 프레임 연산자 처리.ipynb\r\n",
      "파이썬 pandas 테스트 .ipynb\r\n",
      "인덱스와 칼럼 이해하기.ipynb\r\n",
      "데이터프레임 생성.ipynb\r\n",
      "데이터프레임 인스턴스 내의 행과 열로 읽어오기.ipynb\r\n"
     ]
    }
   ],
   "source": [
    "%ls"
   ]
  },
  {
   "cell_type": "code",
   "execution_count": 2,
   "metadata": {
    "collapsed": true
   },
   "outputs": [],
   "source": [
    "import pandas as pd\n",
    "import numpy as np\n",
    "import matplotlib.pyplot as plt"
   ]
  },
  {
   "cell_type": "code",
   "execution_count": 3,
   "metadata": {
    "collapsed": true
   },
   "outputs": [],
   "source": [
    "data_filename = '/Users/dahlmoon/Documents/data/nyc_data.csv'\n",
    "fare_filename = '/Users/dahlmoon/Documents/data/nyc_fare.csv'"
   ]
  },
  {
   "cell_type": "markdown",
   "metadata": {},
   "source": [
    "## 엑셀 파일에서 데이터를 읽어오기"
   ]
  },
  {
   "cell_type": "code",
   "execution_count": 7,
   "metadata": {},
   "outputs": [
    {
     "name": "stdout",
     "output_type": "stream",
     "text": [
      "Help on function read_csv in module pandas.io.parsers:\n",
      "\n",
      "read_csv(filepath_or_buffer, sep=',', delimiter=None, header='infer', names=None, index_col=None, usecols=None, squeeze=False, prefix=None, mangle_dupe_cols=True, dtype=None, engine=None, converters=None, true_values=None, false_values=None, skipinitialspace=False, skiprows=None, nrows=None, na_values=None, keep_default_na=True, na_filter=True, verbose=False, skip_blank_lines=True, parse_dates=False, infer_datetime_format=False, keep_date_col=False, date_parser=None, dayfirst=False, iterator=False, chunksize=None, compression='infer', thousands=None, decimal=b'.', lineterminator=None, quotechar='\"', quoting=0, escapechar=None, comment=None, encoding=None, dialect=None, tupleize_cols=False, error_bad_lines=True, warn_bad_lines=True, skipfooter=0, skip_footer=0, doublequote=True, delim_whitespace=False, as_recarray=False, compact_ints=False, use_unsigned=False, low_memory=True, buffer_lines=None, memory_map=False, float_precision=None)\n",
      "    Read CSV (comma-separated) file into DataFrame\n",
      "    \n",
      "    Also supports optionally iterating or breaking of the file\n",
      "    into chunks.\n",
      "    \n",
      "    Additional help can be found in the `online docs for IO Tools\n",
      "    <http://pandas.pydata.org/pandas-docs/stable/io.html>`_.\n",
      "    \n",
      "    Parameters\n",
      "    ----------\n",
      "    filepath_or_buffer : str, pathlib.Path, py._path.local.LocalPath or any object with a read() method (such as a file handle or StringIO)\n",
      "        The string could be a URL. Valid URL schemes include http, ftp, s3, and\n",
      "        file. For file URLs, a host is expected. For instance, a local file could\n",
      "        be file ://localhost/path/to/table.csv\n",
      "    sep : str, default ','\n",
      "        Delimiter to use. If sep is None, the C engine cannot automatically detect\n",
      "        the separator, but the Python parsing engine can, meaning the latter will\n",
      "        be used automatically. In addition, separators longer than 1 character and\n",
      "        different from ``'\\s+'`` will be interpreted as regular expressions and\n",
      "        will also force the use of the Python parsing engine. Note that regex\n",
      "        delimiters are prone to ignoring quoted data. Regex example: ``'\\r\\t'``\n",
      "    delimiter : str, default ``None``\n",
      "        Alternative argument name for sep.\n",
      "    delim_whitespace : boolean, default False\n",
      "        Specifies whether or not whitespace (e.g. ``' '`` or ``'    '``) will be\n",
      "        used as the sep. Equivalent to setting ``sep='\\s+'``. If this option\n",
      "        is set to True, nothing should be passed in for the ``delimiter``\n",
      "        parameter.\n",
      "    \n",
      "        .. versionadded:: 0.18.1 support for the Python parser.\n",
      "    \n",
      "    header : int or list of ints, default 'infer'\n",
      "        Row number(s) to use as the column names, and the start of the data.\n",
      "        Default behavior is as if set to 0 if no ``names`` passed, otherwise\n",
      "        ``None``. Explicitly pass ``header=0`` to be able to replace existing\n",
      "        names. The header can be a list of integers that specify row locations for\n",
      "        a multi-index on the columns e.g. [0,1,3]. Intervening rows that are not\n",
      "        specified will be skipped (e.g. 2 in this example is skipped). Note that\n",
      "        this parameter ignores commented lines and empty lines if\n",
      "        ``skip_blank_lines=True``, so header=0 denotes the first line of data\n",
      "        rather than the first line of the file.\n",
      "    names : array-like, default None\n",
      "        List of column names to use. If file contains no header row, then you\n",
      "        should explicitly pass header=None. Duplicates in this list are not\n",
      "        allowed unless mangle_dupe_cols=True, which is the default.\n",
      "    index_col : int or sequence or False, default None\n",
      "        Column to use as the row labels of the DataFrame. If a sequence is given, a\n",
      "        MultiIndex is used. If you have a malformed file with delimiters at the end\n",
      "        of each line, you might consider index_col=False to force pandas to _not_\n",
      "        use the first column as the index (row names)\n",
      "    usecols : array-like or callable, default None\n",
      "        Return a subset of the columns. If array-like, all elements must either\n",
      "        be positional (i.e. integer indices into the document columns) or strings\n",
      "        that correspond to column names provided either by the user in `names` or\n",
      "        inferred from the document header row(s). For example, a valid array-like\n",
      "        `usecols` parameter would be [0, 1, 2] or ['foo', 'bar', 'baz'].\n",
      "    \n",
      "        If callable, the callable function will be evaluated against the column\n",
      "        names, returning names where the callable function evaluates to True. An\n",
      "        example of a valid callable argument would be ``lambda x: x.upper() in\n",
      "        ['AAA', 'BBB', 'DDD']``. Using this parameter results in much faster\n",
      "        parsing time and lower memory usage.\n",
      "    as_recarray : boolean, default False\n",
      "        DEPRECATED: this argument will be removed in a future version. Please call\n",
      "        `pd.read_csv(...).to_records()` instead.\n",
      "    \n",
      "        Return a NumPy recarray instead of a DataFrame after parsing the data.\n",
      "        If set to True, this option takes precedence over the `squeeze` parameter.\n",
      "        In addition, as row indices are not available in such a format, the\n",
      "        `index_col` parameter will be ignored.\n",
      "    squeeze : boolean, default False\n",
      "        If the parsed data only contains one column then return a Series\n",
      "    prefix : str, default None\n",
      "        Prefix to add to column numbers when no header, e.g. 'X' for X0, X1, ...\n",
      "    mangle_dupe_cols : boolean, default True\n",
      "        Duplicate columns will be specified as 'X.0'...'X.N', rather than\n",
      "        'X'...'X'. Passing in False will cause data to be overwritten if there\n",
      "        are duplicate names in the columns.\n",
      "    dtype : Type name or dict of column -> type, default None\n",
      "        Data type for data or columns. E.g. {'a': np.float64, 'b': np.int32}\n",
      "        Use `str` or `object` to preserve and not interpret dtype.\n",
      "        If converters are specified, they will be applied INSTEAD\n",
      "        of dtype conversion.\n",
      "    engine : {'c', 'python'}, optional\n",
      "        Parser engine to use. The C engine is faster while the python engine is\n",
      "        currently more feature-complete.\n",
      "    converters : dict, default None\n",
      "        Dict of functions for converting values in certain columns. Keys can either\n",
      "        be integers or column labels\n",
      "    true_values : list, default None\n",
      "        Values to consider as True\n",
      "    false_values : list, default None\n",
      "        Values to consider as False\n",
      "    skipinitialspace : boolean, default False\n",
      "        Skip spaces after delimiter.\n",
      "    skiprows : list-like or integer or callable, default None\n",
      "        Line numbers to skip (0-indexed) or number of lines to skip (int)\n",
      "        at the start of the file.\n",
      "    \n",
      "        If callable, the callable function will be evaluated against the row\n",
      "        indices, returning True if the row should be skipped and False otherwise.\n",
      "        An example of a valid callable argument would be ``lambda x: x in [0, 2]``.\n",
      "    skipfooter : int, default 0\n",
      "        Number of lines at bottom of file to skip (Unsupported with engine='c')\n",
      "    skip_footer : int, default 0\n",
      "        DEPRECATED: use the `skipfooter` parameter instead, as they are identical\n",
      "    nrows : int, default None\n",
      "        Number of rows of file to read. Useful for reading pieces of large files\n",
      "    na_values : scalar, str, list-like, or dict, default None\n",
      "        Additional strings to recognize as NA/NaN. If dict passed, specific\n",
      "        per-column NA values.  By default the following values are interpreted as\n",
      "        NaN: '', '#N/A', '#N/A N/A', '#NA', '-1.#IND', '-1.#QNAN', '-NaN', '-nan',\n",
      "        '1.#IND', '1.#QNAN', 'N/A', 'NA', 'NULL', 'NaN', 'nan'`.\n",
      "    keep_default_na : bool, default True\n",
      "        If na_values are specified and keep_default_na is False the default NaN\n",
      "        values are overridden, otherwise they're appended to.\n",
      "    na_filter : boolean, default True\n",
      "        Detect missing value markers (empty strings and the value of na_values). In\n",
      "        data without any NAs, passing na_filter=False can improve the performance\n",
      "        of reading a large file\n",
      "    verbose : boolean, default False\n",
      "        Indicate number of NA values placed in non-numeric columns\n",
      "    skip_blank_lines : boolean, default True\n",
      "        If True, skip over blank lines rather than interpreting as NaN values\n",
      "    parse_dates : boolean or list of ints or names or list of lists or dict, default False\n",
      "    \n",
      "        * boolean. If True -> try parsing the index.\n",
      "        * list of ints or names. e.g. If [1, 2, 3] -> try parsing columns 1, 2, 3\n",
      "          each as a separate date column.\n",
      "        * list of lists. e.g.  If [[1, 3]] -> combine columns 1 and 3 and parse as\n",
      "          a single date column.\n",
      "        * dict, e.g. {'foo' : [1, 3]} -> parse columns 1, 3 as date and call result\n",
      "          'foo'\n",
      "    \n",
      "        If a column or index contains an unparseable date, the entire column or\n",
      "        index will be returned unaltered as an object data type. For non-standard\n",
      "        datetime parsing, use ``pd.to_datetime`` after ``pd.read_csv``\n",
      "    \n",
      "        Note: A fast-path exists for iso8601-formatted dates.\n",
      "    infer_datetime_format : boolean, default False\n",
      "        If True and parse_dates is enabled, pandas will attempt to infer the format\n",
      "        of the datetime strings in the columns, and if it can be inferred, switch\n",
      "        to a faster method of parsing them. In some cases this can increase the\n",
      "        parsing speed by 5-10x.\n",
      "    keep_date_col : boolean, default False\n",
      "        If True and parse_dates specifies combining multiple columns then\n",
      "        keep the original columns.\n",
      "    date_parser : function, default None\n",
      "        Function to use for converting a sequence of string columns to an array of\n",
      "        datetime instances. The default uses ``dateutil.parser.parser`` to do the\n",
      "        conversion. Pandas will try to call date_parser in three different ways,\n",
      "        advancing to the next if an exception occurs: 1) Pass one or more arrays\n",
      "        (as defined by parse_dates) as arguments; 2) concatenate (row-wise) the\n",
      "        string values from the columns defined by parse_dates into a single array\n",
      "        and pass that; and 3) call date_parser once for each row using one or more\n",
      "        strings (corresponding to the columns defined by parse_dates) as arguments.\n",
      "    dayfirst : boolean, default False\n",
      "        DD/MM format dates, international and European format\n",
      "    iterator : boolean, default False\n",
      "        Return TextFileReader object for iteration or getting chunks with\n",
      "        ``get_chunk()``.\n",
      "    chunksize : int, default None\n",
      "        Return TextFileReader object for iteration.\n",
      "        See the `IO Tools docs\n",
      "        <http://pandas.pydata.org/pandas-docs/stable/io.html#io-chunking>`_\n",
      "        for more information on ``iterator`` and ``chunksize``.\n",
      "    compression : {'infer', 'gzip', 'bz2', 'zip', 'xz', None}, default 'infer'\n",
      "        For on-the-fly decompression of on-disk data. If 'infer', then use gzip,\n",
      "        bz2, zip or xz if filepath_or_buffer is a string ending in '.gz', '.bz2',\n",
      "        '.zip', or 'xz', respectively, and no decompression otherwise. If using\n",
      "        'zip', the ZIP file must contain only one data file to be read in.\n",
      "        Set to None for no decompression.\n",
      "    \n",
      "        .. versionadded:: 0.18.1 support for 'zip' and 'xz' compression.\n",
      "    \n",
      "    thousands : str, default None\n",
      "        Thousands separator\n",
      "    decimal : str, default '.'\n",
      "        Character to recognize as decimal point (e.g. use ',' for European data).\n",
      "    float_precision : string, default None\n",
      "        Specifies which converter the C engine should use for floating-point\n",
      "        values. The options are `None` for the ordinary converter,\n",
      "        `high` for the high-precision converter, and `round_trip` for the\n",
      "        round-trip converter.\n",
      "    lineterminator : str (length 1), default None\n",
      "        Character to break file into lines. Only valid with C parser.\n",
      "    quotechar : str (length 1), optional\n",
      "        The character used to denote the start and end of a quoted item. Quoted\n",
      "        items can include the delimiter and it will be ignored.\n",
      "    quoting : int or csv.QUOTE_* instance, default 0\n",
      "        Control field quoting behavior per ``csv.QUOTE_*`` constants. Use one of\n",
      "        QUOTE_MINIMAL (0), QUOTE_ALL (1), QUOTE_NONNUMERIC (2) or QUOTE_NONE (3).\n",
      "    doublequote : boolean, default ``True``\n",
      "       When quotechar is specified and quoting is not ``QUOTE_NONE``, indicate\n",
      "       whether or not to interpret two consecutive quotechar elements INSIDE a\n",
      "       field as a single ``quotechar`` element.\n",
      "    escapechar : str (length 1), default None\n",
      "        One-character string used to escape delimiter when quoting is QUOTE_NONE.\n",
      "    comment : str, default None\n",
      "        Indicates remainder of line should not be parsed. If found at the beginning\n",
      "        of a line, the line will be ignored altogether. This parameter must be a\n",
      "        single character. Like empty lines (as long as ``skip_blank_lines=True``),\n",
      "        fully commented lines are ignored by the parameter `header` but not by\n",
      "        `skiprows`. For example, if comment='#', parsing '#empty\\na,b,c\\n1,2,3'\n",
      "        with `header=0` will result in 'a,b,c' being\n",
      "        treated as the header.\n",
      "    encoding : str, default None\n",
      "        Encoding to use for UTF when reading/writing (ex. 'utf-8'). `List of Python\n",
      "        standard encodings\n",
      "        <https://docs.python.org/3/library/codecs.html#standard-encodings>`_\n",
      "    dialect : str or csv.Dialect instance, default None\n",
      "        If provided, this parameter will override values (default or not) for the\n",
      "        following parameters: `delimiter`, `doublequote`, `escapechar`,\n",
      "        `skipinitialspace`, `quotechar`, and `quoting`. If it is necessary to\n",
      "        override values, a ParserWarning will be issued. See csv.Dialect\n",
      "        documentation for more details.\n",
      "    tupleize_cols : boolean, default False\n",
      "        Leave a list of tuples on columns as is (default is to convert to\n",
      "        a Multi Index on the columns)\n",
      "    error_bad_lines : boolean, default True\n",
      "        Lines with too many fields (e.g. a csv line with too many commas) will by\n",
      "        default cause an exception to be raised, and no DataFrame will be returned.\n",
      "        If False, then these \"bad lines\" will dropped from the DataFrame that is\n",
      "        returned.\n",
      "    warn_bad_lines : boolean, default True\n",
      "        If error_bad_lines is False, and warn_bad_lines is True, a warning for each\n",
      "        \"bad line\" will be output.\n",
      "    low_memory : boolean, default True\n",
      "        Internally process the file in chunks, resulting in lower memory use\n",
      "        while parsing, but possibly mixed type inference.  To ensure no mixed\n",
      "        types either set False, or specify the type with the `dtype` parameter.\n",
      "        Note that the entire file is read into a single DataFrame regardless,\n",
      "        use the `chunksize` or `iterator` parameter to return the data in chunks.\n",
      "        (Only valid with C parser)\n",
      "    buffer_lines : int, default None\n",
      "        DEPRECATED: this argument will be removed in a future version because its\n",
      "        value is not respected by the parser\n",
      "    compact_ints : boolean, default False\n",
      "        DEPRECATED: this argument will be removed in a future version\n",
      "    \n",
      "        If compact_ints is True, then for any column that is of integer dtype,\n",
      "        the parser will attempt to cast it as the smallest integer dtype possible,\n",
      "        either signed or unsigned depending on the specification from the\n",
      "        `use_unsigned` parameter.\n",
      "    use_unsigned : boolean, default False\n",
      "        DEPRECATED: this argument will be removed in a future version\n",
      "    \n",
      "        If integer columns are being compacted (i.e. `compact_ints=True`), specify\n",
      "        whether the column should be compacted to the smallest signed or unsigned\n",
      "        integer dtype.\n",
      "    memory_map : boolean, default False\n",
      "        If a filepath is provided for `filepath_or_buffer`, map the file object\n",
      "        directly onto memory and access the data directly from there. Using this\n",
      "        option can improve performance because there is no longer any I/O overhead.\n",
      "    \n",
      "    Returns\n",
      "    -------\n",
      "    result : DataFrame or TextParser\n",
      "\n"
     ]
    }
   ],
   "source": [
    "help(pd.read_csv)"
   ]
  },
  {
   "cell_type": "code",
   "execution_count": 4,
   "metadata": {
    "collapsed": true
   },
   "outputs": [],
   "source": [
    "data = pd.read_csv(data_filename,parse_dates=['pickup_datetime','dropoff_datetime'])\n",
    "fare = pd.read_csv(fare_filename,parse_dates=['pickup_datetime'])"
   ]
  },
  {
   "cell_type": "code",
   "execution_count": 5,
   "metadata": {},
   "outputs": [
    {
     "data": {
      "text/html": [
       "<div>\n",
       "<style>\n",
       "    .dataframe thead tr:only-child th {\n",
       "        text-align: right;\n",
       "    }\n",
       "\n",
       "    .dataframe thead th {\n",
       "        text-align: left;\n",
       "    }\n",
       "\n",
       "    .dataframe tbody tr th {\n",
       "        vertical-align: top;\n",
       "    }\n",
       "</style>\n",
       "<table border=\"1\" class=\"dataframe\">\n",
       "  <thead>\n",
       "    <tr style=\"text-align: right;\">\n",
       "      <th></th>\n",
       "      <th>medallion</th>\n",
       "      <th>hack_license</th>\n",
       "      <th>vendor_id</th>\n",
       "      <th>rate_code</th>\n",
       "      <th>store_and_fwd_flag</th>\n",
       "      <th>pickup_datetime</th>\n",
       "      <th>dropoff_datetime</th>\n",
       "      <th>passenger_count</th>\n",
       "      <th>trip_time_in_secs</th>\n",
       "      <th>trip_distance</th>\n",
       "      <th>pickup_longitude</th>\n",
       "      <th>pickup_latitude</th>\n",
       "      <th>dropoff_longitude</th>\n",
       "      <th>dropoff_latitude</th>\n",
       "    </tr>\n",
       "  </thead>\n",
       "  <tbody>\n",
       "    <tr>\n",
       "      <th>0</th>\n",
       "      <td>76942C3205E17D7E7FE5A9F709D16434</td>\n",
       "      <td>25BA06A87905667AA1FE5990E33F0E2E</td>\n",
       "      <td>VTS</td>\n",
       "      <td>1</td>\n",
       "      <td>NaN</td>\n",
       "      <td>2013-01-01 00:00:00</td>\n",
       "      <td>2013-01-01 00:05:00</td>\n",
       "      <td>3</td>\n",
       "      <td>300</td>\n",
       "      <td>0.61</td>\n",
       "      <td>-73.955925</td>\n",
       "      <td>40.781887</td>\n",
       "      <td>-73.963181</td>\n",
       "      <td>40.777832</td>\n",
       "    </tr>\n",
       "    <tr>\n",
       "      <th>1</th>\n",
       "      <td>517C6B330DBB3F055D007B07512628B3</td>\n",
       "      <td>2C19FBEE1A6E05612EFE4C958C14BC7F</td>\n",
       "      <td>VTS</td>\n",
       "      <td>1</td>\n",
       "      <td>NaN</td>\n",
       "      <td>2013-01-01 00:05:00</td>\n",
       "      <td>2013-01-01 00:21:00</td>\n",
       "      <td>1</td>\n",
       "      <td>960</td>\n",
       "      <td>3.28</td>\n",
       "      <td>-74.005501</td>\n",
       "      <td>40.745735</td>\n",
       "      <td>-73.964943</td>\n",
       "      <td>40.755722</td>\n",
       "    </tr>\n",
       "    <tr>\n",
       "      <th>2</th>\n",
       "      <td>ED15611F168E41B33619C83D900FE266</td>\n",
       "      <td>754AEBD7C80DA17BA1D81D89FB6F4D1D</td>\n",
       "      <td>CMT</td>\n",
       "      <td>1</td>\n",
       "      <td>N</td>\n",
       "      <td>2013-01-01 00:05:52</td>\n",
       "      <td>2013-01-01 00:12:18</td>\n",
       "      <td>1</td>\n",
       "      <td>386</td>\n",
       "      <td>1.50</td>\n",
       "      <td>-73.969955</td>\n",
       "      <td>40.799770</td>\n",
       "      <td>-73.954567</td>\n",
       "      <td>40.787392</td>\n",
       "    </tr>\n",
       "  </tbody>\n",
       "</table>\n",
       "</div>"
      ],
      "text/plain": [
       "                          medallion                      hack_license  \\\n",
       "0  76942C3205E17D7E7FE5A9F709D16434  25BA06A87905667AA1FE5990E33F0E2E   \n",
       "1  517C6B330DBB3F055D007B07512628B3  2C19FBEE1A6E05612EFE4C958C14BC7F   \n",
       "2  ED15611F168E41B33619C83D900FE266  754AEBD7C80DA17BA1D81D89FB6F4D1D   \n",
       "\n",
       "  vendor_id  rate_code store_and_fwd_flag     pickup_datetime  \\\n",
       "0       VTS          1                NaN 2013-01-01 00:00:00   \n",
       "1       VTS          1                NaN 2013-01-01 00:05:00   \n",
       "2       CMT          1                  N 2013-01-01 00:05:52   \n",
       "\n",
       "     dropoff_datetime  passenger_count  trip_time_in_secs  trip_distance  \\\n",
       "0 2013-01-01 00:05:00                3                300           0.61   \n",
       "1 2013-01-01 00:21:00                1                960           3.28   \n",
       "2 2013-01-01 00:12:18                1                386           1.50   \n",
       "\n",
       "   pickup_longitude  pickup_latitude  dropoff_longitude  dropoff_latitude  \n",
       "0        -73.955925        40.781887         -73.963181         40.777832  \n",
       "1        -74.005501        40.745735         -73.964943         40.755722  \n",
       "2        -73.969955        40.799770         -73.954567         40.787392  "
      ]
     },
     "execution_count": 5,
     "metadata": {},
     "output_type": "execute_result"
    }
   ],
   "source": [
    "data.head(3)"
   ]
  },
  {
   "cell_type": "code",
   "execution_count": 6,
   "metadata": {},
   "outputs": [
    {
     "data": {
      "text/html": [
       "<div>\n",
       "<style>\n",
       "    .dataframe thead tr:only-child th {\n",
       "        text-align: right;\n",
       "    }\n",
       "\n",
       "    .dataframe thead th {\n",
       "        text-align: left;\n",
       "    }\n",
       "\n",
       "    .dataframe tbody tr th {\n",
       "        vertical-align: top;\n",
       "    }\n",
       "</style>\n",
       "<table border=\"1\" class=\"dataframe\">\n",
       "  <thead>\n",
       "    <tr style=\"text-align: right;\">\n",
       "      <th></th>\n",
       "      <th>medallion</th>\n",
       "      <th>hack_license</th>\n",
       "      <th>vendor_id</th>\n",
       "      <th>pickup_datetime</th>\n",
       "      <th>payment_type</th>\n",
       "      <th>fare_amount</th>\n",
       "      <th>surcharge</th>\n",
       "      <th>mta_tax</th>\n",
       "      <th>tip_amount</th>\n",
       "      <th>tolls_amount</th>\n",
       "      <th>total_amount</th>\n",
       "    </tr>\n",
       "  </thead>\n",
       "  <tbody>\n",
       "    <tr>\n",
       "      <th>0</th>\n",
       "      <td>76942C3205E17D7E7FE5A9F709D16434</td>\n",
       "      <td>25BA06A87905667AA1FE5990E33F0E2E</td>\n",
       "      <td>VTS</td>\n",
       "      <td>2013-01-01 00:00:00</td>\n",
       "      <td>CSH</td>\n",
       "      <td>5.0</td>\n",
       "      <td>0.5</td>\n",
       "      <td>0.5</td>\n",
       "      <td>0.0</td>\n",
       "      <td>0.0</td>\n",
       "      <td>6.0</td>\n",
       "    </tr>\n",
       "    <tr>\n",
       "      <th>1</th>\n",
       "      <td>517C6B330DBB3F055D007B07512628B3</td>\n",
       "      <td>2C19FBEE1A6E05612EFE4C958C14BC7F</td>\n",
       "      <td>VTS</td>\n",
       "      <td>2013-01-01 00:05:00</td>\n",
       "      <td>CRD</td>\n",
       "      <td>13.5</td>\n",
       "      <td>0.5</td>\n",
       "      <td>0.5</td>\n",
       "      <td>2.8</td>\n",
       "      <td>0.0</td>\n",
       "      <td>17.3</td>\n",
       "    </tr>\n",
       "    <tr>\n",
       "      <th>2</th>\n",
       "      <td>ED15611F168E41B33619C83D900FE266</td>\n",
       "      <td>754AEBD7C80DA17BA1D81D89FB6F4D1D</td>\n",
       "      <td>CMT</td>\n",
       "      <td>2013-01-01 00:05:52</td>\n",
       "      <td>CSH</td>\n",
       "      <td>7.5</td>\n",
       "      <td>0.5</td>\n",
       "      <td>0.5</td>\n",
       "      <td>0.0</td>\n",
       "      <td>0.0</td>\n",
       "      <td>8.5</td>\n",
       "    </tr>\n",
       "  </tbody>\n",
       "</table>\n",
       "</div>"
      ],
      "text/plain": [
       "                          medallion                      hack_license  \\\n",
       "0  76942C3205E17D7E7FE5A9F709D16434  25BA06A87905667AA1FE5990E33F0E2E   \n",
       "1  517C6B330DBB3F055D007B07512628B3  2C19FBEE1A6E05612EFE4C958C14BC7F   \n",
       "2  ED15611F168E41B33619C83D900FE266  754AEBD7C80DA17BA1D81D89FB6F4D1D   \n",
       "\n",
       "  vendor_id     pickup_datetime payment_type  fare_amount  surcharge  mta_tax  \\\n",
       "0       VTS 2013-01-01 00:00:00          CSH          5.0        0.5      0.5   \n",
       "1       VTS 2013-01-01 00:05:00          CRD         13.5        0.5      0.5   \n",
       "2       CMT 2013-01-01 00:05:52          CSH          7.5        0.5      0.5   \n",
       "\n",
       "   tip_amount  tolls_amount  total_amount  \n",
       "0         0.0           0.0           6.0  \n",
       "1         2.8           0.0          17.3  \n",
       "2         0.0           0.0           8.5  "
      ]
     },
     "execution_count": 6,
     "metadata": {},
     "output_type": "execute_result"
    }
   ],
   "source": [
    "fare.head(3)"
   ]
  },
  {
   "cell_type": "code",
   "execution_count": 17,
   "metadata": {},
   "outputs": [
    {
     "data": {
      "text/plain": [
       "Index(['medallion', 'hack_license', 'vendor_id', 'rate_code',\n",
       "       'store_and_fwd_flag', 'pickup_datetime', 'dropoff_datetime',\n",
       "       'passenger_count', 'trip_time_in_secs', 'trip_distance',\n",
       "       'pickup_longitude', 'pickup_latitude', 'dropoff_longitude',\n",
       "       'dropoff_latitude'],\n",
       "      dtype='object')"
      ]
     },
     "execution_count": 17,
     "metadata": {},
     "output_type": "execute_result"
    }
   ],
   "source": [
    "data.columns"
   ]
  },
  {
   "cell_type": "code",
   "execution_count": 18,
   "metadata": {
    "collapsed": true
   },
   "outputs": [],
   "source": [
    "p_lng = data.pickup_longitude\n",
    "p_lat = data.pickup_latitude\n",
    "d_lng = data.dropoff_longitude\n",
    "d_lat = data.dropoff_latitude"
   ]
  },
  {
   "cell_type": "code",
   "execution_count": 19,
   "metadata": {},
   "outputs": [
    {
     "data": {
      "text/plain": [
       "0        -73.955925\n",
       "1        -74.005501\n",
       "2        -73.969955\n",
       "3        -73.991432\n",
       "4        -73.966225\n",
       "5        -73.955238\n",
       "6        -73.985580\n",
       "7        -73.999413\n",
       "8        -73.992180\n",
       "9        -74.006554\n",
       "10       -73.972473\n",
       "11       -74.007263\n",
       "12       -73.984589\n",
       "13       -73.987991\n",
       "14       -74.006111\n",
       "15       -73.988693\n",
       "16       -73.982094\n",
       "17       -73.976822\n",
       "18       -73.978676\n",
       "19       -73.986336\n",
       "20       -73.969917\n",
       "21       -73.954521\n",
       "22       -74.002953\n",
       "23       -74.006683\n",
       "24       -73.974174\n",
       "25       -73.979942\n",
       "26       -73.970970\n",
       "27       -73.988281\n",
       "28       -73.997452\n",
       "29       -73.981506\n",
       "            ...    \n",
       "846915   -74.010689\n",
       "846916   -73.982697\n",
       "846917   -73.977768\n",
       "846918   -74.016182\n",
       "846919   -73.951698\n",
       "846920   -73.951981\n",
       "846921   -73.987846\n",
       "846922   -73.984886\n",
       "846923   -73.953316\n",
       "846924   -73.987709\n",
       "846925   -73.969978\n",
       "846926   -73.985458\n",
       "846927   -73.982651\n",
       "846928   -73.996460\n",
       "846929   -73.972366\n",
       "846930   -73.980141\n",
       "846931   -73.987236\n",
       "846932   -74.005722\n",
       "846933   -73.970688\n",
       "846934   -73.993156\n",
       "846935   -73.952888\n",
       "846936   -73.927185\n",
       "846937   -73.974609\n",
       "846938   -73.977196\n",
       "846939   -73.973480\n",
       "846940   -73.992058\n",
       "846941   -73.994949\n",
       "846942   -73.993492\n",
       "846943   -73.978477\n",
       "846944   -73.987206\n",
       "Name: pickup_longitude, Length: 846945, dtype: float64"
      ]
     },
     "execution_count": 19,
     "metadata": {},
     "output_type": "execute_result"
    }
   ],
   "source": [
    "p_lng #doctest Ellipsis"
   ]
  },
  {
   "cell_type": "code",
   "execution_count": 20,
   "metadata": {
    "collapsed": true
   },
   "outputs": [],
   "source": [
    "def lat_lng_to_pixels(lat, lng) :\n",
    "    lat_rad = lat * np.pi /180.0 \n",
    "    lat_rad = np.log(np.tan((lat_rad + np.pi / 2.0) /2.0))\n",
    "    x = 100 * (lng + 180.0) / 360.0 \n",
    "    y = 100 * (lat_rad - np.pi) / (2.0 * np.pi) \n",
    "    return (x,y)"
   ]
  },
  {
   "cell_type": "code",
   "execution_count": 21,
   "metadata": {
    "collapsed": true
   },
   "outputs": [],
   "source": [
    "px,py = lat_lng_to_pixels(p_lat,p_lng)"
   ]
  },
  {
   "cell_type": "code",
   "execution_count": 22,
   "metadata": {},
   "outputs": [
    {
     "data": {
      "text/plain": [
       "0         29.456688\n",
       "1         29.442916\n",
       "2         29.452790\n",
       "3         29.446824\n",
       "4         29.453826\n",
       "5         29.456878\n",
       "6         29.448450\n",
       "7         29.444608\n",
       "8         29.446617\n",
       "9         29.442624\n",
       "10        29.452091\n",
       "11        29.442427\n",
       "12        29.448725\n",
       "13        29.447780\n",
       "14        29.442747\n",
       "15        29.447585\n",
       "16        29.449418\n",
       "17        29.450883\n",
       "18        29.450368\n",
       "19        29.448240\n",
       "20        29.452801\n",
       "21        29.457078\n",
       "22        29.443624\n",
       "23        29.442588\n",
       "24        29.451618\n",
       "25        29.450016\n",
       "26        29.452508\n",
       "27        29.447700\n",
       "28        29.445152\n",
       "29        29.449582\n",
       "            ...    \n",
       "846915    29.441475\n",
       "846916    29.449251\n",
       "846917    29.450620\n",
       "846918    29.439949\n",
       "846919    29.457862\n",
       "846920    29.457783\n",
       "846921    29.447821\n",
       "846922    29.448643\n",
       "846923    29.457412\n",
       "846924    29.447859\n",
       "846925    29.452784\n",
       "846926    29.448484\n",
       "846927    29.449264\n",
       "846928    29.445428\n",
       "846929    29.452121\n",
       "846930    29.449961\n",
       "846931    29.447990\n",
       "846932    29.442855\n",
       "846933    29.452587\n",
       "846934    29.446346\n",
       "846935    29.457531\n",
       "846936    29.464671\n",
       "846937    29.451497\n",
       "846938    29.450779\n",
       "846939    29.451811\n",
       "846940    29.446651\n",
       "846941    29.445847\n",
       "846942    29.446252\n",
       "846943    29.450423\n",
       "846944    29.447998\n",
       "Name: pickup_longitude, Length: 846945, dtype: float64"
      ]
     },
     "execution_count": 22,
     "metadata": {},
     "output_type": "execute_result"
    }
   ],
   "source": [
    "px   #doctest Ellipsis"
   ]
  },
  {
   "cell_type": "code",
   "execution_count": 23,
   "metadata": {},
   "outputs": [
    {
     "data": {
      "text/plain": [
       "(-37.63, -37.54)"
      ]
     },
     "execution_count": 23,
     "metadata": {},
     "output_type": "execute_result"
    }
   ],
   "source": [
    "plt.figure(figsize=(8,6))\n",
    "plt.scatter(px,py, s=1, alpha=.03)\n",
    "plt.axis('equal')\n",
    "plt.xlim(29.40, 29.55)\n",
    "plt.ylim(-37.63, -37.54)"
   ]
  },
  {
   "cell_type": "code",
   "execution_count": 24,
   "metadata": {},
   "outputs": [
    {
     "data": {
      "text/plain": [
       "<matplotlib.collections.PathCollection at 0x1248cfef0>"
      ]
     },
     "execution_count": 24,
     "metadata": {},
     "output_type": "execute_result"
    }
   ],
   "source": [
    "plt.scatter(px,py)"
   ]
  },
  {
   "cell_type": "markdown",
   "metadata": {},
   "source": [
    "figure() : 그림의 크기를 인치로 명시\n",
    "scatter(...,s=1, alpha=.03) : s = 마커의 크기를 작게, alpha = 거의 투명하게 해서 고밀도를 강조\n",
    "axis('equal') : 가로와 세로 비를 동일하게\n",
    "axis('off') : 축을 제거\n",
    "\n",
    "xlim(), ylim() :  x,y 축을 제한"
   ]
  },
  {
   "cell_type": "code",
   "execution_count": 25,
   "metadata": {},
   "outputs": [
    {
     "data": {
      "image/png": "[encoded data removed]",
      "text/plain": [
       "<matplotlib.figure.Figure at 0x11b3d1978>"
      ]
     },
     "metadata": {},
     "output_type": "display_data"
    },
    {
     "data": {
      "image/png": "[encoded data removed]",
      "text/plain": [
       "<matplotlib.figure.Figure at 0x122250470>"
      ]
     },
     "metadata": {},
     "output_type": "display_data"
    }
   ],
   "source": [
    "plt.figure(figsize=(8,6))\n",
    "plt.scatter(px,py, s=1, alpha=.03)\n",
    "plt.axis('equal')\n",
    "plt.xlim(29.40, 29.55)\n",
    "plt.ylim(-37.63, -37.54)\n",
    "plt.axis('off')\n",
    "plt.show()"
   ]
  },
  {
   "cell_type": "code",
   "execution_count": 26,
   "metadata": {},
   "outputs": [
    {
     "name": "stdout",
     "output_type": "stream",
     "text": [
      "846945\n",
      "29.4171375\n",
      "29.7143130556\n",
      "29.45134580776863\n",
      "29.449418333333337\n",
      "0.009761694274451149\n"
     ]
    }
   ],
   "source": [
    "print(px.count())\n",
    "print(px.min())\n",
    "print(px.max())\n",
    "print(px.mean())\n",
    "print(px.median())\n",
    "print(px.std())"
   ]
  },
  {
   "cell_type": "code",
   "execution_count": 27,
   "metadata": {},
   "outputs": [
    {
     "name": "stdout",
     "output_type": "stream",
     "text": [
      "count    846945.000000\n",
      "mean         29.451346\n",
      "std           0.009762\n",
      "min          29.417137\n",
      "25%          29.446564\n",
      "50%          29.449418\n",
      "75%          29.453320\n",
      "max          29.714313\n",
      "Name: pickup_longitude, dtype: float64\n"
     ]
    }
   ],
   "source": [
    "print(px.describe())"
   ]
  },
  {
   "cell_type": "code",
   "execution_count": 28,
   "metadata": {},
   "outputs": [
    {
     "name": "stdout",
     "output_type": "stream",
     "text": [
      "846945\n",
      "-37.8543216545\n",
      "-37.4940260392\n"
     ]
    }
   ],
   "source": [
    "print(py.count())\n",
    "print(py.min())\n",
    "print(py.max())"
   ]
  },
  {
   "cell_type": "code",
   "execution_count": 30,
   "metadata": {},
   "outputs": [
    {
     "data": {
      "image/png": "[encoded data removed]",
      "text/plain": [
       "<matplotlib.figure.Figure at 0x11ab720b8>"
      ]
     },
     "metadata": {},
     "output_type": "display_data"
    }
   ],
   "source": [
    "data.trip_distance.hist(bins=np.linspace(0.,10.,100))\n",
    "\n",
    "plt.show()"
   ]
  },
  {
   "cell_type": "markdown",
   "metadata": {},
   "source": [
    "## PANDAS 행과 열 선택\n",
    "\n",
    "pandas는 기본으로 열을 기준으로 처리\n",
    "   - data index에 칼럼명을 호출하면 DataFrame 객체가 만들어 짐\n",
    "   \n",
    "   - data.loc로 행선택"
   ]
  },
  {
   "cell_type": "code",
   "execution_count": 31,
   "metadata": {},
   "outputs": [
    {
     "name": "stdout",
     "output_type": "stream",
     "text": [
      "<class 'pandas.core.frame.DataFrame'>\n",
      "demension  2\n",
      "shape  (846945, 2)\n"
     ]
    }
   ],
   "source": [
    "s = data[['trip_distance','trip_time_in_secs']]\n",
    "print(type(s))\n",
    "print(\"demension \",s.ndim)\n",
    "print(\"shape \",s.shape)\n",
    "\n"
   ]
  },
  {
   "cell_type": "code",
   "execution_count": 32,
   "metadata": {},
   "outputs": [
    {
     "data": {
      "text/html": [
       "<div>\n",
       "<style>\n",
       "    .dataframe thead tr:only-child th {\n",
       "        text-align: right;\n",
       "    }\n",
       "\n",
       "    .dataframe thead th {\n",
       "        text-align: left;\n",
       "    }\n",
       "\n",
       "    .dataframe tbody tr th {\n",
       "        vertical-align: top;\n",
       "    }\n",
       "</style>\n",
       "<table border=\"1\" class=\"dataframe\">\n",
       "  <thead>\n",
       "    <tr style=\"text-align: right;\">\n",
       "      <th></th>\n",
       "      <th>trip_distance</th>\n",
       "      <th>trip_time_in_secs</th>\n",
       "    </tr>\n",
       "  </thead>\n",
       "  <tbody>\n",
       "    <tr>\n",
       "      <th>0</th>\n",
       "      <td>0.61</td>\n",
       "      <td>300</td>\n",
       "    </tr>\n",
       "    <tr>\n",
       "      <th>1</th>\n",
       "      <td>3.28</td>\n",
       "      <td>960</td>\n",
       "    </tr>\n",
       "    <tr>\n",
       "      <th>2</th>\n",
       "      <td>1.50</td>\n",
       "      <td>386</td>\n",
       "    </tr>\n",
       "  </tbody>\n",
       "</table>\n",
       "</div>"
      ],
      "text/plain": [
       "   trip_distance  trip_time_in_secs\n",
       "0           0.61                300\n",
       "1           3.28                960\n",
       "2           1.50                386"
      ]
     },
     "execution_count": 32,
     "metadata": {},
     "output_type": "execute_result"
    }
   ],
   "source": [
    "data[['trip_distance','trip_time_in_secs']].head(3)"
   ]
  },
  {
   "cell_type": "code",
   "execution_count": 33,
   "metadata": {},
   "outputs": [
    {
     "name": "stdout",
     "output_type": "stream",
     "text": [
      "Index(['medallion', 'hack_license', 'vendor_id', 'rate_code',\n",
      "       'store_and_fwd_flag', 'pickup_datetime', 'dropoff_datetime',\n",
      "       'passenger_count', 'trip_time_in_secs', 'trip_distance',\n",
      "       'pickup_longitude', 'pickup_latitude', 'dropoff_longitude',\n",
      "       'dropoff_latitude'],\n",
      "      dtype='object')\n",
      "<class 'pandas.core.indexing._LocIndexer'>\n",
      "medallion             76942C3205E17D7E7FE5A9F709D16434\n",
      "hack_license          25BA06A87905667AA1FE5990E33F0E2E\n",
      "vendor_id                                          VTS\n",
      "rate_code                                            1\n",
      "store_and_fwd_flag                                 NaN\n",
      "pickup_datetime                    2013-01-01 00:00:00\n",
      "dropoff_datetime                   2013-01-01 00:05:00\n",
      "passenger_count                                      3\n",
      "trip_time_in_secs                                  300\n",
      "trip_distance                                     0.61\n",
      "pickup_longitude                              -73.9559\n",
      "pickup_latitude                                40.7819\n",
      "dropoff_longitude                             -73.9632\n",
      "dropoff_latitude                               40.7778\n",
      "Name: 0, dtype: object\n"
     ]
    }
   ],
   "source": [
    "print(data.columns)\n",
    "print(type(data.loc))\n",
    "print(data.loc[0])"
   ]
  },
  {
   "cell_type": "markdown",
   "metadata": {
    "collapsed": true
   },
   "source": [
    "## PANDAS 행선택\n",
    "\n",
    "data.loc 객체를 index로 검색\n",
    "[index]를 list로 지정하면 행에 대한 선택으로 처리"
   ]
  },
  {
   "cell_type": "code",
   "execution_count": 35,
   "metadata": {},
   "outputs": [
    {
     "data": {
      "text/html": [
       "<div>\n",
       "<style>\n",
       "    .dataframe thead tr:only-child th {\n",
       "        text-align: right;\n",
       "    }\n",
       "\n",
       "    .dataframe thead th {\n",
       "        text-align: left;\n",
       "    }\n",
       "\n",
       "    .dataframe tbody tr th {\n",
       "        vertical-align: top;\n",
       "    }\n",
       "</style>\n",
       "<table border=\"1\" class=\"dataframe\">\n",
       "  <thead>\n",
       "    <tr style=\"text-align: right;\">\n",
       "      <th></th>\n",
       "      <th>medallion</th>\n",
       "      <th>hack_license</th>\n",
       "      <th>vendor_id</th>\n",
       "      <th>rate_code</th>\n",
       "      <th>store_and_fwd_flag</th>\n",
       "      <th>pickup_datetime</th>\n",
       "      <th>dropoff_datetime</th>\n",
       "      <th>passenger_count</th>\n",
       "      <th>trip_time_in_secs</th>\n",
       "      <th>trip_distance</th>\n",
       "      <th>pickup_longitude</th>\n",
       "      <th>pickup_latitude</th>\n",
       "      <th>dropoff_longitude</th>\n",
       "      <th>dropoff_latitude</th>\n",
       "    </tr>\n",
       "  </thead>\n",
       "  <tbody>\n",
       "    <tr>\n",
       "      <th>0</th>\n",
       "      <td>76942C3205E17D7E7FE5A9F709D16434</td>\n",
       "      <td>25BA06A87905667AA1FE5990E33F0E2E</td>\n",
       "      <td>VTS</td>\n",
       "      <td>1</td>\n",
       "      <td>NaN</td>\n",
       "      <td>2013-01-01 00:00:00</td>\n",
       "      <td>2013-01-01 00:05:00</td>\n",
       "      <td>3</td>\n",
       "      <td>300</td>\n",
       "      <td>0.61</td>\n",
       "      <td>-73.955925</td>\n",
       "      <td>40.781887</td>\n",
       "      <td>-73.963181</td>\n",
       "      <td>40.777832</td>\n",
       "    </tr>\n",
       "    <tr>\n",
       "      <th>100</th>\n",
       "      <td>0276F9CD8B399CCBFCE91FD5A662618D</td>\n",
       "      <td>B228C2611C233FC6CF2432C063029285</td>\n",
       "      <td>CMT</td>\n",
       "      <td>1</td>\n",
       "      <td>N</td>\n",
       "      <td>2013-01-01 00:43:02</td>\n",
       "      <td>2013-01-01 00:47:20</td>\n",
       "      <td>2</td>\n",
       "      <td>258</td>\n",
       "      <td>1.00</td>\n",
       "      <td>-73.963440</td>\n",
       "      <td>40.803707</td>\n",
       "      <td>-73.951591</td>\n",
       "      <td>40.804363</td>\n",
       "    </tr>\n",
       "  </tbody>\n",
       "</table>\n",
       "</div>"
      ],
      "text/plain": [
       "                            medallion                      hack_license  \\\n",
       "0    76942C3205E17D7E7FE5A9F709D16434  25BA06A87905667AA1FE5990E33F0E2E   \n",
       "100  0276F9CD8B399CCBFCE91FD5A662618D  B228C2611C233FC6CF2432C063029285   \n",
       "\n",
       "    vendor_id  rate_code store_and_fwd_flag     pickup_datetime  \\\n",
       "0         VTS          1                NaN 2013-01-01 00:00:00   \n",
       "100       CMT          1                  N 2013-01-01 00:43:02   \n",
       "\n",
       "       dropoff_datetime  passenger_count  trip_time_in_secs  trip_distance  \\\n",
       "0   2013-01-01 00:05:00                3                300           0.61   \n",
       "100 2013-01-01 00:47:20                2                258           1.00   \n",
       "\n",
       "     pickup_longitude  pickup_latitude  dropoff_longitude  dropoff_latitude  \n",
       "0          -73.955925        40.781887         -73.963181         40.777832  \n",
       "100        -73.963440        40.803707         -73.951591         40.804363  "
      ]
     },
     "execution_count": 35,
     "metadata": {},
     "output_type": "execute_result"
    }
   ],
   "source": [
    "data.loc[[0,100]]  #doctest Ellipsis"
   ]
  },
  {
   "cell_type": "markdown",
   "metadata": {
    "collapsed": true
   },
   "source": [
    "## PANDAS 행선택\n",
    "\n",
    "data.loc 객체를 slice로 검색\n",
    "[slice, columns]로 처리시에는 slice는 행에 대한 처리이고 columns 추출할 columns 명을 지정하면 된다\n"
   ]
  },
  {
   "cell_type": "code",
   "execution_count": 37,
   "metadata": {},
   "outputs": [
    {
     "data": {
      "text/html": [
       "<div>\n",
       "<style>\n",
       "    .dataframe thead tr:only-child th {\n",
       "        text-align: right;\n",
       "    }\n",
       "\n",
       "    .dataframe thead th {\n",
       "        text-align: left;\n",
       "    }\n",
       "\n",
       "    .dataframe tbody tr th {\n",
       "        vertical-align: top;\n",
       "    }\n",
       "</style>\n",
       "<table border=\"1\" class=\"dataframe\">\n",
       "  <thead>\n",
       "    <tr style=\"text-align: right;\">\n",
       "      <th></th>\n",
       "      <th>trip_distance</th>\n",
       "      <th>trip_time_in_secs</th>\n",
       "    </tr>\n",
       "  </thead>\n",
       "  <tbody>\n",
       "    <tr>\n",
       "      <th>0</th>\n",
       "      <td>0.61</td>\n",
       "      <td>300</td>\n",
       "    </tr>\n",
       "    <tr>\n",
       "      <th>10</th>\n",
       "      <td>4.40</td>\n",
       "      <td>809</td>\n",
       "    </tr>\n",
       "    <tr>\n",
       "      <th>20</th>\n",
       "      <td>2.50</td>\n",
       "      <td>498</td>\n",
       "    </tr>\n",
       "    <tr>\n",
       "      <th>30</th>\n",
       "      <td>0.20</td>\n",
       "      <td>47</td>\n",
       "    </tr>\n",
       "    <tr>\n",
       "      <th>40</th>\n",
       "      <td>1.32</td>\n",
       "      <td>540</td>\n",
       "    </tr>\n",
       "    <tr>\n",
       "      <th>50</th>\n",
       "      <td>3.50</td>\n",
       "      <td>1298</td>\n",
       "    </tr>\n",
       "    <tr>\n",
       "      <th>60</th>\n",
       "      <td>2.40</td>\n",
       "      <td>605</td>\n",
       "    </tr>\n",
       "    <tr>\n",
       "      <th>70</th>\n",
       "      <td>1.12</td>\n",
       "      <td>300</td>\n",
       "    </tr>\n",
       "    <tr>\n",
       "      <th>80</th>\n",
       "      <td>2.50</td>\n",
       "      <td>1099</td>\n",
       "    </tr>\n",
       "    <tr>\n",
       "      <th>90</th>\n",
       "      <td>1.13</td>\n",
       "      <td>360</td>\n",
       "    </tr>\n",
       "    <tr>\n",
       "      <th>100</th>\n",
       "      <td>1.00</td>\n",
       "      <td>258</td>\n",
       "    </tr>\n",
       "  </tbody>\n",
       "</table>\n",
       "</div>"
      ],
      "text/plain": [
       "     trip_distance  trip_time_in_secs\n",
       "0             0.61                300\n",
       "10            4.40                809\n",
       "20            2.50                498\n",
       "30            0.20                 47\n",
       "40            1.32                540\n",
       "50            3.50               1298\n",
       "60            2.40                605\n",
       "70            1.12                300\n",
       "80            2.50               1099\n",
       "90            1.13                360\n",
       "100           1.00                258"
      ]
     },
     "execution_count": 37,
     "metadata": {},
     "output_type": "execute_result"
    }
   ],
   "source": [
    "data.loc[:100:10, ['trip_distance','trip_time_in_secs']]"
   ]
  },
  {
   "cell_type": "markdown",
   "metadata": {
    "collapsed": true
   },
   "source": [
    "## bool index 처리\n",
    "\n",
    "data.loc 행검색(index) 처리시 논리연산을 추가하면 실제 True만 추출되어 표시"
   ]
  },
  {
   "cell_type": "code",
   "execution_count": 38,
   "metadata": {},
   "outputs": [
    {
     "data": {
      "text/html": [
       "<div>\n",
       "<style>\n",
       "    .dataframe thead tr:only-child th {\n",
       "        text-align: right;\n",
       "    }\n",
       "\n",
       "    .dataframe thead th {\n",
       "        text-align: left;\n",
       "    }\n",
       "\n",
       "    .dataframe tbody tr th {\n",
       "        vertical-align: top;\n",
       "    }\n",
       "</style>\n",
       "<table border=\"1\" class=\"dataframe\">\n",
       "  <thead>\n",
       "    <tr style=\"text-align: right;\">\n",
       "      <th></th>\n",
       "      <th>medallion</th>\n",
       "      <th>hack_license</th>\n",
       "      <th>vendor_id</th>\n",
       "      <th>rate_code</th>\n",
       "      <th>store_and_fwd_flag</th>\n",
       "      <th>pickup_datetime</th>\n",
       "      <th>dropoff_datetime</th>\n",
       "      <th>passenger_count</th>\n",
       "      <th>trip_time_in_secs</th>\n",
       "      <th>trip_distance</th>\n",
       "      <th>pickup_longitude</th>\n",
       "      <th>pickup_latitude</th>\n",
       "      <th>dropoff_longitude</th>\n",
       "      <th>dropoff_latitude</th>\n",
       "    </tr>\n",
       "  </thead>\n",
       "  <tbody>\n",
       "    <tr>\n",
       "      <th>504497</th>\n",
       "      <td>7237EC7ABD6114EDDC87A3AA846F8418</td>\n",
       "      <td>D52502537E2DF62C9BFFECF5A387E7E9</td>\n",
       "      <td>CMT</td>\n",
       "      <td>1</td>\n",
       "      <td>N</td>\n",
       "      <td>2013-08-02 11:22:31</td>\n",
       "      <td>2013-08-02 11:33:03</td>\n",
       "      <td>1</td>\n",
       "      <td>631</td>\n",
       "      <td>6005123.0</td>\n",
       "      <td>-73.997467</td>\n",
       "      <td>40.736397</td>\n",
       "      <td>-73.991882</td>\n",
       "      <td>40.764629</td>\n",
       "    </tr>\n",
       "    <tr>\n",
       "      <th>507107</th>\n",
       "      <td>50DA72F510E2F84A42712E13744FAC7B</td>\n",
       "      <td>EA9D03A766C1D32A6668FFF0C1EB4E4B</td>\n",
       "      <td>CMT</td>\n",
       "      <td>1</td>\n",
       "      <td>N</td>\n",
       "      <td>2013-08-04 18:42:17</td>\n",
       "      <td>2013-08-04 20:37:19</td>\n",
       "      <td>3</td>\n",
       "      <td>4290965</td>\n",
       "      <td>181.8</td>\n",
       "      <td>-73.978020</td>\n",
       "      <td>40.765167</td>\n",
       "      <td>-73.815041</td>\n",
       "      <td>40.730076</td>\n",
       "    </tr>\n",
       "    <tr>\n",
       "      <th>548988</th>\n",
       "      <td>A978A0AAE9B2CFEE310FACD97A09C319</td>\n",
       "      <td>CE56A27F53ABF411094B6CD708BFBA96</td>\n",
       "      <td>CMT</td>\n",
       "      <td>1</td>\n",
       "      <td>N</td>\n",
       "      <td>2013-08-24 17:03:27</td>\n",
       "      <td>2013-08-24 17:03:29</td>\n",
       "      <td>1</td>\n",
       "      <td>1</td>\n",
       "      <td>442.0</td>\n",
       "      <td>-73.993896</td>\n",
       "      <td>40.702644</td>\n",
       "      <td>-73.993874</td>\n",
       "      <td>40.702637</td>\n",
       "    </tr>\n",
       "    <tr>\n",
       "      <th>558665</th>\n",
       "      <td>5A5C516A820FE476E9D3E14101B669AC</td>\n",
       "      <td>C24585AA866FC76A4E09A05F55DC7E54</td>\n",
       "      <td>CMT</td>\n",
       "      <td>2</td>\n",
       "      <td>N</td>\n",
       "      <td>2013-08-29 10:01:40</td>\n",
       "      <td>2013-08-29 11:52:20</td>\n",
       "      <td>1</td>\n",
       "      <td>6640</td>\n",
       "      <td>164.4</td>\n",
       "      <td>-73.791534</td>\n",
       "      <td>40.661026</td>\n",
       "      <td>-73.983734</td>\n",
       "      <td>40.765778</td>\n",
       "    </tr>\n",
       "  </tbody>\n",
       "</table>\n",
       "</div>"
      ],
      "text/plain": [
       "                               medallion                      hack_license  \\\n",
       "504497  7237EC7ABD6114EDDC87A3AA846F8418  D52502537E2DF62C9BFFECF5A387E7E9   \n",
       "507107  50DA72F510E2F84A42712E13744FAC7B  EA9D03A766C1D32A6668FFF0C1EB4E4B   \n",
       "548988  A978A0AAE9B2CFEE310FACD97A09C319  CE56A27F53ABF411094B6CD708BFBA96   \n",
       "558665  5A5C516A820FE476E9D3E14101B669AC  C24585AA866FC76A4E09A05F55DC7E54   \n",
       "\n",
       "       vendor_id  rate_code store_and_fwd_flag     pickup_datetime  \\\n",
       "504497       CMT          1                  N 2013-08-02 11:22:31   \n",
       "507107       CMT          1                  N 2013-08-04 18:42:17   \n",
       "548988       CMT          1                  N 2013-08-24 17:03:27   \n",
       "558665       CMT          2                  N 2013-08-29 10:01:40   \n",
       "\n",
       "          dropoff_datetime  passenger_count  trip_time_in_secs  trip_distance  \\\n",
       "504497 2013-08-02 11:33:03                1                631      6005123.0   \n",
       "507107 2013-08-04 20:37:19                3            4290965          181.8   \n",
       "548988 2013-08-24 17:03:29                1                  1          442.0   \n",
       "558665 2013-08-29 11:52:20                1               6640          164.4   \n",
       "\n",
       "        pickup_longitude  pickup_latitude  dropoff_longitude  dropoff_latitude  \n",
       "504497        -73.997467        40.736397         -73.991882         40.764629  \n",
       "507107        -73.978020        40.765167         -73.815041         40.730076  \n",
       "548988        -73.993896        40.702644         -73.993874         40.702637  \n",
       "558665        -73.791534        40.661026         -73.983734         40.765778  "
      ]
     },
     "execution_count": 38,
     "metadata": {},
     "output_type": "execute_result"
    }
   ],
   "source": [
    "data.loc[data.trip_distance > 100]"
   ]
  },
  {
   "cell_type": "code",
   "execution_count": 39,
   "metadata": {},
   "outputs": [
    {
     "data": {
      "application/vnd.jupyter.widget-view+json": {
       "model_id": "45df0e2ca4a64cb89b8f39c3359d46b6"
      }
     },
     "metadata": {},
     "output_type": "display_data"
    }
   ],
   "source": [
    "from ipywidgets import interact\n",
    "@interact\n",
    "def show_nrows(distance_threshold=(0,200)) :\n",
    "    return len(data.loc[data.trip_distance > distance_threshold])"
   ]
  },
  {
   "cell_type": "code",
   "execution_count": 40,
   "metadata": {},
   "outputs": [
    {
     "data": {
      "text/plain": [
       "Index(['medallion', 'hack_license', 'vendor_id', 'rate_code',\n",
       "       'store_and_fwd_flag', 'pickup_datetime', 'dropoff_datetime',\n",
       "       'passenger_count', 'trip_time_in_secs', 'trip_distance',\n",
       "       'pickup_longitude', 'pickup_latitude', 'dropoff_longitude',\n",
       "       'dropoff_latitude'],\n",
       "      dtype='object')"
      ]
     },
     "execution_count": 40,
     "metadata": {},
     "output_type": "execute_result"
    }
   ],
   "source": [
    "data.columns"
   ]
  },
  {
   "cell_type": "markdown",
   "metadata": {
    "collapsed": true
   },
   "source": [
    "## column 추가\n",
    "초단위 계산을 분단위 계산으로 전환하고 칼럼 추가"
   ]
  },
  {
   "cell_type": "code",
   "execution_count": 44,
   "metadata": {},
   "outputs": [
    {
     "name": "stdout",
     "output_type": "stream",
     "text": [
      "   trip_time_in_mins  trip_time_in_secs\n",
      "0           5.000000                300\n",
      "1          16.000000                960\n",
      "2           6.433333                386\n"
     ]
    }
   ],
   "source": [
    "data['trip_time_in_mins'] = data['trip_time_in_secs'] /60.0\n",
    "print(data[[\"trip_time_in_mins\",'trip_time_in_secs']].head(3))"
   ]
  },
  {
   "cell_type": "markdown",
   "metadata": {},
   "source": [
    "## Series 타입 이해하기\n",
    "\n",
    "pandas DataFrame의 각 열은 하나의 Series 클래스이다.\n",
    "\n",
    "칼럼 하나에 대해 slice 처리해도 항상 series 클래스로 표시\n",
    "\n",
    "pandas 검색이나 슬라이싱은 view를 보여주는 것이므로 실제 데이터이 상태와 동일함\n",
    "\n",
    "pandas series 연산은 같은 index가 존재할 경우만 게산됨 "
   ]
  },
  {
   "cell_type": "code",
   "execution_count": 45,
   "metadata": {},
   "outputs": [
    {
     "name": "stdout",
     "output_type": "stream",
     "text": [
      "<class 'pandas.core.series.Series'>\n"
     ]
    }
   ],
   "source": [
    "a = data.trip_distance\n",
    "print(type(a))"
   ]
  },
  {
   "cell_type": "code",
   "execution_count": 46,
   "metadata": {},
   "outputs": [
    {
     "name": "stdout",
     "output_type": "stream",
     "text": [
      " b   <class 'pandas.core.series.Series'>\n",
      "0    0.61\n",
      "1    3.28\n",
      "2    1.50\n",
      "3    0.00\n",
      "4    1.31\n",
      "Name: trip_distance, dtype: float64\n",
      " c   <class 'pandas.core.series.Series'>\n",
      "1    3.28\n",
      "2    1.50\n",
      "3    0.00\n",
      "4    1.31\n",
      "5    5.81\n",
      "Name: trip_distance, dtype: float64\n"
     ]
    }
   ],
   "source": [
    "b = data.trip_distance[:5]\n",
    "print(\" b  \",type(b))\n",
    "print(b)\n",
    "\n",
    "c = data.trip_distance[1:6]\n",
    "print(\" c  \",type(c))\n",
    "print(c)"
   ]
  },
  {
   "cell_type": "code",
   "execution_count": 47,
   "metadata": {},
   "outputs": [
    {
     "ename": "SyntaxError",
     "evalue": "Missing parentheses in call to 'print' (<ipython-input-47-b9ce6b559042>, line 1)",
     "output_type": "error",
     "traceback": [
      "\u001b[0;36m  File \u001b[0;32m\"<ipython-input-47-b9ce6b559042>\"\u001b[0;36m, line \u001b[0;32m1\u001b[0m\n\u001b[0;31m    print b + c\u001b[0m\n\u001b[0m          ^\u001b[0m\n\u001b[0;31mSyntaxError\u001b[0m\u001b[0;31m:\u001b[0m Missing parentheses in call to 'print'\n"
     ]
    }
   ],
   "source": [
    "print b + c"
   ]
  },
  {
   "cell_type": "code",
   "execution_count": 48,
   "metadata": {
    "collapsed": true
   },
   "outputs": [],
   "source": [
    "##텍스트 다루기"
   ]
  },
  {
   "cell_type": "code",
   "execution_count": 49,
   "metadata": {},
   "outputs": [
    {
     "data": {
      "text/plain": [
       "0    76942C3205E17D7E7FE5A9F709D16434\n",
       "1    517C6B330DBB3F055D007B07512628B3\n",
       "2    ED15611F168E41B33619C83D900FE266\n",
       "Name: medallion, dtype: object"
      ]
     },
     "execution_count": 49,
     "metadata": {},
     "output_type": "execute_result"
    }
   ],
   "source": [
    "data.medallion.head(3)"
   ]
  },
  {
   "cell_type": "code",
   "execution_count": 50,
   "metadata": {},
   "outputs": [
    {
     "data": {
      "text/plain": [
       "0    7694\n",
       "1    517C\n",
       "2    ED15\n",
       "Name: medallion, dtype: object"
      ]
     },
     "execution_count": 50,
     "metadata": {},
     "output_type": "execute_result"
    }
   ],
   "source": [
    "data.medallion.str.slice(0,4).head(3)"
   ]
  },
  {
   "cell_type": "code",
   "execution_count": 51,
   "metadata": {},
   "outputs": [
    {
     "name": "stdout",
     "output_type": "stream",
     "text": [
      "Help on class StringMethods in module pandas.core.strings:\n",
      "\n",
      "class StringMethods(pandas.core.base.NoNewAttributesMixin)\n",
      " |  Vectorized string functions for Series and Index. NAs stay NA unless\n",
      " |  handled otherwise by a particular method. Patterned after Python's string\n",
      " |  methods, with some inspiration from R's stringr package.\n",
      " |  \n",
      " |  Examples\n",
      " |  --------\n",
      " |  >>> s.str.split('_')\n",
      " |  >>> s.str.replace('_', '')\n",
      " |  \n",
      " |  Method resolution order:\n",
      " |      StringMethods\n",
      " |      pandas.core.base.NoNewAttributesMixin\n",
      " |      builtins.object\n",
      " |  \n",
      " |  Methods defined here:\n",
      " |  \n",
      " |  __getitem__(self, key)\n",
      " |  \n",
      " |  __init__(self, data)\n",
      " |      Initialize self.  See help(type(self)) for accurate signature.\n",
      " |  \n",
      " |  __iter__(self)\n",
      " |  \n",
      " |  capitalize lambda self\n",
      " |      Convert strings in the Series/Index to be capitalized.\n",
      " |      Equivalent to :meth:`str.capitalize`.\n",
      " |      \n",
      " |      Returns\n",
      " |      -------\n",
      " |      converted : Series/Index of objects\n",
      " |  \n",
      " |  cat(self, others=None, sep=None, na_rep=None)\n",
      " |      Concatenate strings in the Series/Index with given separator.\n",
      " |      \n",
      " |      Parameters\n",
      " |      ----------\n",
      " |      others : list-like, or list of list-likes\n",
      " |        If None, returns str concatenating strings of the Series\n",
      " |      sep : string or None, default None\n",
      " |      na_rep : string or None, default None\n",
      " |          If None, NA in the series are ignored.\n",
      " |      \n",
      " |      Returns\n",
      " |      -------\n",
      " |      concat : Series/Index of objects or str\n",
      " |      \n",
      " |      Examples\n",
      " |      --------\n",
      " |      When ``na_rep`` is `None` (default behavior), NaN value(s)\n",
      " |      in the Series are ignored.\n",
      " |      \n",
      " |      >>> Series(['a','b',np.nan,'c']).str.cat(sep=' ')\n",
      " |      'a b c'\n",
      " |      \n",
      " |      >>> Series(['a','b',np.nan,'c']).str.cat(sep=' ', na_rep='?')\n",
      " |      'a b ? c'\n",
      " |      \n",
      " |      If ``others`` is specified, corresponding values are\n",
      " |      concatenated with the separator. Result will be a Series of strings.\n",
      " |      \n",
      " |      >>> Series(['a', 'b', 'c']).str.cat(['A', 'B', 'C'], sep=',')\n",
      " |      0    a,A\n",
      " |      1    b,B\n",
      " |      2    c,C\n",
      " |      dtype: object\n",
      " |      \n",
      " |      Otherwise, strings in the Series are concatenated. Result will be a string.\n",
      " |      \n",
      " |      >>> Series(['a', 'b', 'c']).str.cat(sep=',')\n",
      " |      'a,b,c'\n",
      " |      \n",
      " |      Also, you can pass a list of list-likes.\n",
      " |      \n",
      " |      >>> Series(['a', 'b']).str.cat([['x', 'y'], ['1', '2']], sep=',')\n",
      " |      0    a,x,1\n",
      " |      1    b,y,2\n",
      " |      dtype: object\n",
      " |  \n",
      " |  center(self, width, fillchar=' ')\n",
      " |      Filling left and right side of strings in the Series/Index with an\n",
      " |      additional character. Equivalent to :meth:`str.center`.\n",
      " |      \n",
      " |      Parameters\n",
      " |      ----------\n",
      " |      width : int\n",
      " |          Minimum width of resulting string; additional characters will be filled\n",
      " |          with ``fillchar``\n",
      " |      fillchar : str\n",
      " |          Additional character for filling, default is whitespace\n",
      " |      \n",
      " |      Returns\n",
      " |      -------\n",
      " |      filled : Series/Index of objects\n",
      " |  \n",
      " |  contains(self, pat, case=True, flags=0, na=nan, regex=True)\n",
      " |      Return boolean Series/``array`` whether given pattern/regex is\n",
      " |      contained in each string in the Series/Index.\n",
      " |      \n",
      " |      Parameters\n",
      " |      ----------\n",
      " |      pat : string\n",
      " |          Character sequence or regular expression\n",
      " |      case : boolean, default True\n",
      " |          If True, case sensitive\n",
      " |      flags : int, default 0 (no flags)\n",
      " |          re module flags, e.g. re.IGNORECASE\n",
      " |      na : default NaN, fill value for missing values.\n",
      " |      regex : bool, default True\n",
      " |          If True use re.search, otherwise use Python in operator\n",
      " |      \n",
      " |      Returns\n",
      " |      -------\n",
      " |      contained : Series/array of boolean values\n",
      " |      \n",
      " |      See Also\n",
      " |      --------\n",
      " |      match : analogous, but stricter, relying on re.match instead of re.search\n",
      " |  \n",
      " |  count = str_count(self, pat, flags=0, **kwargs)\n",
      " |      Count occurrences of pattern in each string of the Series/Index.\n",
      " |      \n",
      " |      Parameters\n",
      " |      ----------\n",
      " |      pat : string, valid regular expression\n",
      " |      flags : int, default 0 (no flags)\n",
      " |          re module flags, e.g. re.IGNORECASE\n",
      " |      \n",
      " |      Returns\n",
      " |      -------\n",
      " |      counts : Series/Index of integer values\n",
      " |  \n",
      " |  decode(self, encoding, errors='strict')\n",
      " |      Decode character string in the Series/Index using indicated encoding.\n",
      " |      Equivalent to :meth:`str.decode` in python2 and :meth:`bytes.decode` in\n",
      " |      python3.\n",
      " |      \n",
      " |      Parameters\n",
      " |      ----------\n",
      " |      encoding : str\n",
      " |      errors : str, optional\n",
      " |      \n",
      " |      Returns\n",
      " |      -------\n",
      " |      decoded : Series/Index of objects\n",
      " |  \n",
      " |  encode(self, encoding, errors='strict')\n",
      " |      Encode character string in the Series/Index using indicated encoding.\n",
      " |      Equivalent to :meth:`str.encode`.\n",
      " |      \n",
      " |      Parameters\n",
      " |      ----------\n",
      " |      encoding : str\n",
      " |      errors : str, optional\n",
      " |      \n",
      " |      Returns\n",
      " |      -------\n",
      " |      encoded : Series/Index of objects\n",
      " |  \n",
      " |  endswith = str_endswith(self, pat, na=nan)\n",
      " |      Return boolean Series indicating whether each string in the\n",
      " |      Series/Index ends with passed pattern. Equivalent to\n",
      " |      :meth:`str.endswith`.\n",
      " |      \n",
      " |      Parameters\n",
      " |      ----------\n",
      " |      pat : string\n",
      " |          Character sequence\n",
      " |      na : bool, default NaN\n",
      " |      \n",
      " |      Returns\n",
      " |      -------\n",
      " |      endswith : Series/array of boolean values\n",
      " |  \n",
      " |  extract(self, pat, flags=0, expand=None)\n",
      " |      For each subject string in the Series, extract groups from the\n",
      " |      first match of regular expression pat.\n",
      " |      \n",
      " |      .. versionadded:: 0.13.0\n",
      " |      \n",
      " |      Parameters\n",
      " |      ----------\n",
      " |      pat : string\n",
      " |          Regular expression pattern with capturing groups\n",
      " |      flags : int, default 0 (no flags)\n",
      " |          re module flags, e.g. re.IGNORECASE\n",
      " |      \n",
      " |      .. versionadded:: 0.18.0\n",
      " |      expand : bool, default False\n",
      " |          * If True, return DataFrame.\n",
      " |          * If False, return Series/Index/DataFrame.\n",
      " |      \n",
      " |      Returns\n",
      " |      -------\n",
      " |      DataFrame with one row for each subject string, and one column for\n",
      " |      each group. Any capture group names in regular expression pat will\n",
      " |      be used for column names; otherwise capture group numbers will be\n",
      " |      used. The dtype of each result column is always object, even when\n",
      " |      no match is found. If expand=False and pat has only one capture group,\n",
      " |      then return a Series (if subject is a Series) or Index (if subject\n",
      " |      is an Index).\n",
      " |      \n",
      " |      See Also\n",
      " |      --------\n",
      " |      extractall : returns all matches (not just the first match)\n",
      " |      \n",
      " |      Examples\n",
      " |      --------\n",
      " |      A pattern with two groups will return a DataFrame with two columns.\n",
      " |      Non-matches will be NaN.\n",
      " |      \n",
      " |      >>> s = Series(['a1', 'b2', 'c3'])\n",
      " |      >>> s.str.extract('([ab])(\\d)')\n",
      " |           0    1\n",
      " |      0    a    1\n",
      " |      1    b    2\n",
      " |      2  NaN  NaN\n",
      " |      \n",
      " |      A pattern may contain optional groups.\n",
      " |      \n",
      " |      >>> s.str.extract('([ab])?(\\d)')\n",
      " |           0  1\n",
      " |      0    a  1\n",
      " |      1    b  2\n",
      " |      2  NaN  3\n",
      " |      \n",
      " |      Named groups will become column names in the result.\n",
      " |      \n",
      " |      >>> s.str.extract('(?P<letter>[ab])(?P<digit>\\d)')\n",
      " |        letter digit\n",
      " |      0      a     1\n",
      " |      1      b     2\n",
      " |      2    NaN   NaN\n",
      " |      \n",
      " |      A pattern with one group will return a DataFrame with one column\n",
      " |      if expand=True.\n",
      " |      \n",
      " |      >>> s.str.extract('[ab](\\d)', expand=True)\n",
      " |           0\n",
      " |      0    1\n",
      " |      1    2\n",
      " |      2  NaN\n",
      " |      \n",
      " |      A pattern with one group will return a Series if expand=False.\n",
      " |      \n",
      " |      >>> s.str.extract('[ab](\\d)', expand=False)\n",
      " |      0      1\n",
      " |      1      2\n",
      " |      2    NaN\n",
      " |      dtype: object\n",
      " |  \n",
      " |  extractall(self, pat, flags=0)\n",
      " |      For each subject string in the Series, extract groups from all\n",
      " |      matches of regular expression pat. When each subject string in the\n",
      " |      Series has exactly one match, extractall(pat).xs(0, level='match')\n",
      " |      is the same as extract(pat).\n",
      " |      \n",
      " |      .. versionadded:: 0.18.0\n",
      " |      \n",
      " |      Parameters\n",
      " |      ----------\n",
      " |      pat : string\n",
      " |          Regular expression pattern with capturing groups\n",
      " |      flags : int, default 0 (no flags)\n",
      " |          re module flags, e.g. re.IGNORECASE\n",
      " |      \n",
      " |      Returns\n",
      " |      -------\n",
      " |      A DataFrame with one row for each match, and one column for each\n",
      " |      group. Its rows have a MultiIndex with first levels that come from\n",
      " |      the subject Series. The last level is named 'match' and indicates\n",
      " |      the order in the subject. Any capture group names in regular\n",
      " |      expression pat will be used for column names; otherwise capture\n",
      " |      group numbers will be used.\n",
      " |      \n",
      " |      See Also\n",
      " |      --------\n",
      " |      extract : returns first match only (not all matches)\n",
      " |      \n",
      " |      Examples\n",
      " |      --------\n",
      " |      A pattern with one group will return a DataFrame with one column.\n",
      " |      Indices with no matches will not appear in the result.\n",
      " |      \n",
      " |      >>> s = Series([\"a1a2\", \"b1\", \"c1\"], index=[\"A\", \"B\", \"C\"])\n",
      " |      >>> s.str.extractall(\"[ab](\\d)\")\n",
      " |               0\n",
      " |        match\n",
      " |      A 0      1\n",
      " |        1      2\n",
      " |      B 0      1\n",
      " |      \n",
      " |      Capture group names are used for column names of the result.\n",
      " |      \n",
      " |      >>> s.str.extractall(\"[ab](?P<digit>\\d)\")\n",
      " |              digit\n",
      " |        match\n",
      " |      A 0         1\n",
      " |        1         2\n",
      " |      B 0         1\n",
      " |      \n",
      " |      A pattern with two groups will return a DataFrame with two columns.\n",
      " |      \n",
      " |      >>> s.str.extractall(\"(?P<letter>[ab])(?P<digit>\\d)\")\n",
      " |              letter digit\n",
      " |        match\n",
      " |      A 0          a     1\n",
      " |        1          a     2\n",
      " |      B 0          b     1\n",
      " |      \n",
      " |      Optional groups that do not match are NaN in the result.\n",
      " |      \n",
      " |      >>> s.str.extractall(\"(?P<letter>[ab])?(?P<digit>\\d)\")\n",
      " |              letter digit\n",
      " |        match\n",
      " |      A 0          a     1\n",
      " |        1          a     2\n",
      " |      B 0          b     1\n",
      " |      C 0        NaN     1\n",
      " |  \n",
      " |  find(self, sub, start=0, end=None)\n",
      " |      Return lowest indexes in each strings in the Series/Index\n",
      " |      where the substring is fully contained between [start:end].\n",
      " |      Return -1 on failure. Equivalent to standard :meth:`str.find`.\n",
      " |      \n",
      " |      Parameters\n",
      " |      ----------\n",
      " |      sub : str\n",
      " |          Substring being searched\n",
      " |      start : int\n",
      " |          Left edge index\n",
      " |      end : int\n",
      " |          Right edge index\n",
      " |      \n",
      " |      Returns\n",
      " |      -------\n",
      " |      found : Series/Index of integer values\n",
      " |      \n",
      " |      See Also\n",
      " |      --------\n",
      " |      rfind : Return highest indexes in each strings\n",
      " |  \n",
      " |  findall = str_findall(self, pat, flags=0, **kwargs)\n",
      " |      Find all occurrences of pattern or regular expression in the\n",
      " |      Series/Index. Equivalent to :func:`re.findall`.\n",
      " |      \n",
      " |      Parameters\n",
      " |      ----------\n",
      " |      pat : string\n",
      " |          Pattern or regular expression\n",
      " |      flags : int, default 0 (no flags)\n",
      " |          re module flags, e.g. re.IGNORECASE\n",
      " |      \n",
      " |      Returns\n",
      " |      -------\n",
      " |      matches : Series/Index of lists\n",
      " |      \n",
      " |      See Also\n",
      " |      --------\n",
      " |      extractall : returns DataFrame with one column per capture group\n",
      " |  \n",
      " |  get(self, i)\n",
      " |      Extract element from lists, tuples, or strings in each element in the\n",
      " |      Series/Index.\n",
      " |      \n",
      " |      Parameters\n",
      " |      ----------\n",
      " |      i : int\n",
      " |          Integer index (location)\n",
      " |      \n",
      " |      Returns\n",
      " |      -------\n",
      " |      items : Series/Index of objects\n",
      " |  \n",
      " |  get_dummies(self, sep='|')\n",
      " |      Split each string in the Series by sep and return a frame of\n",
      " |      dummy/indicator variables.\n",
      " |      \n",
      " |      Parameters\n",
      " |      ----------\n",
      " |      sep : string, default \"|\"\n",
      " |          String to split on.\n",
      " |      \n",
      " |      Returns\n",
      " |      -------\n",
      " |      dummies : DataFrame\n",
      " |      \n",
      " |      Examples\n",
      " |      --------\n",
      " |      >>> Series(['a|b', 'a', 'a|c']).str.get_dummies()\n",
      " |         a  b  c\n",
      " |      0  1  1  0\n",
      " |      1  1  0  0\n",
      " |      2  1  0  1\n",
      " |      \n",
      " |      >>> Series(['a|b', np.nan, 'a|c']).str.get_dummies()\n",
      " |         a  b  c\n",
      " |      0  1  1  0\n",
      " |      1  0  0  0\n",
      " |      2  1  0  1\n",
      " |      \n",
      " |      See Also\n",
      " |      --------\n",
      " |      pandas.get_dummies\n",
      " |  \n",
      " |  index(self, sub, start=0, end=None)\n",
      " |      Return lowest indexes in each strings where the substring is\n",
      " |      fully contained between [start:end]. This is the same as\n",
      " |      ``str.find`` except instead of returning -1, it raises a ValueError\n",
      " |      when the substring is not found. Equivalent to standard ``str.index``.\n",
      " |      \n",
      " |      Parameters\n",
      " |      ----------\n",
      " |      sub : str\n",
      " |          Substring being searched\n",
      " |      start : int\n",
      " |          Left edge index\n",
      " |      end : int\n",
      " |          Right edge index\n",
      " |      \n",
      " |      Returns\n",
      " |      -------\n",
      " |      found : Series/Index of objects\n",
      " |      \n",
      " |      See Also\n",
      " |      --------\n",
      " |      rindex : Return highest indexes in each strings\n",
      " |  \n",
      " |  isalnum lambda self\n",
      " |      Check whether all characters in each string in the Series/Index\n",
      " |      are alphanumeric. Equivalent to :meth:`str.isalnum`.\n",
      " |      \n",
      " |      Returns\n",
      " |      -------\n",
      " |      is : Series/array of boolean values\n",
      " |  \n",
      " |  isalpha lambda self\n",
      " |      Check whether all characters in each string in the Series/Index\n",
      " |      are alphabetic. Equivalent to :meth:`str.isalpha`.\n",
      " |      \n",
      " |      Returns\n",
      " |      -------\n",
      " |      is : Series/array of boolean values\n",
      " |  \n",
      " |  isdecimal lambda self\n",
      " |      Check whether all characters in each string in the Series/Index\n",
      " |      are decimal. Equivalent to :meth:`str.isdecimal`.\n",
      " |      \n",
      " |      Returns\n",
      " |      -------\n",
      " |      is : Series/array of boolean values\n",
      " |  \n",
      " |  isdigit lambda self\n",
      " |      Check whether all characters in each string in the Series/Index\n",
      " |      are digits. Equivalent to :meth:`str.isdigit`.\n",
      " |      \n",
      " |      Returns\n",
      " |      -------\n",
      " |      is : Series/array of boolean values\n",
      " |  \n",
      " |  islower lambda self\n",
      " |      Check whether all characters in each string in the Series/Index\n",
      " |      are lowercase. Equivalent to :meth:`str.islower`.\n",
      " |      \n",
      " |      Returns\n",
      " |      -------\n",
      " |      is : Series/array of boolean values\n",
      " |  \n",
      " |  isnumeric lambda self\n",
      " |      Check whether all characters in each string in the Series/Index\n",
      " |      are numeric. Equivalent to :meth:`str.isnumeric`.\n",
      " |      \n",
      " |      Returns\n",
      " |      -------\n",
      " |      is : Series/array of boolean values\n",
      " |  \n",
      " |  isspace lambda self\n",
      " |      Check whether all characters in each string in the Series/Index\n",
      " |      are whitespace. Equivalent to :meth:`str.isspace`.\n",
      " |      \n",
      " |      Returns\n",
      " |      -------\n",
      " |      is : Series/array of boolean values\n",
      " |  \n",
      " |  istitle lambda self\n",
      " |      Check whether all characters in each string in the Series/Index\n",
      " |      are titlecase. Equivalent to :meth:`str.istitle`.\n",
      " |      \n",
      " |      Returns\n",
      " |      -------\n",
      " |      is : Series/array of boolean values\n",
      " |  \n",
      " |  isupper lambda self\n",
      " |      Check whether all characters in each string in the Series/Index\n",
      " |      are uppercase. Equivalent to :meth:`str.isupper`.\n",
      " |      \n",
      " |      Returns\n",
      " |      -------\n",
      " |      is : Series/array of boolean values\n",
      " |  \n",
      " |  join(self, sep)\n",
      " |      Join lists contained as elements in the Series/Index with\n",
      " |      passed delimiter. Equivalent to :meth:`str.join`.\n",
      " |      \n",
      " |      Parameters\n",
      " |      ----------\n",
      " |      sep : string\n",
      " |          Delimiter\n",
      " |      \n",
      " |      Returns\n",
      " |      -------\n",
      " |      joined : Series/Index of objects\n",
      " |  \n",
      " |  len(self)\n",
      " |      Compute length of each string in the Series/Index.\n",
      " |      \n",
      " |      Returns\n",
      " |      -------\n",
      " |      lengths : Series/Index of integer values\n",
      " |  \n",
      " |  ljust(self, width, fillchar=' ')\n",
      " |      Filling right side of strings in the Series/Index with an\n",
      " |      additional character. Equivalent to :meth:`str.ljust`.\n",
      " |      \n",
      " |      Parameters\n",
      " |      ----------\n",
      " |      width : int\n",
      " |          Minimum width of resulting string; additional characters will be filled\n",
      " |          with ``fillchar``\n",
      " |      fillchar : str\n",
      " |          Additional character for filling, default is whitespace\n",
      " |      \n",
      " |      Returns\n",
      " |      -------\n",
      " |      filled : Series/Index of objects\n",
      " |  \n",
      " |  lower lambda self\n",
      " |      Convert strings in the Series/Index to lowercase.\n",
      " |      Equivalent to :meth:`str.lower`.\n",
      " |      \n",
      " |      Returns\n",
      " |      -------\n",
      " |      converted : Series/Index of objects\n",
      " |  \n",
      " |  lstrip(self, to_strip=None)\n",
      " |      Strip whitespace (including newlines) from each string in the\n",
      " |      Series/Index from left side. Equivalent to :meth:`str.lstrip`.\n",
      " |      \n",
      " |      Returns\n",
      " |      -------\n",
      " |      stripped : Series/Index of objects\n",
      " |  \n",
      " |  match(self, pat, case=True, flags=0, na=nan, as_indexer=None)\n",
      " |      Determine if each string matches a regular expression.\n",
      " |      \n",
      " |      Parameters\n",
      " |      ----------\n",
      " |      pat : string\n",
      " |          Character sequence or regular expression\n",
      " |      case : boolean, default True\n",
      " |          If True, case sensitive\n",
      " |      flags : int, default 0 (no flags)\n",
      " |          re module flags, e.g. re.IGNORECASE\n",
      " |      na : default NaN, fill value for missing values.\n",
      " |      as_indexer : DEPRECATED\n",
      " |      \n",
      " |      Returns\n",
      " |      -------\n",
      " |      Series/array of boolean values\n",
      " |      \n",
      " |      See Also\n",
      " |      --------\n",
      " |      contains : analogous, but less strict, relying on re.search instead of\n",
      " |          re.match\n",
      " |      extract : extract matched groups\n",
      " |  \n",
      " |  normalize(self, form)\n",
      " |      Return the Unicode normal form for the strings in the Series/Index.\n",
      " |      For more information on the forms, see the\n",
      " |      :func:`unicodedata.normalize`.\n",
      " |      \n",
      " |      Parameters\n",
      " |      ----------\n",
      " |      form : {'NFC', 'NFKC', 'NFD', 'NFKD'}\n",
      " |          Unicode form\n",
      " |      \n",
      " |      Returns\n",
      " |      -------\n",
      " |      normalized : Series/Index of objects\n",
      " |  \n",
      " |  pad(self, width, side='left', fillchar=' ')\n",
      " |      Pad strings in the Series/Index with an additional character to\n",
      " |      specified side.\n",
      " |      \n",
      " |      Parameters\n",
      " |      ----------\n",
      " |      width : int\n",
      " |          Minimum width of resulting string; additional characters will be filled\n",
      " |          with spaces\n",
      " |      side : {'left', 'right', 'both'}, default 'left'\n",
      " |      fillchar : str\n",
      " |          Additional character for filling, default is whitespace\n",
      " |      \n",
      " |      Returns\n",
      " |      -------\n",
      " |      padded : Series/Index of objects\n",
      " |  \n",
      " |  partition(self, pat=' ', expand=True)\n",
      " |      Split the string at the first occurrence of `sep`, and return 3 elements\n",
      " |      containing the part before the separator, the separator itself,\n",
      " |      and the part after the separator.\n",
      " |      If the separator is not found, return 3 elements containing the string itself, followed by two empty strings.\n",
      " |      \n",
      " |      Parameters\n",
      " |      ----------\n",
      " |      pat : string, default whitespace\n",
      " |          String to split on.\n",
      " |      expand : bool, default True\n",
      " |          * If True, return DataFrame/MultiIndex expanding dimensionality.\n",
      " |          * If False, return Series/Index.\n",
      " |      \n",
      " |      Returns\n",
      " |      -------\n",
      " |      split : DataFrame/MultiIndex or Series/Index of objects\n",
      " |      \n",
      " |      See Also\n",
      " |      --------\n",
      " |      rpartition : Split the string at the last occurrence of `sep`\n",
      " |      \n",
      " |      Examples\n",
      " |      --------\n",
      " |      \n",
      " |      >>> s = Series(['A_B_C', 'D_E_F', 'X'])\n",
      " |      0    A_B_C\n",
      " |      1    D_E_F\n",
      " |      2        X\n",
      " |      dtype: object\n",
      " |      \n",
      " |      >>> s.str.partition('_')\n",
      " |         0  1    2\n",
      " |      0  A  _  B_C\n",
      " |      1  D  _  E_F\n",
      " |      2  X\n",
      " |      \n",
      " |      >>> s.str.rpartition('_')\n",
      " |           0  1  2\n",
      " |      0  A_B  _  C\n",
      " |      1  D_E  _  F\n",
      " |      2          X\n",
      " |  \n",
      " |  repeat(self, repeats)\n",
      " |      Duplicate each string in the Series/Index by indicated number\n",
      " |      of times.\n",
      " |      \n",
      " |      Parameters\n",
      " |      ----------\n",
      " |      repeats : int or array\n",
      " |          Same value for all (int) or different value per (array)\n",
      " |      \n",
      " |      Returns\n",
      " |      -------\n",
      " |      repeated : Series/Index of objects\n",
      " |  \n",
      " |  replace(self, pat, repl, n=-1, case=None, flags=0)\n",
      " |      Replace occurrences of pattern/regex in the Series/Index with\n",
      " |      some other string. Equivalent to :meth:`str.replace` or\n",
      " |      :func:`re.sub`.\n",
      " |      \n",
      " |      Parameters\n",
      " |      ----------\n",
      " |      pat : string or compiled regex\n",
      " |          String can be a character sequence or regular expression.\n",
      " |      \n",
      " |          .. versionadded:: 0.20.0\n",
      " |              `pat` also accepts a compiled regex.\n",
      " |      \n",
      " |      repl : string or callable\n",
      " |          Replacement string or a callable. The callable is passed the regex\n",
      " |          match object and must return a replacement string to be used.\n",
      " |          See :func:`re.sub`.\n",
      " |      \n",
      " |          .. versionadded:: 0.20.0\n",
      " |              `repl` also accepts a callable.\n",
      " |      \n",
      " |      n : int, default -1 (all)\n",
      " |          Number of replacements to make from start\n",
      " |      case : boolean, default None\n",
      " |          - If True, case sensitive (the default if `pat` is a string)\n",
      " |          - Set to False for case insensitive\n",
      " |          - Cannot be set if `pat` is a compiled regex\n",
      " |      flags : int, default 0 (no flags)\n",
      " |          - re module flags, e.g. re.IGNORECASE\n",
      " |          - Cannot be set if `pat` is a compiled regex\n",
      " |      \n",
      " |      Returns\n",
      " |      -------\n",
      " |      replaced : Series/Index of objects\n",
      " |      \n",
      " |      Notes\n",
      " |      -----\n",
      " |      When `pat` is a compiled regex, all flags should be included in the\n",
      " |      compiled regex. Use of `case` or `flags` with a compiled regex will\n",
      " |      raise an error.\n",
      " |      \n",
      " |      Examples\n",
      " |      --------\n",
      " |      When `repl` is a string, every `pat` is replaced as with\n",
      " |      :meth:`str.replace`. NaN value(s) in the Series are left as is.\n",
      " |      \n",
      " |      >>> pd.Series(['foo', 'fuz', np.nan]).str.replace('f', 'b')\n",
      " |      0    boo\n",
      " |      1    buz\n",
      " |      2    NaN\n",
      " |      dtype: object\n",
      " |      \n",
      " |      When `repl` is a callable, it is called on every `pat` using\n",
      " |      :func:`re.sub`. The callable should expect one positional argument\n",
      " |      (a regex object) and return a string.\n",
      " |      \n",
      " |      To get the idea:\n",
      " |      \n",
      " |      >>> pd.Series(['foo', 'fuz', np.nan]).str.replace('f', repr)\n",
      " |      0    <_sre.SRE_Match object; span=(0, 1), match='f'>oo\n",
      " |      1    <_sre.SRE_Match object; span=(0, 1), match='f'>uz\n",
      " |      2                                                  NaN\n",
      " |      dtype: object\n",
      " |      \n",
      " |      Reverse every lowercase alphabetic word:\n",
      " |      \n",
      " |      >>> repl = lambda m: m.group(0)[::-1]\n",
      " |      >>> pd.Series(['foo 123', 'bar baz', np.nan]).str.replace(r'[a-z]+', repl)\n",
      " |      0    oof 123\n",
      " |      1    rab zab\n",
      " |      2        NaN\n",
      " |      dtype: object\n",
      " |      \n",
      " |      Using regex groups (extract second group and swap case):\n",
      " |      \n",
      " |      >>> pat = r\"(?P<one>\\w+) (?P<two>\\w+) (?P<three>\\w+)\"\n",
      " |      >>> repl = lambda m: m.group('two').swapcase()\n",
      " |      >>> pd.Series(['One Two Three', 'Foo Bar Baz']).str.replace(pat, repl)\n",
      " |      0    tWO\n",
      " |      1    bAR\n",
      " |      dtype: object\n",
      " |      \n",
      " |      Using a compiled regex with flags\n",
      " |      \n",
      " |      >>> regex_pat = re.compile(r'FUZ', flags=re.IGNORECASE)\n",
      " |      >>> pd.Series(['foo', 'fuz', np.nan]).str.replace(regex_pat, 'bar')\n",
      " |      0    foo\n",
      " |      1    bar\n",
      " |      2    NaN\n",
      " |      dtype: object\n",
      " |  \n",
      " |  rfind(self, sub, start=0, end=None)\n",
      " |      Return highest indexes in each strings in the Series/Index\n",
      " |      where the substring is fully contained between [start:end].\n",
      " |      Return -1 on failure. Equivalent to standard :meth:`str.rfind`.\n",
      " |      \n",
      " |      Parameters\n",
      " |      ----------\n",
      " |      sub : str\n",
      " |          Substring being searched\n",
      " |      start : int\n",
      " |          Left edge index\n",
      " |      end : int\n",
      " |          Right edge index\n",
      " |      \n",
      " |      Returns\n",
      " |      -------\n",
      " |      found : Series/Index of integer values\n",
      " |      \n",
      " |      See Also\n",
      " |      --------\n",
      " |      find : Return lowest indexes in each strings\n",
      " |  \n",
      " |  rindex(self, sub, start=0, end=None)\n",
      " |      Return highest indexes in each strings where the substring is\n",
      " |      fully contained between [start:end]. This is the same as\n",
      " |      ``str.rfind`` except instead of returning -1, it raises a ValueError\n",
      " |      when the substring is not found. Equivalent to standard ``str.rindex``.\n",
      " |      \n",
      " |      Parameters\n",
      " |      ----------\n",
      " |      sub : str\n",
      " |          Substring being searched\n",
      " |      start : int\n",
      " |          Left edge index\n",
      " |      end : int\n",
      " |          Right edge index\n",
      " |      \n",
      " |      Returns\n",
      " |      -------\n",
      " |      found : Series/Index of objects\n",
      " |      \n",
      " |      See Also\n",
      " |      --------\n",
      " |      index : Return lowest indexes in each strings\n",
      " |  \n",
      " |  rjust(self, width, fillchar=' ')\n",
      " |      Filling left side of strings in the Series/Index with an\n",
      " |      additional character. Equivalent to :meth:`str.rjust`.\n",
      " |      \n",
      " |      Parameters\n",
      " |      ----------\n",
      " |      width : int\n",
      " |          Minimum width of resulting string; additional characters will be filled\n",
      " |          with ``fillchar``\n",
      " |      fillchar : str\n",
      " |          Additional character for filling, default is whitespace\n",
      " |      \n",
      " |      Returns\n",
      " |      -------\n",
      " |      filled : Series/Index of objects\n",
      " |  \n",
      " |  rpartition(self, pat=' ', expand=True)\n",
      " |      Split the string at the last occurrence of `sep`, and return 3 elements\n",
      " |      containing the part before the separator, the separator itself,\n",
      " |      and the part after the separator.\n",
      " |      If the separator is not found, return 3 elements containing two empty strings, followed by the string itself.\n",
      " |      \n",
      " |      Parameters\n",
      " |      ----------\n",
      " |      pat : string, default whitespace\n",
      " |          String to split on.\n",
      " |      expand : bool, default True\n",
      " |          * If True, return DataFrame/MultiIndex expanding dimensionality.\n",
      " |          * If False, return Series/Index.\n",
      " |      \n",
      " |      Returns\n",
      " |      -------\n",
      " |      split : DataFrame/MultiIndex or Series/Index of objects\n",
      " |      \n",
      " |      See Also\n",
      " |      --------\n",
      " |      partition : Split the string at the first occurrence of `sep`\n",
      " |      \n",
      " |      Examples\n",
      " |      --------\n",
      " |      \n",
      " |      >>> s = Series(['A_B_C', 'D_E_F', 'X'])\n",
      " |      0    A_B_C\n",
      " |      1    D_E_F\n",
      " |      2        X\n",
      " |      dtype: object\n",
      " |      \n",
      " |      >>> s.str.partition('_')\n",
      " |         0  1    2\n",
      " |      0  A  _  B_C\n",
      " |      1  D  _  E_F\n",
      " |      2  X\n",
      " |      \n",
      " |      >>> s.str.rpartition('_')\n",
      " |           0  1  2\n",
      " |      0  A_B  _  C\n",
      " |      1  D_E  _  F\n",
      " |      2          X\n",
      " |  \n",
      " |  rsplit(self, pat=None, n=-1, expand=False)\n",
      " |      Split each string in the Series/Index by the given delimiter\n",
      " |      string, starting at the end of the string and working to the front.\n",
      " |      Equivalent to :meth:`str.rsplit`.\n",
      " |      \n",
      " |      .. versionadded:: 0.16.2\n",
      " |      \n",
      " |      Parameters\n",
      " |      ----------\n",
      " |      pat : string, default None\n",
      " |          Separator to split on. If None, splits on whitespace\n",
      " |      n : int, default -1 (all)\n",
      " |          None, 0 and -1 will be interpreted as return all splits\n",
      " |      expand : bool, default False\n",
      " |          * If True, return DataFrame/MultiIndex expanding dimensionality.\n",
      " |          * If False, return Series/Index.\n",
      " |      \n",
      " |      Returns\n",
      " |      -------\n",
      " |      split : Series/Index or DataFrame/MultiIndex of objects\n",
      " |  \n",
      " |  rstrip(self, to_strip=None)\n",
      " |      Strip whitespace (including newlines) from each string in the\n",
      " |      Series/Index from right side. Equivalent to :meth:`str.rstrip`.\n",
      " |      \n",
      " |      Returns\n",
      " |      -------\n",
      " |      stripped : Series/Index of objects\n",
      " |  \n",
      " |  slice(self, start=None, stop=None, step=None)\n",
      " |      Slice substrings from each element in the Series/Index\n",
      " |      \n",
      " |      Parameters\n",
      " |      ----------\n",
      " |      start : int or None\n",
      " |      stop : int or None\n",
      " |      step : int or None\n",
      " |      \n",
      " |      Returns\n",
      " |      -------\n",
      " |      sliced : Series/Index of objects\n",
      " |  \n",
      " |  slice_replace(self, start=None, stop=None, repl=None)\n",
      " |      Replace a slice of each string in the Series/Index with another\n",
      " |      string.\n",
      " |      \n",
      " |      Parameters\n",
      " |      ----------\n",
      " |      start : int or None\n",
      " |      stop : int or None\n",
      " |      repl : str or None\n",
      " |          String for replacement\n",
      " |      \n",
      " |      Returns\n",
      " |      -------\n",
      " |      replaced : Series/Index of objects\n",
      " |  \n",
      " |  split(self, pat=None, n=-1, expand=False)\n",
      " |      Split each string (a la re.split) in the Series/Index by given\n",
      " |      pattern, propagating NA values. Equivalent to :meth:`str.split`.\n",
      " |      \n",
      " |      Parameters\n",
      " |      ----------\n",
      " |      pat : string, default None\n",
      " |          String or regular expression to split on. If None, splits on whitespace\n",
      " |      n : int, default -1 (all)\n",
      " |          None, 0 and -1 will be interpreted as return all splits\n",
      " |      expand : bool, default False\n",
      " |          * If True, return DataFrame/MultiIndex expanding dimensionality.\n",
      " |          * If False, return Series/Index.\n",
      " |      \n",
      " |          .. versionadded:: 0.16.1\n",
      " |      return_type : deprecated, use `expand`\n",
      " |      \n",
      " |      Returns\n",
      " |      -------\n",
      " |      split : Series/Index or DataFrame/MultiIndex of objects\n",
      " |  \n",
      " |  startswith = str_startswith(self, pat, na=nan)\n",
      " |      Return boolean Series/``array`` indicating whether each string in the\n",
      " |      Series/Index starts with passed pattern. Equivalent to\n",
      " |      :meth:`str.startswith`.\n",
      " |      \n",
      " |      Parameters\n",
      " |      ----------\n",
      " |      pat : string\n",
      " |          Character sequence\n",
      " |      na : bool, default NaN\n",
      " |      \n",
      " |      Returns\n",
      " |      -------\n",
      " |      startswith : Series/array of boolean values\n",
      " |  \n",
      " |  strip(self, to_strip=None)\n",
      " |      Strip whitespace (including newlines) from each string in the\n",
      " |      Series/Index from left and right sides. Equivalent to :meth:`str.strip`.\n",
      " |      \n",
      " |      Returns\n",
      " |      -------\n",
      " |      stripped : Series/Index of objects\n",
      " |  \n",
      " |  swapcase lambda self\n",
      " |      Convert strings in the Series/Index to be swapcased.\n",
      " |      Equivalent to :meth:`str.swapcase`.\n",
      " |      \n",
      " |      Returns\n",
      " |      -------\n",
      " |      converted : Series/Index of objects\n",
      " |  \n",
      " |  title lambda self\n",
      " |      Convert strings in the Series/Index to titlecase.\n",
      " |      Equivalent to :meth:`str.title`.\n",
      " |      \n",
      " |      Returns\n",
      " |      -------\n",
      " |      converted : Series/Index of objects\n",
      " |  \n",
      " |  translate(self, table, deletechars=None)\n",
      " |      Map all characters in the string through the given mapping table.\n",
      " |      Equivalent to standard :meth:`str.translate`. Note that the optional\n",
      " |      argument deletechars is only valid if you are using python 2. For python 3,\n",
      " |      character deletion should be specified via the table argument.\n",
      " |      \n",
      " |      Parameters\n",
      " |      ----------\n",
      " |      table : dict (python 3), str or None (python 2)\n",
      " |          In python 3, table is a mapping of Unicode ordinals to Unicode\n",
      " |          ordinals, strings, or None. Unmapped characters are left untouched.\n",
      " |          Characters mapped to None are deleted. :meth:`str.maketrans` is a\n",
      " |          helper function for making translation tables.\n",
      " |          In python 2, table is either a string of length 256 or None. If the\n",
      " |          table argument is None, no translation is applied and the operation\n",
      " |          simply removes the characters in deletechars. :func:`string.maketrans`\n",
      " |          is a helper function for making translation tables.\n",
      " |      deletechars : str, optional (python 2)\n",
      " |          A string of characters to delete. This argument is only valid\n",
      " |          in python 2.\n",
      " |      \n",
      " |      Returns\n",
      " |      -------\n",
      " |      translated : Series/Index of objects\n",
      " |  \n",
      " |  upper lambda self\n",
      " |      Convert strings in the Series/Index to uppercase.\n",
      " |      Equivalent to :meth:`str.upper`.\n",
      " |      \n",
      " |      Returns\n",
      " |      -------\n",
      " |      converted : Series/Index of objects\n",
      " |  \n",
      " |  wrap(self, width, **kwargs)\n",
      " |      Wrap long strings in the Series/Index to be formatted in\n",
      " |      paragraphs with length less than a given width.\n",
      " |      \n",
      " |      This method has the same keyword parameters and defaults as\n",
      " |      :class:`textwrap.TextWrapper`.\n",
      " |      \n",
      " |      Parameters\n",
      " |      ----------\n",
      " |      width : int\n",
      " |          Maximum line-width\n",
      " |      expand_tabs : bool, optional\n",
      " |          If true, tab characters will be expanded to spaces (default: True)\n",
      " |      replace_whitespace : bool, optional\n",
      " |          If true, each whitespace character (as defined by string.whitespace)\n",
      " |          remaining after tab expansion will be replaced by a single space\n",
      " |          (default: True)\n",
      " |      drop_whitespace : bool, optional\n",
      " |          If true, whitespace that, after wrapping, happens to end up at the\n",
      " |          beginning or end of a line is dropped (default: True)\n",
      " |      break_long_words : bool, optional\n",
      " |          If true, then words longer than width will be broken in order to ensure\n",
      " |          that no lines are longer than width. If it is false, long words will\n",
      " |          not be broken, and some lines may be longer than width. (default: True)\n",
      " |      break_on_hyphens : bool, optional\n",
      " |          If true, wrapping will occur preferably on whitespace and right after\n",
      " |          hyphens in compound words, as it is customary in English. If false,\n",
      " |          only whitespaces will be considered as potentially good places for line\n",
      " |          breaks, but you need to set break_long_words to false if you want truly\n",
      " |          insecable words. (default: True)\n",
      " |      \n",
      " |      Returns\n",
      " |      -------\n",
      " |      wrapped : Series/Index of objects\n",
      " |      \n",
      " |      Notes\n",
      " |      -----\n",
      " |      Internally, this method uses a :class:`textwrap.TextWrapper` instance with\n",
      " |      default settings. To achieve behavior matching R's stringr library str_wrap\n",
      " |      function, use the arguments:\n",
      " |      \n",
      " |      - expand_tabs = False\n",
      " |      - replace_whitespace = True\n",
      " |      - drop_whitespace = True\n",
      " |      - break_long_words = False\n",
      " |      - break_on_hyphens = False\n",
      " |      \n",
      " |      Examples\n",
      " |      --------\n",
      " |      \n",
      " |      >>> s = pd.Series(['line to be wrapped', 'another line to be wrapped'])\n",
      " |      >>> s.str.wrap(12)\n",
      " |      0             line to be\\nwrapped\n",
      " |      1    another line\\nto be\\nwrapped\n",
      " |  \n",
      " |  zfill(self, width)\n",
      " |      Filling left side of strings in the Series/Index with 0.\n",
      " |      Equivalent to :meth:`str.zfill`.\n",
      " |      \n",
      " |      Parameters\n",
      " |      ----------\n",
      " |      width : int\n",
      " |          Minimum width of resulting string; additional characters will be\n",
      " |          filled with 0\n",
      " |      \n",
      " |      Returns\n",
      " |      -------\n",
      " |      filled : Series/Index of objects\n",
      " |  \n",
      " |  ----------------------------------------------------------------------\n",
      " |  Methods inherited from pandas.core.base.NoNewAttributesMixin:\n",
      " |  \n",
      " |  __setattr__(self, key, value)\n",
      " |      Implement setattr(self, name, value).\n",
      " |  \n",
      " |  ----------------------------------------------------------------------\n",
      " |  Data descriptors inherited from pandas.core.base.NoNewAttributesMixin:\n",
      " |  \n",
      " |  __dict__\n",
      " |      dictionary for instance variables (if defined)\n",
      " |  \n",
      " |  __weakref__\n",
      " |      list of weak references to the object (if defined)\n",
      "\n"
     ]
    }
   ],
   "source": [
    "help(pd.Series.str)"
   ]
  },
  {
   "cell_type": "markdown",
   "metadata": {},
   "source": [
    "## 날짜와 시간 다루기\n",
    "\n",
    "Series.dt.dayorweek를 가지고 요일을 체크\n",
    "\n",
    "Series.dt.day로 날짜를 체크\n"
   ]
  },
  {
   "cell_type": "code",
   "execution_count": 83,
   "metadata": {},
   "outputs": [
    {
     "name": "stdout",
     "output_type": "stream",
     "text": [
      "Help on property:\n",
      "\n",
      "    The day of the week with Monday=0, Sunday=6\n",
      "\n"
     ]
    }
   ],
   "source": [
    "help(pd.Series.dt.dayofweek)"
   ]
  },
  {
   "cell_type": "code",
   "execution_count": 84,
   "metadata": {},
   "outputs": [
    {
     "name": "stdout",
     "output_type": "stream",
     "text": [
      "Help on property:\n",
      "\n",
      "    The days of the datetime\n",
      "\n"
     ]
    }
   ],
   "source": [
    "help(pd.Series.dt.day)"
   ]
  },
  {
   "cell_type": "code",
   "execution_count": 78,
   "metadata": {},
   "outputs": [
    {
     "data": {
      "text/plain": [
       "pandas.core.series.Series"
      ]
     },
     "execution_count": 78,
     "metadata": {},
     "output_type": "execute_result"
    }
   ],
   "source": [
    "type(data.pickup_datetime)"
   ]
  },
  {
   "cell_type": "code",
   "execution_count": 76,
   "metadata": {},
   "outputs": [
    {
     "data": {
      "text/plain": [
       "<pandas.tseries.common.DatetimeProperties object at 0x7f80e1d83c10>"
      ]
     },
     "execution_count": 76,
     "metadata": {},
     "output_type": "execute_result"
    }
   ],
   "source": [
    "data.pickup_datetime.dt"
   ]
  },
  {
   "cell_type": "code",
   "execution_count": 81,
   "metadata": {},
   "outputs": [
    {
     "data": {
      "text/plain": [
       "0    1\n",
       "1    1\n",
       "2    1\n",
       "3    1\n",
       "4    1\n",
       "5    1\n",
       "6    1\n",
       "7    1\n",
       "8    1\n",
       "9    1\n",
       "Name: pickup_datetime, dtype: int64"
      ]
     },
     "execution_count": 81,
     "metadata": {},
     "output_type": "execute_result"
    }
   ],
   "source": [
    "data.pickup_datetime.dt.dayofweek[:10]"
   ]
  },
  {
   "cell_type": "code",
   "execution_count": 87,
   "metadata": {},
   "outputs": [
    {
     "name": "stdout",
     "output_type": "stream",
     "text": [
      "7716\n"
     ]
    },
    {
     "data": {
      "text/html": [
       "<div>\n",
       "<table border=\"1\" class=\"dataframe\">\n",
       "  <thead>\n",
       "    <tr style=\"text-align: right;\">\n",
       "      <th></th>\n",
       "      <th>medallion</th>\n",
       "      <th>hack_license</th>\n",
       "      <th>vendor_id</th>\n",
       "      <th>rate_code</th>\n",
       "      <th>store_and_fwd_flag</th>\n",
       "      <th>pickup_datetime</th>\n",
       "      <th>dropoff_datetime</th>\n",
       "      <th>passenger_count</th>\n",
       "      <th>trip_time_in_secs</th>\n",
       "      <th>trip_distance</th>\n",
       "      <th>pickup_longitude</th>\n",
       "      <th>pickup_latitude</th>\n",
       "      <th>dropoff_longitude</th>\n",
       "      <th>dropoff_latitude</th>\n",
       "      <th>trip_time_in_mins</th>\n",
       "    </tr>\n",
       "  </thead>\n",
       "  <tbody>\n",
       "    <tr>\n",
       "      <th>2005</th>\n",
       "      <td>6385CA8C99985BFBAFB477A9BDFA28C9</td>\n",
       "      <td>08A78365909D2F09BF72B869C0B21FED</td>\n",
       "      <td>VTS</td>\n",
       "      <td>1</td>\n",
       "      <td>NaN</td>\n",
       "      <td>2013-01-01 23:45:00</td>\n",
       "      <td>2013-01-02 00:03:00</td>\n",
       "      <td>1</td>\n",
       "      <td>1080</td>\n",
       "      <td>12.61</td>\n",
       "      <td>-73.873062</td>\n",
       "      <td>40.774128</td>\n",
       "      <td>-73.983597</td>\n",
       "      <td>40.721539</td>\n",
       "      <td>18.000000</td>\n",
       "    </tr>\n",
       "    <tr>\n",
       "      <th>2008</th>\n",
       "      <td>D932DC772B89F69D30F03FB095424F97</td>\n",
       "      <td>F5AE2E36090433DFE4142AFC19AFD495</td>\n",
       "      <td>CMT</td>\n",
       "      <td>1</td>\n",
       "      <td>N</td>\n",
       "      <td>2013-01-01 23:46:22</td>\n",
       "      <td>2013-01-02 00:28:01</td>\n",
       "      <td>1</td>\n",
       "      <td>2498</td>\n",
       "      <td>16.10</td>\n",
       "      <td>-73.781921</td>\n",
       "      <td>40.644657</td>\n",
       "      <td>-73.998512</td>\n",
       "      <td>40.660194</td>\n",
       "      <td>41.633333</td>\n",
       "    </tr>\n",
       "    <tr>\n",
       "      <th>2010</th>\n",
       "      <td>33BB4B9DBFD87B7522909FEEB84896F4</td>\n",
       "      <td>412253C6258AF9DCE2D27DE714A84049</td>\n",
       "      <td>CMT</td>\n",
       "      <td>1</td>\n",
       "      <td>N</td>\n",
       "      <td>2013-01-01 23:46:53</td>\n",
       "      <td>2013-01-02 00:03:33</td>\n",
       "      <td>1</td>\n",
       "      <td>1000</td>\n",
       "      <td>5.40</td>\n",
       "      <td>-74.001274</td>\n",
       "      <td>40.725952</td>\n",
       "      <td>-73.980347</td>\n",
       "      <td>40.660503</td>\n",
       "      <td>16.666667</td>\n",
       "    </tr>\n",
       "  </tbody>\n",
       "</table>\n",
       "</div>"
      ],
      "text/plain": [
       "                             medallion                      hack_license  \\\n",
       "2005  6385CA8C99985BFBAFB477A9BDFA28C9  08A78365909D2F09BF72B869C0B21FED   \n",
       "2008  D932DC772B89F69D30F03FB095424F97  F5AE2E36090433DFE4142AFC19AFD495   \n",
       "2010  33BB4B9DBFD87B7522909FEEB84896F4  412253C6258AF9DCE2D27DE714A84049   \n",
       "\n",
       "     vendor_id  rate_code store_and_fwd_flag     pickup_datetime  \\\n",
       "2005       VTS          1                NaN 2013-01-01 23:45:00   \n",
       "2008       CMT          1                  N 2013-01-01 23:46:22   \n",
       "2010       CMT          1                  N 2013-01-01 23:46:53   \n",
       "\n",
       "        dropoff_datetime  passenger_count  trip_time_in_secs  trip_distance  \\\n",
       "2005 2013-01-02 00:03:00                1               1080          12.61   \n",
       "2008 2013-01-02 00:28:01                1               2498          16.10   \n",
       "2010 2013-01-02 00:03:33                1               1000           5.40   \n",
       "\n",
       "      pickup_longitude  pickup_latitude  dropoff_longitude  dropoff_latitude  \\\n",
       "2005        -73.873062        40.774128         -73.983597         40.721539   \n",
       "2008        -73.781921        40.644657         -73.998512         40.660194   \n",
       "2010        -74.001274        40.725952         -73.980347         40.660503   \n",
       "\n",
       "      trip_time_in_mins  \n",
       "2005          18.000000  \n",
       "2008          41.633333  \n",
       "2010          16.666667  "
      ]
     },
     "execution_count": 87,
     "metadata": {},
     "output_type": "execute_result"
    }
   ],
   "source": [
    "day_p = data.pickup_datetime.dt.day\n",
    "day_d = data.dropoff_datetime.dt.day\n",
    "\n",
    "selection = ( day_p != day_d)\n",
    "print(len(data.loc[selection]))\n",
    "data.loc[selection].head(3)"
   ]
  },
  {
   "cell_type": "markdown",
   "metadata": {},
   "source": [
    "##groupby로 처리하기\n",
    "\n",
    "주어진 데이터를 특정 묶음단위로 처리하기"
   ]
  },
  {
   "cell_type": "code",
   "execution_count": 93,
   "metadata": {},
   "outputs": [
    {
     "name": "stdout",
     "output_type": "stream",
     "text": [
      "52\n"
     ]
    }
   ],
   "source": [
    "weekly = data.groupby(data.pickup_datetime.dt.weekofyear)\n",
    "print(len(weekly))\n"
   ]
  },
  {
   "cell_type": "code",
   "execution_count": 90,
   "metadata": {},
   "outputs": [
    {
     "data": {
      "text/plain": [
       "pickup_datetime\n",
       "1    17042\n",
       "2    15941\n",
       "3    17017\n",
       "dtype: int64"
      ]
     },
     "execution_count": 90,
     "metadata": {},
     "output_type": "execute_result"
    }
   ],
   "source": [
    "y = weekly.size()\n",
    "y.head(3)"
   ]
  },
  {
   "cell_type": "code",
   "execution_count": 94,
   "metadata": {},
   "outputs": [
    {
     "data": {
      "text/plain": [
       "<pandas.core.groupby.SeriesGroupBy object at 0x7f80e45b4f50>"
      ]
     },
     "execution_count": 94,
     "metadata": {},
     "output_type": "execute_result"
    }
   ],
   "source": [
    "weekly.pickup_datetime"
   ]
  },
  {
   "cell_type": "code",
   "execution_count": 97,
   "metadata": {},
   "outputs": [
    {
     "data": {
      "text/plain": [
       "pickup_datetime\n",
       "1   2013-01-01 00:00:00\n",
       "2   2013-01-07 00:03:00\n",
       "3   2013-01-14 00:00:51\n",
       "Name: pickup_datetime, dtype: datetime64[ns]"
      ]
     },
     "execution_count": 97,
     "metadata": {},
     "output_type": "execute_result"
    }
   ],
   "source": [
    "x = weekly.pickup_datetime.first()\n",
    "x.head(3)"
   ]
  },
  {
   "cell_type": "code",
   "execution_count": 98,
   "metadata": {},
   "outputs": [
    {
     "data": {
      "text/plain": [
       "<matplotlib.text.Text at 0x7f80da3ec950>"
      ]
     },
     "execution_count": 98,
     "metadata": {},
     "output_type": "execute_result"
    },
    {
     "data": {
      "image/png": "[encoded data removed]",
      "text/plain": [
       "<matplotlib.figure.Figure at 0x7f80de98e1d0>"
      ]
     },
     "metadata": {},
     "output_type": "display_data"
    }
   ],
   "source": [
    "pd.Series(y.values, index=x).plot()\n",
    "plt.ylim(0)\n",
    "plt.xlabel('week')\n",
    "plt.ylabel(' taxi rides ')"
   ]
  },
  {
   "cell_type": "markdown",
   "metadata": {
    "collapsed": true
   },
   "source": [
    "##조인\n",
    "\n",
    "테이블간의 같은 값으로 테이블을 결합하는 것\n",
    "\n",
    "DataFrame은 연속적으로 연산을 적용하면  각 연산은 새로운 DataFrame 을 반환한다.\n"
   ]
  },
  {
   "cell_type": "code",
   "execution_count": 107,
   "metadata": {},
   "outputs": [
    {
     "data": {
      "text/html": [
       "<div>\n",
       "<table border=\"1\" class=\"dataframe\">\n",
       "  <thead>\n",
       "    <tr style=\"text-align: right;\">\n",
       "      <th></th>\n",
       "      <th>medallion</th>\n",
       "      <th>tip_amount</th>\n",
       "    </tr>\n",
       "  </thead>\n",
       "  <tbody>\n",
       "    <tr>\n",
       "      <th>0</th>\n",
       "      <td>76942C3205E17D7E7FE5A9F709D16434</td>\n",
       "      <td>0.0</td>\n",
       "    </tr>\n",
       "    <tr>\n",
       "      <th>1</th>\n",
       "      <td>517C6B330DBB3F055D007B07512628B3</td>\n",
       "      <td>2.8</td>\n",
       "    </tr>\n",
       "    <tr>\n",
       "      <th>2</th>\n",
       "      <td>ED15611F168E41B33619C83D900FE266</td>\n",
       "      <td>0.0</td>\n",
       "    </tr>\n",
       "  </tbody>\n",
       "</table>\n",
       "</div>"
      ],
      "text/plain": [
       "                          medallion  tip_amount\n",
       "0  76942C3205E17D7E7FE5A9F709D16434         0.0\n",
       "1  517C6B330DBB3F055D007B07512628B3         2.8\n",
       "2  ED15611F168E41B33619C83D900FE266         0.0"
      ]
     },
     "execution_count": 107,
     "metadata": {},
     "output_type": "execute_result"
    }
   ],
   "source": [
    "fare[['medallion','tip_amount']].head(3)"
   ]
  },
  {
   "cell_type": "code",
   "execution_count": 112,
   "metadata": {},
   "outputs": [
    {
     "data": {
      "text/plain": [
       "pandas.core.frame.DataFrame"
      ]
     },
     "execution_count": 112,
     "metadata": {},
     "output_type": "execute_result"
    }
   ],
   "source": [
    "fare[['medallion','tip_amount']].loc[fare.tip_amount>0].head(3)\n",
    "type(fare[['medallion','tip_amount']].loc[fare.tip_amount>0])"
   ]
  },
  {
   "cell_type": "code",
   "execution_count": 122,
   "metadata": {},
   "outputs": [
    {
     "data": {
      "text/plain": [
       "pandas.core.groupby.DataFrameGroupBy"
      ]
     },
     "execution_count": 122,
     "metadata": {},
     "output_type": "execute_result"
    }
   ],
   "source": [
    "v =fare[['medallion','tip_amount']].loc[fare.tip_amount>0].groupby('medallion')\n",
    "type(v)"
   ]
  },
  {
   "cell_type": "code",
   "execution_count": 113,
   "metadata": {},
   "outputs": [
    {
     "data": {
      "text/html": [
       "<div>\n",
       "<table border=\"1\" class=\"dataframe\">\n",
       "  <thead>\n",
       "    <tr style=\"text-align: right;\">\n",
       "      <th></th>\n",
       "      <th>tip_amount</th>\n",
       "    </tr>\n",
       "    <tr>\n",
       "      <th>medallion</th>\n",
       "      <th></th>\n",
       "    </tr>\n",
       "  </thead>\n",
       "  <tbody>\n",
       "    <tr>\n",
       "      <th>00005007A9F30E289E760362F69E4EAD</th>\n",
       "      <td>1.815854</td>\n",
       "    </tr>\n",
       "    <tr>\n",
       "      <th>000318C2E3E6381580E5C99910A60668</th>\n",
       "      <td>2.857222</td>\n",
       "    </tr>\n",
       "    <tr>\n",
       "      <th>000351EDC735C079246435340A54C7C1</th>\n",
       "      <td>2.099111</td>\n",
       "    </tr>\n",
       "  </tbody>\n",
       "</table>\n",
       "</div>"
      ],
      "text/plain": [
       "                                  tip_amount\n",
       "medallion                                   \n",
       "00005007A9F30E289E760362F69E4EAD    1.815854\n",
       "000318C2E3E6381580E5C99910A60668    2.857222\n",
       "000351EDC735C079246435340A54C7C1    2.099111"
      ]
     },
     "execution_count": 113,
     "metadata": {},
     "output_type": "execute_result"
    }
   ],
   "source": [
    "fare[['medallion','tip_amount']].loc[fare.tip_amount>0].groupby('medallion').mean().head(3)"
   ]
  },
  {
   "cell_type": "code",
   "execution_count": 105,
   "metadata": {
    "collapsed": true
   },
   "outputs": [],
   "source": [
    "tip = fare[['medallion','tip_amount']].loc[fare.tip_amount>0].groupby('medallion').mean()"
   ]
  },
  {
   "cell_type": "code",
   "execution_count": 115,
   "metadata": {},
   "outputs": [
    {
     "name": "stdout",
     "output_type": "stream",
     "text": [
      "13407\n"
     ]
    }
   ],
   "source": [
    "print(len(tip))"
   ]
  },
  {
   "cell_type": "code",
   "execution_count": 116,
   "metadata": {},
   "outputs": [
    {
     "data": {
      "text/html": [
       "<div>\n",
       "<table border=\"1\" class=\"dataframe\">\n",
       "  <thead>\n",
       "    <tr style=\"text-align: right;\">\n",
       "      <th></th>\n",
       "      <th>tip_amount</th>\n",
       "    </tr>\n",
       "    <tr>\n",
       "      <th>medallion</th>\n",
       "      <th></th>\n",
       "    </tr>\n",
       "  </thead>\n",
       "  <tbody>\n",
       "    <tr>\n",
       "      <th>00005007A9F30E289E760362F69E4EAD</th>\n",
       "      <td>1.815854</td>\n",
       "    </tr>\n",
       "    <tr>\n",
       "      <th>000318C2E3E6381580E5C99910A60668</th>\n",
       "      <td>2.857222</td>\n",
       "    </tr>\n",
       "    <tr>\n",
       "      <th>000351EDC735C079246435340A54C7C1</th>\n",
       "      <td>2.099111</td>\n",
       "    </tr>\n",
       "  </tbody>\n",
       "</table>\n",
       "</div>"
      ],
      "text/plain": [
       "                                  tip_amount\n",
       "medallion                                   \n",
       "00005007A9F30E289E760362F69E4EAD    1.815854\n",
       "000318C2E3E6381580E5C99910A60668    2.857222\n",
       "000351EDC735C079246435340A54C7C1    2.099111"
      ]
     },
     "execution_count": 116,
     "metadata": {},
     "output_type": "execute_result"
    }
   ],
   "source": [
    "tip.head(3)"
   ]
  },
  {
   "cell_type": "code",
   "execution_count": 118,
   "metadata": {},
   "outputs": [
    {
     "data": {
      "image/png": "[encoded data removed]",
      "text/plain": [
       "<matplotlib.figure.Figure at 0x7f80da6ce690>"
      ]
     },
     "metadata": {},
     "output_type": "display_data"
    }
   ],
   "source": [
    "tip.hist(bins=np.linspace(0.,6.,100))\n",
    "plt.xlabel(' Average tip ')\n",
    "plt.ylabel(' Number of taxis ')\n",
    "plt.show()"
   ]
  },
  {
   "cell_type": "markdown",
   "metadata": {},
   "source": [
    "## join 처리 : merge \n",
    "\n",
    "DataFram 타입인 tip과 DataFram 타입인  data를 merge\n",
    "\n",
    "기준은 data 의 medallion으로 겹치니 않는 tip_amount는 오른쪽으로 첨가 : how='left'\n",
    "\n",
    "조인 기준 data는 칼럼으로 유지 tip은 index 관리 : left_on='medallion', right_index=True\n",
    "\n"
   ]
  },
  {
   "cell_type": "code",
   "execution_count": 126,
   "metadata": {},
   "outputs": [
    {
     "name": "stdout",
     "output_type": "stream",
     "text": [
      "(Index([u'00005007A9F30E289E760362F69E4EAD',\n",
      "       u'000318C2E3E6381580E5C99910A60668',\n",
      "       u'000351EDC735C079246435340A54C7C1',\n",
      "       u'0009986BDBAB2F9A125FEF49D0BFCCDD',\n",
      "       u'00115F46520039845A5F719C979BEA45',\n",
      "       u'00153E36140C5B2A84EA308F355A7925',\n",
      "       u'001C8EC421C9BE57D08576617465401A',\n",
      "       u'001D3B86C2ACDEE4D1B98AFE52969F3D',\n",
      "       u'001DFAC01BC0A32F48C3769DD1414778',\n",
      "       u'00244196AAA321571762E0CCC55EEAD9',\n",
      "       ...\n",
      "       u'FFD8F49027A47FE0B5C6A597CAD3B3AF',\n",
      "       u'FFE1AB76511357473BE3236025321493',\n",
      "       u'FFE25FFFBDE6A6019A6A9051C4E798FA',\n",
      "       u'FFEC9171E009541071F4CAB49DF113C9',\n",
      "       u'FFED7CFCB1A658ADEC2DC6A899047060',\n",
      "       u'FFEE0D464EEA83AF6EA50CA5738B5610',\n",
      "       u'FFEF5E9BA26FC9B6B5F2CF433833572D',\n",
      "       u'FFF010F904EF7B60DAF12560AFE5127C',\n",
      "       u'FFF9D2834D24079962E68642F14BAC82',\n",
      "       u'FFFECF75AB6CC4FF9E8A8B633AB81C26'],\n",
      "      dtype='object', name=u'medallion', length=13407), Index([u'tip_amount'], dtype='object'))\n",
      "Index([u'medallion', u'hack_license', u'vendor_id', u'rate_code',\n",
      "       u'store_and_fwd_flag', u'pickup_datetime', u'dropoff_datetime',\n",
      "       u'passenger_count', u'trip_time_in_secs', u'trip_distance',\n",
      "       u'pickup_longitude', u'pickup_latitude', u'dropoff_longitude',\n",
      "       u'dropoff_latitude', u'trip_time_in_mins'],\n",
      "      dtype='object')\n"
     ]
    }
   ],
   "source": [
    "print(tip.index,tip.columns)\n",
    "print(data.columns)"
   ]
  },
  {
   "cell_type": "code",
   "execution_count": 121,
   "metadata": {},
   "outputs": [
    {
     "name": "stdout",
     "output_type": "stream",
     "text": [
      "                          medallion                      hack_license  \\\n",
      "0  76942C3205E17D7E7FE5A9F709D16434  25BA06A87905667AA1FE5990E33F0E2E   \n",
      "1  517C6B330DBB3F055D007B07512628B3  2C19FBEE1A6E05612EFE4C958C14BC7F   \n",
      "2  ED15611F168E41B33619C83D900FE266  754AEBD7C80DA17BA1D81D89FB6F4D1D   \n",
      "\n",
      "  vendor_id  rate_code store_and_fwd_flag     pickup_datetime  \\\n",
      "0       VTS          1                NaN 2013-01-01 00:00:00   \n",
      "1       VTS          1                NaN 2013-01-01 00:05:00   \n",
      "2       CMT          1                  N 2013-01-01 00:05:52   \n",
      "\n",
      "     dropoff_datetime  passenger_count  trip_time_in_secs  trip_distance  \\\n",
      "0 2013-01-01 00:05:00                3                300           0.61   \n",
      "1 2013-01-01 00:21:00                1                960           3.28   \n",
      "2 2013-01-01 00:12:18                1                386           1.50   \n",
      "\n",
      "   pickup_longitude  pickup_latitude  dropoff_longitude  dropoff_latitude  \\\n",
      "0        -73.955925        40.781887         -73.963181         40.777832   \n",
      "1        -74.005501        40.745735         -73.964943         40.755722   \n",
      "2        -73.969955        40.799770         -73.954567         40.787392   \n",
      "\n",
      "   trip_time_in_mins  tip_amount  \n",
      "0           5.000000    3.180417  \n",
      "1          16.000000    2.863235  \n",
      "2           6.433333    2.147143  \n",
      "846945\n"
     ]
    }
   ],
   "source": [
    "data_merged = pd.merge(data, tip, how='left', left_on='medallion', right_index=True)\n",
    "print(data_merged.head(3))\n",
    "print(len(data_merged))"
   ]
  },
  {
   "cell_type": "code",
   "execution_count": null,
   "metadata": {
    "collapsed": true
   },
   "outputs": [],
   "source": []
  }
 ],
 "metadata": {
  "kernelspec": {
   "display_name": "Python 3",
   "language": "python",
   "name": "python3"
  },
  "language_info": {
   "codemirror_mode": {
    "name": "ipython",
    "version": 3
   },
   "file_extension": ".py",
   "mimetype": "text/x-python",
   "name": "python",
   "nbconvert_exporter": "python",
   "pygments_lexer": "ipython3",
   "version": "3.6.1"
  }
 },
 "nbformat": 4,
 "nbformat_minor": 1
}
